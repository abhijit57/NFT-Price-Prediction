{
 "cells": [
  {
   "cell_type": "markdown",
   "id": "45828412",
   "metadata": {
    "id": "45828412",
    "pycharm": {
     "name": "#%% md\n"
    }
   },
   "source": [
    "# NFT Price Prediction"
   ]
  },
  {
   "cell_type": "code",
   "execution_count": null,
   "id": "a2cd4356",
   "metadata": {
    "collapsed": true,
    "id": "a2cd4356",
    "jupyter": {
     "outputs_hidden": true
    },
    "tags": [],
    "pycharm": {
     "name": "#%%\n"
    }
   },
   "outputs": [],
   "source": [
    "# Install this package if not already installed in your system\n",
    "!pip install explainerdashboard\n",
    "!pip install xgboost catboost lightgbm\n",
    "!pip install missingpy\n",
    "!pip install sweetviz\n",
    "!pip install ray \n",
    "!pip install ray[tune]\n",
    "!pip install bayesian-optimization"
   ]
  },
  {
   "cell_type": "code",
   "execution_count": 2,
   "id": "5cda48bf",
   "metadata": {
    "id": "5cda48bf",
    "pycharm": {
     "name": "#%%\n"
    }
   },
   "outputs": [],
   "source": [
    "## Importing necessary libraries\n",
    "# Data Manipulation and Visualization\n",
    "import pandas as pd\n",
    "import numpy as np\n",
    "import matplotlib.pyplot as plt\n",
    "%matplotlib inline\n",
    "import seaborn as sns\n",
    "# import plotly.express as px\n",
    "# import sweetviz\n",
    "# from pandas_profiling import ProfileReport\n",
    "from tqdm import tqdm\n",
    "\n",
    "# Python In-built\n",
    "import re, os, string, json, csv, sys, random\n",
    "\n",
    "# Scikit-Learn and other ML libraries\n",
    "import xgboost, catboost, lightgbm\n",
    "from sklearn.linear_model import BayesianRidge, LinearRegression\n",
    "from sklearn.ensemble import RandomForestRegressor, AdaBoostRegressor, BaggingRegressor\n",
    "from sklearn.svm import SVR\n",
    "from sklearn.preprocessing import LabelEncoder, StandardScaler, MaxAbsScaler, MinMaxScaler\n",
    "from sklearn.impute import KNNImputer\n",
    "from sklearn.model_selection import train_test_split, GridSearchCV, RandomizedSearchCV, KFold, StratifiedKFold, cross_validate, cross_val_predict, cross_val_score\n",
    "from sklearn.metrics import r2_score, mean_absolute_error, mean_absolute_percentage_error, mean_squared_error\n",
    "# from missforest import MissForest\n",
    "\n",
    "from bayes_opt import BayesianOptimization\n",
    "\n",
    "# Interpretability Libraries\n",
    "# import shap\n",
    "# import explainerdashboard\n",
    "# from explainerdashboard import ExplainerDashboard\n",
    "# from explainerdashboard.explainers import RegressionExplainer\n",
    "\n",
    "# Filter warnings\n",
    "import warnings\n",
    "warnings.filterwarnings(\"ignore\")"
   ]
  },
  {
   "cell_type": "markdown",
   "id": "fbc0f912",
   "metadata": {
    "id": "fbc0f912",
    "pycharm": {
     "name": "#%% md\n"
    }
   },
   "source": [
    "## DATA PREPARATION"
   ]
  },
  {
   "cell_type": "code",
   "execution_count": null,
   "id": "18881d2b",
   "metadata": {
    "id": "18881d2b",
    "pycharm": {
     "name": "#%%\n"
    }
   },
   "outputs": [],
   "source": [
    "## Reading datasets\n",
    "\n",
    "# Reading collections file\n",
    "'''\n",
    "data about the collections (of NFTs) that are present in the training and prediction sets\n",
    "'''\n",
    "collections = pd.read_csv('./dataset/collections.csv')\n",
    "\n",
    "# Reading collections twitter stats file\n",
    "'''\n",
    "Simple statistics about the Twitter accounts of the collections or the creators of the collections\n",
    "'''\n",
    "collections_twitter_stats = pd.read_csv('./dataset/collections_twitter_stats.csv')\n",
    "\n",
    "# Reading nfts train file\n",
    "'''\n",
    "NFT data from all collections which can be, alongside the above info, used to train the price prediction model\n",
    "'''\n",
    "nfts_train = pd.read_csv('./dataset/nfts_train.csv')\n",
    "\n",
    "# Reading nfts predict file\n",
    "'''\n",
    "NFT data from all collections whose price should be predicted using the trained model\n",
    "'''\n",
    "nfts_predict = pd.read_csv('./dataset/nfts_predict.csv')"
   ]
  },
  {
   "cell_type": "markdown",
   "id": "d90e718c",
   "metadata": {
    "id": "d90e718c",
    "pycharm": {
     "name": "#%% md\n"
    }
   },
   "source": [
    "#### Merging of all the dataframes to generate final train and test dataframes respectively. Here, collection_id is the unqiue column in each of the dataframe and is used as the key for merging operation."
   ]
  },
  {
   "cell_type": "code",
   "execution_count": null,
   "id": "fb2484c2",
   "metadata": {
    "id": "fb2484c2",
    "pycharm": {
     "name": "#%%\n"
    }
   },
   "outputs": [],
   "source": [
    "# Merging collections and collections_twitter_stats dataframe and saving it to a dataframe -> collect_temp\n",
    "collect_temp = collections.merge(collections_twitter_stats, how = 'outer', on ='collection_id')"
   ]
  },
  {
   "cell_type": "code",
   "execution_count": null,
   "id": "60ed77b2",
   "metadata": {
    "id": "60ed77b2",
    "pycharm": {
     "name": "#%%\n"
    }
   },
   "outputs": [],
   "source": [
    "# Merging the collect_temp (merged collections and collections_twitter_stats) dataframe with nfts_train to get the final train dataset\n",
    "train = collect_temp.merge(nfts_train, how = 'outer', on = 'collection_id')"
   ]
  },
  {
   "cell_type": "code",
   "execution_count": null,
   "id": "65319362",
   "metadata": {
    "id": "65319362",
    "pycharm": {
     "name": "#%%\n"
    }
   },
   "outputs": [],
   "source": [
    "# Removing the unnamed columns from the train dataframe\n",
    "def removeUnnamedCol(df):\n",
    "    '''\n",
    "    This function removes all the unnamed columns (unnecessary columns) from the dataframe and returns the cleaned dataframe\n",
    "    Params:\n",
    "        df -> dataframe\n",
    "    '''\n",
    "    for col in df.columns:\n",
    "        if 'Unnamed' in col:\n",
    "            del df[col]\n",
    "    return df"
   ]
  },
  {
   "cell_type": "code",
   "execution_count": null,
   "id": "d7379af5",
   "metadata": {
    "id": "d7379af5",
    "outputId": "1f116685-e60c-477c-9e73-0676881b1c03",
    "pycharm": {
     "name": "#%%\n"
    }
   },
   "outputs": [
    {
     "name": "stdout",
     "output_type": "stream",
     "text": [
      "<class 'pandas.core.frame.DataFrame'>\n",
      "Int64Index: 309924 entries, 0 to 309923\n",
      "Data columns (total 31 columns):\n",
      " #   Column               Non-Null Count   Dtype  \n",
      "---  ------               --------------   -----  \n",
      " 0   collection_id        309924 non-null  int64  \n",
      " 1   total_supply         309924 non-null  int64  \n",
      " 2   creation_date        309924 non-null  object \n",
      " 3   verification_status  309924 non-null  object \n",
      " 4   n_of_traits          309924 non-null  int64  \n",
      " 5   contract_type        309924 non-null  object \n",
      " 6   seller_fees          277231 non-null  float64\n",
      " 7   platform_fees        309924 non-null  int64  \n",
      " 8   openrarity_enabled   309924 non-null  bool   \n",
      " 9   has_website          309924 non-null  bool   \n",
      " 10  has_own_twitter      309924 non-null  bool   \n",
      " 11  has_discord          309924 non-null  bool   \n",
      " 12  has_medium           309924 non-null  bool   \n",
      " 13  n_tweets_in_range    309924 non-null  int64  \n",
      " 14  avg_likes            309924 non-null  float64\n",
      " 15  avg_replies          309924 non-null  float64\n",
      " 16  avg_retweets         309924 non-null  float64\n",
      " 17  min_likes            309924 non-null  int64  \n",
      " 18  min_replies          309924 non-null  int64  \n",
      " 19  min_retweets         309924 non-null  int64  \n",
      " 20  max_likes            309924 non-null  int64  \n",
      " 21  max_replies          309924 non-null  int64  \n",
      " 22  max_retweets         309924 non-null  int64  \n",
      " 23  global_index         309910 non-null  float64\n",
      " 24  nft_id               309910 non-null  float64\n",
      " 25  rarity_score         309910 non-null  float64\n",
      " 26  openrarity_score     80480 non-null   float64\n",
      " 27  openrarity_rank      80480 non-null   float64\n",
      " 28  openrarity_max_rank  80480 non-null   float64\n",
      " 29  last_sale_date       309910 non-null  object \n",
      " 30  last_sale_price      309910 non-null  float64\n",
      "dtypes: bool(5), float64(11), int64(11), object(4)\n",
      "memory usage: 65.3+ MB\n"
     ]
    }
   ],
   "source": [
    "# Removing the unnamed columns from the dataframe using the \"removeUnnamedCol\" function\n",
    "train = removeUnnamedCol(train)\n",
    "train.info()   # To check whether the Unnamed columns have been removed from the dataframe or not"
   ]
  },
  {
   "cell_type": "code",
   "execution_count": null,
   "id": "4510a89d",
   "metadata": {
    "id": "4510a89d",
    "outputId": "79d988c9-2499-4c57-ba48-92499c990508",
    "pycharm": {
     "name": "#%%\n"
    }
   },
   "outputs": [
    {
     "name": "stdout",
     "output_type": "stream",
     "text": [
      "<class 'pandas.core.frame.DataFrame'>\n",
      "Int64Index: 181248 entries, 0 to 181247\n",
      "Data columns (total 30 columns):\n",
      " #   Column               Non-Null Count   Dtype  \n",
      "---  ------               --------------   -----  \n",
      " 0   collection_id        181248 non-null  int64  \n",
      " 1   total_supply         181248 non-null  int64  \n",
      " 2   creation_date        181248 non-null  object \n",
      " 3   verification_status  181248 non-null  object \n",
      " 4   n_of_traits          181248 non-null  int64  \n",
      " 5   contract_type        181248 non-null  object \n",
      " 6   seller_fees          181246 non-null  float64\n",
      " 7   platform_fees        181248 non-null  int64  \n",
      " 8   openrarity_enabled   181248 non-null  bool   \n",
      " 9   has_website          181248 non-null  bool   \n",
      " 10  has_own_twitter      181248 non-null  bool   \n",
      " 11  has_discord          181248 non-null  bool   \n",
      " 12  has_medium           181248 non-null  bool   \n",
      " 13  n_tweets_in_range    181248 non-null  int64  \n",
      " 14  avg_likes            181248 non-null  float64\n",
      " 15  avg_replies          181248 non-null  float64\n",
      " 16  avg_retweets         181248 non-null  float64\n",
      " 17  min_likes            181248 non-null  int64  \n",
      " 18  min_replies          181248 non-null  int64  \n",
      " 19  min_retweets         181248 non-null  int64  \n",
      " 20  max_likes            181248 non-null  int64  \n",
      " 21  max_replies          181248 non-null  int64  \n",
      " 22  max_retweets         181248 non-null  int64  \n",
      " 23  global_index         181214 non-null  float64\n",
      " 24  nft_id               181214 non-null  float64\n",
      " 25  rarity_score         181214 non-null  float64\n",
      " 26  openrarity_score     38626 non-null   float64\n",
      " 27  openrarity_rank      38626 non-null   float64\n",
      " 28  openrarity_max_rank  38626 non-null   float64\n",
      " 29  last_sale_date       181214 non-null  object \n",
      "dtypes: bool(5), float64(10), int64(11), object(4)\n",
      "memory usage: 36.8+ MB\n"
     ]
    }
   ],
   "source": [
    "# Merging collect_temp dataframe with nfts_predict to generate the final test dataset\n",
    "test = collect_temp.merge(nfts_predict, how = 'outer', on = 'collection_id') \n",
    "test = removeUnnamedCol(test)  # To check whether the Unnamed columns have been removed from the dataframe or not\n",
    "test.info()"
   ]
  },
  {
   "cell_type": "code",
   "execution_count": null,
   "id": "ea0229a2",
   "metadata": {
    "id": "ea0229a2",
    "pycharm": {
     "name": "#%%\n"
    }
   },
   "outputs": [],
   "source": [
    "# Save Train and Test dataframes to csv files\n",
    "train_init = train.copy(deep=True)\n",
    "test_init  = test.copy(deep=True)\n",
    "train.to_csv('train.csv', index=False)\n",
    "test.to_csv('test.csv', index=False)"
   ]
  },
  {
   "cell_type": "code",
   "execution_count": null,
   "id": "63e75472",
   "metadata": {
    "id": "63e75472",
    "pycharm": {
     "name": "#%%\n"
    }
   },
   "outputs": [],
   "source": [
    "# Loading the train and test csv files from the disk generated from the earlier steps\n",
    "train = pd.read_csv('/content/train.csv')\n",
    "test = pd.read_csv('/content/test.csv')"
   ]
  },
  {
   "cell_type": "code",
   "execution_count": null,
   "id": "c2284967",
   "metadata": {
    "colab": {
     "base_uri": "https://localhost:8080/",
     "height": 394
    },
    "id": "c2284967",
    "outputId": "81d9a1c1-fd37-41c1-8f63-3633fbedf2b8",
    "pycharm": {
     "name": "#%%\n"
    }
   },
   "outputs": [
    {
     "data": {
      "text/html": [
       "\n",
       "  <div id=\"df-4746aa4d-ec7e-4c9d-9516-7a02564c3431\">\n",
       "    <div class=\"colab-df-container\">\n",
       "      <div>\n",
       "<style scoped>\n",
       "    .dataframe tbody tr th:only-of-type {\n",
       "        vertical-align: middle;\n",
       "    }\n",
       "\n",
       "    .dataframe tbody tr th {\n",
       "        vertical-align: top;\n",
       "    }\n",
       "\n",
       "    .dataframe thead th {\n",
       "        text-align: right;\n",
       "    }\n",
       "</style>\n",
       "<table border=\"1\" class=\"dataframe\">\n",
       "  <thead>\n",
       "    <tr style=\"text-align: right;\">\n",
       "      <th></th>\n",
       "      <th>collection_id</th>\n",
       "      <th>total_supply</th>\n",
       "      <th>n_of_traits</th>\n",
       "      <th>seller_fees</th>\n",
       "      <th>platform_fees</th>\n",
       "      <th>n_tweets_in_range</th>\n",
       "      <th>avg_likes</th>\n",
       "      <th>avg_replies</th>\n",
       "      <th>avg_retweets</th>\n",
       "      <th>min_likes</th>\n",
       "      <th>...</th>\n",
       "      <th>max_likes</th>\n",
       "      <th>max_replies</th>\n",
       "      <th>max_retweets</th>\n",
       "      <th>global_index</th>\n",
       "      <th>nft_id</th>\n",
       "      <th>rarity_score</th>\n",
       "      <th>openrarity_score</th>\n",
       "      <th>openrarity_rank</th>\n",
       "      <th>openrarity_max_rank</th>\n",
       "      <th>last_sale_price</th>\n",
       "    </tr>\n",
       "  </thead>\n",
       "  <tbody>\n",
       "    <tr>\n",
       "      <th>count</th>\n",
       "      <td>309924.000000</td>\n",
       "      <td>309924.000000</td>\n",
       "      <td>309924.000000</td>\n",
       "      <td>277231.000000</td>\n",
       "      <td>309924.0</td>\n",
       "      <td>309924.000000</td>\n",
       "      <td>309924.000000</td>\n",
       "      <td>309924.000000</td>\n",
       "      <td>309924.000000</td>\n",
       "      <td>309924.000000</td>\n",
       "      <td>...</td>\n",
       "      <td>309924.000000</td>\n",
       "      <td>309924.000000</td>\n",
       "      <td>309924.000000</td>\n",
       "      <td>309910.000000</td>\n",
       "      <td>309910.000000</td>\n",
       "      <td>309910.000000</td>\n",
       "      <td>80480.000000</td>\n",
       "      <td>80480.000000</td>\n",
       "      <td>80480.000000</td>\n",
       "      <td>3.099100e+05</td>\n",
       "    </tr>\n",
       "    <tr>\n",
       "      <th>mean</th>\n",
       "      <td>30.507018</td>\n",
       "      <td>13402.241946</td>\n",
       "      <td>10.558121</td>\n",
       "      <td>693.827710</td>\n",
       "      <td>250.0</td>\n",
       "      <td>17.170516</td>\n",
       "      <td>80.291093</td>\n",
       "      <td>20.314149</td>\n",
       "      <td>41.940449</td>\n",
       "      <td>12.595891</td>\n",
       "      <td>...</td>\n",
       "      <td>304.929986</td>\n",
       "      <td>107.701482</td>\n",
       "      <td>190.696535</td>\n",
       "      <td>317003.207947</td>\n",
       "      <td>6738.162024</td>\n",
       "      <td>1437.092531</td>\n",
       "      <td>1.000000</td>\n",
       "      <td>5630.164737</td>\n",
       "      <td>11255.829672</td>\n",
       "      <td>2.162269e+00</td>\n",
       "    </tr>\n",
       "    <tr>\n",
       "      <th>std</th>\n",
       "      <td>18.331593</td>\n",
       "      <td>7915.681978</td>\n",
       "      <td>4.879674</td>\n",
       "      <td>263.609478</td>\n",
       "      <td>0.0</td>\n",
       "      <td>27.078202</td>\n",
       "      <td>154.621154</td>\n",
       "      <td>62.246896</td>\n",
       "      <td>83.335729</td>\n",
       "      <td>33.552117</td>\n",
       "      <td>...</td>\n",
       "      <td>898.121337</td>\n",
       "      <td>445.343968</td>\n",
       "      <td>523.409254</td>\n",
       "      <td>173138.765569</td>\n",
       "      <td>5977.542096</td>\n",
       "      <td>4303.585892</td>\n",
       "      <td>0.152825</td>\n",
       "      <td>3812.126968</td>\n",
       "      <td>3452.713804</td>\n",
       "      <td>1.275132e+01</td>\n",
       "    </tr>\n",
       "    <tr>\n",
       "      <th>min</th>\n",
       "      <td>0.000000</td>\n",
       "      <td>1.000000</td>\n",
       "      <td>0.000000</td>\n",
       "      <td>200.000000</td>\n",
       "      <td>250.0</td>\n",
       "      <td>1.000000</td>\n",
       "      <td>0.000000</td>\n",
       "      <td>0.000000</td>\n",
       "      <td>0.000000</td>\n",
       "      <td>0.000000</td>\n",
       "      <td>...</td>\n",
       "      <td>0.000000</td>\n",
       "      <td>0.000000</td>\n",
       "      <td>0.000000</td>\n",
       "      <td>21928.000000</td>\n",
       "      <td>0.000000</td>\n",
       "      <td>1.000000</td>\n",
       "      <td>0.626738</td>\n",
       "      <td>1.000000</td>\n",
       "      <td>5555.000000</td>\n",
       "      <td>6.485360e-08</td>\n",
       "    </tr>\n",
       "    <tr>\n",
       "      <th>25%</th>\n",
       "      <td>13.000000</td>\n",
       "      <td>8888.000000</td>\n",
       "      <td>8.000000</td>\n",
       "      <td>500.000000</td>\n",
       "      <td>250.0</td>\n",
       "      <td>3.000000</td>\n",
       "      <td>2.000000</td>\n",
       "      <td>0.200000</td>\n",
       "      <td>1.153846</td>\n",
       "      <td>0.000000</td>\n",
       "      <td>...</td>\n",
       "      <td>5.000000</td>\n",
       "      <td>1.000000</td>\n",
       "      <td>5.000000</td>\n",
       "      <td>174892.250000</td>\n",
       "      <td>2453.000000</td>\n",
       "      <td>106.587184</td>\n",
       "      <td>0.906820</td>\n",
       "      <td>2515.750000</td>\n",
       "      <td>9928.000000</td>\n",
       "      <td>4.077085e-03</td>\n",
       "    </tr>\n",
       "    <tr>\n",
       "      <th>50%</th>\n",
       "      <td>34.000000</td>\n",
       "      <td>9999.000000</td>\n",
       "      <td>10.000000</td>\n",
       "      <td>750.000000</td>\n",
       "      <td>250.0</td>\n",
       "      <td>11.000000</td>\n",
       "      <td>8.153846</td>\n",
       "      <td>3.450000</td>\n",
       "      <td>8.166667</td>\n",
       "      <td>0.000000</td>\n",
       "      <td>...</td>\n",
       "      <td>30.000000</td>\n",
       "      <td>7.000000</td>\n",
       "      <td>34.000000</td>\n",
       "      <td>341467.500000</td>\n",
       "      <td>5138.000000</td>\n",
       "      <td>170.797030</td>\n",
       "      <td>0.978289</td>\n",
       "      <td>5030.000000</td>\n",
       "      <td>10000.000000</td>\n",
       "      <td>8.103344e-03</td>\n",
       "    </tr>\n",
       "    <tr>\n",
       "      <th>75%</th>\n",
       "      <td>46.000000</td>\n",
       "      <td>15000.000000</td>\n",
       "      <td>12.000000</td>\n",
       "      <td>1000.000000</td>\n",
       "      <td>250.0</td>\n",
       "      <td>19.000000</td>\n",
       "      <td>60.888889</td>\n",
       "      <td>8.500000</td>\n",
       "      <td>55.181818</td>\n",
       "      <td>2.000000</td>\n",
       "      <td>...</td>\n",
       "      <td>202.000000</td>\n",
       "      <td>47.000000</td>\n",
       "      <td>131.000000</td>\n",
       "      <td>493626.750000</td>\n",
       "      <td>8720.750000</td>\n",
       "      <td>289.614129</td>\n",
       "      <td>1.059866</td>\n",
       "      <td>8207.250000</td>\n",
       "      <td>15000.000000</td>\n",
       "      <td>3.252062e-01</td>\n",
       "    </tr>\n",
       "    <tr>\n",
       "      <th>max</th>\n",
       "      <td>60.000000</td>\n",
       "      <td>58351.000000</td>\n",
       "      <td>80.000000</td>\n",
       "      <td>1000.000000</td>\n",
       "      <td>250.0</td>\n",
       "      <td>668.000000</td>\n",
       "      <td>707.875000</td>\n",
       "      <td>353.400000</td>\n",
       "      <td>442.000000</td>\n",
       "      <td>236.000000</td>\n",
       "      <td>...</td>\n",
       "      <td>5079.000000</td>\n",
       "      <td>2601.000000</td>\n",
       "      <td>2990.000000</td>\n",
       "      <td>590227.000000</td>\n",
       "      <td>29898.000000</td>\n",
       "      <td>90354.072248</td>\n",
       "      <td>3.663833</td>\n",
       "      <td>15555.000000</td>\n",
       "      <td>15555.000000</td>\n",
       "      <td>1.024002e+03</td>\n",
       "    </tr>\n",
       "  </tbody>\n",
       "</table>\n",
       "<p>8 rows × 22 columns</p>\n",
       "</div>\n",
       "      <button class=\"colab-df-convert\" onclick=\"convertToInteractive('df-4746aa4d-ec7e-4c9d-9516-7a02564c3431')\"\n",
       "              title=\"Convert this dataframe to an interactive table.\"\n",
       "              style=\"display:none;\">\n",
       "        \n",
       "  <svg xmlns=\"http://www.w3.org/2000/svg\" height=\"24px\"viewBox=\"0 0 24 24\"\n",
       "       width=\"24px\">\n",
       "    <path d=\"M0 0h24v24H0V0z\" fill=\"none\"/>\n",
       "    <path d=\"M18.56 5.44l.94 2.06.94-2.06 2.06-.94-2.06-.94-.94-2.06-.94 2.06-2.06.94zm-11 1L8.5 8.5l.94-2.06 2.06-.94-2.06-.94L8.5 2.5l-.94 2.06-2.06.94zm10 10l.94 2.06.94-2.06 2.06-.94-2.06-.94-.94-2.06-.94 2.06-2.06.94z\"/><path d=\"M17.41 7.96l-1.37-1.37c-.4-.4-.92-.59-1.43-.59-.52 0-1.04.2-1.43.59L10.3 9.45l-7.72 7.72c-.78.78-.78 2.05 0 2.83L4 21.41c.39.39.9.59 1.41.59.51 0 1.02-.2 1.41-.59l7.78-7.78 2.81-2.81c.8-.78.8-2.07 0-2.86zM5.41 20L4 18.59l7.72-7.72 1.47 1.35L5.41 20z\"/>\n",
       "  </svg>\n",
       "      </button>\n",
       "      \n",
       "  <style>\n",
       "    .colab-df-container {\n",
       "      display:flex;\n",
       "      flex-wrap:wrap;\n",
       "      gap: 12px;\n",
       "    }\n",
       "\n",
       "    .colab-df-convert {\n",
       "      background-color: #E8F0FE;\n",
       "      border: none;\n",
       "      border-radius: 50%;\n",
       "      cursor: pointer;\n",
       "      display: none;\n",
       "      fill: #1967D2;\n",
       "      height: 32px;\n",
       "      padding: 0 0 0 0;\n",
       "      width: 32px;\n",
       "    }\n",
       "\n",
       "    .colab-df-convert:hover {\n",
       "      background-color: #E2EBFA;\n",
       "      box-shadow: 0px 1px 2px rgba(60, 64, 67, 0.3), 0px 1px 3px 1px rgba(60, 64, 67, 0.15);\n",
       "      fill: #174EA6;\n",
       "    }\n",
       "\n",
       "    [theme=dark] .colab-df-convert {\n",
       "      background-color: #3B4455;\n",
       "      fill: #D2E3FC;\n",
       "    }\n",
       "\n",
       "    [theme=dark] .colab-df-convert:hover {\n",
       "      background-color: #434B5C;\n",
       "      box-shadow: 0px 1px 3px 1px rgba(0, 0, 0, 0.15);\n",
       "      filter: drop-shadow(0px 1px 2px rgba(0, 0, 0, 0.3));\n",
       "      fill: #FFFFFF;\n",
       "    }\n",
       "  </style>\n",
       "\n",
       "      <script>\n",
       "        const buttonEl =\n",
       "          document.querySelector('#df-4746aa4d-ec7e-4c9d-9516-7a02564c3431 button.colab-df-convert');\n",
       "        buttonEl.style.display =\n",
       "          google.colab.kernel.accessAllowed ? 'block' : 'none';\n",
       "\n",
       "        async function convertToInteractive(key) {\n",
       "          const element = document.querySelector('#df-4746aa4d-ec7e-4c9d-9516-7a02564c3431');\n",
       "          const dataTable =\n",
       "            await google.colab.kernel.invokeFunction('convertToInteractive',\n",
       "                                                     [key], {});\n",
       "          if (!dataTable) return;\n",
       "\n",
       "          const docLinkHtml = 'Like what you see? Visit the ' +\n",
       "            '<a target=\"_blank\" href=https://colab.research.google.com/notebooks/data_table.ipynb>data table notebook</a>'\n",
       "            + ' to learn more about interactive tables.';\n",
       "          element.innerHTML = '';\n",
       "          dataTable['output_type'] = 'display_data';\n",
       "          await google.colab.output.renderOutput(dataTable, element);\n",
       "          const docLink = document.createElement('div');\n",
       "          docLink.innerHTML = docLinkHtml;\n",
       "          element.appendChild(docLink);\n",
       "        }\n",
       "      </script>\n",
       "    </div>\n",
       "  </div>\n",
       "  "
      ],
      "text/plain": [
       "       collection_id   total_supply    n_of_traits    seller_fees  \\\n",
       "count  309924.000000  309924.000000  309924.000000  277231.000000   \n",
       "mean       30.507018   13402.241946      10.558121     693.827710   \n",
       "std        18.331593    7915.681978       4.879674     263.609478   \n",
       "min         0.000000       1.000000       0.000000     200.000000   \n",
       "25%        13.000000    8888.000000       8.000000     500.000000   \n",
       "50%        34.000000    9999.000000      10.000000     750.000000   \n",
       "75%        46.000000   15000.000000      12.000000    1000.000000   \n",
       "max        60.000000   58351.000000      80.000000    1000.000000   \n",
       "\n",
       "       platform_fees  n_tweets_in_range      avg_likes    avg_replies  \\\n",
       "count       309924.0      309924.000000  309924.000000  309924.000000   \n",
       "mean           250.0          17.170516      80.291093      20.314149   \n",
       "std              0.0          27.078202     154.621154      62.246896   \n",
       "min            250.0           1.000000       0.000000       0.000000   \n",
       "25%            250.0           3.000000       2.000000       0.200000   \n",
       "50%            250.0          11.000000       8.153846       3.450000   \n",
       "75%            250.0          19.000000      60.888889       8.500000   \n",
       "max            250.0         668.000000     707.875000     353.400000   \n",
       "\n",
       "        avg_retweets      min_likes  ...      max_likes    max_replies  \\\n",
       "count  309924.000000  309924.000000  ...  309924.000000  309924.000000   \n",
       "mean       41.940449      12.595891  ...     304.929986     107.701482   \n",
       "std        83.335729      33.552117  ...     898.121337     445.343968   \n",
       "min         0.000000       0.000000  ...       0.000000       0.000000   \n",
       "25%         1.153846       0.000000  ...       5.000000       1.000000   \n",
       "50%         8.166667       0.000000  ...      30.000000       7.000000   \n",
       "75%        55.181818       2.000000  ...     202.000000      47.000000   \n",
       "max       442.000000     236.000000  ...    5079.000000    2601.000000   \n",
       "\n",
       "        max_retweets   global_index         nft_id   rarity_score  \\\n",
       "count  309924.000000  309910.000000  309910.000000  309910.000000   \n",
       "mean      190.696535  317003.207947    6738.162024    1437.092531   \n",
       "std       523.409254  173138.765569    5977.542096    4303.585892   \n",
       "min         0.000000   21928.000000       0.000000       1.000000   \n",
       "25%         5.000000  174892.250000    2453.000000     106.587184   \n",
       "50%        34.000000  341467.500000    5138.000000     170.797030   \n",
       "75%       131.000000  493626.750000    8720.750000     289.614129   \n",
       "max      2990.000000  590227.000000   29898.000000   90354.072248   \n",
       "\n",
       "       openrarity_score  openrarity_rank  openrarity_max_rank  last_sale_price  \n",
       "count      80480.000000     80480.000000         80480.000000     3.099100e+05  \n",
       "mean           1.000000      5630.164737         11255.829672     2.162269e+00  \n",
       "std            0.152825      3812.126968          3452.713804     1.275132e+01  \n",
       "min            0.626738         1.000000          5555.000000     6.485360e-08  \n",
       "25%            0.906820      2515.750000          9928.000000     4.077085e-03  \n",
       "50%            0.978289      5030.000000         10000.000000     8.103344e-03  \n",
       "75%            1.059866      8207.250000         15000.000000     3.252062e-01  \n",
       "max            3.663833     15555.000000         15555.000000     1.024002e+03  \n",
       "\n",
       "[8 rows x 22 columns]"
      ]
     },
     "execution_count": 4,
     "metadata": {},
     "output_type": "execute_result"
    }
   ],
   "source": [
    "# Summary of train set\n",
    "train.describe()"
   ]
  },
  {
   "cell_type": "code",
   "execution_count": null,
   "id": "96695dc3",
   "metadata": {
    "colab": {
     "base_uri": "https://localhost:8080/",
     "height": 1000
    },
    "id": "96695dc3",
    "outputId": "40a2350f-92b0-49ac-a59a-8c357f35800f",
    "pycharm": {
     "name": "#%%\n"
    }
   },
   "outputs": [
    {
     "data": {
      "text/html": [
       "\n",
       "  <div id=\"df-f4807e0e-5edf-4c85-9d1f-9de4a7257bde\">\n",
       "    <div class=\"colab-df-container\">\n",
       "      <div>\n",
       "<style scoped>\n",
       "    .dataframe tbody tr th:only-of-type {\n",
       "        vertical-align: middle;\n",
       "    }\n",
       "\n",
       "    .dataframe tbody tr th {\n",
       "        vertical-align: top;\n",
       "    }\n",
       "\n",
       "    .dataframe thead th {\n",
       "        text-align: right;\n",
       "    }\n",
       "</style>\n",
       "<table border=\"1\" class=\"dataframe\">\n",
       "  <thead>\n",
       "    <tr style=\"text-align: right;\">\n",
       "      <th></th>\n",
       "      <th>collection_id</th>\n",
       "      <th>total_supply</th>\n",
       "      <th>n_of_traits</th>\n",
       "      <th>seller_fees</th>\n",
       "      <th>platform_fees</th>\n",
       "      <th>openrarity_enabled</th>\n",
       "      <th>has_website</th>\n",
       "      <th>has_own_twitter</th>\n",
       "      <th>has_discord</th>\n",
       "      <th>has_medium</th>\n",
       "      <th>...</th>\n",
       "      <th>max_retweets</th>\n",
       "      <th>global_index</th>\n",
       "      <th>nft_id</th>\n",
       "      <th>rarity_score</th>\n",
       "      <th>openrarity_score</th>\n",
       "      <th>openrarity_rank</th>\n",
       "      <th>openrarity_max_rank</th>\n",
       "      <th>last_sale_price</th>\n",
       "      <th>verification_status_encoded</th>\n",
       "      <th>contract_type_encoded</th>\n",
       "    </tr>\n",
       "  </thead>\n",
       "  <tbody>\n",
       "    <tr>\n",
       "      <th>collection_id</th>\n",
       "      <td>1.000000e+00</td>\n",
       "      <td>9.739884e-02</td>\n",
       "      <td>-2.032548e-01</td>\n",
       "      <td>7.091973e-02</td>\n",
       "      <td>NaN</td>\n",
       "      <td>0.267691</td>\n",
       "      <td>NaN</td>\n",
       "      <td>NaN</td>\n",
       "      <td>0.183183</td>\n",
       "      <td>-9.977309e-02</td>\n",
       "      <td>...</td>\n",
       "      <td>2.277349e-01</td>\n",
       "      <td>-0.033350</td>\n",
       "      <td>0.080957</td>\n",
       "      <td>0.085688</td>\n",
       "      <td>3.021397e-15</td>\n",
       "      <td>-0.085335</td>\n",
       "      <td>-1.883431e-01</td>\n",
       "      <td>-0.118710</td>\n",
       "      <td>6.524392e-02</td>\n",
       "      <td>0.208840</td>\n",
       "    </tr>\n",
       "    <tr>\n",
       "      <th>total_supply</th>\n",
       "      <td>9.739884e-02</td>\n",
       "      <td>1.000000e+00</td>\n",
       "      <td>-1.011316e-01</td>\n",
       "      <td>-2.931663e-01</td>\n",
       "      <td>NaN</td>\n",
       "      <td>-0.203764</td>\n",
       "      <td>NaN</td>\n",
       "      <td>NaN</td>\n",
       "      <td>-0.508956</td>\n",
       "      <td>-2.520525e-01</td>\n",
       "      <td>...</td>\n",
       "      <td>-2.067745e-01</td>\n",
       "      <td>0.387816</td>\n",
       "      <td>0.654751</td>\n",
       "      <td>0.406967</td>\n",
       "      <td>3.909947e-15</td>\n",
       "      <td>0.426722</td>\n",
       "      <td>9.428951e-01</td>\n",
       "      <td>-0.081918</td>\n",
       "      <td>-6.158022e-01</td>\n",
       "      <td>-0.581190</td>\n",
       "    </tr>\n",
       "    <tr>\n",
       "      <th>n_of_traits</th>\n",
       "      <td>-2.032548e-01</td>\n",
       "      <td>-1.011316e-01</td>\n",
       "      <td>1.000000e+00</td>\n",
       "      <td>-5.576126e-02</td>\n",
       "      <td>NaN</td>\n",
       "      <td>-0.077090</td>\n",
       "      <td>NaN</td>\n",
       "      <td>NaN</td>\n",
       "      <td>0.137637</td>\n",
       "      <td>3.277287e-01</td>\n",
       "      <td>...</td>\n",
       "      <td>-3.222361e-01</td>\n",
       "      <td>-0.103596</td>\n",
       "      <td>-0.079421</td>\n",
       "      <td>0.046599</td>\n",
       "      <td>-6.521094e-15</td>\n",
       "      <td>-0.062296</td>\n",
       "      <td>-1.370590e-01</td>\n",
       "      <td>-0.107547</td>\n",
       "      <td>4.682893e-02</td>\n",
       "      <td>-0.051335</td>\n",
       "    </tr>\n",
       "    <tr>\n",
       "      <th>seller_fees</th>\n",
       "      <td>7.091973e-02</td>\n",
       "      <td>-2.931663e-01</td>\n",
       "      <td>-5.576126e-02</td>\n",
       "      <td>1.000000e+00</td>\n",
       "      <td>NaN</td>\n",
       "      <td>0.078468</td>\n",
       "      <td>NaN</td>\n",
       "      <td>NaN</td>\n",
       "      <td>0.206434</td>\n",
       "      <td>-7.026599e-02</td>\n",
       "      <td>...</td>\n",
       "      <td>-1.889129e-01</td>\n",
       "      <td>-0.136867</td>\n",
       "      <td>-0.188486</td>\n",
       "      <td>0.338401</td>\n",
       "      <td>2.913836e-15</td>\n",
       "      <td>0.120602</td>\n",
       "      <td>2.659384e-01</td>\n",
       "      <td>-0.217077</td>\n",
       "      <td>-1.227224e-01</td>\n",
       "      <td>-0.149503</td>\n",
       "    </tr>\n",
       "    <tr>\n",
       "      <th>platform_fees</th>\n",
       "      <td>NaN</td>\n",
       "      <td>NaN</td>\n",
       "      <td>NaN</td>\n",
       "      <td>NaN</td>\n",
       "      <td>NaN</td>\n",
       "      <td>NaN</td>\n",
       "      <td>NaN</td>\n",
       "      <td>NaN</td>\n",
       "      <td>NaN</td>\n",
       "      <td>NaN</td>\n",
       "      <td>...</td>\n",
       "      <td>NaN</td>\n",
       "      <td>NaN</td>\n",
       "      <td>NaN</td>\n",
       "      <td>NaN</td>\n",
       "      <td>NaN</td>\n",
       "      <td>NaN</td>\n",
       "      <td>NaN</td>\n",
       "      <td>NaN</td>\n",
       "      <td>NaN</td>\n",
       "      <td>NaN</td>\n",
       "    </tr>\n",
       "    <tr>\n",
       "      <th>openrarity_enabled</th>\n",
       "      <td>2.676912e-01</td>\n",
       "      <td>-2.037641e-01</td>\n",
       "      <td>-7.708956e-02</td>\n",
       "      <td>7.846776e-02</td>\n",
       "      <td>NaN</td>\n",
       "      <td>1.000000</td>\n",
       "      <td>NaN</td>\n",
       "      <td>NaN</td>\n",
       "      <td>0.378581</td>\n",
       "      <td>1.980333e-02</td>\n",
       "      <td>...</td>\n",
       "      <td>-9.861711e-02</td>\n",
       "      <td>-0.324974</td>\n",
       "      <td>-0.109842</td>\n",
       "      <td>-0.158123</td>\n",
       "      <td>NaN</td>\n",
       "      <td>NaN</td>\n",
       "      <td>NaN</td>\n",
       "      <td>-0.018842</td>\n",
       "      <td>3.562245e-01</td>\n",
       "      <td>0.538351</td>\n",
       "    </tr>\n",
       "    <tr>\n",
       "      <th>has_website</th>\n",
       "      <td>NaN</td>\n",
       "      <td>NaN</td>\n",
       "      <td>NaN</td>\n",
       "      <td>NaN</td>\n",
       "      <td>NaN</td>\n",
       "      <td>NaN</td>\n",
       "      <td>NaN</td>\n",
       "      <td>NaN</td>\n",
       "      <td>NaN</td>\n",
       "      <td>NaN</td>\n",
       "      <td>...</td>\n",
       "      <td>NaN</td>\n",
       "      <td>NaN</td>\n",
       "      <td>NaN</td>\n",
       "      <td>NaN</td>\n",
       "      <td>NaN</td>\n",
       "      <td>NaN</td>\n",
       "      <td>NaN</td>\n",
       "      <td>NaN</td>\n",
       "      <td>NaN</td>\n",
       "      <td>NaN</td>\n",
       "    </tr>\n",
       "    <tr>\n",
       "      <th>has_own_twitter</th>\n",
       "      <td>NaN</td>\n",
       "      <td>NaN</td>\n",
       "      <td>NaN</td>\n",
       "      <td>NaN</td>\n",
       "      <td>NaN</td>\n",
       "      <td>NaN</td>\n",
       "      <td>NaN</td>\n",
       "      <td>NaN</td>\n",
       "      <td>NaN</td>\n",
       "      <td>NaN</td>\n",
       "      <td>...</td>\n",
       "      <td>NaN</td>\n",
       "      <td>NaN</td>\n",
       "      <td>NaN</td>\n",
       "      <td>NaN</td>\n",
       "      <td>NaN</td>\n",
       "      <td>NaN</td>\n",
       "      <td>NaN</td>\n",
       "      <td>NaN</td>\n",
       "      <td>NaN</td>\n",
       "      <td>NaN</td>\n",
       "    </tr>\n",
       "    <tr>\n",
       "      <th>has_discord</th>\n",
       "      <td>1.831834e-01</td>\n",
       "      <td>-5.089564e-01</td>\n",
       "      <td>1.376370e-01</td>\n",
       "      <td>2.064341e-01</td>\n",
       "      <td>NaN</td>\n",
       "      <td>0.378581</td>\n",
       "      <td>NaN</td>\n",
       "      <td>NaN</td>\n",
       "      <td>1.000000</td>\n",
       "      <td>2.135183e-01</td>\n",
       "      <td>...</td>\n",
       "      <td>2.163329e-01</td>\n",
       "      <td>-0.555341</td>\n",
       "      <td>-0.332533</td>\n",
       "      <td>0.183680</td>\n",
       "      <td>NaN</td>\n",
       "      <td>NaN</td>\n",
       "      <td>NaN</td>\n",
       "      <td>0.108122</td>\n",
       "      <td>7.492391e-01</td>\n",
       "      <td>0.703194</td>\n",
       "    </tr>\n",
       "    <tr>\n",
       "      <th>has_medium</th>\n",
       "      <td>-9.977309e-02</td>\n",
       "      <td>-2.520525e-01</td>\n",
       "      <td>3.277287e-01</td>\n",
       "      <td>-7.026599e-02</td>\n",
       "      <td>NaN</td>\n",
       "      <td>0.019803</td>\n",
       "      <td>NaN</td>\n",
       "      <td>NaN</td>\n",
       "      <td>0.213518</td>\n",
       "      <td>1.000000e+00</td>\n",
       "      <td>...</td>\n",
       "      <td>-7.300181e-02</td>\n",
       "      <td>-0.090192</td>\n",
       "      <td>-0.169180</td>\n",
       "      <td>-0.082278</td>\n",
       "      <td>-8.433503e-15</td>\n",
       "      <td>-0.109891</td>\n",
       "      <td>-2.456163e-01</td>\n",
       "      <td>-0.033832</td>\n",
       "      <td>2.849312e-01</td>\n",
       "      <td>0.303585</td>\n",
       "    </tr>\n",
       "    <tr>\n",
       "      <th>n_tweets_in_range</th>\n",
       "      <td>-1.437299e-01</td>\n",
       "      <td>-2.772191e-01</td>\n",
       "      <td>1.709613e-01</td>\n",
       "      <td>2.707123e-01</td>\n",
       "      <td>NaN</td>\n",
       "      <td>-0.180251</td>\n",
       "      <td>NaN</td>\n",
       "      <td>NaN</td>\n",
       "      <td>0.119274</td>\n",
       "      <td>-7.502829e-02</td>\n",
       "      <td>...</td>\n",
       "      <td>-1.205244e-02</td>\n",
       "      <td>-0.111084</td>\n",
       "      <td>-0.187715</td>\n",
       "      <td>-0.129999</td>\n",
       "      <td>-6.618497e-15</td>\n",
       "      <td>0.038458</td>\n",
       "      <td>8.508155e-02</td>\n",
       "      <td>-0.033210</td>\n",
       "      <td>1.932844e-01</td>\n",
       "      <td>-0.215418</td>\n",
       "    </tr>\n",
       "    <tr>\n",
       "      <th>avg_likes</th>\n",
       "      <td>3.292708e-01</td>\n",
       "      <td>-2.920369e-01</td>\n",
       "      <td>-2.293048e-01</td>\n",
       "      <td>-1.780628e-01</td>\n",
       "      <td>NaN</td>\n",
       "      <td>0.230162</td>\n",
       "      <td>NaN</td>\n",
       "      <td>NaN</td>\n",
       "      <td>0.301879</td>\n",
       "      <td>9.388756e-02</td>\n",
       "      <td>...</td>\n",
       "      <td>6.622044e-01</td>\n",
       "      <td>-0.027845</td>\n",
       "      <td>-0.196377</td>\n",
       "      <td>-0.145672</td>\n",
       "      <td>5.736026e-15</td>\n",
       "      <td>-0.167194</td>\n",
       "      <td>-3.688450e-01</td>\n",
       "      <td>0.044742</td>\n",
       "      <td>3.126846e-01</td>\n",
       "      <td>0.431809</td>\n",
       "    </tr>\n",
       "    <tr>\n",
       "      <th>avg_replies</th>\n",
       "      <td>3.439476e-01</td>\n",
       "      <td>-1.694316e-01</td>\n",
       "      <td>-3.810618e-01</td>\n",
       "      <td>-1.275972e-01</td>\n",
       "      <td>NaN</td>\n",
       "      <td>0.037129</td>\n",
       "      <td>NaN</td>\n",
       "      <td>NaN</td>\n",
       "      <td>0.190775</td>\n",
       "      <td>-4.165850e-02</td>\n",
       "      <td>...</td>\n",
       "      <td>9.423351e-01</td>\n",
       "      <td>-0.014039</td>\n",
       "      <td>-0.114089</td>\n",
       "      <td>-0.099281</td>\n",
       "      <td>6.174921e-15</td>\n",
       "      <td>-0.197403</td>\n",
       "      <td>-4.356520e-01</td>\n",
       "      <td>0.001231</td>\n",
       "      <td>1.953146e-01</td>\n",
       "      <td>0.272799</td>\n",
       "    </tr>\n",
       "    <tr>\n",
       "      <th>avg_retweets</th>\n",
       "      <td>2.415419e-01</td>\n",
       "      <td>-2.928676e-01</td>\n",
       "      <td>-3.811478e-01</td>\n",
       "      <td>-1.890055e-01</td>\n",
       "      <td>NaN</td>\n",
       "      <td>0.003269</td>\n",
       "      <td>NaN</td>\n",
       "      <td>NaN</td>\n",
       "      <td>0.314167</td>\n",
       "      <td>-3.482015e-03</td>\n",
       "      <td>...</td>\n",
       "      <td>9.348326e-01</td>\n",
       "      <td>-0.125636</td>\n",
       "      <td>-0.196545</td>\n",
       "      <td>-0.146894</td>\n",
       "      <td>5.677055e-15</td>\n",
       "      <td>-0.234414</td>\n",
       "      <td>-5.173086e-01</td>\n",
       "      <td>0.131632</td>\n",
       "      <td>3.287811e-01</td>\n",
       "      <td>0.431409</td>\n",
       "    </tr>\n",
       "    <tr>\n",
       "      <th>min_likes</th>\n",
       "      <td>5.438593e-02</td>\n",
       "      <td>-1.818239e-01</td>\n",
       "      <td>1.572150e-01</td>\n",
       "      <td>7.059695e-02</td>\n",
       "      <td>NaN</td>\n",
       "      <td>0.238214</td>\n",
       "      <td>NaN</td>\n",
       "      <td>NaN</td>\n",
       "      <td>0.165213</td>\n",
       "      <td>1.304859e-01</td>\n",
       "      <td>...</td>\n",
       "      <td>2.461337e-02</td>\n",
       "      <td>-0.132683</td>\n",
       "      <td>-0.123174</td>\n",
       "      <td>-0.102274</td>\n",
       "      <td>8.106201e-15</td>\n",
       "      <td>-0.094341</td>\n",
       "      <td>-2.077352e-01</td>\n",
       "      <td>0.021865</td>\n",
       "      <td>2.566100e-02</td>\n",
       "      <td>0.273084</td>\n",
       "    </tr>\n",
       "    <tr>\n",
       "      <th>min_replies</th>\n",
       "      <td>2.142774e-01</td>\n",
       "      <td>-1.078785e-01</td>\n",
       "      <td>-1.415925e-01</td>\n",
       "      <td>1.021761e-01</td>\n",
       "      <td>NaN</td>\n",
       "      <td>0.411998</td>\n",
       "      <td>NaN</td>\n",
       "      <td>NaN</td>\n",
       "      <td>0.143134</td>\n",
       "      <td>-8.622620e-02</td>\n",
       "      <td>...</td>\n",
       "      <td>3.264568e-02</td>\n",
       "      <td>0.023484</td>\n",
       "      <td>-0.073682</td>\n",
       "      <td>-0.085362</td>\n",
       "      <td>7.962161e-15</td>\n",
       "      <td>-0.094465</td>\n",
       "      <td>-2.080074e-01</td>\n",
       "      <td>0.052180</td>\n",
       "      <td>-7.563083e-02</td>\n",
       "      <td>0.232148</td>\n",
       "    </tr>\n",
       "    <tr>\n",
       "      <th>min_retweets</th>\n",
       "      <td>1.608982e-02</td>\n",
       "      <td>-3.511415e-01</td>\n",
       "      <td>-1.982285e-01</td>\n",
       "      <td>-3.548959e-02</td>\n",
       "      <td>NaN</td>\n",
       "      <td>0.166374</td>\n",
       "      <td>NaN</td>\n",
       "      <td>NaN</td>\n",
       "      <td>0.356585</td>\n",
       "      <td>8.859267e-02</td>\n",
       "      <td>...</td>\n",
       "      <td>1.233454e-01</td>\n",
       "      <td>-0.270843</td>\n",
       "      <td>-0.232631</td>\n",
       "      <td>-0.159245</td>\n",
       "      <td>5.085982e-15</td>\n",
       "      <td>-0.184424</td>\n",
       "      <td>-4.069290e-01</td>\n",
       "      <td>0.267012</td>\n",
       "      <td>2.685338e-01</td>\n",
       "      <td>0.508757</td>\n",
       "    </tr>\n",
       "    <tr>\n",
       "      <th>max_likes</th>\n",
       "      <td>3.214872e-01</td>\n",
       "      <td>-1.816054e-01</td>\n",
       "      <td>-3.484154e-01</td>\n",
       "      <td>-1.856094e-01</td>\n",
       "      <td>NaN</td>\n",
       "      <td>0.013022</td>\n",
       "      <td>NaN</td>\n",
       "      <td>NaN</td>\n",
       "      <td>0.199690</td>\n",
       "      <td>-2.249767e-02</td>\n",
       "      <td>...</td>\n",
       "      <td>9.435767e-01</td>\n",
       "      <td>0.012605</td>\n",
       "      <td>-0.122193</td>\n",
       "      <td>-0.102430</td>\n",
       "      <td>6.243699e-15</td>\n",
       "      <td>-0.145870</td>\n",
       "      <td>-3.217285e-01</td>\n",
       "      <td>0.014106</td>\n",
       "      <td>2.453516e-01</td>\n",
       "      <td>0.278092</td>\n",
       "    </tr>\n",
       "    <tr>\n",
       "      <th>max_replies</th>\n",
       "      <td>2.844201e-01</td>\n",
       "      <td>-1.237048e-01</td>\n",
       "      <td>-3.584392e-01</td>\n",
       "      <td>-1.351782e-01</td>\n",
       "      <td>NaN</td>\n",
       "      <td>-0.076726</td>\n",
       "      <td>NaN</td>\n",
       "      <td>NaN</td>\n",
       "      <td>0.134444</td>\n",
       "      <td>-5.912496e-02</td>\n",
       "      <td>...</td>\n",
       "      <td>9.578505e-01</td>\n",
       "      <td>0.001510</td>\n",
       "      <td>-0.083330</td>\n",
       "      <td>-0.076819</td>\n",
       "      <td>3.814300e-15</td>\n",
       "      <td>-0.254347</td>\n",
       "      <td>-5.615700e-01</td>\n",
       "      <td>-0.012231</td>\n",
       "      <td>1.749022e-01</td>\n",
       "      <td>0.184465</td>\n",
       "    </tr>\n",
       "    <tr>\n",
       "      <th>max_retweets</th>\n",
       "      <td>2.277349e-01</td>\n",
       "      <td>-2.067745e-01</td>\n",
       "      <td>-3.222361e-01</td>\n",
       "      <td>-1.889129e-01</td>\n",
       "      <td>NaN</td>\n",
       "      <td>-0.098617</td>\n",
       "      <td>NaN</td>\n",
       "      <td>NaN</td>\n",
       "      <td>0.216333</td>\n",
       "      <td>-7.300181e-02</td>\n",
       "      <td>...</td>\n",
       "      <td>1.000000e+00</td>\n",
       "      <td>-0.040191</td>\n",
       "      <td>-0.139140</td>\n",
       "      <td>-0.111292</td>\n",
       "      <td>5.842669e-15</td>\n",
       "      <td>-0.188642</td>\n",
       "      <td>-4.160861e-01</td>\n",
       "      <td>0.081139</td>\n",
       "      <td>2.313138e-01</td>\n",
       "      <td>0.258848</td>\n",
       "    </tr>\n",
       "    <tr>\n",
       "      <th>global_index</th>\n",
       "      <td>-3.335046e-02</td>\n",
       "      <td>3.878159e-01</td>\n",
       "      <td>-1.035957e-01</td>\n",
       "      <td>-1.368669e-01</td>\n",
       "      <td>NaN</td>\n",
       "      <td>-0.324974</td>\n",
       "      <td>NaN</td>\n",
       "      <td>NaN</td>\n",
       "      <td>-0.555341</td>\n",
       "      <td>-9.019180e-02</td>\n",
       "      <td>...</td>\n",
       "      <td>-4.019087e-02</td>\n",
       "      <td>1.000000</td>\n",
       "      <td>0.256524</td>\n",
       "      <td>0.104044</td>\n",
       "      <td>1.971414e-03</td>\n",
       "      <td>-0.201513</td>\n",
       "      <td>-4.406700e-01</td>\n",
       "      <td>-0.096667</td>\n",
       "      <td>-5.586701e-01</td>\n",
       "      <td>-0.545692</td>\n",
       "    </tr>\n",
       "    <tr>\n",
       "      <th>nft_id</th>\n",
       "      <td>8.095701e-02</td>\n",
       "      <td>6.547507e-01</td>\n",
       "      <td>-7.942118e-02</td>\n",
       "      <td>-1.884859e-01</td>\n",
       "      <td>NaN</td>\n",
       "      <td>-0.109842</td>\n",
       "      <td>NaN</td>\n",
       "      <td>NaN</td>\n",
       "      <td>-0.332533</td>\n",
       "      <td>-1.691804e-01</td>\n",
       "      <td>...</td>\n",
       "      <td>-1.391400e-01</td>\n",
       "      <td>0.256524</td>\n",
       "      <td>1.000000</td>\n",
       "      <td>0.288882</td>\n",
       "      <td>8.299736e-02</td>\n",
       "      <td>0.124780</td>\n",
       "      <td>4.524562e-01</td>\n",
       "      <td>-0.055394</td>\n",
       "      <td>-3.918686e-01</td>\n",
       "      <td>-0.368768</td>\n",
       "    </tr>\n",
       "    <tr>\n",
       "      <th>rarity_score</th>\n",
       "      <td>8.568761e-02</td>\n",
       "      <td>4.069673e-01</td>\n",
       "      <td>4.659857e-02</td>\n",
       "      <td>3.384008e-01</td>\n",
       "      <td>NaN</td>\n",
       "      <td>-0.158123</td>\n",
       "      <td>NaN</td>\n",
       "      <td>NaN</td>\n",
       "      <td>0.183680</td>\n",
       "      <td>-8.227771e-02</td>\n",
       "      <td>...</td>\n",
       "      <td>-1.112915e-01</td>\n",
       "      <td>0.104044</td>\n",
       "      <td>0.288882</td>\n",
       "      <td>1.000000</td>\n",
       "      <td>2.887302e-01</td>\n",
       "      <td>-0.169245</td>\n",
       "      <td>-5.093534e-02</td>\n",
       "      <td>-0.046505</td>\n",
       "      <td>-3.244185e-01</td>\n",
       "      <td>-0.298706</td>\n",
       "    </tr>\n",
       "    <tr>\n",
       "      <th>openrarity_score</th>\n",
       "      <td>3.021397e-15</td>\n",
       "      <td>3.909947e-15</td>\n",
       "      <td>-6.521094e-15</td>\n",
       "      <td>2.913836e-15</td>\n",
       "      <td>NaN</td>\n",
       "      <td>NaN</td>\n",
       "      <td>NaN</td>\n",
       "      <td>NaN</td>\n",
       "      <td>NaN</td>\n",
       "      <td>-8.433503e-15</td>\n",
       "      <td>...</td>\n",
       "      <td>5.842669e-15</td>\n",
       "      <td>0.001971</td>\n",
       "      <td>0.082997</td>\n",
       "      <td>0.288730</td>\n",
       "      <td>1.000000e+00</td>\n",
       "      <td>-0.756742</td>\n",
       "      <td>5.101560e-15</td>\n",
       "      <td>0.109438</td>\n",
       "      <td>-4.988557e-15</td>\n",
       "      <td>NaN</td>\n",
       "    </tr>\n",
       "    <tr>\n",
       "      <th>openrarity_rank</th>\n",
       "      <td>-8.533454e-02</td>\n",
       "      <td>4.267221e-01</td>\n",
       "      <td>-6.229605e-02</td>\n",
       "      <td>1.206025e-01</td>\n",
       "      <td>NaN</td>\n",
       "      <td>NaN</td>\n",
       "      <td>NaN</td>\n",
       "      <td>NaN</td>\n",
       "      <td>NaN</td>\n",
       "      <td>-1.098910e-01</td>\n",
       "      <td>...</td>\n",
       "      <td>-1.886418e-01</td>\n",
       "      <td>-0.201513</td>\n",
       "      <td>0.124780</td>\n",
       "      <td>-0.169245</td>\n",
       "      <td>-7.567425e-01</td>\n",
       "      <td>1.000000</td>\n",
       "      <td>4.525465e-01</td>\n",
       "      <td>-0.076041</td>\n",
       "      <td>6.226447e-02</td>\n",
       "      <td>NaN</td>\n",
       "    </tr>\n",
       "    <tr>\n",
       "      <th>openrarity_max_rank</th>\n",
       "      <td>-1.883431e-01</td>\n",
       "      <td>9.428951e-01</td>\n",
       "      <td>-1.370590e-01</td>\n",
       "      <td>2.659384e-01</td>\n",
       "      <td>NaN</td>\n",
       "      <td>NaN</td>\n",
       "      <td>NaN</td>\n",
       "      <td>NaN</td>\n",
       "      <td>NaN</td>\n",
       "      <td>-2.456163e-01</td>\n",
       "      <td>...</td>\n",
       "      <td>-4.160861e-01</td>\n",
       "      <td>-0.440670</td>\n",
       "      <td>0.452456</td>\n",
       "      <td>-0.050935</td>\n",
       "      <td>5.101560e-15</td>\n",
       "      <td>0.452546</td>\n",
       "      <td>1.000000e+00</td>\n",
       "      <td>-0.098312</td>\n",
       "      <td>1.371074e-01</td>\n",
       "      <td>NaN</td>\n",
       "    </tr>\n",
       "    <tr>\n",
       "      <th>last_sale_price</th>\n",
       "      <td>-1.187096e-01</td>\n",
       "      <td>-8.191833e-02</td>\n",
       "      <td>-1.075475e-01</td>\n",
       "      <td>-2.170772e-01</td>\n",
       "      <td>NaN</td>\n",
       "      <td>-0.018842</td>\n",
       "      <td>NaN</td>\n",
       "      <td>NaN</td>\n",
       "      <td>0.108122</td>\n",
       "      <td>-3.383235e-02</td>\n",
       "      <td>...</td>\n",
       "      <td>8.113860e-02</td>\n",
       "      <td>-0.096667</td>\n",
       "      <td>-0.055394</td>\n",
       "      <td>-0.046505</td>\n",
       "      <td>1.094378e-01</td>\n",
       "      <td>-0.076041</td>\n",
       "      <td>-9.831228e-02</td>\n",
       "      <td>1.000000</td>\n",
       "      <td>1.434601e-01</td>\n",
       "      <td>0.153611</td>\n",
       "    </tr>\n",
       "    <tr>\n",
       "      <th>verification_status_encoded</th>\n",
       "      <td>6.524392e-02</td>\n",
       "      <td>-6.158022e-01</td>\n",
       "      <td>4.682893e-02</td>\n",
       "      <td>-1.227224e-01</td>\n",
       "      <td>NaN</td>\n",
       "      <td>0.356224</td>\n",
       "      <td>NaN</td>\n",
       "      <td>NaN</td>\n",
       "      <td>0.749239</td>\n",
       "      <td>2.849312e-01</td>\n",
       "      <td>...</td>\n",
       "      <td>2.313138e-01</td>\n",
       "      <td>-0.558670</td>\n",
       "      <td>-0.391869</td>\n",
       "      <td>-0.324418</td>\n",
       "      <td>-4.988557e-15</td>\n",
       "      <td>0.062264</td>\n",
       "      <td>1.371074e-01</td>\n",
       "      <td>0.143460</td>\n",
       "      <td>1.000000e+00</td>\n",
       "      <td>0.807246</td>\n",
       "    </tr>\n",
       "    <tr>\n",
       "      <th>contract_type_encoded</th>\n",
       "      <td>2.088403e-01</td>\n",
       "      <td>-5.811903e-01</td>\n",
       "      <td>-5.133532e-02</td>\n",
       "      <td>-1.495030e-01</td>\n",
       "      <td>NaN</td>\n",
       "      <td>0.538351</td>\n",
       "      <td>NaN</td>\n",
       "      <td>NaN</td>\n",
       "      <td>0.703194</td>\n",
       "      <td>3.035853e-01</td>\n",
       "      <td>...</td>\n",
       "      <td>2.588484e-01</td>\n",
       "      <td>-0.545692</td>\n",
       "      <td>-0.368768</td>\n",
       "      <td>-0.298706</td>\n",
       "      <td>NaN</td>\n",
       "      <td>NaN</td>\n",
       "      <td>NaN</td>\n",
       "      <td>0.153611</td>\n",
       "      <td>8.072457e-01</td>\n",
       "      <td>1.000000</td>\n",
       "    </tr>\n",
       "  </tbody>\n",
       "</table>\n",
       "<p>29 rows × 29 columns</p>\n",
       "</div>\n",
       "      <button class=\"colab-df-convert\" onclick=\"convertToInteractive('df-f4807e0e-5edf-4c85-9d1f-9de4a7257bde')\"\n",
       "              title=\"Convert this dataframe to an interactive table.\"\n",
       "              style=\"display:none;\">\n",
       "        \n",
       "  <svg xmlns=\"http://www.w3.org/2000/svg\" height=\"24px\"viewBox=\"0 0 24 24\"\n",
       "       width=\"24px\">\n",
       "    <path d=\"M0 0h24v24H0V0z\" fill=\"none\"/>\n",
       "    <path d=\"M18.56 5.44l.94 2.06.94-2.06 2.06-.94-2.06-.94-.94-2.06-.94 2.06-2.06.94zm-11 1L8.5 8.5l.94-2.06 2.06-.94-2.06-.94L8.5 2.5l-.94 2.06-2.06.94zm10 10l.94 2.06.94-2.06 2.06-.94-2.06-.94-.94-2.06-.94 2.06-2.06.94z\"/><path d=\"M17.41 7.96l-1.37-1.37c-.4-.4-.92-.59-1.43-.59-.52 0-1.04.2-1.43.59L10.3 9.45l-7.72 7.72c-.78.78-.78 2.05 0 2.83L4 21.41c.39.39.9.59 1.41.59.51 0 1.02-.2 1.41-.59l7.78-7.78 2.81-2.81c.8-.78.8-2.07 0-2.86zM5.41 20L4 18.59l7.72-7.72 1.47 1.35L5.41 20z\"/>\n",
       "  </svg>\n",
       "      </button>\n",
       "      \n",
       "  <style>\n",
       "    .colab-df-container {\n",
       "      display:flex;\n",
       "      flex-wrap:wrap;\n",
       "      gap: 12px;\n",
       "    }\n",
       "\n",
       "    .colab-df-convert {\n",
       "      background-color: #E8F0FE;\n",
       "      border: none;\n",
       "      border-radius: 50%;\n",
       "      cursor: pointer;\n",
       "      display: none;\n",
       "      fill: #1967D2;\n",
       "      height: 32px;\n",
       "      padding: 0 0 0 0;\n",
       "      width: 32px;\n",
       "    }\n",
       "\n",
       "    .colab-df-convert:hover {\n",
       "      background-color: #E2EBFA;\n",
       "      box-shadow: 0px 1px 2px rgba(60, 64, 67, 0.3), 0px 1px 3px 1px rgba(60, 64, 67, 0.15);\n",
       "      fill: #174EA6;\n",
       "    }\n",
       "\n",
       "    [theme=dark] .colab-df-convert {\n",
       "      background-color: #3B4455;\n",
       "      fill: #D2E3FC;\n",
       "    }\n",
       "\n",
       "    [theme=dark] .colab-df-convert:hover {\n",
       "      background-color: #434B5C;\n",
       "      box-shadow: 0px 1px 3px 1px rgba(0, 0, 0, 0.15);\n",
       "      filter: drop-shadow(0px 1px 2px rgba(0, 0, 0, 0.3));\n",
       "      fill: #FFFFFF;\n",
       "    }\n",
       "  </style>\n",
       "\n",
       "      <script>\n",
       "        const buttonEl =\n",
       "          document.querySelector('#df-f4807e0e-5edf-4c85-9d1f-9de4a7257bde button.colab-df-convert');\n",
       "        buttonEl.style.display =\n",
       "          google.colab.kernel.accessAllowed ? 'block' : 'none';\n",
       "\n",
       "        async function convertToInteractive(key) {\n",
       "          const element = document.querySelector('#df-f4807e0e-5edf-4c85-9d1f-9de4a7257bde');\n",
       "          const dataTable =\n",
       "            await google.colab.kernel.invokeFunction('convertToInteractive',\n",
       "                                                     [key], {});\n",
       "          if (!dataTable) return;\n",
       "\n",
       "          const docLinkHtml = 'Like what you see? Visit the ' +\n",
       "            '<a target=\"_blank\" href=https://colab.research.google.com/notebooks/data_table.ipynb>data table notebook</a>'\n",
       "            + ' to learn more about interactive tables.';\n",
       "          element.innerHTML = '';\n",
       "          dataTable['output_type'] = 'display_data';\n",
       "          await google.colab.output.renderOutput(dataTable, element);\n",
       "          const docLink = document.createElement('div');\n",
       "          docLink.innerHTML = docLinkHtml;\n",
       "          element.appendChild(docLink);\n",
       "        }\n",
       "      </script>\n",
       "    </div>\n",
       "  </div>\n",
       "  "
      ],
      "text/plain": [
       "                             collection_id  total_supply   n_of_traits  \\\n",
       "collection_id                 1.000000e+00  9.739884e-02 -2.032548e-01   \n",
       "total_supply                  9.739884e-02  1.000000e+00 -1.011316e-01   \n",
       "n_of_traits                  -2.032548e-01 -1.011316e-01  1.000000e+00   \n",
       "seller_fees                   7.091973e-02 -2.931663e-01 -5.576126e-02   \n",
       "platform_fees                          NaN           NaN           NaN   \n",
       "openrarity_enabled            2.676912e-01 -2.037641e-01 -7.708956e-02   \n",
       "has_website                            NaN           NaN           NaN   \n",
       "has_own_twitter                        NaN           NaN           NaN   \n",
       "has_discord                   1.831834e-01 -5.089564e-01  1.376370e-01   \n",
       "has_medium                   -9.977309e-02 -2.520525e-01  3.277287e-01   \n",
       "n_tweets_in_range            -1.437299e-01 -2.772191e-01  1.709613e-01   \n",
       "avg_likes                     3.292708e-01 -2.920369e-01 -2.293048e-01   \n",
       "avg_replies                   3.439476e-01 -1.694316e-01 -3.810618e-01   \n",
       "avg_retweets                  2.415419e-01 -2.928676e-01 -3.811478e-01   \n",
       "min_likes                     5.438593e-02 -1.818239e-01  1.572150e-01   \n",
       "min_replies                   2.142774e-01 -1.078785e-01 -1.415925e-01   \n",
       "min_retweets                  1.608982e-02 -3.511415e-01 -1.982285e-01   \n",
       "max_likes                     3.214872e-01 -1.816054e-01 -3.484154e-01   \n",
       "max_replies                   2.844201e-01 -1.237048e-01 -3.584392e-01   \n",
       "max_retweets                  2.277349e-01 -2.067745e-01 -3.222361e-01   \n",
       "global_index                 -3.335046e-02  3.878159e-01 -1.035957e-01   \n",
       "nft_id                        8.095701e-02  6.547507e-01 -7.942118e-02   \n",
       "rarity_score                  8.568761e-02  4.069673e-01  4.659857e-02   \n",
       "openrarity_score              3.021397e-15  3.909947e-15 -6.521094e-15   \n",
       "openrarity_rank              -8.533454e-02  4.267221e-01 -6.229605e-02   \n",
       "openrarity_max_rank          -1.883431e-01  9.428951e-01 -1.370590e-01   \n",
       "last_sale_price              -1.187096e-01 -8.191833e-02 -1.075475e-01   \n",
       "verification_status_encoded   6.524392e-02 -6.158022e-01  4.682893e-02   \n",
       "contract_type_encoded         2.088403e-01 -5.811903e-01 -5.133532e-02   \n",
       "\n",
       "                              seller_fees  platform_fees  openrarity_enabled  \\\n",
       "collection_id                7.091973e-02            NaN            0.267691   \n",
       "total_supply                -2.931663e-01            NaN           -0.203764   \n",
       "n_of_traits                 -5.576126e-02            NaN           -0.077090   \n",
       "seller_fees                  1.000000e+00            NaN            0.078468   \n",
       "platform_fees                         NaN            NaN                 NaN   \n",
       "openrarity_enabled           7.846776e-02            NaN            1.000000   \n",
       "has_website                           NaN            NaN                 NaN   \n",
       "has_own_twitter                       NaN            NaN                 NaN   \n",
       "has_discord                  2.064341e-01            NaN            0.378581   \n",
       "has_medium                  -7.026599e-02            NaN            0.019803   \n",
       "n_tweets_in_range            2.707123e-01            NaN           -0.180251   \n",
       "avg_likes                   -1.780628e-01            NaN            0.230162   \n",
       "avg_replies                 -1.275972e-01            NaN            0.037129   \n",
       "avg_retweets                -1.890055e-01            NaN            0.003269   \n",
       "min_likes                    7.059695e-02            NaN            0.238214   \n",
       "min_replies                  1.021761e-01            NaN            0.411998   \n",
       "min_retweets                -3.548959e-02            NaN            0.166374   \n",
       "max_likes                   -1.856094e-01            NaN            0.013022   \n",
       "max_replies                 -1.351782e-01            NaN           -0.076726   \n",
       "max_retweets                -1.889129e-01            NaN           -0.098617   \n",
       "global_index                -1.368669e-01            NaN           -0.324974   \n",
       "nft_id                      -1.884859e-01            NaN           -0.109842   \n",
       "rarity_score                 3.384008e-01            NaN           -0.158123   \n",
       "openrarity_score             2.913836e-15            NaN                 NaN   \n",
       "openrarity_rank              1.206025e-01            NaN                 NaN   \n",
       "openrarity_max_rank          2.659384e-01            NaN                 NaN   \n",
       "last_sale_price             -2.170772e-01            NaN           -0.018842   \n",
       "verification_status_encoded -1.227224e-01            NaN            0.356224   \n",
       "contract_type_encoded       -1.495030e-01            NaN            0.538351   \n",
       "\n",
       "                             has_website  has_own_twitter  has_discord  \\\n",
       "collection_id                        NaN              NaN     0.183183   \n",
       "total_supply                         NaN              NaN    -0.508956   \n",
       "n_of_traits                          NaN              NaN     0.137637   \n",
       "seller_fees                          NaN              NaN     0.206434   \n",
       "platform_fees                        NaN              NaN          NaN   \n",
       "openrarity_enabled                   NaN              NaN     0.378581   \n",
       "has_website                          NaN              NaN          NaN   \n",
       "has_own_twitter                      NaN              NaN          NaN   \n",
       "has_discord                          NaN              NaN     1.000000   \n",
       "has_medium                           NaN              NaN     0.213518   \n",
       "n_tweets_in_range                    NaN              NaN     0.119274   \n",
       "avg_likes                            NaN              NaN     0.301879   \n",
       "avg_replies                          NaN              NaN     0.190775   \n",
       "avg_retweets                         NaN              NaN     0.314167   \n",
       "min_likes                            NaN              NaN     0.165213   \n",
       "min_replies                          NaN              NaN     0.143134   \n",
       "min_retweets                         NaN              NaN     0.356585   \n",
       "max_likes                            NaN              NaN     0.199690   \n",
       "max_replies                          NaN              NaN     0.134444   \n",
       "max_retweets                         NaN              NaN     0.216333   \n",
       "global_index                         NaN              NaN    -0.555341   \n",
       "nft_id                               NaN              NaN    -0.332533   \n",
       "rarity_score                         NaN              NaN     0.183680   \n",
       "openrarity_score                     NaN              NaN          NaN   \n",
       "openrarity_rank                      NaN              NaN          NaN   \n",
       "openrarity_max_rank                  NaN              NaN          NaN   \n",
       "last_sale_price                      NaN              NaN     0.108122   \n",
       "verification_status_encoded          NaN              NaN     0.749239   \n",
       "contract_type_encoded                NaN              NaN     0.703194   \n",
       "\n",
       "                               has_medium  ...  max_retweets  global_index  \\\n",
       "collection_id               -9.977309e-02  ...  2.277349e-01     -0.033350   \n",
       "total_supply                -2.520525e-01  ... -2.067745e-01      0.387816   \n",
       "n_of_traits                  3.277287e-01  ... -3.222361e-01     -0.103596   \n",
       "seller_fees                 -7.026599e-02  ... -1.889129e-01     -0.136867   \n",
       "platform_fees                         NaN  ...           NaN           NaN   \n",
       "openrarity_enabled           1.980333e-02  ... -9.861711e-02     -0.324974   \n",
       "has_website                           NaN  ...           NaN           NaN   \n",
       "has_own_twitter                       NaN  ...           NaN           NaN   \n",
       "has_discord                  2.135183e-01  ...  2.163329e-01     -0.555341   \n",
       "has_medium                   1.000000e+00  ... -7.300181e-02     -0.090192   \n",
       "n_tweets_in_range           -7.502829e-02  ... -1.205244e-02     -0.111084   \n",
       "avg_likes                    9.388756e-02  ...  6.622044e-01     -0.027845   \n",
       "avg_replies                 -4.165850e-02  ...  9.423351e-01     -0.014039   \n",
       "avg_retweets                -3.482015e-03  ...  9.348326e-01     -0.125636   \n",
       "min_likes                    1.304859e-01  ...  2.461337e-02     -0.132683   \n",
       "min_replies                 -8.622620e-02  ...  3.264568e-02      0.023484   \n",
       "min_retweets                 8.859267e-02  ...  1.233454e-01     -0.270843   \n",
       "max_likes                   -2.249767e-02  ...  9.435767e-01      0.012605   \n",
       "max_replies                 -5.912496e-02  ...  9.578505e-01      0.001510   \n",
       "max_retweets                -7.300181e-02  ...  1.000000e+00     -0.040191   \n",
       "global_index                -9.019180e-02  ... -4.019087e-02      1.000000   \n",
       "nft_id                      -1.691804e-01  ... -1.391400e-01      0.256524   \n",
       "rarity_score                -8.227771e-02  ... -1.112915e-01      0.104044   \n",
       "openrarity_score            -8.433503e-15  ...  5.842669e-15      0.001971   \n",
       "openrarity_rank             -1.098910e-01  ... -1.886418e-01     -0.201513   \n",
       "openrarity_max_rank         -2.456163e-01  ... -4.160861e-01     -0.440670   \n",
       "last_sale_price             -3.383235e-02  ...  8.113860e-02     -0.096667   \n",
       "verification_status_encoded  2.849312e-01  ...  2.313138e-01     -0.558670   \n",
       "contract_type_encoded        3.035853e-01  ...  2.588484e-01     -0.545692   \n",
       "\n",
       "                               nft_id  rarity_score  openrarity_score  \\\n",
       "collection_id                0.080957      0.085688      3.021397e-15   \n",
       "total_supply                 0.654751      0.406967      3.909947e-15   \n",
       "n_of_traits                 -0.079421      0.046599     -6.521094e-15   \n",
       "seller_fees                 -0.188486      0.338401      2.913836e-15   \n",
       "platform_fees                     NaN           NaN               NaN   \n",
       "openrarity_enabled          -0.109842     -0.158123               NaN   \n",
       "has_website                       NaN           NaN               NaN   \n",
       "has_own_twitter                   NaN           NaN               NaN   \n",
       "has_discord                 -0.332533      0.183680               NaN   \n",
       "has_medium                  -0.169180     -0.082278     -8.433503e-15   \n",
       "n_tweets_in_range           -0.187715     -0.129999     -6.618497e-15   \n",
       "avg_likes                   -0.196377     -0.145672      5.736026e-15   \n",
       "avg_replies                 -0.114089     -0.099281      6.174921e-15   \n",
       "avg_retweets                -0.196545     -0.146894      5.677055e-15   \n",
       "min_likes                   -0.123174     -0.102274      8.106201e-15   \n",
       "min_replies                 -0.073682     -0.085362      7.962161e-15   \n",
       "min_retweets                -0.232631     -0.159245      5.085982e-15   \n",
       "max_likes                   -0.122193     -0.102430      6.243699e-15   \n",
       "max_replies                 -0.083330     -0.076819      3.814300e-15   \n",
       "max_retweets                -0.139140     -0.111292      5.842669e-15   \n",
       "global_index                 0.256524      0.104044      1.971414e-03   \n",
       "nft_id                       1.000000      0.288882      8.299736e-02   \n",
       "rarity_score                 0.288882      1.000000      2.887302e-01   \n",
       "openrarity_score             0.082997      0.288730      1.000000e+00   \n",
       "openrarity_rank              0.124780     -0.169245     -7.567425e-01   \n",
       "openrarity_max_rank          0.452456     -0.050935      5.101560e-15   \n",
       "last_sale_price             -0.055394     -0.046505      1.094378e-01   \n",
       "verification_status_encoded -0.391869     -0.324418     -4.988557e-15   \n",
       "contract_type_encoded       -0.368768     -0.298706               NaN   \n",
       "\n",
       "                             openrarity_rank  openrarity_max_rank  \\\n",
       "collection_id                      -0.085335        -1.883431e-01   \n",
       "total_supply                        0.426722         9.428951e-01   \n",
       "n_of_traits                        -0.062296        -1.370590e-01   \n",
       "seller_fees                         0.120602         2.659384e-01   \n",
       "platform_fees                            NaN                  NaN   \n",
       "openrarity_enabled                       NaN                  NaN   \n",
       "has_website                              NaN                  NaN   \n",
       "has_own_twitter                          NaN                  NaN   \n",
       "has_discord                              NaN                  NaN   \n",
       "has_medium                         -0.109891        -2.456163e-01   \n",
       "n_tweets_in_range                   0.038458         8.508155e-02   \n",
       "avg_likes                          -0.167194        -3.688450e-01   \n",
       "avg_replies                        -0.197403        -4.356520e-01   \n",
       "avg_retweets                       -0.234414        -5.173086e-01   \n",
       "min_likes                          -0.094341        -2.077352e-01   \n",
       "min_replies                        -0.094465        -2.080074e-01   \n",
       "min_retweets                       -0.184424        -4.069290e-01   \n",
       "max_likes                          -0.145870        -3.217285e-01   \n",
       "max_replies                        -0.254347        -5.615700e-01   \n",
       "max_retweets                       -0.188642        -4.160861e-01   \n",
       "global_index                       -0.201513        -4.406700e-01   \n",
       "nft_id                              0.124780         4.524562e-01   \n",
       "rarity_score                       -0.169245        -5.093534e-02   \n",
       "openrarity_score                   -0.756742         5.101560e-15   \n",
       "openrarity_rank                     1.000000         4.525465e-01   \n",
       "openrarity_max_rank                 0.452546         1.000000e+00   \n",
       "last_sale_price                    -0.076041        -9.831228e-02   \n",
       "verification_status_encoded         0.062264         1.371074e-01   \n",
       "contract_type_encoded                    NaN                  NaN   \n",
       "\n",
       "                             last_sale_price  verification_status_encoded  \\\n",
       "collection_id                      -0.118710                 6.524392e-02   \n",
       "total_supply                       -0.081918                -6.158022e-01   \n",
       "n_of_traits                        -0.107547                 4.682893e-02   \n",
       "seller_fees                        -0.217077                -1.227224e-01   \n",
       "platform_fees                            NaN                          NaN   \n",
       "openrarity_enabled                 -0.018842                 3.562245e-01   \n",
       "has_website                              NaN                          NaN   \n",
       "has_own_twitter                          NaN                          NaN   \n",
       "has_discord                         0.108122                 7.492391e-01   \n",
       "has_medium                         -0.033832                 2.849312e-01   \n",
       "n_tweets_in_range                  -0.033210                 1.932844e-01   \n",
       "avg_likes                           0.044742                 3.126846e-01   \n",
       "avg_replies                         0.001231                 1.953146e-01   \n",
       "avg_retweets                        0.131632                 3.287811e-01   \n",
       "min_likes                           0.021865                 2.566100e-02   \n",
       "min_replies                         0.052180                -7.563083e-02   \n",
       "min_retweets                        0.267012                 2.685338e-01   \n",
       "max_likes                           0.014106                 2.453516e-01   \n",
       "max_replies                        -0.012231                 1.749022e-01   \n",
       "max_retweets                        0.081139                 2.313138e-01   \n",
       "global_index                       -0.096667                -5.586701e-01   \n",
       "nft_id                             -0.055394                -3.918686e-01   \n",
       "rarity_score                       -0.046505                -3.244185e-01   \n",
       "openrarity_score                    0.109438                -4.988557e-15   \n",
       "openrarity_rank                    -0.076041                 6.226447e-02   \n",
       "openrarity_max_rank                -0.098312                 1.371074e-01   \n",
       "last_sale_price                     1.000000                 1.434601e-01   \n",
       "verification_status_encoded         0.143460                 1.000000e+00   \n",
       "contract_type_encoded               0.153611                 8.072457e-01   \n",
       "\n",
       "                             contract_type_encoded  \n",
       "collection_id                             0.208840  \n",
       "total_supply                             -0.581190  \n",
       "n_of_traits                              -0.051335  \n",
       "seller_fees                              -0.149503  \n",
       "platform_fees                                  NaN  \n",
       "openrarity_enabled                        0.538351  \n",
       "has_website                                    NaN  \n",
       "has_own_twitter                                NaN  \n",
       "has_discord                               0.703194  \n",
       "has_medium                                0.303585  \n",
       "n_tweets_in_range                        -0.215418  \n",
       "avg_likes                                 0.431809  \n",
       "avg_replies                               0.272799  \n",
       "avg_retweets                              0.431409  \n",
       "min_likes                                 0.273084  \n",
       "min_replies                               0.232148  \n",
       "min_retweets                              0.508757  \n",
       "max_likes                                 0.278092  \n",
       "max_replies                               0.184465  \n",
       "max_retweets                              0.258848  \n",
       "global_index                             -0.545692  \n",
       "nft_id                                   -0.368768  \n",
       "rarity_score                             -0.298706  \n",
       "openrarity_score                               NaN  \n",
       "openrarity_rank                                NaN  \n",
       "openrarity_max_rank                            NaN  \n",
       "last_sale_price                           0.153611  \n",
       "verification_status_encoded               0.807246  \n",
       "contract_type_encoded                     1.000000  \n",
       "\n",
       "[29 rows x 29 columns]"
      ]
     },
     "execution_count": 61,
     "metadata": {},
     "output_type": "execute_result"
    }
   ],
   "source": [
    "# Correlation values of the train set\n",
    "train.corr()"
   ]
  },
  {
   "cell_type": "code",
   "execution_count": null,
   "id": "8805ca6c",
   "metadata": {
    "colab": {
     "base_uri": "https://localhost:8080/",
     "height": 394
    },
    "id": "8805ca6c",
    "outputId": "08e28cf6-492e-4b1b-f094-c4caa37d7cf3",
    "pycharm": {
     "name": "#%%\n"
    }
   },
   "outputs": [
    {
     "data": {
      "text/html": [
       "\n",
       "  <div id=\"df-5e06e0ec-d994-45ec-a6d0-9d92aaebff76\">\n",
       "    <div class=\"colab-df-container\">\n",
       "      <div>\n",
       "<style scoped>\n",
       "    .dataframe tbody tr th:only-of-type {\n",
       "        vertical-align: middle;\n",
       "    }\n",
       "\n",
       "    .dataframe tbody tr th {\n",
       "        vertical-align: top;\n",
       "    }\n",
       "\n",
       "    .dataframe thead th {\n",
       "        text-align: right;\n",
       "    }\n",
       "</style>\n",
       "<table border=\"1\" class=\"dataframe\">\n",
       "  <thead>\n",
       "    <tr style=\"text-align: right;\">\n",
       "      <th></th>\n",
       "      <th>collection_id</th>\n",
       "      <th>total_supply</th>\n",
       "      <th>n_of_traits</th>\n",
       "      <th>seller_fees</th>\n",
       "      <th>platform_fees</th>\n",
       "      <th>n_tweets_in_range</th>\n",
       "      <th>avg_likes</th>\n",
       "      <th>avg_replies</th>\n",
       "      <th>avg_retweets</th>\n",
       "      <th>min_likes</th>\n",
       "      <th>...</th>\n",
       "      <th>min_retweets</th>\n",
       "      <th>max_likes</th>\n",
       "      <th>max_replies</th>\n",
       "      <th>max_retweets</th>\n",
       "      <th>global_index</th>\n",
       "      <th>nft_id</th>\n",
       "      <th>rarity_score</th>\n",
       "      <th>openrarity_score</th>\n",
       "      <th>openrarity_rank</th>\n",
       "      <th>openrarity_max_rank</th>\n",
       "    </tr>\n",
       "  </thead>\n",
       "  <tbody>\n",
       "    <tr>\n",
       "      <th>count</th>\n",
       "      <td>181248.000000</td>\n",
       "      <td>181248.000000</td>\n",
       "      <td>181248.000000</td>\n",
       "      <td>181246.000000</td>\n",
       "      <td>181248.0</td>\n",
       "      <td>181248.000000</td>\n",
       "      <td>181248.000000</td>\n",
       "      <td>181248.000000</td>\n",
       "      <td>181248.000000</td>\n",
       "      <td>181248.000000</td>\n",
       "      <td>...</td>\n",
       "      <td>181248.000000</td>\n",
       "      <td>181248.000000</td>\n",
       "      <td>181248.000000</td>\n",
       "      <td>181248.000000</td>\n",
       "      <td>181214.000000</td>\n",
       "      <td>181214.000000</td>\n",
       "      <td>181214.000000</td>\n",
       "      <td>38626.000000</td>\n",
       "      <td>38626.000000</td>\n",
       "      <td>38626.000000</td>\n",
       "    </tr>\n",
       "    <tr>\n",
       "      <th>mean</th>\n",
       "      <td>28.763390</td>\n",
       "      <td>26212.797212</td>\n",
       "      <td>12.636338</td>\n",
       "      <td>628.648632</td>\n",
       "      <td>250.0</td>\n",
       "      <td>61.351634</td>\n",
       "      <td>70.869551</td>\n",
       "      <td>14.532511</td>\n",
       "      <td>27.135821</td>\n",
       "      <td>19.381913</td>\n",
       "      <td>...</td>\n",
       "      <td>4.006555</td>\n",
       "      <td>161.286811</td>\n",
       "      <td>43.110523</td>\n",
       "      <td>80.898509</td>\n",
       "      <td>309791.155888</td>\n",
       "      <td>11445.662471</td>\n",
       "      <td>232.415184</td>\n",
       "      <td>1.000000</td>\n",
       "      <td>4372.867628</td>\n",
       "      <td>8741.760731</td>\n",
       "    </tr>\n",
       "    <tr>\n",
       "      <th>std</th>\n",
       "      <td>15.322493</td>\n",
       "      <td>20322.852507</td>\n",
       "      <td>14.518413</td>\n",
       "      <td>270.432416</td>\n",
       "      <td>0.0</td>\n",
       "      <td>167.590227</td>\n",
       "      <td>171.372887</td>\n",
       "      <td>26.073091</td>\n",
       "      <td>73.560090</td>\n",
       "      <td>52.653459</td>\n",
       "      <td>...</td>\n",
       "      <td>10.459517</td>\n",
       "      <td>336.054885</td>\n",
       "      <td>68.935597</td>\n",
       "      <td>200.544100</td>\n",
       "      <td>167228.382814</td>\n",
       "      <td>11585.749965</td>\n",
       "      <td>1392.046522</td>\n",
       "      <td>0.159457</td>\n",
       "      <td>2857.568048</td>\n",
       "      <td>2300.558399</td>\n",
       "    </tr>\n",
       "    <tr>\n",
       "      <th>min</th>\n",
       "      <td>0.000000</td>\n",
       "      <td>1.000000</td>\n",
       "      <td>0.000000</td>\n",
       "      <td>200.000000</td>\n",
       "      <td>250.0</td>\n",
       "      <td>1.000000</td>\n",
       "      <td>0.000000</td>\n",
       "      <td>0.000000</td>\n",
       "      <td>0.000000</td>\n",
       "      <td>0.000000</td>\n",
       "      <td>...</td>\n",
       "      <td>0.000000</td>\n",
       "      <td>0.000000</td>\n",
       "      <td>0.000000</td>\n",
       "      <td>0.000000</td>\n",
       "      <td>0.000000</td>\n",
       "      <td>0.000000</td>\n",
       "      <td>0.000000</td>\n",
       "      <td>0.601661</td>\n",
       "      <td>1.000000</td>\n",
       "      <td>3332.000000</td>\n",
       "    </tr>\n",
       "    <tr>\n",
       "      <th>25%</th>\n",
       "      <td>22.000000</td>\n",
       "      <td>9999.000000</td>\n",
       "      <td>8.000000</td>\n",
       "      <td>500.000000</td>\n",
       "      <td>250.0</td>\n",
       "      <td>1.000000</td>\n",
       "      <td>10.000000</td>\n",
       "      <td>5.333333</td>\n",
       "      <td>0.333333</td>\n",
       "      <td>0.000000</td>\n",
       "      <td>...</td>\n",
       "      <td>0.000000</td>\n",
       "      <td>15.000000</td>\n",
       "      <td>9.000000</td>\n",
       "      <td>1.000000</td>\n",
       "      <td>231959.250000</td>\n",
       "      <td>3235.250000</td>\n",
       "      <td>129.334538</td>\n",
       "      <td>0.880993</td>\n",
       "      <td>1925.000000</td>\n",
       "      <td>9854.000000</td>\n",
       "    </tr>\n",
       "    <tr>\n",
       "      <th>50%</th>\n",
       "      <td>35.000000</td>\n",
       "      <td>20279.000000</td>\n",
       "      <td>8.000000</td>\n",
       "      <td>500.000000</td>\n",
       "      <td>250.0</td>\n",
       "      <td>3.000000</td>\n",
       "      <td>11.333333</td>\n",
       "      <td>6.243902</td>\n",
       "      <td>3.000000</td>\n",
       "      <td>9.000000</td>\n",
       "      <td>...</td>\n",
       "      <td>1.000000</td>\n",
       "      <td>15.000000</td>\n",
       "      <td>9.000000</td>\n",
       "      <td>3.000000</td>\n",
       "      <td>287356.500000</td>\n",
       "      <td>7108.500000</td>\n",
       "      <td>178.813158</td>\n",
       "      <td>0.982769</td>\n",
       "      <td>3989.000000</td>\n",
       "      <td>9999.000000</td>\n",
       "    </tr>\n",
       "    <tr>\n",
       "      <th>75%</th>\n",
       "      <td>39.000000</td>\n",
       "      <td>58351.000000</td>\n",
       "      <td>10.000000</td>\n",
       "      <td>900.000000</td>\n",
       "      <td>250.0</td>\n",
       "      <td>8.000000</td>\n",
       "      <td>15.000000</td>\n",
       "      <td>9.000000</td>\n",
       "      <td>10.876316</td>\n",
       "      <td>10.000000</td>\n",
       "      <td>...</td>\n",
       "      <td>3.000000</td>\n",
       "      <td>81.000000</td>\n",
       "      <td>24.000000</td>\n",
       "      <td>46.000000</td>\n",
       "      <td>459554.750000</td>\n",
       "      <td>16220.000000</td>\n",
       "      <td>263.697190</td>\n",
       "      <td>1.086070</td>\n",
       "      <td>6767.000000</td>\n",
       "      <td>10000.000000</td>\n",
       "    </tr>\n",
       "    <tr>\n",
       "      <th>max</th>\n",
       "      <td>60.000000</td>\n",
       "      <td>58351.000000</td>\n",
       "      <td>80.000000</td>\n",
       "      <td>1000.000000</td>\n",
       "      <td>250.0</td>\n",
       "      <td>668.000000</td>\n",
       "      <td>707.875000</td>\n",
       "      <td>353.400000</td>\n",
       "      <td>442.000000</td>\n",
       "      <td>236.000000</td>\n",
       "      <td>...</td>\n",
       "      <td>46.000000</td>\n",
       "      <td>5079.000000</td>\n",
       "      <td>2601.000000</td>\n",
       "      <td>2990.000000</td>\n",
       "      <td>618141.000000</td>\n",
       "      <td>48256.000000</td>\n",
       "      <td>152922.000000</td>\n",
       "      <td>2.561688</td>\n",
       "      <td>10000.000000</td>\n",
       "      <td>10000.000000</td>\n",
       "    </tr>\n",
       "  </tbody>\n",
       "</table>\n",
       "<p>8 rows × 21 columns</p>\n",
       "</div>\n",
       "      <button class=\"colab-df-convert\" onclick=\"convertToInteractive('df-5e06e0ec-d994-45ec-a6d0-9d92aaebff76')\"\n",
       "              title=\"Convert this dataframe to an interactive table.\"\n",
       "              style=\"display:none;\">\n",
       "        \n",
       "  <svg xmlns=\"http://www.w3.org/2000/svg\" height=\"24px\"viewBox=\"0 0 24 24\"\n",
       "       width=\"24px\">\n",
       "    <path d=\"M0 0h24v24H0V0z\" fill=\"none\"/>\n",
       "    <path d=\"M18.56 5.44l.94 2.06.94-2.06 2.06-.94-2.06-.94-.94-2.06-.94 2.06-2.06.94zm-11 1L8.5 8.5l.94-2.06 2.06-.94-2.06-.94L8.5 2.5l-.94 2.06-2.06.94zm10 10l.94 2.06.94-2.06 2.06-.94-2.06-.94-.94-2.06-.94 2.06-2.06.94z\"/><path d=\"M17.41 7.96l-1.37-1.37c-.4-.4-.92-.59-1.43-.59-.52 0-1.04.2-1.43.59L10.3 9.45l-7.72 7.72c-.78.78-.78 2.05 0 2.83L4 21.41c.39.39.9.59 1.41.59.51 0 1.02-.2 1.41-.59l7.78-7.78 2.81-2.81c.8-.78.8-2.07 0-2.86zM5.41 20L4 18.59l7.72-7.72 1.47 1.35L5.41 20z\"/>\n",
       "  </svg>\n",
       "      </button>\n",
       "      \n",
       "  <style>\n",
       "    .colab-df-container {\n",
       "      display:flex;\n",
       "      flex-wrap:wrap;\n",
       "      gap: 12px;\n",
       "    }\n",
       "\n",
       "    .colab-df-convert {\n",
       "      background-color: #E8F0FE;\n",
       "      border: none;\n",
       "      border-radius: 50%;\n",
       "      cursor: pointer;\n",
       "      display: none;\n",
       "      fill: #1967D2;\n",
       "      height: 32px;\n",
       "      padding: 0 0 0 0;\n",
       "      width: 32px;\n",
       "    }\n",
       "\n",
       "    .colab-df-convert:hover {\n",
       "      background-color: #E2EBFA;\n",
       "      box-shadow: 0px 1px 2px rgba(60, 64, 67, 0.3), 0px 1px 3px 1px rgba(60, 64, 67, 0.15);\n",
       "      fill: #174EA6;\n",
       "    }\n",
       "\n",
       "    [theme=dark] .colab-df-convert {\n",
       "      background-color: #3B4455;\n",
       "      fill: #D2E3FC;\n",
       "    }\n",
       "\n",
       "    [theme=dark] .colab-df-convert:hover {\n",
       "      background-color: #434B5C;\n",
       "      box-shadow: 0px 1px 3px 1px rgba(0, 0, 0, 0.15);\n",
       "      filter: drop-shadow(0px 1px 2px rgba(0, 0, 0, 0.3));\n",
       "      fill: #FFFFFF;\n",
       "    }\n",
       "  </style>\n",
       "\n",
       "      <script>\n",
       "        const buttonEl =\n",
       "          document.querySelector('#df-5e06e0ec-d994-45ec-a6d0-9d92aaebff76 button.colab-df-convert');\n",
       "        buttonEl.style.display =\n",
       "          google.colab.kernel.accessAllowed ? 'block' : 'none';\n",
       "\n",
       "        async function convertToInteractive(key) {\n",
       "          const element = document.querySelector('#df-5e06e0ec-d994-45ec-a6d0-9d92aaebff76');\n",
       "          const dataTable =\n",
       "            await google.colab.kernel.invokeFunction('convertToInteractive',\n",
       "                                                     [key], {});\n",
       "          if (!dataTable) return;\n",
       "\n",
       "          const docLinkHtml = 'Like what you see? Visit the ' +\n",
       "            '<a target=\"_blank\" href=https://colab.research.google.com/notebooks/data_table.ipynb>data table notebook</a>'\n",
       "            + ' to learn more about interactive tables.';\n",
       "          element.innerHTML = '';\n",
       "          dataTable['output_type'] = 'display_data';\n",
       "          await google.colab.output.renderOutput(dataTable, element);\n",
       "          const docLink = document.createElement('div');\n",
       "          docLink.innerHTML = docLinkHtml;\n",
       "          element.appendChild(docLink);\n",
       "        }\n",
       "      </script>\n",
       "    </div>\n",
       "  </div>\n",
       "  "
      ],
      "text/plain": [
       "       collection_id   total_supply    n_of_traits    seller_fees  \\\n",
       "count  181248.000000  181248.000000  181248.000000  181246.000000   \n",
       "mean       28.763390   26212.797212      12.636338     628.648632   \n",
       "std        15.322493   20322.852507      14.518413     270.432416   \n",
       "min         0.000000       1.000000       0.000000     200.000000   \n",
       "25%        22.000000    9999.000000       8.000000     500.000000   \n",
       "50%        35.000000   20279.000000       8.000000     500.000000   \n",
       "75%        39.000000   58351.000000      10.000000     900.000000   \n",
       "max        60.000000   58351.000000      80.000000    1000.000000   \n",
       "\n",
       "       platform_fees  n_tweets_in_range      avg_likes    avg_replies  \\\n",
       "count       181248.0      181248.000000  181248.000000  181248.000000   \n",
       "mean           250.0          61.351634      70.869551      14.532511   \n",
       "std              0.0         167.590227     171.372887      26.073091   \n",
       "min            250.0           1.000000       0.000000       0.000000   \n",
       "25%            250.0           1.000000      10.000000       5.333333   \n",
       "50%            250.0           3.000000      11.333333       6.243902   \n",
       "75%            250.0           8.000000      15.000000       9.000000   \n",
       "max            250.0         668.000000     707.875000     353.400000   \n",
       "\n",
       "        avg_retweets      min_likes  ...   min_retweets      max_likes  \\\n",
       "count  181248.000000  181248.000000  ...  181248.000000  181248.000000   \n",
       "mean       27.135821      19.381913  ...       4.006555     161.286811   \n",
       "std        73.560090      52.653459  ...      10.459517     336.054885   \n",
       "min         0.000000       0.000000  ...       0.000000       0.000000   \n",
       "25%         0.333333       0.000000  ...       0.000000      15.000000   \n",
       "50%         3.000000       9.000000  ...       1.000000      15.000000   \n",
       "75%        10.876316      10.000000  ...       3.000000      81.000000   \n",
       "max       442.000000     236.000000  ...      46.000000    5079.000000   \n",
       "\n",
       "         max_replies   max_retweets   global_index         nft_id  \\\n",
       "count  181248.000000  181248.000000  181214.000000  181214.000000   \n",
       "mean       43.110523      80.898509  309791.155888   11445.662471   \n",
       "std        68.935597     200.544100  167228.382814   11585.749965   \n",
       "min         0.000000       0.000000       0.000000       0.000000   \n",
       "25%         9.000000       1.000000  231959.250000    3235.250000   \n",
       "50%         9.000000       3.000000  287356.500000    7108.500000   \n",
       "75%        24.000000      46.000000  459554.750000   16220.000000   \n",
       "max      2601.000000    2990.000000  618141.000000   48256.000000   \n",
       "\n",
       "        rarity_score  openrarity_score  openrarity_rank  openrarity_max_rank  \n",
       "count  181214.000000      38626.000000     38626.000000         38626.000000  \n",
       "mean      232.415184          1.000000      4372.867628          8741.760731  \n",
       "std      1392.046522          0.159457      2857.568048          2300.558399  \n",
       "min         0.000000          0.601661         1.000000          3332.000000  \n",
       "25%       129.334538          0.880993      1925.000000          9854.000000  \n",
       "50%       178.813158          0.982769      3989.000000          9999.000000  \n",
       "75%       263.697190          1.086070      6767.000000         10000.000000  \n",
       "max    152922.000000          2.561688     10000.000000         10000.000000  \n",
       "\n",
       "[8 rows x 21 columns]"
      ]
     },
     "execution_count": 6,
     "metadata": {},
     "output_type": "execute_result"
    }
   ],
   "source": [
    "# Summary of test set\n",
    "test.describe()"
   ]
  },
  {
   "cell_type": "markdown",
   "id": "7cca191f",
   "metadata": {
    "id": "7cca191f",
    "pycharm": {
     "name": "#%% md\n"
    }
   },
   "source": [
    "## DATA PRE-PROCESSING"
   ]
  },
  {
   "cell_type": "code",
   "execution_count": null,
   "id": "3425cb8e",
   "metadata": {
    "colab": {
     "base_uri": "https://localhost:8080/"
    },
    "id": "3425cb8e",
    "outputId": "f5cd8fe6-76f0-42cb-8c0c-9d17c477e79f",
    "pycharm": {
     "name": "#%%\n"
    }
   },
   "outputs": [
    {
     "data": {
      "text/plain": [
       "{'seller_fees': 32693,\n",
       " 'global_index': 14,\n",
       " 'nft_id': 14,\n",
       " 'rarity_score': 14,\n",
       " 'openrarity_score': 229444,\n",
       " 'openrarity_rank': 229444,\n",
       " 'openrarity_max_rank': 229444,\n",
       " 'last_sale_date': 14,\n",
       " 'last_sale_price': 14}"
      ]
     },
     "execution_count": 5,
     "metadata": {},
     "output_type": "execute_result"
    }
   ],
   "source": [
    "# Checking the number of missing values in the train dataframe\n",
    "train_missing = train.isnull().sum().to_dict()  # contains sum of missing values for all columns in train\n",
    "train_missing_dict = dict()  # empty dictionary to store keys/columns with missing values only (removing columns/keys from the previous step where sum is 0) for train\n",
    "for key, val in train_missing.items():\n",
    "    if val != 0:\n",
    "        train_missing_dict[key] = val\n",
    "\n",
    "train_missing_dict"
   ]
  },
  {
   "cell_type": "code",
   "execution_count": null,
   "id": "5c685d69",
   "metadata": {
    "colab": {
     "base_uri": "https://localhost:8080/"
    },
    "id": "5c685d69",
    "outputId": "1401dfbf-0ae6-41b6-b499-b212616853d7",
    "pycharm": {
     "name": "#%%\n"
    }
   },
   "outputs": [
    {
     "data": {
      "text/plain": [
       "{'seller_fees': 2,\n",
       " 'global_index': 34,\n",
       " 'nft_id': 34,\n",
       " 'rarity_score': 34,\n",
       " 'openrarity_score': 142622,\n",
       " 'openrarity_rank': 142622,\n",
       " 'openrarity_max_rank': 142622,\n",
       " 'last_sale_date': 34}"
      ]
     },
     "execution_count": 6,
     "metadata": {},
     "output_type": "execute_result"
    }
   ],
   "source": [
    "# Checking the number of missing values in the test dataframe\n",
    "test_missing = test.isnull().sum().to_dict() # contains sum of missing values for all columns in test\n",
    "test_missing_dict = dict()  # empty dictionary to store keys/columns with missing values only (removing columns/keys from the previous step where sum is 0) for test\n",
    "for key, val in test_missing.items():\n",
    "    if val != 0:\n",
    "        test_missing_dict[key] = val\n",
    "\n",
    "test_missing_dict"
   ]
  },
  {
   "cell_type": "code",
   "execution_count": null,
   "id": "657f0389",
   "metadata": {
    "colab": {
     "base_uri": "https://localhost:8080/",
     "height": 582
    },
    "id": "657f0389",
    "outputId": "a81c84da-ff18-474f-b0a6-17497300cb03",
    "pycharm": {
     "name": "#%%\n"
    }
   },
   "outputs": [
    {
     "data": {
      "text/html": [
       "\n",
       "  <div id=\"df-54fe3984-6679-4d8f-8057-8f2f1f5957ac\">\n",
       "    <div class=\"colab-df-container\">\n",
       "      <div>\n",
       "<style scoped>\n",
       "    .dataframe tbody tr th:only-of-type {\n",
       "        vertical-align: middle;\n",
       "    }\n",
       "\n",
       "    .dataframe tbody tr th {\n",
       "        vertical-align: top;\n",
       "    }\n",
       "\n",
       "    .dataframe thead th {\n",
       "        text-align: right;\n",
       "    }\n",
       "</style>\n",
       "<table border=\"1\" class=\"dataframe\">\n",
       "  <thead>\n",
       "    <tr style=\"text-align: right;\">\n",
       "      <th></th>\n",
       "      <th>collection_id</th>\n",
       "      <th>total_supply</th>\n",
       "      <th>creation_date</th>\n",
       "      <th>verification_status</th>\n",
       "      <th>n_of_traits</th>\n",
       "      <th>contract_type</th>\n",
       "      <th>seller_fees</th>\n",
       "      <th>platform_fees</th>\n",
       "      <th>openrarity_enabled</th>\n",
       "      <th>has_website</th>\n",
       "      <th>...</th>\n",
       "      <th>max_replies</th>\n",
       "      <th>max_retweets</th>\n",
       "      <th>global_index</th>\n",
       "      <th>nft_id</th>\n",
       "      <th>rarity_score</th>\n",
       "      <th>openrarity_score</th>\n",
       "      <th>openrarity_rank</th>\n",
       "      <th>openrarity_max_rank</th>\n",
       "      <th>last_sale_date</th>\n",
       "      <th>last_sale_price</th>\n",
       "    </tr>\n",
       "  </thead>\n",
       "  <tbody>\n",
       "    <tr>\n",
       "      <th>19888</th>\n",
       "      <td>53</td>\n",
       "      <td>9999</td>\n",
       "      <td>2022-07</td>\n",
       "      <td>verified</td>\n",
       "      <td>9</td>\n",
       "      <td>own</td>\n",
       "      <td>900.0</td>\n",
       "      <td>250</td>\n",
       "      <td>False</td>\n",
       "      <td>False</td>\n",
       "      <td>...</td>\n",
       "      <td>242</td>\n",
       "      <td>873</td>\n",
       "      <td>NaN</td>\n",
       "      <td>NaN</td>\n",
       "      <td>NaN</td>\n",
       "      <td>NaN</td>\n",
       "      <td>NaN</td>\n",
       "      <td>NaN</td>\n",
       "      <td>NaN</td>\n",
       "      <td>NaN</td>\n",
       "    </tr>\n",
       "    <tr>\n",
       "      <th>49418</th>\n",
       "      <td>29</td>\n",
       "      <td>9999</td>\n",
       "      <td>2022-05</td>\n",
       "      <td>verified</td>\n",
       "      <td>10</td>\n",
       "      <td>own</td>\n",
       "      <td>750.0</td>\n",
       "      <td>250</td>\n",
       "      <td>False</td>\n",
       "      <td>False</td>\n",
       "      <td>...</td>\n",
       "      <td>137</td>\n",
       "      <td>207</td>\n",
       "      <td>NaN</td>\n",
       "      <td>NaN</td>\n",
       "      <td>NaN</td>\n",
       "      <td>NaN</td>\n",
       "      <td>NaN</td>\n",
       "      <td>NaN</td>\n",
       "      <td>NaN</td>\n",
       "      <td>NaN</td>\n",
       "    </tr>\n",
       "    <tr>\n",
       "      <th>130261</th>\n",
       "      <td>39</td>\n",
       "      <td>58351</td>\n",
       "      <td>2021-10</td>\n",
       "      <td>approved</td>\n",
       "      <td>8</td>\n",
       "      <td>own</td>\n",
       "      <td>500.0</td>\n",
       "      <td>250</td>\n",
       "      <td>False</td>\n",
       "      <td>False</td>\n",
       "      <td>...</td>\n",
       "      <td>9</td>\n",
       "      <td>1</td>\n",
       "      <td>NaN</td>\n",
       "      <td>NaN</td>\n",
       "      <td>NaN</td>\n",
       "      <td>NaN</td>\n",
       "      <td>NaN</td>\n",
       "      <td>NaN</td>\n",
       "      <td>NaN</td>\n",
       "      <td>NaN</td>\n",
       "    </tr>\n",
       "    <tr>\n",
       "      <th>130262</th>\n",
       "      <td>3</td>\n",
       "      <td>9124</td>\n",
       "      <td>2021-01</td>\n",
       "      <td>approved</td>\n",
       "      <td>26</td>\n",
       "      <td>default</td>\n",
       "      <td>1000.0</td>\n",
       "      <td>250</td>\n",
       "      <td>False</td>\n",
       "      <td>False</td>\n",
       "      <td>...</td>\n",
       "      <td>8</td>\n",
       "      <td>13</td>\n",
       "      <td>NaN</td>\n",
       "      <td>NaN</td>\n",
       "      <td>NaN</td>\n",
       "      <td>NaN</td>\n",
       "      <td>NaN</td>\n",
       "      <td>NaN</td>\n",
       "      <td>NaN</td>\n",
       "      <td>NaN</td>\n",
       "    </tr>\n",
       "    <tr>\n",
       "      <th>153260</th>\n",
       "      <td>2</td>\n",
       "      <td>20279</td>\n",
       "      <td>2021-07</td>\n",
       "      <td>approved</td>\n",
       "      <td>7</td>\n",
       "      <td>default</td>\n",
       "      <td>200.0</td>\n",
       "      <td>250</td>\n",
       "      <td>False</td>\n",
       "      <td>False</td>\n",
       "      <td>...</td>\n",
       "      <td>9</td>\n",
       "      <td>1</td>\n",
       "      <td>NaN</td>\n",
       "      <td>NaN</td>\n",
       "      <td>NaN</td>\n",
       "      <td>NaN</td>\n",
       "      <td>NaN</td>\n",
       "      <td>NaN</td>\n",
       "      <td>NaN</td>\n",
       "      <td>NaN</td>\n",
       "    </tr>\n",
       "    <tr>\n",
       "      <th>163261</th>\n",
       "      <td>10</td>\n",
       "      <td>3331</td>\n",
       "      <td>2022-02</td>\n",
       "      <td>approved</td>\n",
       "      <td>12</td>\n",
       "      <td>own</td>\n",
       "      <td>500.0</td>\n",
       "      <td>250</td>\n",
       "      <td>True</td>\n",
       "      <td>False</td>\n",
       "      <td>...</td>\n",
       "      <td>2</td>\n",
       "      <td>2</td>\n",
       "      <td>NaN</td>\n",
       "      <td>NaN</td>\n",
       "      <td>NaN</td>\n",
       "      <td>NaN</td>\n",
       "      <td>NaN</td>\n",
       "      <td>NaN</td>\n",
       "      <td>NaN</td>\n",
       "      <td>NaN</td>\n",
       "    </tr>\n",
       "    <tr>\n",
       "      <th>171164</th>\n",
       "      <td>41</td>\n",
       "      <td>4961</td>\n",
       "      <td>2021-10</td>\n",
       "      <td>approved</td>\n",
       "      <td>15</td>\n",
       "      <td>default</td>\n",
       "      <td>1000.0</td>\n",
       "      <td>250</td>\n",
       "      <td>False</td>\n",
       "      <td>False</td>\n",
       "      <td>...</td>\n",
       "      <td>4</td>\n",
       "      <td>24</td>\n",
       "      <td>NaN</td>\n",
       "      <td>NaN</td>\n",
       "      <td>NaN</td>\n",
       "      <td>NaN</td>\n",
       "      <td>NaN</td>\n",
       "      <td>NaN</td>\n",
       "      <td>NaN</td>\n",
       "      <td>NaN</td>\n",
       "    </tr>\n",
       "    <tr>\n",
       "      <th>171165</th>\n",
       "      <td>5</td>\n",
       "      <td>8881</td>\n",
       "      <td>2021-03</td>\n",
       "      <td>approved</td>\n",
       "      <td>8</td>\n",
       "      <td>default</td>\n",
       "      <td>900.0</td>\n",
       "      <td>250</td>\n",
       "      <td>False</td>\n",
       "      <td>False</td>\n",
       "      <td>...</td>\n",
       "      <td>75</td>\n",
       "      <td>55</td>\n",
       "      <td>NaN</td>\n",
       "      <td>NaN</td>\n",
       "      <td>NaN</td>\n",
       "      <td>NaN</td>\n",
       "      <td>NaN</td>\n",
       "      <td>NaN</td>\n",
       "      <td>NaN</td>\n",
       "      <td>NaN</td>\n",
       "    </tr>\n",
       "    <tr>\n",
       "      <th>171166</th>\n",
       "      <td>42</td>\n",
       "      <td>22134</td>\n",
       "      <td>2021-01</td>\n",
       "      <td>approved</td>\n",
       "      <td>80</td>\n",
       "      <td>default</td>\n",
       "      <td>700.0</td>\n",
       "      <td>250</td>\n",
       "      <td>False</td>\n",
       "      <td>False</td>\n",
       "      <td>...</td>\n",
       "      <td>6</td>\n",
       "      <td>13</td>\n",
       "      <td>NaN</td>\n",
       "      <td>NaN</td>\n",
       "      <td>NaN</td>\n",
       "      <td>NaN</td>\n",
       "      <td>NaN</td>\n",
       "      <td>NaN</td>\n",
       "      <td>NaN</td>\n",
       "      <td>NaN</td>\n",
       "    </tr>\n",
       "    <tr>\n",
       "      <th>238667</th>\n",
       "      <td>28</td>\n",
       "      <td>9996</td>\n",
       "      <td>2022-06</td>\n",
       "      <td>verified</td>\n",
       "      <td>14</td>\n",
       "      <td>own</td>\n",
       "      <td>250.0</td>\n",
       "      <td>250</td>\n",
       "      <td>True</td>\n",
       "      <td>False</td>\n",
       "      <td>...</td>\n",
       "      <td>4</td>\n",
       "      <td>12</td>\n",
       "      <td>NaN</td>\n",
       "      <td>NaN</td>\n",
       "      <td>NaN</td>\n",
       "      <td>NaN</td>\n",
       "      <td>NaN</td>\n",
       "      <td>NaN</td>\n",
       "      <td>NaN</td>\n",
       "      <td>NaN</td>\n",
       "    </tr>\n",
       "    <tr>\n",
       "      <th>254223</th>\n",
       "      <td>35</td>\n",
       "      <td>25487</td>\n",
       "      <td>2021-05</td>\n",
       "      <td>approved</td>\n",
       "      <td>9</td>\n",
       "      <td>default</td>\n",
       "      <td>1000.0</td>\n",
       "      <td>250</td>\n",
       "      <td>False</td>\n",
       "      <td>False</td>\n",
       "      <td>...</td>\n",
       "      <td>9</td>\n",
       "      <td>3</td>\n",
       "      <td>NaN</td>\n",
       "      <td>NaN</td>\n",
       "      <td>NaN</td>\n",
       "      <td>NaN</td>\n",
       "      <td>NaN</td>\n",
       "      <td>NaN</td>\n",
       "      <td>NaN</td>\n",
       "      <td>NaN</td>\n",
       "    </tr>\n",
       "    <tr>\n",
       "      <th>268701</th>\n",
       "      <td>47</td>\n",
       "      <td>5267</td>\n",
       "      <td>2022-06</td>\n",
       "      <td>verified</td>\n",
       "      <td>0</td>\n",
       "      <td>own</td>\n",
       "      <td>750.0</td>\n",
       "      <td>250</td>\n",
       "      <td>True</td>\n",
       "      <td>False</td>\n",
       "      <td>...</td>\n",
       "      <td>49</td>\n",
       "      <td>143</td>\n",
       "      <td>NaN</td>\n",
       "      <td>NaN</td>\n",
       "      <td>NaN</td>\n",
       "      <td>NaN</td>\n",
       "      <td>NaN</td>\n",
       "      <td>NaN</td>\n",
       "      <td>NaN</td>\n",
       "      <td>NaN</td>\n",
       "    </tr>\n",
       "    <tr>\n",
       "      <th>296452</th>\n",
       "      <td>27</td>\n",
       "      <td>10000</td>\n",
       "      <td>2022-02</td>\n",
       "      <td>verified</td>\n",
       "      <td>18</td>\n",
       "      <td>own</td>\n",
       "      <td>500.0</td>\n",
       "      <td>250</td>\n",
       "      <td>True</td>\n",
       "      <td>False</td>\n",
       "      <td>...</td>\n",
       "      <td>185</td>\n",
       "      <td>159</td>\n",
       "      <td>NaN</td>\n",
       "      <td>NaN</td>\n",
       "      <td>NaN</td>\n",
       "      <td>NaN</td>\n",
       "      <td>NaN</td>\n",
       "      <td>NaN</td>\n",
       "      <td>NaN</td>\n",
       "      <td>NaN</td>\n",
       "    </tr>\n",
       "    <tr>\n",
       "      <th>309923</th>\n",
       "      <td>22</td>\n",
       "      <td>10000</td>\n",
       "      <td>2022-01</td>\n",
       "      <td>approved</td>\n",
       "      <td>5</td>\n",
       "      <td>own</td>\n",
       "      <td>500.0</td>\n",
       "      <td>250</td>\n",
       "      <td>True</td>\n",
       "      <td>False</td>\n",
       "      <td>...</td>\n",
       "      <td>24</td>\n",
       "      <td>46</td>\n",
       "      <td>NaN</td>\n",
       "      <td>NaN</td>\n",
       "      <td>NaN</td>\n",
       "      <td>NaN</td>\n",
       "      <td>NaN</td>\n",
       "      <td>NaN</td>\n",
       "      <td>NaN</td>\n",
       "      <td>NaN</td>\n",
       "    </tr>\n",
       "  </tbody>\n",
       "</table>\n",
       "<p>14 rows × 31 columns</p>\n",
       "</div>\n",
       "      <button class=\"colab-df-convert\" onclick=\"convertToInteractive('df-54fe3984-6679-4d8f-8057-8f2f1f5957ac')\"\n",
       "              title=\"Convert this dataframe to an interactive table.\"\n",
       "              style=\"display:none;\">\n",
       "        \n",
       "  <svg xmlns=\"http://www.w3.org/2000/svg\" height=\"24px\"viewBox=\"0 0 24 24\"\n",
       "       width=\"24px\">\n",
       "    <path d=\"M0 0h24v24H0V0z\" fill=\"none\"/>\n",
       "    <path d=\"M18.56 5.44l.94 2.06.94-2.06 2.06-.94-2.06-.94-.94-2.06-.94 2.06-2.06.94zm-11 1L8.5 8.5l.94-2.06 2.06-.94-2.06-.94L8.5 2.5l-.94 2.06-2.06.94zm10 10l.94 2.06.94-2.06 2.06-.94-2.06-.94-.94-2.06-.94 2.06-2.06.94z\"/><path d=\"M17.41 7.96l-1.37-1.37c-.4-.4-.92-.59-1.43-.59-.52 0-1.04.2-1.43.59L10.3 9.45l-7.72 7.72c-.78.78-.78 2.05 0 2.83L4 21.41c.39.39.9.59 1.41.59.51 0 1.02-.2 1.41-.59l7.78-7.78 2.81-2.81c.8-.78.8-2.07 0-2.86zM5.41 20L4 18.59l7.72-7.72 1.47 1.35L5.41 20z\"/>\n",
       "  </svg>\n",
       "      </button>\n",
       "      \n",
       "  <style>\n",
       "    .colab-df-container {\n",
       "      display:flex;\n",
       "      flex-wrap:wrap;\n",
       "      gap: 12px;\n",
       "    }\n",
       "\n",
       "    .colab-df-convert {\n",
       "      background-color: #E8F0FE;\n",
       "      border: none;\n",
       "      border-radius: 50%;\n",
       "      cursor: pointer;\n",
       "      display: none;\n",
       "      fill: #1967D2;\n",
       "      height: 32px;\n",
       "      padding: 0 0 0 0;\n",
       "      width: 32px;\n",
       "    }\n",
       "\n",
       "    .colab-df-convert:hover {\n",
       "      background-color: #E2EBFA;\n",
       "      box-shadow: 0px 1px 2px rgba(60, 64, 67, 0.3), 0px 1px 3px 1px rgba(60, 64, 67, 0.15);\n",
       "      fill: #174EA6;\n",
       "    }\n",
       "\n",
       "    [theme=dark] .colab-df-convert {\n",
       "      background-color: #3B4455;\n",
       "      fill: #D2E3FC;\n",
       "    }\n",
       "\n",
       "    [theme=dark] .colab-df-convert:hover {\n",
       "      background-color: #434B5C;\n",
       "      box-shadow: 0px 1px 3px 1px rgba(0, 0, 0, 0.15);\n",
       "      filter: drop-shadow(0px 1px 2px rgba(0, 0, 0, 0.3));\n",
       "      fill: #FFFFFF;\n",
       "    }\n",
       "  </style>\n",
       "\n",
       "      <script>\n",
       "        const buttonEl =\n",
       "          document.querySelector('#df-54fe3984-6679-4d8f-8057-8f2f1f5957ac button.colab-df-convert');\n",
       "        buttonEl.style.display =\n",
       "          google.colab.kernel.accessAllowed ? 'block' : 'none';\n",
       "\n",
       "        async function convertToInteractive(key) {\n",
       "          const element = document.querySelector('#df-54fe3984-6679-4d8f-8057-8f2f1f5957ac');\n",
       "          const dataTable =\n",
       "            await google.colab.kernel.invokeFunction('convertToInteractive',\n",
       "                                                     [key], {});\n",
       "          if (!dataTable) return;\n",
       "\n",
       "          const docLinkHtml = 'Like what you see? Visit the ' +\n",
       "            '<a target=\"_blank\" href=https://colab.research.google.com/notebooks/data_table.ipynb>data table notebook</a>'\n",
       "            + ' to learn more about interactive tables.';\n",
       "          element.innerHTML = '';\n",
       "          dataTable['output_type'] = 'display_data';\n",
       "          await google.colab.output.renderOutput(dataTable, element);\n",
       "          const docLink = document.createElement('div');\n",
       "          docLink.innerHTML = docLinkHtml;\n",
       "          element.appendChild(docLink);\n",
       "        }\n",
       "      </script>\n",
       "    </div>\n",
       "  </div>\n",
       "  "
      ],
      "text/plain": [
       "        collection_id  total_supply creation_date verification_status  \\\n",
       "19888              53          9999       2022-07            verified   \n",
       "49418              29          9999       2022-05            verified   \n",
       "130261             39         58351       2021-10            approved   \n",
       "130262              3          9124       2021-01            approved   \n",
       "153260              2         20279       2021-07            approved   \n",
       "163261             10          3331       2022-02            approved   \n",
       "171164             41          4961       2021-10            approved   \n",
       "171165              5          8881       2021-03            approved   \n",
       "171166             42         22134       2021-01            approved   \n",
       "238667             28          9996       2022-06            verified   \n",
       "254223             35         25487       2021-05            approved   \n",
       "268701             47          5267       2022-06            verified   \n",
       "296452             27         10000       2022-02            verified   \n",
       "309923             22         10000       2022-01            approved   \n",
       "\n",
       "        n_of_traits contract_type  seller_fees  platform_fees  \\\n",
       "19888             9           own        900.0            250   \n",
       "49418            10           own        750.0            250   \n",
       "130261            8           own        500.0            250   \n",
       "130262           26       default       1000.0            250   \n",
       "153260            7       default        200.0            250   \n",
       "163261           12           own        500.0            250   \n",
       "171164           15       default       1000.0            250   \n",
       "171165            8       default        900.0            250   \n",
       "171166           80       default        700.0            250   \n",
       "238667           14           own        250.0            250   \n",
       "254223            9       default       1000.0            250   \n",
       "268701            0           own        750.0            250   \n",
       "296452           18           own        500.0            250   \n",
       "309923            5           own        500.0            250   \n",
       "\n",
       "        openrarity_enabled  has_website  ...  max_replies  max_retweets  \\\n",
       "19888                False        False  ...          242           873   \n",
       "49418                False        False  ...          137           207   \n",
       "130261               False        False  ...            9             1   \n",
       "130262               False        False  ...            8            13   \n",
       "153260               False        False  ...            9             1   \n",
       "163261                True        False  ...            2             2   \n",
       "171164               False        False  ...            4            24   \n",
       "171165               False        False  ...           75            55   \n",
       "171166               False        False  ...            6            13   \n",
       "238667                True        False  ...            4            12   \n",
       "254223               False        False  ...            9             3   \n",
       "268701                True        False  ...           49           143   \n",
       "296452                True        False  ...          185           159   \n",
       "309923                True        False  ...           24            46   \n",
       "\n",
       "        global_index  nft_id  rarity_score  openrarity_score  openrarity_rank  \\\n",
       "19888            NaN     NaN           NaN               NaN              NaN   \n",
       "49418            NaN     NaN           NaN               NaN              NaN   \n",
       "130261           NaN     NaN           NaN               NaN              NaN   \n",
       "130262           NaN     NaN           NaN               NaN              NaN   \n",
       "153260           NaN     NaN           NaN               NaN              NaN   \n",
       "163261           NaN     NaN           NaN               NaN              NaN   \n",
       "171164           NaN     NaN           NaN               NaN              NaN   \n",
       "171165           NaN     NaN           NaN               NaN              NaN   \n",
       "171166           NaN     NaN           NaN               NaN              NaN   \n",
       "238667           NaN     NaN           NaN               NaN              NaN   \n",
       "254223           NaN     NaN           NaN               NaN              NaN   \n",
       "268701           NaN     NaN           NaN               NaN              NaN   \n",
       "296452           NaN     NaN           NaN               NaN              NaN   \n",
       "309923           NaN     NaN           NaN               NaN              NaN   \n",
       "\n",
       "        openrarity_max_rank  last_sale_date  last_sale_price  \n",
       "19888                   NaN             NaN              NaN  \n",
       "49418                   NaN             NaN              NaN  \n",
       "130261                  NaN             NaN              NaN  \n",
       "130262                  NaN             NaN              NaN  \n",
       "153260                  NaN             NaN              NaN  \n",
       "163261                  NaN             NaN              NaN  \n",
       "171164                  NaN             NaN              NaN  \n",
       "171165                  NaN             NaN              NaN  \n",
       "171166                  NaN             NaN              NaN  \n",
       "238667                  NaN             NaN              NaN  \n",
       "254223                  NaN             NaN              NaN  \n",
       "268701                  NaN             NaN              NaN  \n",
       "296452                  NaN             NaN              NaN  \n",
       "309923                  NaN             NaN              NaN  \n",
       "\n",
       "[14 rows x 31 columns]"
      ]
     },
     "execution_count": 7,
     "metadata": {},
     "output_type": "execute_result"
    }
   ],
   "source": [
    "# Displaying the rows in which the \"last_sale_price\" column has null values\n",
    "train[train['last_sale_price'].isnull()]"
   ]
  },
  {
   "cell_type": "code",
   "execution_count": null,
   "id": "3d2e6579",
   "metadata": {
    "id": "3d2e6579",
    "outputId": "bebb3ae4-575d-463e-8eb1-998b723690cd",
    "pycharm": {
     "name": "#%%\n"
    }
   },
   "outputs": [
    {
     "data": {
      "text/html": [
       "<div>\n",
       "<style scoped>\n",
       "    .dataframe tbody tr th:only-of-type {\n",
       "        vertical-align: middle;\n",
       "    }\n",
       "\n",
       "    .dataframe tbody tr th {\n",
       "        vertical-align: top;\n",
       "    }\n",
       "\n",
       "    .dataframe thead th {\n",
       "        text-align: right;\n",
       "    }\n",
       "</style>\n",
       "<table border=\"1\" class=\"dataframe\">\n",
       "  <thead>\n",
       "    <tr style=\"text-align: right;\">\n",
       "      <th></th>\n",
       "      <th>openrarity_enabled</th>\n",
       "      <th>has_website</th>\n",
       "      <th>has_own_twitter</th>\n",
       "      <th>has_discord</th>\n",
       "      <th>has_medium</th>\n",
       "    </tr>\n",
       "  </thead>\n",
       "  <tbody>\n",
       "    <tr>\n",
       "      <th>0</th>\n",
       "      <td>False</td>\n",
       "      <td>False</td>\n",
       "      <td>True</td>\n",
       "      <td>True</td>\n",
       "      <td>True</td>\n",
       "    </tr>\n",
       "    <tr>\n",
       "      <th>1</th>\n",
       "      <td>False</td>\n",
       "      <td>False</td>\n",
       "      <td>True</td>\n",
       "      <td>True</td>\n",
       "      <td>True</td>\n",
       "    </tr>\n",
       "    <tr>\n",
       "      <th>2</th>\n",
       "      <td>False</td>\n",
       "      <td>False</td>\n",
       "      <td>True</td>\n",
       "      <td>True</td>\n",
       "      <td>True</td>\n",
       "    </tr>\n",
       "    <tr>\n",
       "      <th>3</th>\n",
       "      <td>False</td>\n",
       "      <td>False</td>\n",
       "      <td>True</td>\n",
       "      <td>True</td>\n",
       "      <td>True</td>\n",
       "    </tr>\n",
       "    <tr>\n",
       "      <th>4</th>\n",
       "      <td>False</td>\n",
       "      <td>False</td>\n",
       "      <td>True</td>\n",
       "      <td>True</td>\n",
       "      <td>True</td>\n",
       "    </tr>\n",
       "    <tr>\n",
       "      <th>...</th>\n",
       "      <td>...</td>\n",
       "      <td>...</td>\n",
       "      <td>...</td>\n",
       "      <td>...</td>\n",
       "      <td>...</td>\n",
       "    </tr>\n",
       "    <tr>\n",
       "      <th>309919</th>\n",
       "      <td>False</td>\n",
       "      <td>False</td>\n",
       "      <td>True</td>\n",
       "      <td>True</td>\n",
       "      <td>True</td>\n",
       "    </tr>\n",
       "    <tr>\n",
       "      <th>309920</th>\n",
       "      <td>False</td>\n",
       "      <td>False</td>\n",
       "      <td>True</td>\n",
       "      <td>True</td>\n",
       "      <td>True</td>\n",
       "    </tr>\n",
       "    <tr>\n",
       "      <th>309921</th>\n",
       "      <td>False</td>\n",
       "      <td>False</td>\n",
       "      <td>True</td>\n",
       "      <td>True</td>\n",
       "      <td>True</td>\n",
       "    </tr>\n",
       "    <tr>\n",
       "      <th>309922</th>\n",
       "      <td>False</td>\n",
       "      <td>False</td>\n",
       "      <td>True</td>\n",
       "      <td>True</td>\n",
       "      <td>True</td>\n",
       "    </tr>\n",
       "    <tr>\n",
       "      <th>309923</th>\n",
       "      <td>True</td>\n",
       "      <td>False</td>\n",
       "      <td>True</td>\n",
       "      <td>True</td>\n",
       "      <td>False</td>\n",
       "    </tr>\n",
       "  </tbody>\n",
       "</table>\n",
       "<p>309924 rows × 5 columns</p>\n",
       "</div>"
      ],
      "text/plain": [
       "        openrarity_enabled  has_website  has_own_twitter  has_discord  \\\n",
       "0                    False        False             True         True   \n",
       "1                    False        False             True         True   \n",
       "2                    False        False             True         True   \n",
       "3                    False        False             True         True   \n",
       "4                    False        False             True         True   \n",
       "...                    ...          ...              ...          ...   \n",
       "309919               False        False             True         True   \n",
       "309920               False        False             True         True   \n",
       "309921               False        False             True         True   \n",
       "309922               False        False             True         True   \n",
       "309923                True        False             True         True   \n",
       "\n",
       "        has_medium  \n",
       "0             True  \n",
       "1             True  \n",
       "2             True  \n",
       "3             True  \n",
       "4             True  \n",
       "...            ...  \n",
       "309919        True  \n",
       "309920        True  \n",
       "309921        True  \n",
       "309922        True  \n",
       "309923       False  \n",
       "\n",
       "[309924 rows x 5 columns]"
      ]
     },
     "execution_count": 81,
     "metadata": {},
     "output_type": "execute_result"
    }
   ],
   "source": [
    "# Checking which columns are of boolean data type\n",
    "train.select_dtypes(include=bool)"
   ]
  },
  {
   "cell_type": "code",
   "execution_count": null,
   "id": "e2b02b9e",
   "metadata": {
    "id": "e2b02b9e",
    "outputId": "0f6d7351-a818-4031-ab19-2882ece6f130",
    "pycharm": {
     "name": "#%%\n"
    }
   },
   "outputs": [
    {
     "data": {
      "text/html": [
       "<div>\n",
       "<style scoped>\n",
       "    .dataframe tbody tr th:only-of-type {\n",
       "        vertical-align: middle;\n",
       "    }\n",
       "\n",
       "    .dataframe tbody tr th {\n",
       "        vertical-align: top;\n",
       "    }\n",
       "\n",
       "    .dataframe thead th {\n",
       "        text-align: right;\n",
       "    }\n",
       "</style>\n",
       "<table border=\"1\" class=\"dataframe\">\n",
       "  <thead>\n",
       "    <tr style=\"text-align: right;\">\n",
       "      <th></th>\n",
       "      <th>creation_date</th>\n",
       "      <th>verification_status</th>\n",
       "      <th>contract_type</th>\n",
       "      <th>last_sale_date</th>\n",
       "    </tr>\n",
       "  </thead>\n",
       "  <tbody>\n",
       "    <tr>\n",
       "      <th>0</th>\n",
       "      <td>2021-04</td>\n",
       "      <td>verified</td>\n",
       "      <td>own</td>\n",
       "      <td>2022-11</td>\n",
       "    </tr>\n",
       "    <tr>\n",
       "      <th>1</th>\n",
       "      <td>2021-04</td>\n",
       "      <td>verified</td>\n",
       "      <td>own</td>\n",
       "      <td>2022-11</td>\n",
       "    </tr>\n",
       "    <tr>\n",
       "      <th>2</th>\n",
       "      <td>2021-04</td>\n",
       "      <td>verified</td>\n",
       "      <td>own</td>\n",
       "      <td>2022-11</td>\n",
       "    </tr>\n",
       "    <tr>\n",
       "      <th>3</th>\n",
       "      <td>2021-04</td>\n",
       "      <td>verified</td>\n",
       "      <td>own</td>\n",
       "      <td>2021-11</td>\n",
       "    </tr>\n",
       "    <tr>\n",
       "      <th>4</th>\n",
       "      <td>2021-04</td>\n",
       "      <td>verified</td>\n",
       "      <td>own</td>\n",
       "      <td>2021-11</td>\n",
       "    </tr>\n",
       "    <tr>\n",
       "      <th>...</th>\n",
       "      <td>...</td>\n",
       "      <td>...</td>\n",
       "      <td>...</td>\n",
       "      <td>...</td>\n",
       "    </tr>\n",
       "    <tr>\n",
       "      <th>309919</th>\n",
       "      <td>2022-04</td>\n",
       "      <td>verified</td>\n",
       "      <td>own</td>\n",
       "      <td>2022-08</td>\n",
       "    </tr>\n",
       "    <tr>\n",
       "      <th>309920</th>\n",
       "      <td>2022-04</td>\n",
       "      <td>verified</td>\n",
       "      <td>own</td>\n",
       "      <td>2022-08</td>\n",
       "    </tr>\n",
       "    <tr>\n",
       "      <th>309921</th>\n",
       "      <td>2022-04</td>\n",
       "      <td>verified</td>\n",
       "      <td>own</td>\n",
       "      <td>2022-08</td>\n",
       "    </tr>\n",
       "    <tr>\n",
       "      <th>309922</th>\n",
       "      <td>2022-04</td>\n",
       "      <td>verified</td>\n",
       "      <td>own</td>\n",
       "      <td>2022-08</td>\n",
       "    </tr>\n",
       "    <tr>\n",
       "      <th>309923</th>\n",
       "      <td>2022-01</td>\n",
       "      <td>approved</td>\n",
       "      <td>own</td>\n",
       "      <td>NaN</td>\n",
       "    </tr>\n",
       "  </tbody>\n",
       "</table>\n",
       "<p>309924 rows × 4 columns</p>\n",
       "</div>"
      ],
      "text/plain": [
       "       creation_date verification_status contract_type last_sale_date\n",
       "0            2021-04            verified           own        2022-11\n",
       "1            2021-04            verified           own        2022-11\n",
       "2            2021-04            verified           own        2022-11\n",
       "3            2021-04            verified           own        2021-11\n",
       "4            2021-04            verified           own        2021-11\n",
       "...              ...                 ...           ...            ...\n",
       "309919       2022-04            verified           own        2022-08\n",
       "309920       2022-04            verified           own        2022-08\n",
       "309921       2022-04            verified           own        2022-08\n",
       "309922       2022-04            verified           own        2022-08\n",
       "309923       2022-01            approved           own            NaN\n",
       "\n",
       "[309924 rows x 4 columns]"
      ]
     },
     "execution_count": 82,
     "metadata": {},
     "output_type": "execute_result"
    }
   ],
   "source": [
    "# Displaying the string type columns \n",
    "train.select_dtypes(include = 'object')"
   ]
  },
  {
   "cell_type": "code",
   "execution_count": null,
   "id": "19ebcca0",
   "metadata": {
    "id": "19ebcca0",
    "outputId": "786696d3-cd9d-46ad-cdf4-ef91a605a110",
    "pycharm": {
     "name": "#%%\n"
    }
   },
   "outputs": [
    {
     "data": {
      "text/plain": [
       "verified    179375\n",
       "approved    130549\n",
       "Name: verification_status, dtype: int64"
      ]
     },
     "execution_count": 83,
     "metadata": {},
     "output_type": "execute_result"
    }
   ],
   "source": [
    "# Value Counts of verification_status column\n",
    "train.verification_status.value_counts()"
   ]
  },
  {
   "cell_type": "code",
   "execution_count": null,
   "id": "eff5c9c9",
   "metadata": {
    "id": "eff5c9c9",
    "outputId": "5b59fa97-3eaa-403c-ca7a-04b70a65f179",
    "pycharm": {
     "name": "#%%\n"
    }
   },
   "outputs": [
    {
     "data": {
      "text/plain": [
       "own        169710\n",
       "default    140214\n",
       "Name: contract_type, dtype: int64"
      ]
     },
     "execution_count": 84,
     "metadata": {},
     "output_type": "execute_result"
    }
   ],
   "source": [
    "# Value Counts of contract_type column\n",
    "train.contract_type.value_counts()"
   ]
  },
  {
   "cell_type": "code",
   "execution_count": null,
   "id": "e13ad753",
   "metadata": {
    "id": "e13ad753",
    "outputId": "e646c932-1cd3-4ac7-c72b-e3ae65cfd269",
    "pycharm": {
     "name": "#%%\n"
    }
   },
   "outputs": [
    {
     "data": {
      "text/html": [
       "<div>\n",
       "<style scoped>\n",
       "    .dataframe tbody tr th:only-of-type {\n",
       "        vertical-align: middle;\n",
       "    }\n",
       "\n",
       "    .dataframe tbody tr th {\n",
       "        vertical-align: top;\n",
       "    }\n",
       "\n",
       "    .dataframe thead th {\n",
       "        text-align: right;\n",
       "    }\n",
       "</style>\n",
       "<table border=\"1\" class=\"dataframe\">\n",
       "  <thead>\n",
       "    <tr style=\"text-align: right;\">\n",
       "      <th></th>\n",
       "      <th>openrarity_enabled</th>\n",
       "      <th>rarity_score</th>\n",
       "      <th>openrarity_score</th>\n",
       "      <th>openrarity_rank</th>\n",
       "      <th>openrarity_max_rank</th>\n",
       "    </tr>\n",
       "  </thead>\n",
       "  <tbody>\n",
       "    <tr>\n",
       "      <th>9888</th>\n",
       "      <td>True</td>\n",
       "      <td>95.156519</td>\n",
       "      <td>1.030583</td>\n",
       "      <td>3213.0</td>\n",
       "      <td>10000.0</td>\n",
       "    </tr>\n",
       "    <tr>\n",
       "      <th>9889</th>\n",
       "      <td>True</td>\n",
       "      <td>33.357764</td>\n",
       "      <td>0.814998</td>\n",
       "      <td>8878.0</td>\n",
       "      <td>10000.0</td>\n",
       "    </tr>\n",
       "    <tr>\n",
       "      <th>9890</th>\n",
       "      <td>True</td>\n",
       "      <td>35.812541</td>\n",
       "      <td>0.833099</td>\n",
       "      <td>8357.0</td>\n",
       "      <td>10000.0</td>\n",
       "    </tr>\n",
       "    <tr>\n",
       "      <th>9891</th>\n",
       "      <td>True</td>\n",
       "      <td>82.490056</td>\n",
       "      <td>0.859126</td>\n",
       "      <td>7514.0</td>\n",
       "      <td>10000.0</td>\n",
       "    </tr>\n",
       "    <tr>\n",
       "      <th>9892</th>\n",
       "      <td>True</td>\n",
       "      <td>123.194870</td>\n",
       "      <td>1.033852</td>\n",
       "      <td>3178.0</td>\n",
       "      <td>10000.0</td>\n",
       "    </tr>\n",
       "    <tr>\n",
       "      <th>...</th>\n",
       "      <td>...</td>\n",
       "      <td>...</td>\n",
       "      <td>...</td>\n",
       "      <td>...</td>\n",
       "      <td>...</td>\n",
       "    </tr>\n",
       "    <tr>\n",
       "      <th>296447</th>\n",
       "      <td>True</td>\n",
       "      <td>409.767485</td>\n",
       "      <td>1.287648</td>\n",
       "      <td>290.0</td>\n",
       "      <td>9999.0</td>\n",
       "    </tr>\n",
       "    <tr>\n",
       "      <th>296448</th>\n",
       "      <td>True</td>\n",
       "      <td>326.138664</td>\n",
       "      <td>0.994475</td>\n",
       "      <td>5090.0</td>\n",
       "      <td>9999.0</td>\n",
       "    </tr>\n",
       "    <tr>\n",
       "      <th>296449</th>\n",
       "      <td>True</td>\n",
       "      <td>354.386951</td>\n",
       "      <td>1.031258</td>\n",
       "      <td>3826.0</td>\n",
       "      <td>9999.0</td>\n",
       "    </tr>\n",
       "    <tr>\n",
       "      <th>296450</th>\n",
       "      <td>True</td>\n",
       "      <td>351.615855</td>\n",
       "      <td>1.033021</td>\n",
       "      <td>3632.0</td>\n",
       "      <td>9999.0</td>\n",
       "    </tr>\n",
       "    <tr>\n",
       "      <th>296451</th>\n",
       "      <td>True</td>\n",
       "      <td>236.703036</td>\n",
       "      <td>0.860403</td>\n",
       "      <td>9101.0</td>\n",
       "      <td>9999.0</td>\n",
       "    </tr>\n",
       "  </tbody>\n",
       "</table>\n",
       "<p>80480 rows × 5 columns</p>\n",
       "</div>"
      ],
      "text/plain": [
       "        openrarity_enabled  rarity_score  openrarity_score  openrarity_rank  \\\n",
       "9888                  True     95.156519          1.030583           3213.0   \n",
       "9889                  True     33.357764          0.814998           8878.0   \n",
       "9890                  True     35.812541          0.833099           8357.0   \n",
       "9891                  True     82.490056          0.859126           7514.0   \n",
       "9892                  True    123.194870          1.033852           3178.0   \n",
       "...                    ...           ...               ...              ...   \n",
       "296447                True    409.767485          1.287648            290.0   \n",
       "296448                True    326.138664          0.994475           5090.0   \n",
       "296449                True    354.386951          1.031258           3826.0   \n",
       "296450                True    351.615855          1.033021           3632.0   \n",
       "296451                True    236.703036          0.860403           9101.0   \n",
       "\n",
       "        openrarity_max_rank  \n",
       "9888                10000.0  \n",
       "9889                10000.0  \n",
       "9890                10000.0  \n",
       "9891                10000.0  \n",
       "9892                10000.0  \n",
       "...                     ...  \n",
       "296447               9999.0  \n",
       "296448               9999.0  \n",
       "296449               9999.0  \n",
       "296450               9999.0  \n",
       "296451               9999.0  \n",
       "\n",
       "[80480 rows x 5 columns]"
      ]
     },
     "execution_count": 85,
     "metadata": {},
     "output_type": "execute_result"
    }
   ],
   "source": [
    "# Checking the number of remaining rows after dropping null valued rows from \" 'openrarity_enabled', 'rarity_score', 'openrarity_score', 'openrarity_rank', 'openrarity_max_rank' \" columns\n",
    "train[['openrarity_enabled', 'rarity_score', 'openrarity_score', 'openrarity_rank', 'openrarity_max_rank']].dropna()"
   ]
  },
  {
   "cell_type": "code",
   "execution_count": null,
   "id": "fc886f64",
   "metadata": {
    "id": "fc886f64",
    "outputId": "8da5d679-7cb2-46db-b5df-6b9743d0ec92",
    "pycharm": {
     "name": "#%%\n"
    }
   },
   "outputs": [
    {
     "data": {
      "text/plain": [
       "openrarity_score       229439\n",
       "openrarity_rank        229439\n",
       "openrarity_max_rank    229439\n",
       "dtype: int64"
      ]
     },
     "execution_count": 86,
     "metadata": {},
     "output_type": "execute_result"
    }
   ],
   "source": [
    "# Number of missing values in \" 'openrarity_score', 'openrarity_rank', 'openrarity_max_rank' \" columns where openrarity is not enabled\n",
    "train[train['openrarity_enabled'] == False][['openrarity_score', 'openrarity_rank', 'openrarity_max_rank']].isnull().sum()"
   ]
  },
  {
   "cell_type": "code",
   "execution_count": null,
   "id": "f4f4e6c1",
   "metadata": {
    "id": "f4f4e6c1",
    "outputId": "acaf62fa-99ea-4eec-861c-687f8578a782",
    "pycharm": {
     "name": "#%%\n"
    }
   },
   "outputs": [
    {
     "data": {
      "text/plain": [
       "openrarity_score       5\n",
       "openrarity_rank        5\n",
       "openrarity_max_rank    5\n",
       "dtype: int64"
      ]
     },
     "execution_count": 87,
     "metadata": {},
     "output_type": "execute_result"
    }
   ],
   "source": [
    "# Number of missing values in \" 'openrarity_score', 'openrarity_rank', 'openrarity_max_rank' \" columns where openrarity is enabled\n",
    "train[train['openrarity_enabled'] == True][['openrarity_score', 'openrarity_rank', 'openrarity_max_rank']].isnull().sum()"
   ]
  },
  {
   "cell_type": "code",
   "execution_count": null,
   "id": "c440cd64",
   "metadata": {
    "id": "c440cd64",
    "outputId": "87e7f504-1534-4221-dc45-8d5cdd2f6078",
    "pycharm": {
     "name": "#%%\n"
    }
   },
   "outputs": [
    {
     "data": {
      "text/html": [
       "<div>\n",
       "<style scoped>\n",
       "    .dataframe tbody tr th:only-of-type {\n",
       "        vertical-align: middle;\n",
       "    }\n",
       "\n",
       "    .dataframe tbody tr th {\n",
       "        vertical-align: top;\n",
       "    }\n",
       "\n",
       "    .dataframe thead th {\n",
       "        text-align: right;\n",
       "    }\n",
       "</style>\n",
       "<table border=\"1\" class=\"dataframe\">\n",
       "  <thead>\n",
       "    <tr style=\"text-align: right;\">\n",
       "      <th></th>\n",
       "      <th>collection_id</th>\n",
       "      <th>total_supply</th>\n",
       "      <th>creation_date</th>\n",
       "      <th>verification_status</th>\n",
       "      <th>n_of_traits</th>\n",
       "      <th>contract_type</th>\n",
       "      <th>seller_fees</th>\n",
       "      <th>platform_fees</th>\n",
       "      <th>openrarity_enabled</th>\n",
       "      <th>has_website</th>\n",
       "      <th>...</th>\n",
       "      <th>max_replies</th>\n",
       "      <th>max_retweets</th>\n",
       "      <th>global_index</th>\n",
       "      <th>nft_id</th>\n",
       "      <th>rarity_score</th>\n",
       "      <th>openrarity_score</th>\n",
       "      <th>openrarity_rank</th>\n",
       "      <th>openrarity_max_rank</th>\n",
       "      <th>last_sale_date</th>\n",
       "      <th>last_sale_price</th>\n",
       "    </tr>\n",
       "  </thead>\n",
       "  <tbody>\n",
       "    <tr>\n",
       "      <th>163261</th>\n",
       "      <td>10</td>\n",
       "      <td>3331</td>\n",
       "      <td>2022-02</td>\n",
       "      <td>approved</td>\n",
       "      <td>12</td>\n",
       "      <td>own</td>\n",
       "      <td>500.0</td>\n",
       "      <td>250</td>\n",
       "      <td>True</td>\n",
       "      <td>False</td>\n",
       "      <td>...</td>\n",
       "      <td>2</td>\n",
       "      <td>2</td>\n",
       "      <td>NaN</td>\n",
       "      <td>NaN</td>\n",
       "      <td>NaN</td>\n",
       "      <td>NaN</td>\n",
       "      <td>NaN</td>\n",
       "      <td>NaN</td>\n",
       "      <td>NaN</td>\n",
       "      <td>NaN</td>\n",
       "    </tr>\n",
       "    <tr>\n",
       "      <th>238667</th>\n",
       "      <td>28</td>\n",
       "      <td>9996</td>\n",
       "      <td>2022-06</td>\n",
       "      <td>verified</td>\n",
       "      <td>14</td>\n",
       "      <td>own</td>\n",
       "      <td>250.0</td>\n",
       "      <td>250</td>\n",
       "      <td>True</td>\n",
       "      <td>False</td>\n",
       "      <td>...</td>\n",
       "      <td>4</td>\n",
       "      <td>12</td>\n",
       "      <td>NaN</td>\n",
       "      <td>NaN</td>\n",
       "      <td>NaN</td>\n",
       "      <td>NaN</td>\n",
       "      <td>NaN</td>\n",
       "      <td>NaN</td>\n",
       "      <td>NaN</td>\n",
       "      <td>NaN</td>\n",
       "    </tr>\n",
       "    <tr>\n",
       "      <th>268701</th>\n",
       "      <td>47</td>\n",
       "      <td>5267</td>\n",
       "      <td>2022-06</td>\n",
       "      <td>verified</td>\n",
       "      <td>0</td>\n",
       "      <td>own</td>\n",
       "      <td>750.0</td>\n",
       "      <td>250</td>\n",
       "      <td>True</td>\n",
       "      <td>False</td>\n",
       "      <td>...</td>\n",
       "      <td>49</td>\n",
       "      <td>143</td>\n",
       "      <td>NaN</td>\n",
       "      <td>NaN</td>\n",
       "      <td>NaN</td>\n",
       "      <td>NaN</td>\n",
       "      <td>NaN</td>\n",
       "      <td>NaN</td>\n",
       "      <td>NaN</td>\n",
       "      <td>NaN</td>\n",
       "    </tr>\n",
       "    <tr>\n",
       "      <th>296452</th>\n",
       "      <td>27</td>\n",
       "      <td>10000</td>\n",
       "      <td>2022-02</td>\n",
       "      <td>verified</td>\n",
       "      <td>18</td>\n",
       "      <td>own</td>\n",
       "      <td>500.0</td>\n",
       "      <td>250</td>\n",
       "      <td>True</td>\n",
       "      <td>False</td>\n",
       "      <td>...</td>\n",
       "      <td>185</td>\n",
       "      <td>159</td>\n",
       "      <td>NaN</td>\n",
       "      <td>NaN</td>\n",
       "      <td>NaN</td>\n",
       "      <td>NaN</td>\n",
       "      <td>NaN</td>\n",
       "      <td>NaN</td>\n",
       "      <td>NaN</td>\n",
       "      <td>NaN</td>\n",
       "    </tr>\n",
       "    <tr>\n",
       "      <th>309923</th>\n",
       "      <td>22</td>\n",
       "      <td>10000</td>\n",
       "      <td>2022-01</td>\n",
       "      <td>approved</td>\n",
       "      <td>5</td>\n",
       "      <td>own</td>\n",
       "      <td>500.0</td>\n",
       "      <td>250</td>\n",
       "      <td>True</td>\n",
       "      <td>False</td>\n",
       "      <td>...</td>\n",
       "      <td>24</td>\n",
       "      <td>46</td>\n",
       "      <td>NaN</td>\n",
       "      <td>NaN</td>\n",
       "      <td>NaN</td>\n",
       "      <td>NaN</td>\n",
       "      <td>NaN</td>\n",
       "      <td>NaN</td>\n",
       "      <td>NaN</td>\n",
       "      <td>NaN</td>\n",
       "    </tr>\n",
       "  </tbody>\n",
       "</table>\n",
       "<p>5 rows × 31 columns</p>\n",
       "</div>"
      ],
      "text/plain": [
       "        collection_id  total_supply creation_date verification_status  \\\n",
       "163261             10          3331       2022-02            approved   \n",
       "238667             28          9996       2022-06            verified   \n",
       "268701             47          5267       2022-06            verified   \n",
       "296452             27         10000       2022-02            verified   \n",
       "309923             22         10000       2022-01            approved   \n",
       "\n",
       "        n_of_traits contract_type  seller_fees  platform_fees  \\\n",
       "163261           12           own        500.0            250   \n",
       "238667           14           own        250.0            250   \n",
       "268701            0           own        750.0            250   \n",
       "296452           18           own        500.0            250   \n",
       "309923            5           own        500.0            250   \n",
       "\n",
       "        openrarity_enabled  has_website  ...  max_replies  max_retweets  \\\n",
       "163261                True        False  ...            2             2   \n",
       "238667                True        False  ...            4            12   \n",
       "268701                True        False  ...           49           143   \n",
       "296452                True        False  ...          185           159   \n",
       "309923                True        False  ...           24            46   \n",
       "\n",
       "        global_index  nft_id  rarity_score  openrarity_score  openrarity_rank  \\\n",
       "163261           NaN     NaN           NaN               NaN              NaN   \n",
       "238667           NaN     NaN           NaN               NaN              NaN   \n",
       "268701           NaN     NaN           NaN               NaN              NaN   \n",
       "296452           NaN     NaN           NaN               NaN              NaN   \n",
       "309923           NaN     NaN           NaN               NaN              NaN   \n",
       "\n",
       "        openrarity_max_rank  last_sale_date  last_sale_price  \n",
       "163261                  NaN             NaN              NaN  \n",
       "238667                  NaN             NaN              NaN  \n",
       "268701                  NaN             NaN              NaN  \n",
       "296452                  NaN             NaN              NaN  \n",
       "309923                  NaN             NaN              NaN  \n",
       "\n",
       "[5 rows x 31 columns]"
      ]
     },
     "execution_count": 88,
     "metadata": {},
     "output_type": "execute_result"
    }
   ],
   "source": [
    "# Displaying the 5 rows {missing values in \" 'openrarity_score', 'openrarity_rank', 'openrarity_max_rank' \" columns; where openrarity is enabled}\n",
    "train[train[['openrarity_score', 'openrarity_rank', 'openrarity_max_rank']].isna().any(axis=1)][train['openrarity_enabled'] == True]"
   ]
  },
  {
   "cell_type": "markdown",
   "id": "49983b27",
   "metadata": {
    "id": "49983b27",
    "pycharm": {
     "name": "#%% md\n"
    }
   },
   "source": [
    "### Encoding The Categorical Variables"
   ]
  },
  {
   "cell_type": "code",
   "execution_count": null,
   "id": "26c78ebc",
   "metadata": {
    "id": "26c78ebc",
    "pycharm": {
     "name": "#%%\n"
    }
   },
   "outputs": [],
   "source": [
    "# Using label encoding to encode the categorical variables\n",
    "le1 = LabelEncoder() # Initializing Label Encoder for train set\n",
    "le2 = LabelEncoder() # Initializing Label Encoder for test set\n",
    "\n",
    "le_verification_tr = le1.fit_transform(train['verification_status'])   # verified assigned as 1 and approved assigned as 0 using label encoding on verification_status column\n",
    "le_contract_tr     = le2.fit_transform(train['contract_type'])         # own -> 1 and default -> 0 for contract_type column\n",
    "\n",
    "# Encoding \"verification status and contract type\" in train set\n",
    "train['verification_status_encoded'] = le_verification_tr\n",
    "train['contract_type_encoded']       = le_contract_tr"
   ]
  },
  {
   "cell_type": "code",
   "execution_count": null,
   "id": "0257e8da",
   "metadata": {
    "id": "0257e8da",
    "pycharm": {
     "name": "#%%\n"
    }
   },
   "outputs": [],
   "source": [
    "le_verification_te = le1.transform(test['verification_status'])\n",
    "le_contract_te     = le2.transform(test['contract_type'])\n",
    "\n",
    "# Encoding \"verification status and contract type\" in test set\n",
    "test['verification_status_encoded'] = le_verification_te\n",
    "test['contract_type_encoded']       = le_contract_te"
   ]
  },
  {
   "cell_type": "markdown",
   "id": "5cc5ad19",
   "metadata": {
    "id": "5cc5ad19",
    "pycharm": {
     "name": "#%% md\n"
    }
   },
   "source": [
    "### Converting creation_date column to datetime column dtype"
   ]
  },
  {
   "cell_type": "code",
   "execution_count": null,
   "id": "3ef62510",
   "metadata": {
    "id": "3ef62510",
    "pycharm": {
     "name": "#%%\n"
    }
   },
   "outputs": [],
   "source": [
    "train['creation_date'] = pd.to_datetime(train.creation_date)\n",
    "test['creation_date']  = pd.to_datetime(test.creation_date)"
   ]
  },
  {
   "cell_type": "markdown",
   "id": "f7c4c5be",
   "metadata": {
    "id": "f7c4c5be",
    "pycharm": {
     "name": "#%% md\n"
    }
   },
   "source": [
    "### Encoding the Boolean type columns"
   ]
  },
  {
   "cell_type": "code",
   "execution_count": null,
   "id": "0e27684b",
   "metadata": {
    "id": "0e27684b",
    "pycharm": {
     "name": "#%%\n"
    }
   },
   "outputs": [],
   "source": [
    "train['openrarity_enabled'] = train['openrarity_enabled'].astype(int)\n",
    "train['has_website']        = train['has_website'].astype(int)\n",
    "train['has_own_twitter']    = train['has_own_twitter'].astype(int)\n",
    "train['has_discord']        = train['has_discord'].astype(int)\n",
    "train['has_medium']         = train['has_medium'].astype(int)"
   ]
  },
  {
   "cell_type": "markdown",
   "id": "2344f713",
   "metadata": {
    "id": "2344f713",
    "pycharm": {
     "name": "#%% md\n"
    }
   },
   "source": [
    "## Performing Train-Validation Split before EDA"
   ]
  },
  {
   "cell_type": "code",
   "execution_count": null,
   "id": "ea0fda9b",
   "metadata": {
    "id": "ea0fda9b",
    "pycharm": {
     "name": "#%%\n"
    }
   },
   "outputs": [],
   "source": [
    "# Creating X (input) and y (target) variables\n",
    "X = train.drop(['last_sale_price'], axis=1)\n",
    "y = train['last_sale_price']"
   ]
  },
  {
   "cell_type": "code",
   "execution_count": null,
   "id": "f9ce2f1c",
   "metadata": {
    "id": "f9ce2f1c",
    "pycharm": {
     "name": "#%%\n"
    }
   },
   "outputs": [],
   "source": [
    "# Splitting complete train set into train and validation; (validation set would be used for evaluating the model and performing hyperparameter tuning, cross-validation; test set to test on the final model trained)\n",
    "X_train, X_val, y_train, y_val = train_test_split(X, y, test_size=0.2, random_state=42)"
   ]
  },
  {
   "cell_type": "code",
   "execution_count": null,
   "id": "6bac0265",
   "metadata": {
    "colab": {
     "base_uri": "https://localhost:8080/"
    },
    "id": "6bac0265",
    "outputId": "4acf1f9a-d838-4ebe-de23-d84f39ee6509",
    "pycharm": {
     "name": "#%%\n"
    }
   },
   "outputs": [
    {
     "name": "stdout",
     "output_type": "stream",
     "text": [
      "Shape of -> Full train set: (309924, 33); X train set: (247939, 32), y train set: (247939,), X validation set: (61985, 32), y validation set: (61985,); Full test set: (181248, 32)\n"
     ]
    }
   ],
   "source": [
    "print(f'Shape of -> Full train set: {train.shape}; X train set: {X_train.shape}, y train set: {y_train.shape}, X validation set: {X_val.shape}, y validation set: {y_val.shape}; Full test set: {test.shape}')"
   ]
  },
  {
   "cell_type": "markdown",
   "id": "8b47862e",
   "metadata": {
    "id": "8b47862e",
    "pycharm": {
     "name": "#%% md\n"
    }
   },
   "source": [
    "## EDA"
   ]
  },
  {
   "cell_type": "markdown",
   "id": "a02a8520",
   "metadata": {
    "id": "a02a8520",
    "pycharm": {
     "name": "#%% md\n"
    }
   },
   "source": [
    "### Total Supply"
   ]
  },
  {
   "cell_type": "code",
   "execution_count": null,
   "id": "28664716",
   "metadata": {
    "colab": {
     "base_uri": "https://localhost:8080/"
    },
    "id": "28664716",
    "outputId": "b58e1fcf-7907-4a3b-fddd-4c8858edb8e4",
    "pycharm": {
     "name": "#%%\n"
    }
   },
   "outputs": [
    {
     "data": {
      "text/plain": [
       "count    247939.000000\n",
       "mean      13403.061862\n",
       "std        7915.341055\n",
       "min           1.000000\n",
       "25%        8888.000000\n",
       "50%        9999.000000\n",
       "75%       15000.000000\n",
       "max       58351.000000\n",
       "Name: total_supply, dtype: float64"
      ]
     },
     "execution_count": 22,
     "metadata": {},
     "output_type": "execute_result"
    }
   ],
   "source": [
    "X_train['total_supply'].describe()"
   ]
  },
  {
   "cell_type": "code",
   "execution_count": null,
   "id": "1615fb6f",
   "metadata": {
    "colab": {
     "base_uri": "https://localhost:8080/",
     "height": 404
    },
    "id": "1615fb6f",
    "outputId": "246970e5-8ed4-4a28-d881-dc1aa1897832",
    "pycharm": {
     "name": "#%%\n"
    }
   },
   "outputs": [
    {
     "data": {
      "image/png": "[encoded data removed]",
      "text/plain": [
       "<Figure size 720x432 with 1 Axes>"
      ]
     },
     "metadata": {},
     "output_type": "display_data"
    }
   ],
   "source": [
    "# Scatter PLot of total_supply with collection_id\n",
    "plt.figure(figsize=(10,6))\n",
    "plt.scatter(X_train.collection_id, X_train['total_supply'])\n",
    "plt.xlabel('Collection ID')\n",
    "plt.ylabel('Total Number of NFT in Collection')\n",
    "plt.title('Distribution of Number of NFTs in Collections')\n",
    "plt.show()"
   ]
  },
  {
   "cell_type": "markdown",
   "id": "5f72a12e",
   "metadata": {
    "id": "5f72a12e",
    "pycharm": {
     "name": "#%% md\n"
    }
   },
   "source": [
    "### Number of Traits"
   ]
  },
  {
   "cell_type": "code",
   "execution_count": null,
   "id": "fc869717",
   "metadata": {
    "colab": {
     "base_uri": "https://localhost:8080/"
    },
    "id": "fc869717",
    "outputId": "b72524e3-4ec2-4dfd-8918-5c5be8a272ac",
    "pycharm": {
     "name": "#%%\n"
    }
   },
   "outputs": [
    {
     "data": {
      "text/plain": [
       "count    247939.000000\n",
       "mean         10.558621\n",
       "std           4.881739\n",
       "min           0.000000\n",
       "25%           8.000000\n",
       "50%          10.000000\n",
       "75%          12.000000\n",
       "max          80.000000\n",
       "Name: n_of_traits, dtype: float64"
      ]
     },
     "execution_count": 24,
     "metadata": {},
     "output_type": "execute_result"
    }
   ],
   "source": [
    "X_train['n_of_traits'].describe()"
   ]
  },
  {
   "cell_type": "code",
   "execution_count": null,
   "id": "34366d12",
   "metadata": {
    "colab": {
     "base_uri": "https://localhost:8080/",
     "height": 404
    },
    "id": "34366d12",
    "outputId": "cde7c5f8-5329-4a98-aa0c-22f34f97b5aa",
    "pycharm": {
     "name": "#%%\n"
    }
   },
   "outputs": [
    {
     "data": {
      "image/png": "[encoded data removed]",
      "text/plain": [
       "<Figure size 720x432 with 1 Axes>"
      ]
     },
     "metadata": {},
     "output_type": "display_data"
    }
   ],
   "source": [
    "# Scatter Plot of number of traits with collection id\n",
    "plt.figure(figsize=(10,6))\n",
    "plt.scatter(X_train.collection_id, X_train['n_of_traits'])\n",
    "plt.xlabel('Collection ID')\n",
    "plt.ylabel('Number of Traits')\n",
    "plt.title('Distribution of Number of Particular Traits of NFT')\n",
    "plt.show()"
   ]
  },
  {
   "cell_type": "markdown",
   "id": "17078a83",
   "metadata": {
    "id": "17078a83",
    "pycharm": {
     "name": "#%% md\n"
    }
   },
   "source": [
    "### Last Sale Price (Target)"
   ]
  },
  {
   "cell_type": "code",
   "execution_count": null,
   "id": "70b10b10",
   "metadata": {
    "colab": {
     "base_uri": "https://localhost:8080/",
     "height": 404
    },
    "id": "70b10b10",
    "outputId": "9efea992-6cbf-4668-ff05-396d2f4a0b07",
    "pycharm": {
     "name": "#%%\n"
    }
   },
   "outputs": [
    {
     "data": {
      "image/png": "[encoded data removed]",
      "text/plain": [
       "<Figure size 720x432 with 1 Axes>"
      ]
     },
     "metadata": {},
     "output_type": "display_data"
    }
   ],
   "source": [
    "# Scatter Plot of last sale price with collection id\n",
    "plt.figure(figsize=(10,6))\n",
    "plt.scatter(X_train.collection_id, y_train)\n",
    "plt.xlabel('Collection ID')\n",
    "plt.ylabel('Last Sale Price')\n",
    "plt.title('Distribution of Last Sale Price of NFT')\n",
    "plt.show()"
   ]
  },
  {
   "cell_type": "markdown",
   "id": "c8d83b41",
   "metadata": {
    "id": "c8d83b41",
    "pycharm": {
     "name": "#%% md\n"
    }
   },
   "source": [
    "### Rarity Score"
   ]
  },
  {
   "cell_type": "code",
   "execution_count": null,
   "id": "c12ff60d",
   "metadata": {
    "colab": {
     "base_uri": "https://localhost:8080/"
    },
    "id": "c12ff60d",
    "outputId": "c1a03a22-457e-4680-f4e2-95ed61aa7be8",
    "pycharm": {
     "name": "#%%\n"
    }
   },
   "outputs": [
    {
     "data": {
      "text/plain": [
       "count    309910.000000\n",
       "mean       1437.092531\n",
       "std        4303.585892\n",
       "min           1.000000\n",
       "25%         106.587184\n",
       "50%         170.797030\n",
       "75%         289.614129\n",
       "max       90354.072248\n",
       "Name: rarity_score, dtype: float64"
      ]
     },
     "execution_count": 36,
     "metadata": {},
     "output_type": "execute_result"
    }
   ],
   "source": [
    "X_train['rarity_score'].describe()"
   ]
  },
  {
   "cell_type": "code",
   "execution_count": null,
   "id": "8c077991",
   "metadata": {
    "colab": {
     "base_uri": "https://localhost:8080/",
     "height": 404
    },
    "id": "8c077991",
    "outputId": "03681a05-0cba-4449-99f4-f489cab26e65",
    "pycharm": {
     "name": "#%%\n"
    }
   },
   "outputs": [
    {
     "data": {
      "image/png": "[encoded data removed]",
      "text/plain": [
       "<Figure size 720x432 with 1 Axes>"
      ]
     },
     "metadata": {},
     "output_type": "display_data"
    }
   ],
   "source": [
    "# Scatter Plot of rarity score with collection id\n",
    "plt.figure(figsize=(10,6))\n",
    "plt.scatter(X_train.collection_id, X_train['rarity_score'])\n",
    "plt.xlabel('Collection ID')\n",
    "plt.ylabel('Rarity Score')\n",
    "plt.title('Distribution of Rarity Score of Collection')\n",
    "plt.show()"
   ]
  },
  {
   "cell_type": "markdown",
   "id": "6e313e9d",
   "metadata": {
    "id": "6e313e9d",
    "pycharm": {
     "name": "#%% md\n"
    }
   },
   "source": [
    "### Social Media"
   ]
  },
  {
   "cell_type": "code",
   "execution_count": null,
   "id": "2206f05c",
   "metadata": {
    "colab": {
     "base_uri": "https://localhost:8080/",
     "height": 404
    },
    "id": "2206f05c",
    "outputId": "fa235794-6f66-4ba5-a460-defde9e42798",
    "pycharm": {
     "name": "#%%\n"
    }
   },
   "outputs": [
    {
     "data": {
      "image/png": "[encoded data removed]",
      "text/plain": [
       "<Figure size 720x432 with 1 Axes>"
      ]
     },
     "metadata": {},
     "output_type": "display_data"
    }
   ],
   "source": [
    "# Bar Plot of Distribution of Usage of Social Media\n",
    "d = pd.DataFrame({'Website': X_train.has_website,\n",
    "                  'Twitter': X_train.has_own_twitter,\n",
    "                  'Discord': X_train.has_discord,\n",
    "                  'Medium': X_train.has_medium})\n",
    "\n",
    "usgdist = pd.melt(d)\n",
    "plt.figure(figsize=(10,6))\n",
    "p = sns.countplot(data = usgdist, x = 'variable', hue = 'value')\n",
    "p.set(xlabel = 'Type of Social Media',\n",
    "      ylabel = 'Count',\n",
    "      title = 'Distribution of Usage of Social Media')\n",
    "plt.show()"
   ]
  },
  {
   "cell_type": "markdown",
   "id": "cf95e8fa",
   "metadata": {
    "id": "cf95e8fa",
    "pycharm": {
     "name": "#%% md\n"
    }
   },
   "source": [
    "\n",
    "### Twitter Info"
   ]
  },
  {
   "cell_type": "code",
   "execution_count": null,
   "id": "76aaba7a",
   "metadata": {
    "colab": {
     "base_uri": "https://localhost:8080/"
    },
    "id": "76aaba7a",
    "outputId": "d53b6642-1a5d-44d2-a003-4da646a12502",
    "pycharm": {
     "name": "#%%\n"
    }
   },
   "outputs": [
    {
     "data": {
      "text/plain": [
       "count    309924.000000\n",
       "mean         17.170516\n",
       "std          27.078202\n",
       "min           1.000000\n",
       "25%           3.000000\n",
       "50%          11.000000\n",
       "75%          19.000000\n",
       "max         668.000000\n",
       "Name: n_tweets_in_range, dtype: float64"
      ]
     },
     "execution_count": 59,
     "metadata": {},
     "output_type": "execute_result"
    }
   ],
   "source": [
    "X_train['n_tweets_in_range'].describe()"
   ]
  },
  {
   "cell_type": "code",
   "execution_count": null,
   "id": "bd5a151a",
   "metadata": {
    "colab": {
     "base_uri": "https://localhost:8080/",
     "height": 404
    },
    "id": "bd5a151a",
    "outputId": "20bfa933-f2cb-42d6-b388-3a5fa50e74d8",
    "pycharm": {
     "name": "#%%\n"
    }
   },
   "outputs": [
    {
     "data": {
      "image/png": "[encoded data removed]",
      "text/plain": [
       "<Figure size 720x432 with 1 Axes>"
      ]
     },
     "metadata": {},
     "output_type": "display_data"
    }
   ],
   "source": [
    "# Scatter Plot of collection id with number of tweets in range\n",
    "plt.figure(figsize=(10,6))\n",
    "plt.scatter(X_train.collection_id, X_train['n_tweets_in_range'])\n",
    "plt.xlabel('Collection ID')\n",
    "plt.ylabel('Number of Tweets in Relevant Timeframe')\n",
    "plt.title('Distribution of Number of Tweets')\n",
    "plt.show()"
   ]
  },
  {
   "cell_type": "markdown",
   "id": "92d33368",
   "metadata": {
    "id": "92d33368",
    "pycharm": {
     "name": "#%% md\n"
    }
   },
   "source": [
    "## Average Likes, Replies and Retweets"
   ]
  },
  {
   "cell_type": "code",
   "execution_count": null,
   "id": "970507a0",
   "metadata": {
    "colab": {
     "base_uri": "https://localhost:8080/",
     "height": 404
    },
    "id": "970507a0",
    "outputId": "7914cad5-d8aa-4159-d713-b6f503f3e989",
    "pycharm": {
     "name": "#%%\n"
    }
   },
   "outputs": [
    {
     "data": {
      "image/png": "[encoded data removed]",
      "text/plain": [
       "<Figure size 720x432 with 1 Axes>"
      ]
     },
     "metadata": {},
     "output_type": "display_data"
    }
   ],
   "source": [
    "# Pot of average likes, average replies and average retweets\n",
    "plt.figure(figsize=(10,6))\n",
    "plt.scatter(X_train.collection_id, X_train.avg_likes, label = \"Average Likes\")\n",
    "plt.scatter(X_train.collection_id, X_train.avg_replies, label = \"Average Replies\")\n",
    "plt.scatter(X_train.collection_id, X_train.avg_retweets, label = \"Average Retweets\")\n",
    "plt.title(\"Distribution of Twitter Components\")\n",
    "plt.xlabel(\"Collection ID\")\n",
    "plt.ylabel(\"Count\")\n",
    "plt.legend()\n",
    "plt.show()"
   ]
  },
  {
   "cell_type": "markdown",
   "id": "a0052c1d",
   "metadata": {
    "id": "a0052c1d",
    "pycharm": {
     "name": "#%% md\n"
    }
   },
   "source": [
    "### Last Sale Price vs. Number of Tweets"
   ]
  },
  {
   "cell_type": "code",
   "execution_count": null,
   "id": "1086d47e",
   "metadata": {
    "colab": {
     "base_uri": "https://localhost:8080/",
     "height": 404
    },
    "id": "1086d47e",
    "outputId": "78723354-689d-4dc6-cfb7-60a8d8dd14b4",
    "pycharm": {
     "name": "#%%\n"
    }
   },
   "outputs": [
    {
     "data": {
      "image/png": "[encoded data removed]",
      "text/plain": [
       "<Figure size 720x432 with 1 Axes>"
      ]
     },
     "metadata": {},
     "output_type": "display_data"
    }
   ],
   "source": [
    "plt.figure(figsize=(10,6))\n",
    "plt.scatter(X_train.n_tweets_in_range, y_train)\n",
    "plt.xlabel(\"Number of Tweets in Relevant Timeframe\")\n",
    "plt.ylabel(\"Last Sale Price\")\n",
    "plt.title(\"Number of Tweets vs. Last Sale Price of NFT\")\n",
    "plt.show()"
   ]
  },
  {
   "cell_type": "markdown",
   "id": "1dbd0e44",
   "metadata": {
    "id": "1dbd0e44",
    "pycharm": {
     "name": "#%% md\n"
    }
   },
   "source": [
    "### Rarity Score vs. Number of Traits"
   ]
  },
  {
   "cell_type": "code",
   "execution_count": null,
   "id": "694c8ca1",
   "metadata": {
    "colab": {
     "base_uri": "https://localhost:8080/",
     "height": 404
    },
    "id": "694c8ca1",
    "outputId": "b18b3268-4df9-45c1-f497-f526d4af4a60",
    "pycharm": {
     "name": "#%%\n"
    }
   },
   "outputs": [
    {
     "data": {
      "image/png": "[encoded data removed]",
      "text/plain": [
       "<Figure size 720x432 with 1 Axes>"
      ]
     },
     "metadata": {},
     "output_type": "display_data"
    }
   ],
   "source": [
    "plt.figure(figsize=(10,6))\n",
    "plt.scatter(X_train.n_of_traits, X_train.rarity_score)\n",
    "plt.xlabel(\"Number of Particular Traits\")\n",
    "plt.ylabel(\"Rarity Score\")\n",
    "plt.title(\"Number of Particular Traits vs. Rarity Score\")\n",
    "plt.show()"
   ]
  },
  {
   "cell_type": "markdown",
   "id": "754a6d7f",
   "metadata": {
    "id": "754a6d7f",
    "pycharm": {
     "name": "#%% md\n"
    }
   },
   "source": [
    "### Last Sale Price vs. Number of Traits"
   ]
  },
  {
   "cell_type": "code",
   "execution_count": null,
   "id": "7154a4de",
   "metadata": {
    "colab": {
     "base_uri": "https://localhost:8080/",
     "height": 404
    },
    "id": "7154a4de",
    "outputId": "45216f55-c3c4-4e13-de60-f4a17834b804",
    "pycharm": {
     "name": "#%%\n"
    }
   },
   "outputs": [
    {
     "data": {
      "image/png": "[encoded data removed]",
      "text/plain": [
       "<Figure size 720x432 with 1 Axes>"
      ]
     },
     "metadata": {},
     "output_type": "display_data"
    }
   ],
   "source": [
    "plt.figure(figsize=(10,6))\n",
    "plt.scatter(X_train.n_of_traits, y_train)\n",
    "plt.xlabel(\"Number of Particular Traits\")\n",
    "plt.ylabel(\"Last Sale Price\")\n",
    "plt.title(\"Number of Particular Traits vs. Last Sale Price\")\n",
    "plt.show()"
   ]
  },
  {
   "cell_type": "markdown",
   "id": "b1a742b5",
   "metadata": {
    "id": "b1a742b5",
    "pycharm": {
     "name": "#%% md\n"
    }
   },
   "source": [
    "### Average Retweets vs. Last Sale Price"
   ]
  },
  {
   "cell_type": "code",
   "execution_count": null,
   "id": "c550cd0c",
   "metadata": {
    "colab": {
     "base_uri": "https://localhost:8080/",
     "height": 404
    },
    "id": "c550cd0c",
    "outputId": "8e28e218-32ae-4285-ac32-5e68da6d9daa",
    "pycharm": {
     "name": "#%%\n"
    }
   },
   "outputs": [
    {
     "data": {
      "image/png": "[encoded data removed]",
      "text/plain": [
       "<Figure size 720x432 with 1 Axes>"
      ]
     },
     "metadata": {},
     "output_type": "display_data"
    }
   ],
   "source": [
    "plt.figure(figsize=(10,6))\n",
    "plt.scatter(X_train.avg_retweets, y_train)\n",
    "plt.xlabel(\"Average Number of Retweets\")\n",
    "plt.ylabel(\"Last Sale Price\")\n",
    "plt.title(\"Average Number of Retweets vs. Last Sale Price\")\n",
    "plt.show()"
   ]
  },
  {
   "cell_type": "markdown",
   "id": "5cee5efb",
   "metadata": {
    "id": "5cee5efb",
    "pycharm": {
     "name": "#%% md\n"
    }
   },
   "source": [
    "### Auto EDA"
   ]
  },
  {
   "cell_type": "code",
   "execution_count": null,
   "id": "f6f462fd",
   "metadata": {
    "id": "f6f462fd",
    "pycharm": {
     "name": "#%%\n"
    }
   },
   "outputs": [],
   "source": [
    "# Concatenating the X_train and y_train component for the sweetviz automatic eda\n",
    "xtrain = pd.concat([X_train, y_train],axis=1)"
   ]
  },
  {
   "cell_type": "code",
   "execution_count": null,
   "id": "5d31173e",
   "metadata": {
    "colab": {
     "base_uri": "https://localhost:8080/",
     "height": 49,
     "referenced_widgets": [
      "a0b2761e897f4ea7a5302e3094f2d3ea",
      "7f39197ac21447aab63a5d503eb44922",
      "74c4cd74afe64879b16e560a534b3389",
      "f40b61907e254a799e01cc534e05e476",
      "736fbd781eff43e5965feaf34398255a",
      "0e53a2ef923b42ed82ef8ca9910f304e",
      "2476462e09744c4d984928780fb9188f",
      "7b7169d3ee5042228e96066dabc292c0",
      "7a2324cd68ed4739a33e5abf62445a4c",
      "3d65db695bac4f30bd70ebe537bca8e1",
      "64607b91c36844b0a330f0eab5823ffc"
     ]
    },
    "id": "5d31173e",
    "outputId": "accd04c6-540a-4232-95fe-ea18d998c465",
    "pycharm": {
     "name": "#%%\n"
    }
   },
   "outputs": [
    {
     "data": {
      "application/vnd.jupyter.widget-view+json": {
       "model_id": "a0b2761e897f4ea7a5302e3094f2d3ea",
       "version_major": 2,
       "version_minor": 0
      },
      "text/plain": [
       "                                             |          | [  0%]   00:00 -> (? left)"
      ]
     },
     "metadata": {},
     "output_type": "display_data"
    }
   ],
   "source": [
    "# performing auto eda using sweetviz, \"last_sale_price\" is the target variable  \n",
    "autoeda_report = sweetviz.analyze([xtrain, \"last_sale_price\"])"
   ]
  },
  {
   "cell_type": "code",
   "execution_count": null,
   "id": "cf045917",
   "metadata": {
    "colab": {
     "base_uri": "https://localhost:8080/"
    },
    "id": "cf045917",
    "outputId": "1ddedee4-4df2-46ff-fe3d-a1b15777892e",
    "pycharm": {
     "name": "#%%\n"
    }
   },
   "outputs": [
    {
     "name": "stdout",
     "output_type": "stream",
     "text": [
      "Report SWEETVIZ_REPORT.html was generated! NOTEBOOK/COLAB USERS: the web browser MAY not pop up, regardless, the report IS saved in your notebook/colab files.\n"
     ]
    }
   ],
   "source": [
    "autoeda_report.show_html()"
   ]
  },
  {
   "cell_type": "markdown",
   "id": "fa621e70",
   "metadata": {
    "id": "fa621e70",
    "pycharm": {
     "name": "#%% md\n"
    }
   },
   "source": [
    "## Missing Value Imputation"
   ]
  },
  {
   "cell_type": "code",
   "execution_count": null,
   "id": "3a425cc8",
   "metadata": {
    "id": "3a425cc8",
    "pycharm": {
     "name": "#%%\n"
    }
   },
   "outputs": [],
   "source": [
    "train_mod = train.copy(deep=True)\n",
    "test_mod = test.copy(deep=True)"
   ]
  },
  {
   "cell_type": "code",
   "execution_count": null,
   "id": "4843e2cd",
   "metadata": {
    "id": "4843e2cd",
    "pycharm": {
     "name": "#%%\n"
    }
   },
   "outputs": [],
   "source": [
    "# Imputing all the rows of openrarity_score, openrarity_rank, openrarity_max_rank as 0 wherever openrarity is not enabled in train_mod dataframe\n",
    "train_mod.loc[train_mod['openrarity_enabled'] == 0, 'openrarity_score'] = 0\n",
    "train_mod.loc[train_mod['openrarity_enabled'] == 0, 'openrarity_rank'] = 0\n",
    "train_mod.loc[train_mod['openrarity_enabled'] == 0, 'openrarity_max_rank'] = 0"
   ]
  },
  {
   "cell_type": "code",
   "execution_count": null,
   "id": "ebf30fd4",
   "metadata": {
    "id": "ebf30fd4",
    "pycharm": {
     "name": "#%%\n"
    }
   },
   "outputs": [],
   "source": [
    "# Imputing all the rows of openrarity_score, openrarity_rank, openrarity_max_rank as 0 wherever openrarity is not enabled in test_mod dataframe\n",
    "test_mod.loc[test_mod['openrarity_enabled'] == 0, 'openrarity_score'] = 0\n",
    "test_mod.loc[test_mod['openrarity_enabled'] == 0, 'openrarity_rank'] = 0\n",
    "test_mod.loc[test_mod['openrarity_enabled'] == 0, 'openrarity_max_rank'] = 0"
   ]
  },
  {
   "cell_type": "markdown",
   "id": "4eecc97b",
   "metadata": {
    "id": "4eecc97b",
    "pycharm": {
     "name": "#%% md\n"
    }
   },
   "source": [
    "### Random Forest Imputation (MissForest)"
   ]
  },
  {
   "cell_type": "code",
   "execution_count": null,
   "id": "7672b9d7",
   "metadata": {
    "colab": {
     "base_uri": "https://localhost:8080/"
    },
    "id": "7672b9d7",
    "outputId": "e228e63a-3314-4a30-c51c-e8f7ec70da9c",
    "pycharm": {
     "name": "#%%\n"
    }
   },
   "outputs": [
    {
     "data": {
      "text/plain": [
       "seller_fees            32693\n",
       "global_index              14\n",
       "nft_id                    14\n",
       "rarity_score              14\n",
       "openrarity_score           5\n",
       "openrarity_rank            5\n",
       "openrarity_max_rank        5\n",
       "last_sale_date            14\n",
       "last_sale_price           14\n",
       "dtype: int64"
      ]
     },
     "execution_count": 10,
     "metadata": {},
     "output_type": "execute_result"
    }
   ],
   "source": [
    "train_mod[['seller_fees', 'global_index', 'nft_id', 'rarity_score', 'openrarity_score', 'openrarity_rank', 'openrarity_max_rank', 'last_sale_date', 'last_sale_price']].isnull().sum()"
   ]
  },
  {
   "cell_type": "code",
   "execution_count": null,
   "id": "505af3ad",
   "metadata": {
    "colab": {
     "base_uri": "https://localhost:8080/"
    },
    "id": "505af3ad",
    "outputId": "a925ca5d-8cef-4387-d784-f595696339ad",
    "pycharm": {
     "name": "#%%\n"
    }
   },
   "outputs": [
    {
     "name": "stdout",
     "output_type": "stream",
     "text": [
      "Iteration: 0\n",
      "Iteration: 1\n"
     ]
    }
   ],
   "source": [
    "forest_imputer = MissForest()\n",
    "train_imputed_data = forest_imputer.fit_transform(train_mod[['seller_fees', 'global_index', 'nft_id', 'rarity_score', 'openrarity_score', 'openrarity_rank', 'openrarity_max_rank', 'last_sale_price']])"
   ]
  },
  {
   "cell_type": "code",
   "execution_count": null,
   "id": "e4c0a39a",
   "metadata": {
    "colab": {
     "base_uri": "https://localhost:8080/"
    },
    "id": "e4c0a39a",
    "outputId": "454620c1-6028-4391-88b6-37f5df1065b0",
    "pycharm": {
     "name": "#%%\n"
    }
   },
   "outputs": [
    {
     "data": {
      "text/plain": [
       "seller_fees             2\n",
       "global_index           34\n",
       "nft_id                 34\n",
       "rarity_score           34\n",
       "openrarity_score        8\n",
       "openrarity_rank         8\n",
       "openrarity_max_rank     8\n",
       "dtype: int64"
      ]
     },
     "execution_count": 23,
     "metadata": {},
     "output_type": "execute_result"
    }
   ],
   "source": [
    "test_mod[['seller_fees', 'global_index', 'nft_id', 'rarity_score', 'openrarity_score', 'openrarity_rank', 'openrarity_max_rank']].isnull().sum()"
   ]
  },
  {
   "cell_type": "code",
   "execution_count": null,
   "id": "c48350f7",
   "metadata": {
    "colab": {
     "base_uri": "https://localhost:8080/"
    },
    "id": "c48350f7",
    "outputId": "562079e7-c6d3-4128-eb45-f04cbb050168",
    "pycharm": {
     "name": "#%%\n"
    }
   },
   "outputs": [
    {
     "name": "stdout",
     "output_type": "stream",
     "text": [
      "Iteration: 0\n",
      "Iteration: 1\n"
     ]
    }
   ],
   "source": [
    "forest_imputer1 = MissForest()\n",
    "test_imputed_data = forest_imputer1.fit_transform(test_mod[['seller_fees', 'global_index', 'nft_id', 'rarity_score', 'openrarity_score', 'openrarity_rank', 'openrarity_max_rank']])"
   ]
  },
  {
   "cell_type": "code",
   "execution_count": null,
   "id": "8ffae689",
   "metadata": {
    "id": "8ffae689",
    "pycharm": {
     "name": "#%%\n"
    }
   },
   "outputs": [],
   "source": [
    "# Adding imputed data to the original train dataframe\n",
    "train_mod['imputed_seller_fees'] = train_imputed_data[:,0]\n",
    "train_mod['imputed_global_index'] = train_imputed_data[:,1]\n",
    "train_mod['imputed_nft_id'] = train_imputed_data[:,2]\n",
    "train_mod['imputed_rarity_score'] = train_imputed_data[:,3]\n",
    "train_mod['imputed_openrarity_score'] = train_imputed_data[:,4]\n",
    "train_mod['imputed_openrarity_rank'] = train_imputed_data[:,5]\n",
    "train_mod['imputed_openrarity_max_rank'] = train_imputed_data[:,6]\n",
    "train_mod['imputed_last_sale_price'] = train_imputed_data[:,7]"
   ]
  },
  {
   "cell_type": "code",
   "execution_count": null,
   "id": "ece45d4c",
   "metadata": {
    "id": "ece45d4c",
    "pycharm": {
     "name": "#%%\n"
    }
   },
   "outputs": [],
   "source": [
    "# Adding imputed data to the original test dataframe\n",
    "test_mod['imputed_seller_fees'] = test_imputed_data[:,0]\n",
    "test_mod['imputed_global_index'] = test_imputed_data[:,1]\n",
    "test_mod['imputed_nft_id'] = test_imputed_data[:,2]\n",
    "test_mod['imputed_rarity_score'] = test_imputed_data[:,3]\n",
    "test_mod['imputed_openrarity_score'] = test_imputed_data[:,4]\n",
    "test_mod['imputed_openrarity_rank'] = test_imputed_data[:,5]\n",
    "test_mod['imputed_openrarity_max_rank'] = test_imputed_data[:,6]"
   ]
  },
  {
   "cell_type": "code",
   "execution_count": null,
   "id": "b57ae267",
   "metadata": {
    "id": "b57ae267",
    "pycharm": {
     "name": "#%%\n"
    }
   },
   "outputs": [],
   "source": [
    "# Saving the imputed datasets to disk\n",
    "train_mod.to_csv('imputed_train.csv', index=False)\n",
    "test_mod.to_csv('imputed_test.csv', index=False)"
   ]
  },
  {
   "cell_type": "code",
   "execution_count": null,
   "id": "2ceba504",
   "metadata": {
    "id": "2ceba504",
    "pycharm": {
     "name": "#%%\n"
    }
   },
   "outputs": [],
   "source": [
    "# Loading the train and test csv files from the disk generated from the earlier steps\n",
    "train = pd.read_csv('/content/imputed_train.csv')\n",
    "test = pd.read_csv('/content/imputed_test.csv')"
   ]
  },
  {
   "cell_type": "code",
   "execution_count": null,
   "id": "161b5fe1",
   "metadata": {
    "id": "161b5fe1",
    "pycharm": {
     "name": "#%%\n"
    }
   },
   "outputs": [],
   "source": [
    "train_mod = train.copy()\n",
    "test_mod = test.copy()"
   ]
  },
  {
   "cell_type": "code",
   "execution_count": null,
   "id": "c3091684",
   "metadata": {
    "id": "c3091684",
    "pycharm": {
     "name": "#%%\n"
    }
   },
   "outputs": [],
   "source": [
    "# Imputing the nan values in the last sale date column for train dataframe\n",
    "train_mod['last_sale_date'].fillna(method='ffill', inplace=True)\n",
    "# Impute the nan values in the last sale date column for test dataframe\n",
    "test_mod['last_sale_date'].fillna(method='bfill', inplace=True)"
   ]
  },
  {
   "cell_type": "markdown",
   "id": "d3aca8ba",
   "metadata": {
    "id": "d3aca8ba",
    "pycharm": {
     "name": "#%% md\n"
    }
   },
   "source": [
    "## Feature Engineering"
   ]
  },
  {
   "cell_type": "code",
   "execution_count": null,
   "id": "9cc17687",
   "metadata": {
    "id": "9cc17687",
    "pycharm": {
     "name": "#%%\n"
    }
   },
   "outputs": [],
   "source": [
    "# Converting last sale date column from string to datetime type in train\n",
    "train_mod['last_sale_date'] = pd.to_datetime(train_mod.last_sale_date)"
   ]
  },
  {
   "cell_type": "code",
   "execution_count": null,
   "id": "5b12ac59",
   "metadata": {
    "id": "5b12ac59",
    "pycharm": {
     "name": "#%%\n"
    }
   },
   "outputs": [],
   "source": [
    "# Segregating last sale date based on the year and month values in separate columns in train\n",
    "train_mod['last_sale_year'] = train_mod.last_sale_date.dt.year\n",
    "train_mod['last_sale_month'] = train_mod.last_sale_date.dt.month"
   ]
  },
  {
   "cell_type": "code",
   "execution_count": null,
   "id": "b894cfe2",
   "metadata": {
    "id": "b894cfe2",
    "pycharm": {
     "name": "#%%\n"
    }
   },
   "outputs": [],
   "source": [
    "# Converting last sale date column from string to datetime type in test\n",
    "test_mod['last_sale_date'] = pd.to_datetime(test_mod.last_sale_date)\n",
    "\n",
    "# Segregating last sale date based on the year and month values in separate columns in test\n",
    "test_mod['last_sale_year'] = test_mod.last_sale_date.dt.year\n",
    "test_mod['last_sale_month'] = test_mod.last_sale_date.dt.month"
   ]
  },
  {
   "cell_type": "code",
   "execution_count": null,
   "id": "37b4e3a4",
   "metadata": {
    "id": "37b4e3a4",
    "pycharm": {
     "name": "#%%\n"
    }
   },
   "outputs": [],
   "source": [
    "# Converting creation date from string type to datetime type in train\n",
    "train_mod['creation_date']  = pd.to_datetime(train_mod.creation_date)\n",
    "# Segregating creation date by year and month values in separate columns in train\n",
    "train_mod['creation_year']  = train_mod.creation_date.dt.year\n",
    "train_mod['creation_month'] = train_mod.creation_date.dt.month\n",
    "\n",
    "# Converting creation date from string type to datetime type in test\n",
    "test_mod['creation_date']  = pd.to_datetime(test_mod.creation_date)\n",
    "# Segregating creation date by year and month values in separate columns in test\n",
    "test_mod['creation_year']  = test_mod.creation_date.dt.year\n",
    "test_mod['creation_month'] = test_mod.creation_date.dt.month"
   ]
  },
  {
   "cell_type": "code",
   "execution_count": null,
   "id": "6562c82a",
   "metadata": {
    "id": "6562c82a",
    "pycharm": {
     "name": "#%%\n"
    }
   },
   "outputs": [],
   "source": [
    "# Dropping the raw columns\n",
    "train_mod.drop(['creation_date', 'verification_status', 'contract_type', 'last_sale_date', \n",
    "                'seller_fees', 'global_index','nft_id', 'rarity_score', 'openrarity_score',\n",
    "                'openrarity_rank', 'openrarity_max_rank', 'last_sale_price'], axis=1, inplace=True)\n",
    "\n",
    "test_mod.drop(['creation_date', 'verification_status', 'contract_type', 'last_sale_date', \n",
    "               'seller_fees', 'global_index','nft_id', 'rarity_score', 'openrarity_score',\n",
    "               'openrarity_rank', 'openrarity_max_rank'], axis=1, inplace=True)"
   ]
  },
  {
   "cell_type": "code",
   "execution_count": null,
   "id": "6ffd9353",
   "metadata": {
    "id": "6ffd9353",
    "pycharm": {
     "name": "#%%\n"
    }
   },
   "outputs": [],
   "source": [
    "# Saving the cleaned datasets\n",
    "train_mod.to_csv('cleaned_train.csv', index=False)\n",
    "test_mod.to_csv('cleaned_test.csv', index=False)"
   ]
  },
  {
   "cell_type": "code",
   "execution_count": null,
   "id": "2bdbc838",
   "metadata": {
    "id": "2bdbc838",
    "pycharm": {
     "name": "#%%\n"
    }
   },
   "outputs": [],
   "source": [
    "# Loading the train and test csv files from the disk generated from the earlier steps\n",
    "train_mod = pd.read_csv('/content/cleaned_train.csv')\n",
    "test_mod = pd.read_csv('/content/cleaned_test.csv')"
   ]
  },
  {
   "cell_type": "markdown",
   "id": "a418a673",
   "metadata": {
    "id": "a418a673",
    "pycharm": {
     "name": "#%% md\n"
    }
   },
   "source": [
    "## Machine Learning Modelling"
   ]
  },
  {
   "cell_type": "code",
   "execution_count": null,
   "id": "d2012213",
   "metadata": {
    "id": "d2012213",
    "pycharm": {
     "name": "#%%\n"
    }
   },
   "outputs": [],
   "source": [
    "# Dropping all the id related columns\n",
    "train_mod.drop(['collection_id', 'imputed_nft_id', 'imputed_global_index'], axis=1, inplace=True)\n",
    "test_mod.drop(['collection_id', 'imputed_nft_id', 'imputed_global_index'], axis=1, inplace=True)"
   ]
  },
  {
   "cell_type": "code",
   "execution_count": null,
   "id": "0e6a7343",
   "metadata": {
    "id": "0e6a7343",
    "pycharm": {
     "name": "#%%\n"
    }
   },
   "outputs": [],
   "source": [
    "# Setting the seed value\n",
    "np.random.seed(42)"
   ]
  },
  {
   "cell_type": "code",
   "execution_count": null,
   "id": "4cb2f403",
   "metadata": {
    "colab": {
     "base_uri": "https://localhost:8080/",
     "height": 36
    },
    "id": "4cb2f403",
    "outputId": "8c1575c0-4cff-40f1-a04c-bd90623798da",
    "pycharm": {
     "name": "#%%\n"
    }
   },
   "outputs": [
    {
     "data": {
      "application/vnd.google.colaboratory.intrinsic+json": {
       "type": "string"
      },
      "text/plain": [
       "'Shape of X_train: (247939, 29); X_val:(61985, 29); y_train:(247939,); y_val:(61985,) and test set:(181248, 29)'"
      ]
     },
     "execution_count": 7,
     "metadata": {},
     "output_type": "execute_result"
    }
   ],
   "source": [
    "# Train and Validation split\n",
    "X = train_mod.drop(['imputed_last_sale_price'], axis=1)\n",
    "y = train_mod['imputed_last_sale_price']\n",
    "X_train, X_val, y_train, y_val = train_test_split(X, y, test_size = 0.2, random_state = 42)\n",
    "f'Shape of X_train: {X_train.shape}; X_val:{X_val.shape}; y_train:{y_train.shape}; y_val:{y_val.shape} and test set:{test_mod.shape}'"
   ]
  },
  {
   "cell_type": "markdown",
   "id": "07d45b93",
   "metadata": {
    "id": "07d45b93",
    "pycharm": {
     "name": "#%% md\n"
    }
   },
   "source": [
    "### Random Forest Regressor"
   ]
  },
  {
   "cell_type": "code",
   "execution_count": null,
   "id": "cc9340e4",
   "metadata": {
    "colab": {
     "base_uri": "https://localhost:8080/"
    },
    "id": "cc9340e4",
    "outputId": "8dc81990-38a4-4f3d-a690-bc41cf719589",
    "pycharm": {
     "name": "#%%\n"
    }
   },
   "outputs": [
    {
     "name": "stdout",
     "output_type": "stream",
     "text": [
      "R2 Score: 0.4665337624484195\n",
      "Mean Squared Error: 66.2893498024957\n",
      "Mean Absolute Error: 1.2302757531524287\n",
      "Mean Absolute Percentage Error: 1.4149422560784777\n",
      "Root Mean Squared Error: 8.141827178373152\n",
      "\n",
      "Score of Random Forest Regressor is:  0.4430012364588865\n"
     ]
    }
   ],
   "source": [
    "rfr = RandomForestRegressor()\n",
    "rfr.fit(X_train, y_train)\n",
    "rfr_pred = rfr.predict(X_val)\n",
    "print(f'R2 Score: {r2_score(rfr_pred, y_val)}')\n",
    "print(f'Mean Squared Error: {mean_squared_error(rfr_pred, y_val)}')\n",
    "print(f'Mean Absolute Error: {mean_absolute_error(rfr_pred, y_val)}')\n",
    "print(f'Mean Absolute Percentage Error: {mean_absolute_percentage_error(rfr_pred, y_val)}')\n",
    "\n",
    "# Score of Random Forest Regressor\n",
    "RMSE = mean_squared_error(rfr_pred, y_val, squared=False)\n",
    "print(f'Root Mean Squared Error: {RMSE}')\n",
    "print()\n",
    "RFR_Score = np.exp(-RMSE/10)\n",
    "print('Score of Random Forest Regressor is: ', RFR_Score)"
   ]
  },
  {
   "cell_type": "markdown",
   "id": "64b9d137",
   "metadata": {
    "id": "64b9d137",
    "pycharm": {
     "name": "#%% md\n"
    }
   },
   "source": [
    "**Evaluation metric for the score will be based on RMSE. \n",
    "In particular, the formula shall be: exp( -RMSE / 10 ) where 10 is used as a normalization factor. \n",
    "The maximum score thus will be 1.0 and the minimum score will be 0.0**"
   ]
  },
  {
   "cell_type": "markdown",
   "id": "0982679d",
   "metadata": {
    "id": "0982679d",
    "pycharm": {
     "name": "#%% md\n"
    }
   },
   "source": [
    "### AdaBoost Regressor"
   ]
  },
  {
   "cell_type": "code",
   "execution_count": null,
   "id": "8a52623b",
   "metadata": {
    "colab": {
     "base_uri": "https://localhost:8080/"
    },
    "id": "8a52623b",
    "outputId": "cdb17d26-8d74-4fe8-d4df-27f510946768",
    "pycharm": {
     "name": "#%%\n"
    }
   },
   "outputs": [
    {
     "name": "stdout",
     "output_type": "stream",
     "text": [
      "R2 Score: 0.4665337624484195\n",
      "Mean Squared Error: 66.2893498024957\n",
      "Mean Absolute Error: 1.2302757531524287\n",
      "Mean Absolute Percentage Error: 1.4149422560784777\n",
      "Root Mean Squared Error: 12.199750003089646\n",
      "\n",
      "Score of Adaboost Regressor is:  0.29523754767922955\n"
     ]
    }
   ],
   "source": [
    "ada = AdaBoostRegressor()\n",
    "ada.fit(X_train, y_train)\n",
    "ada_pred = ada.predict(X_val)\n",
    "print(f'R2 Score: {r2_score(rfr_pred, y_val)}')\n",
    "print(f'Mean Squared Error: {mean_squared_error(rfr_pred, y_val)}')\n",
    "print(f'Mean Absolute Error: {mean_absolute_error(rfr_pred, y_val)}')\n",
    "print(f'Mean Absolute Percentage Error: {mean_absolute_percentage_error(rfr_pred, y_val)}')\n",
    "\n",
    "RMSE = mean_squared_error(ada_pred, y_val, squared=False)\n",
    "print(f'Root Mean Squared Error: {mean_squared_error(ada_pred, y_val, squared=False)}')\n",
    "print()\n",
    "ADA_Score = np.exp(-RMSE/10)\n",
    "print('Score of Adaboost Regressor is: ', ADA_Score)"
   ]
  },
  {
   "cell_type": "markdown",
   "id": "abb94b25",
   "metadata": {
    "id": "abb94b25",
    "pycharm": {
     "name": "#%% md\n"
    }
   },
   "source": [
    "### LightGBM Regressor"
   ]
  },
  {
   "cell_type": "code",
   "execution_count": null,
   "id": "1a700650",
   "metadata": {
    "colab": {
     "base_uri": "https://localhost:8080/"
    },
    "id": "1a700650",
    "outputId": "7bb9a173-318b-44e6-b559-9fbd6ede13e5",
    "pycharm": {
     "name": "#%%\n"
    }
   },
   "outputs": [
    {
     "name": "stdout",
     "output_type": "stream",
     "text": [
      "R2 Score: 0.5180158767881566\n",
      "Mean Squared Error: 52.420335970282885\n",
      "Mean Absolute Error: 1.1296731895857233\n",
      "Mean Absolute Percentage Error: 1.3119561769742192\n",
      "Root Mean Squared Error: 7.240188945758452\n",
      "\n",
      "Score of LightGBM Regressor is:  0.48479997559089616\n"
     ]
    }
   ],
   "source": [
    "lgbm = lightgbm.LGBMRegressor()\n",
    "lgbm.fit(X_train, y_train)\n",
    "lgbm_pred = lgbm.predict(X_val)\n",
    "print(f'R2 Score: {r2_score(lgbm_pred, y_val)}')\n",
    "print(f'Mean Squared Error: {mean_squared_error(lgbm_pred, y_val)}')\n",
    "print(f'Mean Absolute Error: {mean_absolute_error(lgbm_pred, y_val)}')\n",
    "print(f'Mean Absolute Percentage Error: {mean_absolute_percentage_error(lgbm_pred, y_val)}')\n",
    "\n",
    "RMSE = mean_squared_error(lgbm_pred, y_val, squared=False)\n",
    "print(f'Root Mean Squared Error: {mean_squared_error(lgbm_pred, y_val, squared=False)}')\n",
    "LGBM_Score = np.exp(-RMSE/10)\n",
    "print()\n",
    "print('Score of LightGBM Regressor is: ', LGBM_Score)"
   ]
  },
  {
   "cell_type": "markdown",
   "id": "c758e079",
   "metadata": {
    "id": "c758e079",
    "pycharm": {
     "name": "#%% md\n"
    }
   },
   "source": [
    "### CatBoost Regressor"
   ]
  },
  {
   "cell_type": "code",
   "execution_count": null,
   "id": "07342d41",
   "metadata": {
    "colab": {
     "base_uri": "https://localhost:8080/"
    },
    "collapsed": true,
    "id": "07342d41",
    "jupyter": {
     "outputs_hidden": true
    },
    "outputId": "7197bcf6-dfdc-4d2c-c15a-05ea8a969ffb",
    "tags": [],
    "pycharm": {
     "name": "#%%\n"
    }
   },
   "outputs": [
    {
     "name": "stdout",
     "output_type": "stream",
     "text": [
      "Learning rate set to 0.097833\n",
      "0:\tlearn: 12.0928375\ttotal: 120ms\tremaining: 1m 59s\n",
      "1:\tlearn: 11.4351995\ttotal: 203ms\tremaining: 1m 41s\n",
      "2:\tlearn: 10.8668977\ttotal: 284ms\tremaining: 1m 34s\n",
      "3:\tlearn: 10.3758379\ttotal: 360ms\tremaining: 1m 29s\n",
      "4:\tlearn: 9.9550779\ttotal: 425ms\tremaining: 1m 24s\n",
      "5:\tlearn: 9.5991206\ttotal: 468ms\tremaining: 1m 17s\n",
      "6:\tlearn: 9.2938467\ttotal: 546ms\tremaining: 1m 17s\n",
      "7:\tlearn: 9.0337516\ttotal: 615ms\tremaining: 1m 16s\n",
      "8:\tlearn: 8.8140267\ttotal: 700ms\tremaining: 1m 17s\n",
      "9:\tlearn: 8.6256358\ttotal: 778ms\tremaining: 1m 17s\n",
      "10:\tlearn: 8.4683468\ttotal: 855ms\tremaining: 1m 16s\n",
      "11:\tlearn: 8.3372892\ttotal: 927ms\tremaining: 1m 16s\n",
      "12:\tlearn: 8.2270522\ttotal: 994ms\tremaining: 1m 15s\n",
      "13:\tlearn: 8.1307424\ttotal: 1.07s\tremaining: 1m 15s\n",
      "14:\tlearn: 8.0525951\ttotal: 1.15s\tremaining: 1m 15s\n",
      "15:\tlearn: 7.9879720\ttotal: 1.23s\tremaining: 1m 15s\n",
      "16:\tlearn: 7.9347028\ttotal: 1.27s\tremaining: 1m 13s\n",
      "17:\tlearn: 7.8867800\ttotal: 1.3s\tremaining: 1m 11s\n",
      "18:\tlearn: 7.8416927\ttotal: 1.34s\tremaining: 1m 9s\n",
      "19:\tlearn: 7.8100391\ttotal: 1.38s\tremaining: 1m 7s\n",
      "20:\tlearn: 7.7771353\ttotal: 1.41s\tremaining: 1m 5s\n",
      "21:\tlearn: 7.7513058\ttotal: 1.44s\tremaining: 1m 4s\n",
      "22:\tlearn: 7.7301040\ttotal: 1.48s\tremaining: 1m 2s\n",
      "23:\tlearn: 7.7142395\ttotal: 1.51s\tremaining: 1m 1s\n",
      "24:\tlearn: 7.6945730\ttotal: 1.55s\tremaining: 1m\n",
      "25:\tlearn: 7.6780341\ttotal: 1.61s\tremaining: 1m\n",
      "26:\tlearn: 7.6580695\ttotal: 1.68s\tremaining: 1m\n",
      "27:\tlearn: 7.6439452\ttotal: 1.77s\tremaining: 1m 1s\n",
      "28:\tlearn: 7.6351270\ttotal: 1.84s\tremaining: 1m 1s\n",
      "29:\tlearn: 7.6255986\ttotal: 1.92s\tremaining: 1m 2s\n",
      "30:\tlearn: 7.6183751\ttotal: 1.99s\tremaining: 1m 2s\n",
      "31:\tlearn: 7.6118383\ttotal: 2.02s\tremaining: 1m 1s\n",
      "32:\tlearn: 7.5974859\ttotal: 2.05s\tremaining: 1m\n",
      "33:\tlearn: 7.5919616\ttotal: 2.09s\tremaining: 59.3s\n",
      "34:\tlearn: 7.5824143\ttotal: 2.12s\tremaining: 58.3s\n",
      "35:\tlearn: 7.5779428\ttotal: 2.15s\tremaining: 57.5s\n",
      "36:\tlearn: 7.5719263\ttotal: 2.18s\tremaining: 56.7s\n",
      "37:\tlearn: 7.5681795\ttotal: 2.22s\tremaining: 56.2s\n",
      "38:\tlearn: 7.5637748\ttotal: 2.25s\tremaining: 55.4s\n",
      "39:\tlearn: 7.5595682\ttotal: 2.29s\tremaining: 55s\n",
      "40:\tlearn: 7.5535981\ttotal: 2.32s\tremaining: 54.3s\n",
      "41:\tlearn: 7.5448949\ttotal: 2.35s\tremaining: 53.6s\n",
      "42:\tlearn: 7.5378350\ttotal: 2.38s\tremaining: 53s\n",
      "43:\tlearn: 7.5307237\ttotal: 2.41s\tremaining: 52.3s\n",
      "44:\tlearn: 7.5275880\ttotal: 2.44s\tremaining: 51.8s\n",
      "45:\tlearn: 7.5228515\ttotal: 2.52s\tremaining: 52.3s\n",
      "46:\tlearn: 7.5195902\ttotal: 2.59s\tremaining: 52.5s\n",
      "47:\tlearn: 7.5166722\ttotal: 2.66s\tremaining: 52.8s\n",
      "48:\tlearn: 7.5122561\ttotal: 2.7s\tremaining: 52.4s\n",
      "49:\tlearn: 7.5083496\ttotal: 2.73s\tremaining: 51.9s\n",
      "50:\tlearn: 7.4963236\ttotal: 2.77s\tremaining: 51.5s\n",
      "51:\tlearn: 7.4933399\ttotal: 2.8s\tremaining: 51s\n",
      "52:\tlearn: 7.4908380\ttotal: 2.83s\tremaining: 50.6s\n",
      "53:\tlearn: 7.4895705\ttotal: 2.87s\tremaining: 50.2s\n",
      "54:\tlearn: 7.4868288\ttotal: 2.94s\tremaining: 50.5s\n",
      "55:\tlearn: 7.4857489\ttotal: 3.01s\tremaining: 50.7s\n",
      "56:\tlearn: 7.4771135\ttotal: 3.07s\tremaining: 50.7s\n",
      "57:\tlearn: 7.4744656\ttotal: 3.1s\tremaining: 50.4s\n",
      "58:\tlearn: 7.4659101\ttotal: 3.18s\tremaining: 50.7s\n",
      "59:\tlearn: 7.4642251\ttotal: 3.25s\tremaining: 50.9s\n",
      "60:\tlearn: 7.4624109\ttotal: 3.33s\tremaining: 51.2s\n",
      "61:\tlearn: 7.4574952\ttotal: 3.4s\tremaining: 51.5s\n",
      "62:\tlearn: 7.4555973\ttotal: 3.43s\tremaining: 51.1s\n",
      "63:\tlearn: 7.4547253\ttotal: 3.46s\tremaining: 50.7s\n",
      "64:\tlearn: 7.4453411\ttotal: 3.5s\tremaining: 50.3s\n",
      "65:\tlearn: 7.4445529\ttotal: 3.53s\tremaining: 50s\n",
      "66:\tlearn: 7.4405275\ttotal: 3.56s\tremaining: 49.6s\n",
      "67:\tlearn: 7.4364142\ttotal: 3.59s\tremaining: 49.3s\n",
      "68:\tlearn: 7.4342473\ttotal: 3.63s\tremaining: 48.9s\n",
      "69:\tlearn: 7.4305084\ttotal: 3.7s\tremaining: 49.2s\n",
      "70:\tlearn: 7.4297953\ttotal: 3.76s\tremaining: 49.3s\n",
      "71:\tlearn: 7.4287054\ttotal: 3.83s\tremaining: 49.4s\n",
      "72:\tlearn: 7.4272133\ttotal: 3.91s\tremaining: 49.7s\n",
      "73:\tlearn: 7.4211000\ttotal: 4s\tremaining: 50s\n",
      "74:\tlearn: 7.4198282\ttotal: 4.08s\tremaining: 50.3s\n",
      "75:\tlearn: 7.4189260\ttotal: 4.11s\tremaining: 49.9s\n",
      "76:\tlearn: 7.4152692\ttotal: 4.14s\tremaining: 49.7s\n",
      "77:\tlearn: 7.4095891\ttotal: 4.19s\tremaining: 49.5s\n",
      "78:\tlearn: 7.4085128\ttotal: 4.23s\tremaining: 49.3s\n",
      "79:\tlearn: 7.3990544\ttotal: 4.26s\tremaining: 49s\n",
      "80:\tlearn: 7.3914172\ttotal: 4.29s\tremaining: 48.7s\n",
      "81:\tlearn: 7.3904781\ttotal: 4.33s\tremaining: 48.5s\n",
      "82:\tlearn: 7.3894827\ttotal: 4.37s\tremaining: 48.2s\n",
      "83:\tlearn: 7.3889745\ttotal: 4.39s\tremaining: 47.9s\n",
      "84:\tlearn: 7.3851480\ttotal: 4.42s\tremaining: 47.6s\n",
      "85:\tlearn: 7.3808229\ttotal: 4.46s\tremaining: 47.4s\n",
      "86:\tlearn: 7.3798421\ttotal: 4.49s\tremaining: 47.1s\n",
      "87:\tlearn: 7.3792567\ttotal: 4.53s\tremaining: 47s\n",
      "88:\tlearn: 7.3718849\ttotal: 4.6s\tremaining: 47.1s\n",
      "89:\tlearn: 7.3710869\ttotal: 4.64s\tremaining: 46.9s\n",
      "90:\tlearn: 7.3683952\ttotal: 4.71s\tremaining: 47s\n",
      "91:\tlearn: 7.3675719\ttotal: 4.76s\tremaining: 47s\n",
      "92:\tlearn: 7.3668808\ttotal: 4.8s\tremaining: 46.8s\n",
      "93:\tlearn: 7.3662786\ttotal: 4.84s\tremaining: 46.7s\n",
      "94:\tlearn: 7.3647408\ttotal: 4.88s\tremaining: 46.5s\n",
      "95:\tlearn: 7.3607495\ttotal: 4.92s\tremaining: 46.3s\n",
      "96:\tlearn: 7.3531384\ttotal: 4.95s\tremaining: 46.1s\n",
      "97:\tlearn: 7.3485078\ttotal: 5s\tremaining: 46s\n",
      "98:\tlearn: 7.3458977\ttotal: 5.03s\tremaining: 45.8s\n",
      "99:\tlearn: 7.3454641\ttotal: 5.06s\tremaining: 45.5s\n",
      "100:\tlearn: 7.3450726\ttotal: 5.09s\tremaining: 45.3s\n",
      "101:\tlearn: 7.3440932\ttotal: 5.13s\tremaining: 45.1s\n",
      "102:\tlearn: 7.3425503\ttotal: 5.17s\tremaining: 45s\n",
      "103:\tlearn: 7.3414236\ttotal: 5.2s\tremaining: 44.8s\n",
      "104:\tlearn: 7.3412147\ttotal: 5.23s\tremaining: 44.6s\n",
      "105:\tlearn: 7.3408267\ttotal: 5.3s\tremaining: 44.7s\n",
      "106:\tlearn: 7.3357553\ttotal: 5.34s\tremaining: 44.6s\n",
      "107:\tlearn: 7.3349625\ttotal: 5.41s\tremaining: 44.6s\n",
      "108:\tlearn: 7.3305138\ttotal: 5.48s\tremaining: 44.8s\n",
      "109:\tlearn: 7.3300829\ttotal: 5.56s\tremaining: 45s\n",
      "110:\tlearn: 7.3206180\ttotal: 5.67s\tremaining: 45.4s\n",
      "111:\tlearn: 7.3192002\ttotal: 5.7s\tremaining: 45.2s\n",
      "112:\tlearn: 7.3138574\ttotal: 5.73s\tremaining: 45s\n",
      "113:\tlearn: 7.3106446\ttotal: 5.77s\tremaining: 44.8s\n",
      "114:\tlearn: 7.3099744\ttotal: 5.8s\tremaining: 44.6s\n",
      "115:\tlearn: 7.3096091\ttotal: 5.85s\tremaining: 44.6s\n",
      "116:\tlearn: 7.3046053\ttotal: 5.89s\tremaining: 44.5s\n",
      "117:\tlearn: 7.3039822\ttotal: 5.92s\tremaining: 44.3s\n",
      "118:\tlearn: 7.3036876\ttotal: 5.96s\tremaining: 44.1s\n",
      "119:\tlearn: 7.3006095\ttotal: 6s\tremaining: 44s\n",
      "120:\tlearn: 7.3001848\ttotal: 6.06s\tremaining: 44s\n",
      "121:\tlearn: 7.2952189\ttotal: 6.1s\tremaining: 43.9s\n",
      "122:\tlearn: 7.2906098\ttotal: 6.13s\tremaining: 43.7s\n",
      "123:\tlearn: 7.2831729\ttotal: 6.17s\tremaining: 43.6s\n",
      "124:\tlearn: 7.2827191\ttotal: 6.2s\tremaining: 43.4s\n",
      "125:\tlearn: 7.2811257\ttotal: 6.23s\tremaining: 43.2s\n",
      "126:\tlearn: 7.2794458\ttotal: 6.26s\tremaining: 43.1s\n",
      "127:\tlearn: 7.2773317\ttotal: 6.34s\tremaining: 43.2s\n",
      "128:\tlearn: 7.2738358\ttotal: 6.37s\tremaining: 43s\n",
      "129:\tlearn: 7.2732441\ttotal: 6.41s\tremaining: 42.9s\n",
      "130:\tlearn: 7.2701244\ttotal: 6.44s\tremaining: 42.7s\n",
      "131:\tlearn: 7.2698632\ttotal: 6.5s\tremaining: 42.7s\n",
      "132:\tlearn: 7.2695337\ttotal: 6.56s\tremaining: 42.7s\n",
      "133:\tlearn: 7.2690643\ttotal: 6.66s\tremaining: 43s\n",
      "134:\tlearn: 7.2687890\ttotal: 6.74s\tremaining: 43.2s\n",
      "135:\tlearn: 7.2679173\ttotal: 6.83s\tremaining: 43.4s\n",
      "136:\tlearn: 7.2663858\ttotal: 6.92s\tremaining: 43.6s\n",
      "137:\tlearn: 7.2622612\ttotal: 7.05s\tremaining: 44s\n",
      "138:\tlearn: 7.2607638\ttotal: 7.17s\tremaining: 44.4s\n",
      "139:\tlearn: 7.2599777\ttotal: 7.24s\tremaining: 44.5s\n",
      "140:\tlearn: 7.2576887\ttotal: 7.33s\tremaining: 44.6s\n",
      "141:\tlearn: 7.2552915\ttotal: 7.39s\tremaining: 44.7s\n",
      "142:\tlearn: 7.2546304\ttotal: 7.46s\tremaining: 44.7s\n",
      "143:\tlearn: 7.2543463\ttotal: 7.52s\tremaining: 44.7s\n",
      "144:\tlearn: 7.2538239\ttotal: 7.61s\tremaining: 44.9s\n",
      "145:\tlearn: 7.2534235\ttotal: 7.72s\tremaining: 45.2s\n",
      "146:\tlearn: 7.2515370\ttotal: 7.85s\tremaining: 45.6s\n",
      "147:\tlearn: 7.2487640\ttotal: 7.96s\tremaining: 45.8s\n",
      "148:\tlearn: 7.2485202\ttotal: 8.12s\tremaining: 46.3s\n",
      "149:\tlearn: 7.2483028\ttotal: 8.21s\tremaining: 46.6s\n",
      "150:\tlearn: 7.2479031\ttotal: 8.38s\tremaining: 47.1s\n",
      "151:\tlearn: 7.2472159\ttotal: 8.52s\tremaining: 47.5s\n",
      "152:\tlearn: 7.2454259\ttotal: 8.63s\tremaining: 47.8s\n",
      "153:\tlearn: 7.2450939\ttotal: 8.77s\tremaining: 48.2s\n",
      "154:\tlearn: 7.2444622\ttotal: 8.89s\tremaining: 48.5s\n",
      "155:\tlearn: 7.2400756\ttotal: 9.05s\tremaining: 49s\n",
      "156:\tlearn: 7.2381906\ttotal: 9.17s\tremaining: 49.2s\n",
      "157:\tlearn: 7.2375875\ttotal: 9.24s\tremaining: 49.2s\n",
      "158:\tlearn: 7.2369892\ttotal: 9.3s\tremaining: 49.2s\n",
      "159:\tlearn: 7.2367775\ttotal: 9.37s\tremaining: 49.2s\n",
      "160:\tlearn: 7.2366800\ttotal: 9.43s\tremaining: 49.2s\n",
      "161:\tlearn: 7.2349276\ttotal: 9.52s\tremaining: 49.2s\n",
      "162:\tlearn: 7.2343961\ttotal: 9.6s\tremaining: 49.3s\n",
      "163:\tlearn: 7.2328777\ttotal: 9.68s\tremaining: 49.3s\n",
      "164:\tlearn: 7.2316713\ttotal: 9.74s\tremaining: 49.3s\n",
      "165:\tlearn: 7.2271884\ttotal: 9.83s\tremaining: 49.4s\n",
      "166:\tlearn: 7.2202707\ttotal: 9.93s\tremaining: 49.5s\n",
      "167:\tlearn: 7.2178684\ttotal: 10s\tremaining: 49.8s\n",
      "168:\tlearn: 7.2174820\ttotal: 10.2s\tremaining: 50s\n",
      "169:\tlearn: 7.2172963\ttotal: 10.2s\tremaining: 49.9s\n",
      "170:\tlearn: 7.2158984\ttotal: 10.3s\tremaining: 50.1s\n",
      "171:\tlearn: 7.2156222\ttotal: 10.4s\tremaining: 50.1s\n",
      "172:\tlearn: 7.2145900\ttotal: 10.5s\tremaining: 50s\n",
      "173:\tlearn: 7.2139976\ttotal: 10.6s\tremaining: 50.1s\n",
      "174:\tlearn: 7.2115220\ttotal: 10.6s\tremaining: 50.2s\n",
      "175:\tlearn: 7.2089828\ttotal: 10.7s\tremaining: 50.3s\n",
      "176:\tlearn: 7.2080227\ttotal: 10.8s\tremaining: 50.3s\n",
      "177:\tlearn: 7.2055875\ttotal: 10.9s\tremaining: 50.3s\n",
      "178:\tlearn: 7.2055627\ttotal: 11s\tremaining: 50.3s\n",
      "179:\tlearn: 7.2054423\ttotal: 11s\tremaining: 50.2s\n",
      "180:\tlearn: 7.2052337\ttotal: 11.1s\tremaining: 50.4s\n",
      "181:\tlearn: 7.2051798\ttotal: 11.2s\tremaining: 50.5s\n",
      "182:\tlearn: 7.2036730\ttotal: 11.4s\tremaining: 50.7s\n",
      "183:\tlearn: 7.2027159\ttotal: 11.4s\tremaining: 50.7s\n",
      "184:\tlearn: 7.2025187\ttotal: 11.5s\tremaining: 50.7s\n",
      "185:\tlearn: 7.2008485\ttotal: 11.5s\tremaining: 50.5s\n",
      "186:\tlearn: 7.1999510\ttotal: 11.6s\tremaining: 50.3s\n",
      "187:\tlearn: 7.1997625\ttotal: 11.6s\tremaining: 50.1s\n",
      "188:\tlearn: 7.1988673\ttotal: 11.6s\tremaining: 49.9s\n",
      "189:\tlearn: 7.1978843\ttotal: 11.7s\tremaining: 49.7s\n",
      "190:\tlearn: 7.1962456\ttotal: 11.7s\tremaining: 49.5s\n",
      "191:\tlearn: 7.1962008\ttotal: 11.7s\tremaining: 49.3s\n",
      "192:\tlearn: 7.1916319\ttotal: 11.8s\tremaining: 49.2s\n",
      "193:\tlearn: 7.1895046\ttotal: 11.8s\tremaining: 49.2s\n",
      "194:\tlearn: 7.1886072\ttotal: 11.9s\tremaining: 49.2s\n",
      "195:\tlearn: 7.1849946\ttotal: 12s\tremaining: 49.2s\n",
      "196:\tlearn: 7.1844617\ttotal: 12.1s\tremaining: 49.2s\n",
      "197:\tlearn: 7.1829904\ttotal: 12.1s\tremaining: 49.2s\n",
      "198:\tlearn: 7.1828109\ttotal: 12.2s\tremaining: 49.2s\n",
      "199:\tlearn: 7.1806855\ttotal: 12.3s\tremaining: 49.2s\n",
      "200:\tlearn: 7.1805152\ttotal: 12.4s\tremaining: 49.1s\n",
      "201:\tlearn: 7.1800321\ttotal: 12.4s\tremaining: 48.9s\n",
      "202:\tlearn: 7.1758129\ttotal: 12.4s\tremaining: 48.7s\n",
      "203:\tlearn: 7.1753529\ttotal: 12.5s\tremaining: 48.6s\n",
      "204:\tlearn: 7.1748556\ttotal: 12.5s\tremaining: 48.4s\n",
      "205:\tlearn: 7.1742578\ttotal: 12.5s\tremaining: 48.3s\n",
      "206:\tlearn: 7.1741696\ttotal: 12.6s\tremaining: 48.1s\n",
      "207:\tlearn: 7.1740253\ttotal: 12.6s\tremaining: 48s\n",
      "208:\tlearn: 7.1734641\ttotal: 12.6s\tremaining: 47.8s\n",
      "209:\tlearn: 7.1731224\ttotal: 12.7s\tremaining: 47.6s\n",
      "210:\tlearn: 7.1730366\ttotal: 12.7s\tremaining: 47.5s\n",
      "211:\tlearn: 7.1697332\ttotal: 12.7s\tremaining: 47.4s\n",
      "212:\tlearn: 7.1692063\ttotal: 12.8s\tremaining: 47.2s\n",
      "213:\tlearn: 7.1676507\ttotal: 12.8s\tremaining: 47.2s\n",
      "214:\tlearn: 7.1665558\ttotal: 12.9s\tremaining: 47.1s\n",
      "215:\tlearn: 7.1656191\ttotal: 13s\tremaining: 47.1s\n",
      "216:\tlearn: 7.1649137\ttotal: 13s\tremaining: 47s\n",
      "217:\tlearn: 7.1640207\ttotal: 13.1s\tremaining: 46.9s\n",
      "218:\tlearn: 7.1621218\ttotal: 13.1s\tremaining: 46.8s\n",
      "219:\tlearn: 7.1612829\ttotal: 13.2s\tremaining: 46.8s\n",
      "220:\tlearn: 7.1609344\ttotal: 13.3s\tremaining: 46.8s\n",
      "221:\tlearn: 7.1608181\ttotal: 13.3s\tremaining: 46.7s\n",
      "222:\tlearn: 7.1606340\ttotal: 13.4s\tremaining: 46.6s\n",
      "223:\tlearn: 7.1600492\ttotal: 13.4s\tremaining: 46.5s\n",
      "224:\tlearn: 7.1524291\ttotal: 13.5s\tremaining: 46.4s\n",
      "225:\tlearn: 7.1518182\ttotal: 13.6s\tremaining: 46.4s\n",
      "226:\tlearn: 7.1512719\ttotal: 13.6s\tremaining: 46.3s\n",
      "227:\tlearn: 7.1482430\ttotal: 13.7s\tremaining: 46.3s\n",
      "228:\tlearn: 7.1454459\ttotal: 13.8s\tremaining: 46.3s\n",
      "229:\tlearn: 7.1387184\ttotal: 13.8s\tremaining: 46.3s\n",
      "230:\tlearn: 7.1382111\ttotal: 13.8s\tremaining: 46.1s\n",
      "231:\tlearn: 7.1381511\ttotal: 13.9s\tremaining: 46s\n",
      "232:\tlearn: 7.1351990\ttotal: 14s\tremaining: 46s\n",
      "233:\tlearn: 7.1347141\ttotal: 14s\tremaining: 46s\n",
      "234:\tlearn: 7.1286716\ttotal: 14.1s\tremaining: 46s\n",
      "235:\tlearn: 7.1278577\ttotal: 14.2s\tremaining: 45.9s\n",
      "236:\tlearn: 7.1231607\ttotal: 14.3s\tremaining: 45.9s\n",
      "237:\tlearn: 7.1210182\ttotal: 14.3s\tremaining: 45.9s\n",
      "238:\tlearn: 7.1209074\ttotal: 14.4s\tremaining: 45.9s\n",
      "239:\tlearn: 7.1204313\ttotal: 14.5s\tremaining: 45.9s\n",
      "240:\tlearn: 7.1192309\ttotal: 14.6s\tremaining: 45.9s\n",
      "241:\tlearn: 7.1162346\ttotal: 14.7s\tremaining: 45.9s\n",
      "242:\tlearn: 7.1157833\ttotal: 14.7s\tremaining: 45.9s\n",
      "243:\tlearn: 7.1156789\ttotal: 14.8s\tremaining: 45.9s\n",
      "244:\tlearn: 7.1129955\ttotal: 14.9s\tremaining: 45.9s\n",
      "245:\tlearn: 7.1125785\ttotal: 15s\tremaining: 45.9s\n",
      "246:\tlearn: 7.1121738\ttotal: 15.1s\tremaining: 45.9s\n",
      "247:\tlearn: 7.1120267\ttotal: 15.1s\tremaining: 45.8s\n",
      "248:\tlearn: 7.1116996\ttotal: 15.2s\tremaining: 45.8s\n",
      "249:\tlearn: 7.1065377\ttotal: 15.3s\tremaining: 45.8s\n",
      "250:\tlearn: 7.1053640\ttotal: 15.4s\tremaining: 45.8s\n",
      "251:\tlearn: 7.1001121\ttotal: 15.4s\tremaining: 45.7s\n",
      "252:\tlearn: 7.0994685\ttotal: 15.5s\tremaining: 45.7s\n",
      "253:\tlearn: 7.0950371\ttotal: 15.5s\tremaining: 45.6s\n",
      "254:\tlearn: 7.0940833\ttotal: 15.6s\tremaining: 45.6s\n",
      "255:\tlearn: 7.0933719\ttotal: 15.7s\tremaining: 45.6s\n",
      "256:\tlearn: 7.0933321\ttotal: 15.7s\tremaining: 45.5s\n",
      "257:\tlearn: 7.0929120\ttotal: 15.8s\tremaining: 45.5s\n",
      "258:\tlearn: 7.0923148\ttotal: 15.9s\tremaining: 45.4s\n",
      "259:\tlearn: 7.0915282\ttotal: 15.9s\tremaining: 45.3s\n",
      "260:\tlearn: 7.0907576\ttotal: 15.9s\tremaining: 45.1s\n",
      "261:\tlearn: 7.0902954\ttotal: 16s\tremaining: 45s\n",
      "262:\tlearn: 7.0902599\ttotal: 16s\tremaining: 44.9s\n",
      "263:\tlearn: 7.0859677\ttotal: 16s\tremaining: 44.7s\n",
      "264:\tlearn: 7.0856561\ttotal: 16.1s\tremaining: 44.6s\n",
      "265:\tlearn: 7.0850783\ttotal: 16.1s\tremaining: 44.5s\n",
      "266:\tlearn: 7.0842459\ttotal: 16.1s\tremaining: 44.3s\n",
      "267:\tlearn: 7.0824127\ttotal: 16.2s\tremaining: 44.2s\n",
      "268:\tlearn: 7.0820300\ttotal: 16.2s\tremaining: 44s\n",
      "269:\tlearn: 7.0794410\ttotal: 16.2s\tremaining: 43.9s\n",
      "270:\tlearn: 7.0794404\ttotal: 16.3s\tremaining: 43.8s\n",
      "271:\tlearn: 7.0793357\ttotal: 16.3s\tremaining: 43.7s\n",
      "272:\tlearn: 7.0785809\ttotal: 16.4s\tremaining: 43.7s\n",
      "273:\tlearn: 7.0785802\ttotal: 16.4s\tremaining: 43.6s\n",
      "274:\tlearn: 7.0753664\ttotal: 16.5s\tremaining: 43.6s\n",
      "275:\tlearn: 7.0745108\ttotal: 16.6s\tremaining: 43.5s\n",
      "276:\tlearn: 7.0725250\ttotal: 16.7s\tremaining: 43.5s\n",
      "277:\tlearn: 7.0691066\ttotal: 16.8s\tremaining: 43.5s\n",
      "278:\tlearn: 7.0676541\ttotal: 16.8s\tremaining: 43.5s\n",
      "279:\tlearn: 7.0672488\ttotal: 16.9s\tremaining: 43.5s\n",
      "280:\tlearn: 7.0630765\ttotal: 17s\tremaining: 43.4s\n",
      "281:\tlearn: 7.0617729\ttotal: 17s\tremaining: 43.4s\n",
      "282:\tlearn: 7.0607328\ttotal: 17.1s\tremaining: 43.2s\n",
      "283:\tlearn: 7.0606387\ttotal: 17.1s\tremaining: 43.1s\n",
      "284:\tlearn: 7.0595117\ttotal: 17.1s\tremaining: 43s\n",
      "285:\tlearn: 7.0593882\ttotal: 17.2s\tremaining: 42.9s\n",
      "286:\tlearn: 7.0561651\ttotal: 17.2s\tremaining: 42.7s\n",
      "287:\tlearn: 7.0542888\ttotal: 17.2s\tremaining: 42.6s\n",
      "288:\tlearn: 7.0537057\ttotal: 17.3s\tremaining: 42.5s\n",
      "289:\tlearn: 7.0525343\ttotal: 17.3s\tremaining: 42.4s\n",
      "290:\tlearn: 7.0508811\ttotal: 17.4s\tremaining: 42.3s\n",
      "291:\tlearn: 7.0508805\ttotal: 17.4s\tremaining: 42.1s\n",
      "292:\tlearn: 7.0507923\ttotal: 17.4s\tremaining: 42s\n",
      "293:\tlearn: 7.0505281\ttotal: 17.4s\tremaining: 41.9s\n",
      "294:\tlearn: 7.0501355\ttotal: 17.5s\tremaining: 41.7s\n",
      "295:\tlearn: 7.0497855\ttotal: 17.5s\tremaining: 41.6s\n",
      "296:\tlearn: 7.0497849\ttotal: 17.5s\tremaining: 41.5s\n",
      "297:\tlearn: 7.0497798\ttotal: 17.5s\tremaining: 41.3s\n",
      "298:\tlearn: 7.0478027\ttotal: 17.6s\tremaining: 41.2s\n",
      "299:\tlearn: 7.0477269\ttotal: 17.6s\tremaining: 41.1s\n",
      "300:\tlearn: 7.0474922\ttotal: 17.7s\tremaining: 41s\n",
      "301:\tlearn: 7.0474917\ttotal: 17.7s\tremaining: 40.9s\n",
      "302:\tlearn: 7.0471113\ttotal: 17.7s\tremaining: 40.7s\n",
      "303:\tlearn: 7.0466515\ttotal: 17.8s\tremaining: 40.7s\n",
      "304:\tlearn: 7.0466510\ttotal: 17.8s\tremaining: 40.6s\n",
      "305:\tlearn: 7.0465063\ttotal: 17.9s\tremaining: 40.5s\n",
      "306:\tlearn: 7.0459382\ttotal: 17.9s\tremaining: 40.4s\n",
      "307:\tlearn: 7.0454774\ttotal: 17.9s\tremaining: 40.3s\n",
      "308:\tlearn: 7.0451762\ttotal: 18s\tremaining: 40.2s\n",
      "309:\tlearn: 7.0432330\ttotal: 18s\tremaining: 40.1s\n",
      "310:\tlearn: 7.0432325\ttotal: 18s\tremaining: 39.9s\n",
      "311:\tlearn: 7.0395587\ttotal: 18.1s\tremaining: 39.8s\n",
      "312:\tlearn: 7.0393397\ttotal: 18.1s\tremaining: 39.8s\n",
      "313:\tlearn: 7.0389582\ttotal: 18.2s\tremaining: 39.8s\n",
      "314:\tlearn: 7.0379142\ttotal: 18.2s\tremaining: 39.6s\n",
      "315:\tlearn: 7.0373564\ttotal: 18.3s\tremaining: 39.6s\n",
      "316:\tlearn: 7.0329592\ttotal: 18.3s\tremaining: 39.4s\n",
      "317:\tlearn: 7.0321311\ttotal: 18.3s\tremaining: 39.3s\n",
      "318:\tlearn: 7.0315469\ttotal: 18.4s\tremaining: 39.2s\n",
      "319:\tlearn: 7.0309513\ttotal: 18.4s\tremaining: 39.1s\n",
      "320:\tlearn: 7.0264580\ttotal: 18.5s\tremaining: 39.1s\n",
      "321:\tlearn: 7.0247811\ttotal: 18.6s\tremaining: 39.1s\n",
      "322:\tlearn: 7.0247158\ttotal: 18.6s\tremaining: 39.1s\n",
      "323:\tlearn: 7.0236721\ttotal: 18.7s\tremaining: 39s\n",
      "324:\tlearn: 7.0234097\ttotal: 18.8s\tremaining: 39s\n",
      "325:\tlearn: 7.0230753\ttotal: 18.8s\tremaining: 38.9s\n",
      "326:\tlearn: 7.0230011\ttotal: 18.9s\tremaining: 38.8s\n",
      "327:\tlearn: 7.0226195\ttotal: 18.9s\tremaining: 38.8s\n",
      "328:\tlearn: 7.0218163\ttotal: 19s\tremaining: 38.8s\n",
      "329:\tlearn: 7.0213997\ttotal: 19.1s\tremaining: 38.8s\n",
      "330:\tlearn: 7.0208682\ttotal: 19.2s\tremaining: 38.8s\n",
      "331:\tlearn: 7.0205149\ttotal: 19.3s\tremaining: 38.8s\n",
      "332:\tlearn: 7.0200923\ttotal: 19.3s\tremaining: 38.7s\n",
      "333:\tlearn: 7.0198067\ttotal: 19.4s\tremaining: 38.6s\n",
      "334:\tlearn: 7.0196827\ttotal: 19.4s\tremaining: 38.5s\n",
      "335:\tlearn: 7.0170191\ttotal: 19.4s\tremaining: 38.4s\n",
      "336:\tlearn: 7.0147143\ttotal: 19.4s\tremaining: 38.3s\n",
      "337:\tlearn: 7.0118950\ttotal: 19.5s\tremaining: 38.1s\n",
      "338:\tlearn: 7.0111843\ttotal: 19.5s\tremaining: 38.1s\n",
      "339:\tlearn: 7.0106986\ttotal: 19.6s\tremaining: 38.1s\n",
      "340:\tlearn: 7.0100712\ttotal: 19.7s\tremaining: 38.1s\n",
      "341:\tlearn: 7.0095729\ttotal: 19.8s\tremaining: 38.1s\n",
      "342:\tlearn: 7.0075534\ttotal: 19.9s\tremaining: 38.1s\n",
      "343:\tlearn: 7.0065912\ttotal: 20s\tremaining: 38.1s\n",
      "344:\tlearn: 7.0060351\ttotal: 20.1s\tremaining: 38.1s\n",
      "345:\tlearn: 7.0058127\ttotal: 20.1s\tremaining: 38.1s\n",
      "346:\tlearn: 7.0037956\ttotal: 20.2s\tremaining: 38.1s\n",
      "347:\tlearn: 7.0035569\ttotal: 20.3s\tremaining: 38.1s\n",
      "348:\tlearn: 7.0032799\ttotal: 20.4s\tremaining: 38.1s\n",
      "349:\tlearn: 7.0028019\ttotal: 20.5s\tremaining: 38s\n",
      "350:\tlearn: 6.9994955\ttotal: 20.6s\tremaining: 38s\n",
      "351:\tlearn: 6.9984075\ttotal: 20.6s\tremaining: 38s\n",
      "352:\tlearn: 6.9983455\ttotal: 20.7s\tremaining: 38s\n",
      "353:\tlearn: 6.9974759\ttotal: 20.8s\tremaining: 38s\n",
      "354:\tlearn: 6.9971826\ttotal: 20.9s\tremaining: 37.9s\n",
      "355:\tlearn: 6.9966557\ttotal: 21s\tremaining: 37.9s\n",
      "356:\tlearn: 6.9963648\ttotal: 21s\tremaining: 37.8s\n",
      "357:\tlearn: 6.9937772\ttotal: 21.1s\tremaining: 37.8s\n",
      "358:\tlearn: 6.9935576\ttotal: 21.2s\tremaining: 37.8s\n",
      "359:\tlearn: 6.9935002\ttotal: 21.2s\tremaining: 37.8s\n",
      "360:\tlearn: 6.9930912\ttotal: 21.3s\tremaining: 37.7s\n",
      "361:\tlearn: 6.9915637\ttotal: 21.4s\tremaining: 37.7s\n",
      "362:\tlearn: 6.9902880\ttotal: 21.5s\tremaining: 37.7s\n",
      "363:\tlearn: 6.9901012\ttotal: 21.6s\tremaining: 37.7s\n",
      "364:\tlearn: 6.9885547\ttotal: 21.7s\tremaining: 37.7s\n",
      "365:\tlearn: 6.9847318\ttotal: 21.8s\tremaining: 37.7s\n",
      "366:\tlearn: 6.9816907\ttotal: 21.9s\tremaining: 37.7s\n",
      "367:\tlearn: 6.9810701\ttotal: 22s\tremaining: 37.8s\n",
      "368:\tlearn: 6.9804979\ttotal: 22.1s\tremaining: 37.8s\n",
      "369:\tlearn: 6.9803433\ttotal: 22.2s\tremaining: 37.8s\n",
      "370:\tlearn: 6.9802928\ttotal: 22.3s\tremaining: 37.8s\n",
      "371:\tlearn: 6.9800395\ttotal: 22.4s\tremaining: 37.8s\n",
      "372:\tlearn: 6.9797292\ttotal: 22.5s\tremaining: 37.8s\n",
      "373:\tlearn: 6.9783653\ttotal: 22.6s\tremaining: 37.8s\n",
      "374:\tlearn: 6.9781669\ttotal: 22.7s\tremaining: 37.8s\n",
      "375:\tlearn: 6.9755418\ttotal: 22.8s\tremaining: 37.9s\n",
      "376:\tlearn: 6.9751999\ttotal: 22.9s\tremaining: 37.9s\n",
      "377:\tlearn: 6.9751873\ttotal: 23s\tremaining: 37.8s\n",
      "378:\tlearn: 6.9746764\ttotal: 23.1s\tremaining: 37.8s\n",
      "379:\tlearn: 6.9726649\ttotal: 23.1s\tremaining: 37.8s\n",
      "380:\tlearn: 6.9713839\ttotal: 23.2s\tremaining: 37.8s\n",
      "381:\tlearn: 6.9711952\ttotal: 23.3s\tremaining: 37.7s\n",
      "382:\tlearn: 6.9683424\ttotal: 23.4s\tremaining: 37.7s\n",
      "383:\tlearn: 6.9682404\ttotal: 23.5s\tremaining: 37.7s\n",
      "384:\tlearn: 6.9679363\ttotal: 23.6s\tremaining: 37.6s\n",
      "385:\tlearn: 6.9675263\ttotal: 23.7s\tremaining: 37.6s\n",
      "386:\tlearn: 6.9672545\ttotal: 23.7s\tremaining: 37.6s\n",
      "387:\tlearn: 6.9669951\ttotal: 23.8s\tremaining: 37.6s\n",
      "388:\tlearn: 6.9641340\ttotal: 23.9s\tremaining: 37.6s\n",
      "389:\tlearn: 6.9620102\ttotal: 24s\tremaining: 37.5s\n",
      "390:\tlearn: 6.9619611\ttotal: 24.1s\tremaining: 37.5s\n",
      "391:\tlearn: 6.9615554\ttotal: 24.2s\tremaining: 37.5s\n",
      "392:\tlearn: 6.9607544\ttotal: 24.3s\tremaining: 37.5s\n",
      "393:\tlearn: 6.9607541\ttotal: 24.3s\tremaining: 37.4s\n",
      "394:\tlearn: 6.9607516\ttotal: 24.4s\tremaining: 37.3s\n",
      "395:\tlearn: 6.9604845\ttotal: 24.5s\tremaining: 37.3s\n",
      "396:\tlearn: 6.9578689\ttotal: 24.5s\tremaining: 37.3s\n",
      "397:\tlearn: 6.9554041\ttotal: 24.6s\tremaining: 37.3s\n",
      "398:\tlearn: 6.9530385\ttotal: 24.7s\tremaining: 37.2s\n",
      "399:\tlearn: 6.9524287\ttotal: 24.8s\tremaining: 37.2s\n",
      "400:\tlearn: 6.9506368\ttotal: 24.8s\tremaining: 37.1s\n",
      "401:\tlearn: 6.9479245\ttotal: 24.9s\tremaining: 37.1s\n",
      "402:\tlearn: 6.9476704\ttotal: 25s\tremaining: 37.1s\n",
      "403:\tlearn: 6.9473492\ttotal: 25.1s\tremaining: 37s\n",
      "404:\tlearn: 6.9471038\ttotal: 25.2s\tremaining: 37s\n",
      "405:\tlearn: 6.9449375\ttotal: 25.2s\tremaining: 36.9s\n",
      "406:\tlearn: 6.9436796\ttotal: 25.3s\tremaining: 36.9s\n",
      "407:\tlearn: 6.9413542\ttotal: 25.4s\tremaining: 36.9s\n",
      "408:\tlearn: 6.9409956\ttotal: 25.5s\tremaining: 36.9s\n",
      "409:\tlearn: 6.9405606\ttotal: 25.6s\tremaining: 36.8s\n",
      "410:\tlearn: 6.9400617\ttotal: 25.7s\tremaining: 36.8s\n",
      "411:\tlearn: 6.9387937\ttotal: 25.7s\tremaining: 36.7s\n",
      "412:\tlearn: 6.9384632\ttotal: 25.8s\tremaining: 36.7s\n",
      "413:\tlearn: 6.9383020\ttotal: 25.9s\tremaining: 36.7s\n",
      "414:\tlearn: 6.9376264\ttotal: 26s\tremaining: 36.7s\n",
      "415:\tlearn: 6.9375824\ttotal: 26.1s\tremaining: 36.6s\n",
      "416:\tlearn: 6.9373829\ttotal: 26.2s\tremaining: 36.6s\n",
      "417:\tlearn: 6.9370847\ttotal: 26.3s\tremaining: 36.6s\n",
      "418:\tlearn: 6.9369459\ttotal: 26.3s\tremaining: 36.5s\n",
      "419:\tlearn: 6.9367539\ttotal: 26.4s\tremaining: 36.5s\n",
      "420:\tlearn: 6.9365606\ttotal: 26.5s\tremaining: 36.5s\n",
      "421:\tlearn: 6.9360143\ttotal: 26.6s\tremaining: 36.4s\n",
      "422:\tlearn: 6.9335335\ttotal: 26.7s\tremaining: 36.4s\n",
      "423:\tlearn: 6.9309405\ttotal: 26.7s\tremaining: 36.3s\n",
      "424:\tlearn: 6.9306650\ttotal: 26.8s\tremaining: 36.3s\n",
      "425:\tlearn: 6.9303334\ttotal: 26.9s\tremaining: 36.2s\n",
      "426:\tlearn: 6.9294253\ttotal: 26.9s\tremaining: 36.1s\n",
      "427:\tlearn: 6.9293691\ttotal: 27s\tremaining: 36.1s\n",
      "428:\tlearn: 6.9291877\ttotal: 27.1s\tremaining: 36s\n",
      "429:\tlearn: 6.9290100\ttotal: 27.1s\tremaining: 35.9s\n",
      "430:\tlearn: 6.9287878\ttotal: 27.1s\tremaining: 35.8s\n",
      "431:\tlearn: 6.9267162\ttotal: 27.2s\tremaining: 35.7s\n",
      "432:\tlearn: 6.9261247\ttotal: 27.2s\tremaining: 35.6s\n",
      "433:\tlearn: 6.9259023\ttotal: 27.2s\tremaining: 35.5s\n",
      "434:\tlearn: 6.9247166\ttotal: 27.3s\tremaining: 35.4s\n",
      "435:\tlearn: 6.9243229\ttotal: 27.3s\tremaining: 35.3s\n",
      "436:\tlearn: 6.9240817\ttotal: 27.3s\tremaining: 35.2s\n",
      "437:\tlearn: 6.9237423\ttotal: 27.4s\tremaining: 35.1s\n",
      "438:\tlearn: 6.9223860\ttotal: 27.4s\tremaining: 35s\n",
      "439:\tlearn: 6.9219822\ttotal: 27.4s\tremaining: 34.9s\n",
      "440:\tlearn: 6.9201395\ttotal: 27.5s\tremaining: 34.8s\n",
      "441:\tlearn: 6.9198191\ttotal: 27.5s\tremaining: 34.7s\n",
      "442:\tlearn: 6.9195226\ttotal: 27.5s\tremaining: 34.6s\n",
      "443:\tlearn: 6.9193352\ttotal: 27.6s\tremaining: 34.5s\n",
      "444:\tlearn: 6.9190790\ttotal: 27.6s\tremaining: 34.4s\n",
      "445:\tlearn: 6.9189584\ttotal: 27.6s\tremaining: 34.3s\n",
      "446:\tlearn: 6.9189234\ttotal: 27.7s\tremaining: 34.2s\n",
      "447:\tlearn: 6.9186437\ttotal: 27.7s\tremaining: 34.2s\n",
      "448:\tlearn: 6.9186164\ttotal: 27.8s\tremaining: 34.1s\n",
      "449:\tlearn: 6.9183785\ttotal: 27.8s\tremaining: 34s\n",
      "450:\tlearn: 6.9182714\ttotal: 27.8s\tremaining: 33.9s\n",
      "451:\tlearn: 6.9181461\ttotal: 27.8s\tremaining: 33.8s\n",
      "452:\tlearn: 6.9175095\ttotal: 27.9s\tremaining: 33.7s\n",
      "453:\tlearn: 6.9172317\ttotal: 27.9s\tremaining: 33.6s\n",
      "454:\tlearn: 6.9151978\ttotal: 28s\tremaining: 33.5s\n",
      "455:\tlearn: 6.9148902\ttotal: 28s\tremaining: 33.4s\n",
      "456:\tlearn: 6.9135484\ttotal: 28s\tremaining: 33.3s\n",
      "457:\tlearn: 6.9133272\ttotal: 28.1s\tremaining: 33.2s\n",
      "458:\tlearn: 6.9127488\ttotal: 28.1s\tremaining: 33.1s\n",
      "459:\tlearn: 6.9117912\ttotal: 28.1s\tremaining: 33s\n",
      "460:\tlearn: 6.9116728\ttotal: 28.2s\tremaining: 32.9s\n",
      "461:\tlearn: 6.9113402\ttotal: 28.2s\tremaining: 32.8s\n",
      "462:\tlearn: 6.9078290\ttotal: 28.2s\tremaining: 32.7s\n",
      "463:\tlearn: 6.9076313\ttotal: 28.3s\tremaining: 32.7s\n",
      "464:\tlearn: 6.9074188\ttotal: 28.3s\tremaining: 32.6s\n",
      "465:\tlearn: 6.9072077\ttotal: 28.3s\tremaining: 32.5s\n",
      "466:\tlearn: 6.9070387\ttotal: 28.4s\tremaining: 32.4s\n",
      "467:\tlearn: 6.9066175\ttotal: 28.4s\tremaining: 32.3s\n",
      "468:\tlearn: 6.9049159\ttotal: 28.4s\tremaining: 32.2s\n",
      "469:\tlearn: 6.9038109\ttotal: 28.5s\tremaining: 32.1s\n",
      "470:\tlearn: 6.9027057\ttotal: 28.5s\tremaining: 32s\n",
      "471:\tlearn: 6.9025666\ttotal: 28.5s\tremaining: 31.9s\n",
      "472:\tlearn: 6.9023898\ttotal: 28.6s\tremaining: 31.8s\n",
      "473:\tlearn: 6.9022038\ttotal: 28.6s\tremaining: 31.7s\n",
      "474:\tlearn: 6.9020526\ttotal: 28.6s\tremaining: 31.7s\n",
      "475:\tlearn: 6.9016410\ttotal: 28.7s\tremaining: 31.6s\n",
      "476:\tlearn: 6.9012361\ttotal: 28.7s\tremaining: 31.5s\n",
      "477:\tlearn: 6.9010184\ttotal: 28.7s\tremaining: 31.4s\n",
      "478:\tlearn: 6.9006092\ttotal: 28.8s\tremaining: 31.3s\n",
      "479:\tlearn: 6.9000857\ttotal: 28.8s\tremaining: 31.2s\n",
      "480:\tlearn: 6.8998004\ttotal: 28.8s\tremaining: 31.1s\n",
      "481:\tlearn: 6.8992209\ttotal: 28.9s\tremaining: 31s\n",
      "482:\tlearn: 6.8990632\ttotal: 28.9s\tremaining: 31s\n",
      "483:\tlearn: 6.8956954\ttotal: 29s\tremaining: 30.9s\n",
      "484:\tlearn: 6.8931489\ttotal: 29s\tremaining: 30.8s\n",
      "485:\tlearn: 6.8929757\ttotal: 29s\tremaining: 30.7s\n",
      "486:\tlearn: 6.8923878\ttotal: 29.1s\tremaining: 30.6s\n",
      "487:\tlearn: 6.8920079\ttotal: 29.1s\tremaining: 30.5s\n",
      "488:\tlearn: 6.8886454\ttotal: 29.1s\tremaining: 30.4s\n",
      "489:\tlearn: 6.8881181\ttotal: 29.2s\tremaining: 30.4s\n",
      "490:\tlearn: 6.8873399\ttotal: 29.2s\tremaining: 30.3s\n",
      "491:\tlearn: 6.8866979\ttotal: 29.2s\tremaining: 30.2s\n",
      "492:\tlearn: 6.8865282\ttotal: 29.3s\tremaining: 30.1s\n",
      "493:\tlearn: 6.8861626\ttotal: 29.3s\tremaining: 30s\n",
      "494:\tlearn: 6.8858121\ttotal: 29.3s\tremaining: 29.9s\n",
      "495:\tlearn: 6.8835914\ttotal: 29.4s\tremaining: 29.9s\n",
      "496:\tlearn: 6.8834209\ttotal: 29.4s\tremaining: 29.8s\n",
      "497:\tlearn: 6.8832888\ttotal: 29.5s\tremaining: 29.7s\n",
      "498:\tlearn: 6.8831690\ttotal: 29.5s\tremaining: 29.6s\n",
      "499:\tlearn: 6.8828050\ttotal: 29.5s\tremaining: 29.5s\n",
      "500:\tlearn: 6.8826015\ttotal: 29.6s\tremaining: 29.5s\n",
      "501:\tlearn: 6.8799791\ttotal: 29.6s\tremaining: 29.4s\n",
      "502:\tlearn: 6.8782320\ttotal: 29.6s\tremaining: 29.3s\n",
      "503:\tlearn: 6.8770027\ttotal: 29.7s\tremaining: 29.2s\n",
      "504:\tlearn: 6.8769409\ttotal: 29.7s\tremaining: 29.1s\n",
      "505:\tlearn: 6.8767261\ttotal: 29.7s\tremaining: 29s\n",
      "506:\tlearn: 6.8760821\ttotal: 29.8s\tremaining: 28.9s\n",
      "507:\tlearn: 6.8757064\ttotal: 29.8s\tremaining: 28.9s\n",
      "508:\tlearn: 6.8750992\ttotal: 29.8s\tremaining: 28.8s\n",
      "509:\tlearn: 6.8744995\ttotal: 29.9s\tremaining: 28.7s\n",
      "510:\tlearn: 6.8743462\ttotal: 29.9s\tremaining: 28.6s\n",
      "511:\tlearn: 6.8743222\ttotal: 29.9s\tremaining: 28.5s\n",
      "512:\tlearn: 6.8727797\ttotal: 30s\tremaining: 28.4s\n",
      "513:\tlearn: 6.8719650\ttotal: 30s\tremaining: 28.4s\n",
      "514:\tlearn: 6.8682071\ttotal: 30s\tremaining: 28.3s\n",
      "515:\tlearn: 6.8679312\ttotal: 30s\tremaining: 28.2s\n",
      "516:\tlearn: 6.8674065\ttotal: 30.1s\tremaining: 28.1s\n",
      "517:\tlearn: 6.8628983\ttotal: 30.1s\tremaining: 28s\n",
      "518:\tlearn: 6.8628981\ttotal: 30.2s\tremaining: 27.9s\n",
      "519:\tlearn: 6.8628928\ttotal: 30.2s\tremaining: 27.9s\n",
      "520:\tlearn: 6.8628877\ttotal: 30.2s\tremaining: 27.8s\n",
      "521:\tlearn: 6.8628829\ttotal: 30.2s\tremaining: 27.7s\n",
      "522:\tlearn: 6.8628827\ttotal: 30.3s\tremaining: 27.6s\n",
      "523:\tlearn: 6.8628825\ttotal: 30.3s\tremaining: 27.5s\n",
      "524:\tlearn: 6.8628823\ttotal: 30.3s\tremaining: 27.4s\n",
      "525:\tlearn: 6.8628687\ttotal: 30.3s\tremaining: 27.3s\n",
      "526:\tlearn: 6.8628558\ttotal: 30.3s\tremaining: 27.2s\n",
      "527:\tlearn: 6.8626714\ttotal: 30.4s\tremaining: 27.2s\n",
      "528:\tlearn: 6.8626076\ttotal: 30.4s\tremaining: 27.1s\n",
      "529:\tlearn: 6.8622992\ttotal: 30.5s\tremaining: 27s\n",
      "530:\tlearn: 6.8621347\ttotal: 30.5s\tremaining: 26.9s\n",
      "531:\tlearn: 6.8620581\ttotal: 30.5s\tremaining: 26.9s\n",
      "532:\tlearn: 6.8599237\ttotal: 30.6s\tremaining: 26.8s\n",
      "533:\tlearn: 6.8594058\ttotal: 30.6s\tremaining: 26.7s\n",
      "534:\tlearn: 6.8592303\ttotal: 30.6s\tremaining: 26.6s\n",
      "535:\tlearn: 6.8580620\ttotal: 30.7s\tremaining: 26.5s\n",
      "536:\tlearn: 6.8579965\ttotal: 30.7s\tremaining: 26.5s\n",
      "537:\tlearn: 6.8579718\ttotal: 30.7s\tremaining: 26.4s\n",
      "538:\tlearn: 6.8578306\ttotal: 30.8s\tremaining: 26.3s\n",
      "539:\tlearn: 6.8576205\ttotal: 30.8s\tremaining: 26.2s\n",
      "540:\tlearn: 6.8574470\ttotal: 30.8s\tremaining: 26.2s\n",
      "541:\tlearn: 6.8570537\ttotal: 30.9s\tremaining: 26.1s\n",
      "542:\tlearn: 6.8565369\ttotal: 30.9s\tremaining: 26s\n",
      "543:\tlearn: 6.8564043\ttotal: 30.9s\tremaining: 25.9s\n",
      "544:\tlearn: 6.8563421\ttotal: 31s\tremaining: 25.9s\n",
      "545:\tlearn: 6.8562344\ttotal: 31s\tremaining: 25.8s\n",
      "546:\tlearn: 6.8561261\ttotal: 31s\tremaining: 25.7s\n",
      "547:\tlearn: 6.8550147\ttotal: 31.1s\tremaining: 25.6s\n",
      "548:\tlearn: 6.8546115\ttotal: 31.1s\tremaining: 25.6s\n",
      "549:\tlearn: 6.8544583\ttotal: 31.1s\tremaining: 25.5s\n",
      "550:\tlearn: 6.8543352\ttotal: 31.2s\tremaining: 25.4s\n",
      "551:\tlearn: 6.8532783\ttotal: 31.2s\tremaining: 25.3s\n",
      "552:\tlearn: 6.8513257\ttotal: 31.2s\tremaining: 25.3s\n",
      "553:\tlearn: 6.8480237\ttotal: 31.3s\tremaining: 25.2s\n",
      "554:\tlearn: 6.8460203\ttotal: 31.3s\tremaining: 25.1s\n",
      "555:\tlearn: 6.8428122\ttotal: 31.4s\tremaining: 25s\n",
      "556:\tlearn: 6.8427731\ttotal: 31.4s\tremaining: 25s\n",
      "557:\tlearn: 6.8410912\ttotal: 31.4s\tremaining: 24.9s\n",
      "558:\tlearn: 6.8407687\ttotal: 31.5s\tremaining: 24.8s\n",
      "559:\tlearn: 6.8405329\ttotal: 31.5s\tremaining: 24.7s\n",
      "560:\tlearn: 6.8404226\ttotal: 31.5s\tremaining: 24.7s\n",
      "561:\tlearn: 6.8402292\ttotal: 31.6s\tremaining: 24.6s\n",
      "562:\tlearn: 6.8398782\ttotal: 31.6s\tremaining: 24.5s\n",
      "563:\tlearn: 6.8397363\ttotal: 31.6s\tremaining: 24.4s\n",
      "564:\tlearn: 6.8393776\ttotal: 31.6s\tremaining: 24.4s\n",
      "565:\tlearn: 6.8361965\ttotal: 31.7s\tremaining: 24.3s\n",
      "566:\tlearn: 6.8358109\ttotal: 31.7s\tremaining: 24.2s\n",
      "567:\tlearn: 6.8347329\ttotal: 31.8s\tremaining: 24.2s\n",
      "568:\tlearn: 6.8329479\ttotal: 31.8s\tremaining: 24.1s\n",
      "569:\tlearn: 6.8276714\ttotal: 31.8s\tremaining: 24s\n",
      "570:\tlearn: 6.8254760\ttotal: 31.9s\tremaining: 23.9s\n",
      "571:\tlearn: 6.8250473\ttotal: 31.9s\tremaining: 23.9s\n",
      "572:\tlearn: 6.8249315\ttotal: 31.9s\tremaining: 23.8s\n",
      "573:\tlearn: 6.8231480\ttotal: 32s\tremaining: 23.7s\n",
      "574:\tlearn: 6.8226040\ttotal: 32s\tremaining: 23.6s\n",
      "575:\tlearn: 6.8222778\ttotal: 32s\tremaining: 23.6s\n",
      "576:\tlearn: 6.8221656\ttotal: 32.1s\tremaining: 23.5s\n",
      "577:\tlearn: 6.8220771\ttotal: 32.1s\tremaining: 23.4s\n",
      "578:\tlearn: 6.8192393\ttotal: 32.1s\tremaining: 23.4s\n",
      "579:\tlearn: 6.8190634\ttotal: 32.2s\tremaining: 23.3s\n",
      "580:\tlearn: 6.8187592\ttotal: 32.2s\tremaining: 23.2s\n",
      "581:\tlearn: 6.8179436\ttotal: 32.2s\tremaining: 23.1s\n",
      "582:\tlearn: 6.8167550\ttotal: 32.3s\tremaining: 23.1s\n",
      "583:\tlearn: 6.8166673\ttotal: 32.3s\tremaining: 23s\n",
      "584:\tlearn: 6.8155437\ttotal: 32.3s\tremaining: 22.9s\n",
      "585:\tlearn: 6.8154991\ttotal: 32.4s\tremaining: 22.9s\n",
      "586:\tlearn: 6.8153334\ttotal: 32.4s\tremaining: 22.8s\n",
      "587:\tlearn: 6.8152861\ttotal: 32.4s\tremaining: 22.7s\n",
      "588:\tlearn: 6.8149268\ttotal: 32.5s\tremaining: 22.7s\n",
      "589:\tlearn: 6.8147657\ttotal: 32.5s\tremaining: 22.6s\n",
      "590:\tlearn: 6.8142831\ttotal: 32.5s\tremaining: 22.5s\n",
      "591:\tlearn: 6.8132494\ttotal: 32.6s\tremaining: 22.4s\n",
      "592:\tlearn: 6.8127319\ttotal: 32.6s\tremaining: 22.4s\n",
      "593:\tlearn: 6.8112952\ttotal: 32.6s\tremaining: 22.3s\n",
      "594:\tlearn: 6.8108225\ttotal: 32.7s\tremaining: 22.2s\n",
      "595:\tlearn: 6.8106902\ttotal: 32.7s\tremaining: 22.2s\n",
      "596:\tlearn: 6.8100558\ttotal: 32.7s\tremaining: 22.1s\n",
      "597:\tlearn: 6.8095663\ttotal: 32.8s\tremaining: 22s\n",
      "598:\tlearn: 6.8094803\ttotal: 32.8s\tremaining: 22s\n",
      "599:\tlearn: 6.8093603\ttotal: 32.8s\tremaining: 21.9s\n",
      "600:\tlearn: 6.8092103\ttotal: 32.8s\tremaining: 21.8s\n",
      "601:\tlearn: 6.8088007\ttotal: 32.9s\tremaining: 21.7s\n",
      "602:\tlearn: 6.8074489\ttotal: 32.9s\tremaining: 21.7s\n",
      "603:\tlearn: 6.8069946\ttotal: 32.9s\tremaining: 21.6s\n",
      "604:\tlearn: 6.8066214\ttotal: 33s\tremaining: 21.5s\n",
      "605:\tlearn: 6.8065191\ttotal: 33s\tremaining: 21.5s\n",
      "606:\tlearn: 6.8063790\ttotal: 33s\tremaining: 21.4s\n",
      "607:\tlearn: 6.8060387\ttotal: 33.1s\tremaining: 21.3s\n",
      "608:\tlearn: 6.8052534\ttotal: 33.1s\tremaining: 21.3s\n",
      "609:\tlearn: 6.8051853\ttotal: 33.1s\tremaining: 21.2s\n",
      "610:\tlearn: 6.8050720\ttotal: 33.2s\tremaining: 21.1s\n",
      "611:\tlearn: 6.8049889\ttotal: 33.2s\tremaining: 21.1s\n",
      "612:\tlearn: 6.8020710\ttotal: 33.2s\tremaining: 21s\n",
      "613:\tlearn: 6.8019671\ttotal: 33.3s\tremaining: 20.9s\n",
      "614:\tlearn: 6.8017730\ttotal: 33.3s\tremaining: 20.8s\n",
      "615:\tlearn: 6.8014225\ttotal: 33.3s\tremaining: 20.8s\n",
      "616:\tlearn: 6.7995833\ttotal: 33.4s\tremaining: 20.7s\n",
      "617:\tlearn: 6.7969204\ttotal: 33.4s\tremaining: 20.6s\n",
      "618:\tlearn: 6.7967305\ttotal: 33.4s\tremaining: 20.6s\n",
      "619:\tlearn: 6.7965562\ttotal: 33.5s\tremaining: 20.5s\n",
      "620:\tlearn: 6.7952205\ttotal: 33.5s\tremaining: 20.5s\n",
      "621:\tlearn: 6.7950510\ttotal: 33.6s\tremaining: 20.4s\n",
      "622:\tlearn: 6.7921025\ttotal: 33.6s\tremaining: 20.3s\n",
      "623:\tlearn: 6.7920566\ttotal: 33.6s\tremaining: 20.3s\n",
      "624:\tlearn: 6.7906464\ttotal: 33.7s\tremaining: 20.2s\n",
      "625:\tlearn: 6.7906045\ttotal: 33.7s\tremaining: 20.1s\n",
      "626:\tlearn: 6.7904420\ttotal: 33.7s\tremaining: 20.1s\n",
      "627:\tlearn: 6.7902844\ttotal: 33.8s\tremaining: 20s\n",
      "628:\tlearn: 6.7883759\ttotal: 33.8s\tremaining: 19.9s\n",
      "629:\tlearn: 6.7881677\ttotal: 33.8s\tremaining: 19.9s\n",
      "630:\tlearn: 6.7868013\ttotal: 33.9s\tremaining: 19.8s\n",
      "631:\tlearn: 6.7866711\ttotal: 33.9s\tremaining: 19.7s\n",
      "632:\tlearn: 6.7842954\ttotal: 33.9s\tremaining: 19.7s\n",
      "633:\tlearn: 6.7839303\ttotal: 34s\tremaining: 19.6s\n",
      "634:\tlearn: 6.7836861\ttotal: 34s\tremaining: 19.5s\n",
      "635:\tlearn: 6.7835883\ttotal: 34s\tremaining: 19.5s\n",
      "636:\tlearn: 6.7835881\ttotal: 34s\tremaining: 19.4s\n",
      "637:\tlearn: 6.7835880\ttotal: 34.1s\tremaining: 19.3s\n",
      "638:\tlearn: 6.7835879\ttotal: 34.1s\tremaining: 19.3s\n",
      "639:\tlearn: 6.7835800\ttotal: 34.1s\tremaining: 19.2s\n",
      "640:\tlearn: 6.7835799\ttotal: 34.1s\tremaining: 19.1s\n",
      "641:\tlearn: 6.7835754\ttotal: 34.1s\tremaining: 19s\n",
      "642:\tlearn: 6.7834580\ttotal: 34.2s\tremaining: 19s\n",
      "643:\tlearn: 6.7832215\ttotal: 34.2s\tremaining: 18.9s\n",
      "644:\tlearn: 6.7826029\ttotal: 34.2s\tremaining: 18.8s\n",
      "645:\tlearn: 6.7826028\ttotal: 34.3s\tremaining: 18.8s\n",
      "646:\tlearn: 6.7824788\ttotal: 34.3s\tremaining: 18.7s\n",
      "647:\tlearn: 6.7821279\ttotal: 34.3s\tremaining: 18.6s\n",
      "648:\tlearn: 6.7804784\ttotal: 34.4s\tremaining: 18.6s\n",
      "649:\tlearn: 6.7803824\ttotal: 34.4s\tremaining: 18.5s\n",
      "650:\tlearn: 6.7794981\ttotal: 34.4s\tremaining: 18.5s\n",
      "651:\tlearn: 6.7789635\ttotal: 34.5s\tremaining: 18.4s\n",
      "652:\tlearn: 6.7781704\ttotal: 34.5s\tremaining: 18.3s\n",
      "653:\tlearn: 6.7767398\ttotal: 34.6s\tremaining: 18.3s\n",
      "654:\tlearn: 6.7757692\ttotal: 34.6s\tremaining: 18.2s\n",
      "655:\tlearn: 6.7756589\ttotal: 34.6s\tremaining: 18.2s\n",
      "656:\tlearn: 6.7744121\ttotal: 34.7s\tremaining: 18.1s\n",
      "657:\tlearn: 6.7743383\ttotal: 34.7s\tremaining: 18s\n",
      "658:\tlearn: 6.7741960\ttotal: 34.7s\tremaining: 18s\n",
      "659:\tlearn: 6.7737847\ttotal: 34.8s\tremaining: 17.9s\n",
      "660:\tlearn: 6.7728358\ttotal: 34.8s\tremaining: 17.9s\n",
      "661:\tlearn: 6.7718739\ttotal: 34.8s\tremaining: 17.8s\n",
      "662:\tlearn: 6.7716284\ttotal: 34.9s\tremaining: 17.7s\n",
      "663:\tlearn: 6.7714469\ttotal: 34.9s\tremaining: 17.7s\n",
      "664:\tlearn: 6.7712231\ttotal: 35s\tremaining: 17.6s\n",
      "665:\tlearn: 6.7701746\ttotal: 35s\tremaining: 17.5s\n",
      "666:\tlearn: 6.7698862\ttotal: 35s\tremaining: 17.5s\n",
      "667:\tlearn: 6.7697092\ttotal: 35.1s\tremaining: 17.4s\n",
      "668:\tlearn: 6.7688722\ttotal: 35.1s\tremaining: 17.4s\n",
      "669:\tlearn: 6.7685132\ttotal: 35.1s\tremaining: 17.3s\n",
      "670:\tlearn: 6.7683605\ttotal: 35.2s\tremaining: 17.2s\n",
      "671:\tlearn: 6.7683134\ttotal: 35.2s\tremaining: 17.2s\n",
      "672:\tlearn: 6.7674745\ttotal: 35.2s\tremaining: 17.1s\n",
      "673:\tlearn: 6.7661900\ttotal: 35.3s\tremaining: 17.1s\n",
      "674:\tlearn: 6.7659963\ttotal: 35.3s\tremaining: 17s\n",
      "675:\tlearn: 6.7658804\ttotal: 35.3s\tremaining: 16.9s\n",
      "676:\tlearn: 6.7621648\ttotal: 35.4s\tremaining: 16.9s\n",
      "677:\tlearn: 6.7621647\ttotal: 35.4s\tremaining: 16.8s\n",
      "678:\tlearn: 6.7621645\ttotal: 35.4s\tremaining: 16.7s\n",
      "679:\tlearn: 6.7621602\ttotal: 35.4s\tremaining: 16.7s\n",
      "680:\tlearn: 6.7621601\ttotal: 35.5s\tremaining: 16.6s\n",
      "681:\tlearn: 6.7621566\ttotal: 35.5s\tremaining: 16.5s\n",
      "682:\tlearn: 6.7621565\ttotal: 35.5s\tremaining: 16.5s\n",
      "683:\tlearn: 6.7621563\ttotal: 35.5s\tremaining: 16.4s\n",
      "684:\tlearn: 6.7621562\ttotal: 35.6s\tremaining: 16.4s\n",
      "685:\tlearn: 6.7621561\ttotal: 35.6s\tremaining: 16.3s\n",
      "686:\tlearn: 6.7621560\ttotal: 35.6s\tremaining: 16.2s\n",
      "687:\tlearn: 6.7621470\ttotal: 35.6s\tremaining: 16.2s\n",
      "688:\tlearn: 6.7621469\ttotal: 35.6s\tremaining: 16.1s\n",
      "689:\tlearn: 6.7621468\ttotal: 35.7s\tremaining: 16s\n",
      "690:\tlearn: 6.7621467\ttotal: 35.7s\tremaining: 16s\n",
      "691:\tlearn: 6.7621387\ttotal: 35.7s\tremaining: 15.9s\n",
      "692:\tlearn: 6.7616279\ttotal: 35.7s\tremaining: 15.8s\n",
      "693:\tlearn: 6.7616058\ttotal: 35.8s\tremaining: 15.8s\n",
      "694:\tlearn: 6.7615702\ttotal: 35.8s\tremaining: 15.7s\n",
      "695:\tlearn: 6.7614603\ttotal: 35.8s\tremaining: 15.7s\n",
      "696:\tlearn: 6.7609511\ttotal: 35.9s\tremaining: 15.6s\n",
      "697:\tlearn: 6.7603985\ttotal: 35.9s\tremaining: 15.5s\n",
      "698:\tlearn: 6.7598195\ttotal: 35.9s\tremaining: 15.5s\n",
      "699:\tlearn: 6.7596606\ttotal: 36s\tremaining: 15.4s\n",
      "700:\tlearn: 6.7594891\ttotal: 36s\tremaining: 15.4s\n",
      "701:\tlearn: 6.7594232\ttotal: 36s\tremaining: 15.3s\n",
      "702:\tlearn: 6.7594086\ttotal: 36.1s\tremaining: 15.2s\n",
      "703:\tlearn: 6.7591771\ttotal: 36.1s\tremaining: 15.2s\n",
      "704:\tlearn: 6.7589793\ttotal: 36.1s\tremaining: 15.1s\n",
      "705:\tlearn: 6.7588662\ttotal: 36.2s\tremaining: 15.1s\n",
      "706:\tlearn: 6.7585774\ttotal: 36.2s\tremaining: 15s\n",
      "707:\tlearn: 6.7543059\ttotal: 36.2s\tremaining: 14.9s\n",
      "708:\tlearn: 6.7542771\ttotal: 36.3s\tremaining: 14.9s\n",
      "709:\tlearn: 6.7541808\ttotal: 36.3s\tremaining: 14.8s\n",
      "710:\tlearn: 6.7502216\ttotal: 36.4s\tremaining: 14.8s\n",
      "711:\tlearn: 6.7499060\ttotal: 36.5s\tremaining: 14.8s\n",
      "712:\tlearn: 6.7495390\ttotal: 36.6s\tremaining: 14.7s\n",
      "713:\tlearn: 6.7494216\ttotal: 36.6s\tremaining: 14.7s\n",
      "714:\tlearn: 6.7458321\ttotal: 36.7s\tremaining: 14.6s\n",
      "715:\tlearn: 6.7456067\ttotal: 36.8s\tremaining: 14.6s\n",
      "716:\tlearn: 6.7451787\ttotal: 36.9s\tremaining: 14.6s\n",
      "717:\tlearn: 6.7450343\ttotal: 36.9s\tremaining: 14.5s\n",
      "718:\tlearn: 6.7449169\ttotal: 37s\tremaining: 14.5s\n",
      "719:\tlearn: 6.7448652\ttotal: 37.1s\tremaining: 14.4s\n",
      "720:\tlearn: 6.7438037\ttotal: 37.2s\tremaining: 14.4s\n",
      "721:\tlearn: 6.7437356\ttotal: 37.2s\tremaining: 14.3s\n",
      "722:\tlearn: 6.7435427\ttotal: 37.3s\tremaining: 14.3s\n",
      "723:\tlearn: 6.7434429\ttotal: 37.4s\tremaining: 14.3s\n",
      "724:\tlearn: 6.7432688\ttotal: 37.5s\tremaining: 14.2s\n",
      "725:\tlearn: 6.7430851\ttotal: 37.5s\tremaining: 14.2s\n",
      "726:\tlearn: 6.7417897\ttotal: 37.6s\tremaining: 14.1s\n",
      "727:\tlearn: 6.7415257\ttotal: 37.7s\tremaining: 14.1s\n",
      "728:\tlearn: 6.7413325\ttotal: 37.7s\tremaining: 14s\n",
      "729:\tlearn: 6.7413048\ttotal: 37.8s\tremaining: 14s\n",
      "730:\tlearn: 6.7373562\ttotal: 37.9s\tremaining: 13.9s\n",
      "731:\tlearn: 6.7372368\ttotal: 38s\tremaining: 13.9s\n",
      "732:\tlearn: 6.7372112\ttotal: 38.1s\tremaining: 13.9s\n",
      "733:\tlearn: 6.7369611\ttotal: 38.1s\tremaining: 13.8s\n",
      "734:\tlearn: 6.7367963\ttotal: 38.2s\tremaining: 13.8s\n",
      "735:\tlearn: 6.7367362\ttotal: 38.3s\tremaining: 13.7s\n",
      "736:\tlearn: 6.7365432\ttotal: 38.4s\tremaining: 13.7s\n",
      "737:\tlearn: 6.7351287\ttotal: 38.5s\tremaining: 13.7s\n",
      "738:\tlearn: 6.7342747\ttotal: 38.5s\tremaining: 13.6s\n",
      "739:\tlearn: 6.7328890\ttotal: 38.6s\tremaining: 13.6s\n",
      "740:\tlearn: 6.7325786\ttotal: 38.7s\tremaining: 13.5s\n",
      "741:\tlearn: 6.7323690\ttotal: 38.8s\tremaining: 13.5s\n",
      "742:\tlearn: 6.7322887\ttotal: 38.8s\tremaining: 13.4s\n",
      "743:\tlearn: 6.7285067\ttotal: 38.9s\tremaining: 13.4s\n",
      "744:\tlearn: 6.7283115\ttotal: 39s\tremaining: 13.3s\n",
      "745:\tlearn: 6.7271460\ttotal: 39.1s\tremaining: 13.3s\n",
      "746:\tlearn: 6.7270123\ttotal: 39.2s\tremaining: 13.3s\n",
      "747:\tlearn: 6.7266612\ttotal: 39.3s\tremaining: 13.2s\n",
      "748:\tlearn: 6.7263867\ttotal: 39.3s\tremaining: 13.2s\n",
      "749:\tlearn: 6.7256136\ttotal: 39.4s\tremaining: 13.1s\n",
      "750:\tlearn: 6.7254923\ttotal: 39.5s\tremaining: 13.1s\n",
      "751:\tlearn: 6.7253929\ttotal: 39.5s\tremaining: 13s\n",
      "752:\tlearn: 6.7252036\ttotal: 39.6s\tremaining: 13s\n",
      "753:\tlearn: 6.7246558\ttotal: 39.7s\tremaining: 12.9s\n",
      "754:\tlearn: 6.7216387\ttotal: 39.8s\tremaining: 12.9s\n",
      "755:\tlearn: 6.7213307\ttotal: 39.8s\tremaining: 12.8s\n",
      "756:\tlearn: 6.7212899\ttotal: 39.9s\tremaining: 12.8s\n",
      "757:\tlearn: 6.7211501\ttotal: 40s\tremaining: 12.8s\n",
      "758:\tlearn: 6.7210243\ttotal: 40.1s\tremaining: 12.7s\n",
      "759:\tlearn: 6.7210028\ttotal: 40.1s\tremaining: 12.7s\n",
      "760:\tlearn: 6.7207903\ttotal: 40.2s\tremaining: 12.6s\n",
      "761:\tlearn: 6.7207007\ttotal: 40.3s\tremaining: 12.6s\n",
      "762:\tlearn: 6.7206051\ttotal: 40.4s\tremaining: 12.5s\n",
      "763:\tlearn: 6.7202308\ttotal: 40.4s\tremaining: 12.5s\n",
      "764:\tlearn: 6.7192229\ttotal: 40.4s\tremaining: 12.4s\n",
      "765:\tlearn: 6.7164729\ttotal: 40.5s\tremaining: 12.4s\n",
      "766:\tlearn: 6.7157297\ttotal: 40.5s\tremaining: 12.3s\n",
      "767:\tlearn: 6.7136210\ttotal: 40.5s\tremaining: 12.2s\n",
      "768:\tlearn: 6.7134996\ttotal: 40.6s\tremaining: 12.2s\n",
      "769:\tlearn: 6.7125764\ttotal: 40.6s\tremaining: 12.1s\n",
      "770:\tlearn: 6.7124877\ttotal: 40.6s\tremaining: 12.1s\n",
      "771:\tlearn: 6.7124149\ttotal: 40.7s\tremaining: 12s\n",
      "772:\tlearn: 6.7122678\ttotal: 40.7s\tremaining: 11.9s\n",
      "773:\tlearn: 6.7121143\ttotal: 40.7s\tremaining: 11.9s\n",
      "774:\tlearn: 6.7120151\ttotal: 40.8s\tremaining: 11.8s\n",
      "775:\tlearn: 6.7118571\ttotal: 40.8s\tremaining: 11.8s\n",
      "776:\tlearn: 6.7117881\ttotal: 40.8s\tremaining: 11.7s\n",
      "777:\tlearn: 6.7117296\ttotal: 40.9s\tremaining: 11.7s\n",
      "778:\tlearn: 6.7114680\ttotal: 40.9s\tremaining: 11.6s\n",
      "779:\tlearn: 6.7112844\ttotal: 40.9s\tremaining: 11.5s\n",
      "780:\tlearn: 6.7111508\ttotal: 41s\tremaining: 11.5s\n",
      "781:\tlearn: 6.7107115\ttotal: 41s\tremaining: 11.4s\n",
      "782:\tlearn: 6.7082047\ttotal: 41s\tremaining: 11.4s\n",
      "783:\tlearn: 6.7079087\ttotal: 41.1s\tremaining: 11.3s\n",
      "784:\tlearn: 6.7077591\ttotal: 41.1s\tremaining: 11.3s\n",
      "785:\tlearn: 6.7075692\ttotal: 41.2s\tremaining: 11.2s\n",
      "786:\tlearn: 6.7074898\ttotal: 41.2s\tremaining: 11.2s\n",
      "787:\tlearn: 6.7065243\ttotal: 41.2s\tremaining: 11.1s\n",
      "788:\tlearn: 6.7048317\ttotal: 41.3s\tremaining: 11s\n",
      "789:\tlearn: 6.7045549\ttotal: 41.3s\tremaining: 11s\n",
      "790:\tlearn: 6.7045407\ttotal: 41.3s\tremaining: 10.9s\n",
      "791:\tlearn: 6.7037474\ttotal: 41.4s\tremaining: 10.9s\n",
      "792:\tlearn: 6.7036761\ttotal: 41.4s\tremaining: 10.8s\n",
      "793:\tlearn: 6.7035922\ttotal: 41.4s\tremaining: 10.8s\n",
      "794:\tlearn: 6.7034140\ttotal: 41.5s\tremaining: 10.7s\n",
      "795:\tlearn: 6.7032061\ttotal: 41.5s\tremaining: 10.6s\n",
      "796:\tlearn: 6.7027164\ttotal: 41.5s\tremaining: 10.6s\n",
      "797:\tlearn: 6.7004438\ttotal: 41.6s\tremaining: 10.5s\n",
      "798:\tlearn: 6.7003738\ttotal: 41.6s\tremaining: 10.5s\n",
      "799:\tlearn: 6.6994493\ttotal: 41.7s\tremaining: 10.4s\n",
      "800:\tlearn: 6.6985746\ttotal: 41.7s\tremaining: 10.4s\n",
      "801:\tlearn: 6.6985152\ttotal: 41.7s\tremaining: 10.3s\n",
      "802:\tlearn: 6.6971852\ttotal: 41.8s\tremaining: 10.2s\n",
      "803:\tlearn: 6.6955473\ttotal: 41.8s\tremaining: 10.2s\n",
      "804:\tlearn: 6.6954535\ttotal: 41.8s\tremaining: 10.1s\n",
      "805:\tlearn: 6.6953563\ttotal: 41.9s\tremaining: 10.1s\n",
      "806:\tlearn: 6.6945565\ttotal: 41.9s\tremaining: 10s\n",
      "807:\tlearn: 6.6937959\ttotal: 41.9s\tremaining: 9.96s\n",
      "808:\tlearn: 6.6936164\ttotal: 42s\tremaining: 9.91s\n",
      "809:\tlearn: 6.6927708\ttotal: 42s\tremaining: 9.85s\n",
      "810:\tlearn: 6.6925015\ttotal: 42s\tremaining: 9.79s\n",
      "811:\tlearn: 6.6917786\ttotal: 42.1s\tremaining: 9.74s\n",
      "812:\tlearn: 6.6909481\ttotal: 42.1s\tremaining: 9.68s\n",
      "813:\tlearn: 6.6908280\ttotal: 42.1s\tremaining: 9.63s\n",
      "814:\tlearn: 6.6908227\ttotal: 42.2s\tremaining: 9.57s\n",
      "815:\tlearn: 6.6901679\ttotal: 42.2s\tremaining: 9.52s\n",
      "816:\tlearn: 6.6888302\ttotal: 42.2s\tremaining: 9.46s\n",
      "817:\tlearn: 6.6882364\ttotal: 42.3s\tremaining: 9.41s\n",
      "818:\tlearn: 6.6870772\ttotal: 42.3s\tremaining: 9.35s\n",
      "819:\tlearn: 6.6869663\ttotal: 42.3s\tremaining: 9.29s\n",
      "820:\tlearn: 6.6864274\ttotal: 42.4s\tremaining: 9.24s\n",
      "821:\tlearn: 6.6854115\ttotal: 42.4s\tremaining: 9.19s\n",
      "822:\tlearn: 6.6845465\ttotal: 42.4s\tremaining: 9.13s\n",
      "823:\tlearn: 6.6844268\ttotal: 42.5s\tremaining: 9.07s\n",
      "824:\tlearn: 6.6837685\ttotal: 42.5s\tremaining: 9.02s\n",
      "825:\tlearn: 6.6834237\ttotal: 42.5s\tremaining: 8.96s\n",
      "826:\tlearn: 6.6831065\ttotal: 42.6s\tremaining: 8.91s\n",
      "827:\tlearn: 6.6828475\ttotal: 42.6s\tremaining: 8.86s\n",
      "828:\tlearn: 6.6828023\ttotal: 42.7s\tremaining: 8.81s\n",
      "829:\tlearn: 6.6825826\ttotal: 42.8s\tremaining: 8.76s\n",
      "830:\tlearn: 6.6825463\ttotal: 42.8s\tremaining: 8.71s\n",
      "831:\tlearn: 6.6825131\ttotal: 42.9s\tremaining: 8.67s\n",
      "832:\tlearn: 6.6824146\ttotal: 43s\tremaining: 8.62s\n",
      "833:\tlearn: 6.6823314\ttotal: 43.1s\tremaining: 8.57s\n",
      "834:\tlearn: 6.6822949\ttotal: 43.2s\tremaining: 8.53s\n",
      "835:\tlearn: 6.6822117\ttotal: 43.2s\tremaining: 8.48s\n",
      "836:\tlearn: 6.6821063\ttotal: 43.3s\tremaining: 8.44s\n",
      "837:\tlearn: 6.6818297\ttotal: 43.4s\tremaining: 8.39s\n",
      "838:\tlearn: 6.6816815\ttotal: 43.5s\tremaining: 8.34s\n",
      "839:\tlearn: 6.6816764\ttotal: 43.5s\tremaining: 8.29s\n",
      "840:\tlearn: 6.6815638\ttotal: 43.6s\tremaining: 8.24s\n",
      "841:\tlearn: 6.6815590\ttotal: 43.6s\tremaining: 8.19s\n",
      "842:\tlearn: 6.6815110\ttotal: 43.7s\tremaining: 8.14s\n",
      "843:\tlearn: 6.6813853\ttotal: 43.8s\tremaining: 8.09s\n",
      "844:\tlearn: 6.6813141\ttotal: 43.8s\tremaining: 8.04s\n",
      "845:\tlearn: 6.6813096\ttotal: 43.9s\tremaining: 7.99s\n",
      "846:\tlearn: 6.6776297\ttotal: 44s\tremaining: 7.95s\n",
      "847:\tlearn: 6.6774471\ttotal: 44.1s\tremaining: 7.9s\n",
      "848:\tlearn: 6.6761997\ttotal: 44.1s\tremaining: 7.84s\n",
      "849:\tlearn: 6.6760979\ttotal: 44.1s\tremaining: 7.79s\n",
      "850:\tlearn: 6.6747823\ttotal: 44.2s\tremaining: 7.73s\n",
      "851:\tlearn: 6.6738105\ttotal: 44.2s\tremaining: 7.68s\n",
      "852:\tlearn: 6.6736668\ttotal: 44.2s\tremaining: 7.62s\n",
      "853:\tlearn: 6.6736627\ttotal: 44.3s\tremaining: 7.57s\n",
      "854:\tlearn: 6.6734979\ttotal: 44.3s\tremaining: 7.51s\n",
      "855:\tlearn: 6.6723944\ttotal: 44.3s\tremaining: 7.46s\n",
      "856:\tlearn: 6.6720898\ttotal: 44.4s\tremaining: 7.41s\n",
      "857:\tlearn: 6.6719657\ttotal: 44.5s\tremaining: 7.36s\n",
      "858:\tlearn: 6.6700674\ttotal: 44.6s\tremaining: 7.31s\n",
      "859:\tlearn: 6.6697627\ttotal: 44.6s\tremaining: 7.26s\n",
      "860:\tlearn: 6.6695770\ttotal: 44.7s\tremaining: 7.21s\n",
      "861:\tlearn: 6.6694872\ttotal: 44.7s\tremaining: 7.16s\n",
      "862:\tlearn: 6.6693361\ttotal: 44.7s\tremaining: 7.1s\n",
      "863:\tlearn: 6.6691996\ttotal: 44.8s\tremaining: 7.06s\n",
      "864:\tlearn: 6.6690118\ttotal: 44.9s\tremaining: 7.01s\n",
      "865:\tlearn: 6.6681045\ttotal: 45s\tremaining: 6.96s\n",
      "866:\tlearn: 6.6676503\ttotal: 45.1s\tremaining: 6.91s\n",
      "867:\tlearn: 6.6676284\ttotal: 45.1s\tremaining: 6.86s\n",
      "868:\tlearn: 6.6675700\ttotal: 45.2s\tremaining: 6.81s\n",
      "869:\tlearn: 6.6674145\ttotal: 45.2s\tremaining: 6.76s\n",
      "870:\tlearn: 6.6670642\ttotal: 45.3s\tremaining: 6.71s\n",
      "871:\tlearn: 6.6670440\ttotal: 45.4s\tremaining: 6.67s\n",
      "872:\tlearn: 6.6669116\ttotal: 45.5s\tremaining: 6.62s\n",
      "873:\tlearn: 6.6667785\ttotal: 45.6s\tremaining: 6.57s\n",
      "874:\tlearn: 6.6666805\ttotal: 45.6s\tremaining: 6.52s\n",
      "875:\tlearn: 6.6666086\ttotal: 45.7s\tremaining: 6.46s\n",
      "876:\tlearn: 6.6665173\ttotal: 45.7s\tremaining: 6.41s\n",
      "877:\tlearn: 6.6664571\ttotal: 45.8s\tremaining: 6.36s\n",
      "878:\tlearn: 6.6661954\ttotal: 45.8s\tremaining: 6.31s\n",
      "879:\tlearn: 6.6658964\ttotal: 45.9s\tremaining: 6.26s\n",
      "880:\tlearn: 6.6658010\ttotal: 46s\tremaining: 6.21s\n",
      "881:\tlearn: 6.6656950\ttotal: 46s\tremaining: 6.16s\n",
      "882:\tlearn: 6.6656503\ttotal: 46.1s\tremaining: 6.11s\n",
      "883:\tlearn: 6.6655118\ttotal: 46.2s\tremaining: 6.06s\n",
      "884:\tlearn: 6.6654433\ttotal: 46.2s\tremaining: 6s\n",
      "885:\tlearn: 6.6654010\ttotal: 46.2s\tremaining: 5.95s\n",
      "886:\tlearn: 6.6644297\ttotal: 46.3s\tremaining: 5.9s\n",
      "887:\tlearn: 6.6629576\ttotal: 46.3s\tremaining: 5.84s\n",
      "888:\tlearn: 6.6628376\ttotal: 46.3s\tremaining: 5.79s\n",
      "889:\tlearn: 6.6626333\ttotal: 46.4s\tremaining: 5.73s\n",
      "890:\tlearn: 6.6619789\ttotal: 46.4s\tremaining: 5.68s\n",
      "891:\tlearn: 6.6617467\ttotal: 46.5s\tremaining: 5.63s\n",
      "892:\tlearn: 6.6616346\ttotal: 46.6s\tremaining: 5.58s\n",
      "893:\tlearn: 6.6612435\ttotal: 46.7s\tremaining: 5.54s\n",
      "894:\tlearn: 6.6611749\ttotal: 46.8s\tremaining: 5.49s\n",
      "895:\tlearn: 6.6605050\ttotal: 46.8s\tremaining: 5.43s\n",
      "896:\tlearn: 6.6598252\ttotal: 46.9s\tremaining: 5.38s\n",
      "897:\tlearn: 6.6573373\ttotal: 46.9s\tremaining: 5.33s\n",
      "898:\tlearn: 6.6572372\ttotal: 47s\tremaining: 5.28s\n",
      "899:\tlearn: 6.6571990\ttotal: 47s\tremaining: 5.22s\n",
      "900:\tlearn: 6.6571333\ttotal: 47s\tremaining: 5.17s\n",
      "901:\tlearn: 6.6565204\ttotal: 47.1s\tremaining: 5.11s\n",
      "902:\tlearn: 6.6564591\ttotal: 47.1s\tremaining: 5.06s\n",
      "903:\tlearn: 6.6560264\ttotal: 47.2s\tremaining: 5.01s\n",
      "904:\tlearn: 6.6556892\ttotal: 47.2s\tremaining: 4.96s\n",
      "905:\tlearn: 6.6556615\ttotal: 47.3s\tremaining: 4.91s\n",
      "906:\tlearn: 6.6555965\ttotal: 47.3s\tremaining: 4.85s\n",
      "907:\tlearn: 6.6554674\ttotal: 47.4s\tremaining: 4.8s\n",
      "908:\tlearn: 6.6532566\ttotal: 47.5s\tremaining: 4.75s\n",
      "909:\tlearn: 6.6531950\ttotal: 47.5s\tremaining: 4.7s\n",
      "910:\tlearn: 6.6531217\ttotal: 47.6s\tremaining: 4.65s\n",
      "911:\tlearn: 6.6530013\ttotal: 47.6s\tremaining: 4.59s\n",
      "912:\tlearn: 6.6529258\ttotal: 47.7s\tremaining: 4.54s\n",
      "913:\tlearn: 6.6528235\ttotal: 47.7s\tremaining: 4.49s\n",
      "914:\tlearn: 6.6527091\ttotal: 47.8s\tremaining: 4.44s\n",
      "915:\tlearn: 6.6526229\ttotal: 47.9s\tremaining: 4.39s\n",
      "916:\tlearn: 6.6519685\ttotal: 47.9s\tremaining: 4.34s\n",
      "917:\tlearn: 6.6519151\ttotal: 48s\tremaining: 4.29s\n",
      "918:\tlearn: 6.6517975\ttotal: 48s\tremaining: 4.24s\n",
      "919:\tlearn: 6.6517057\ttotal: 48.1s\tremaining: 4.18s\n",
      "920:\tlearn: 6.6516610\ttotal: 48.1s\tremaining: 4.13s\n",
      "921:\tlearn: 6.6499664\ttotal: 48.2s\tremaining: 4.08s\n",
      "922:\tlearn: 6.6496625\ttotal: 48.3s\tremaining: 4.03s\n",
      "923:\tlearn: 6.6487884\ttotal: 48.3s\tremaining: 3.98s\n",
      "924:\tlearn: 6.6485328\ttotal: 48.4s\tremaining: 3.92s\n",
      "925:\tlearn: 6.6476517\ttotal: 48.5s\tremaining: 3.87s\n",
      "926:\tlearn: 6.6459305\ttotal: 48.5s\tremaining: 3.82s\n",
      "927:\tlearn: 6.6452012\ttotal: 48.6s\tremaining: 3.77s\n",
      "928:\tlearn: 6.6450808\ttotal: 48.6s\tremaining: 3.71s\n",
      "929:\tlearn: 6.6449205\ttotal: 48.6s\tremaining: 3.66s\n",
      "930:\tlearn: 6.6443372\ttotal: 48.7s\tremaining: 3.61s\n",
      "931:\tlearn: 6.6437296\ttotal: 48.8s\tremaining: 3.56s\n",
      "932:\tlearn: 6.6437003\ttotal: 48.8s\tremaining: 3.51s\n",
      "933:\tlearn: 6.6430841\ttotal: 48.9s\tremaining: 3.45s\n",
      "934:\tlearn: 6.6425156\ttotal: 48.9s\tremaining: 3.4s\n",
      "935:\tlearn: 6.6417708\ttotal: 49s\tremaining: 3.35s\n",
      "936:\tlearn: 6.6416842\ttotal: 49s\tremaining: 3.3s\n",
      "937:\tlearn: 6.6415538\ttotal: 49.1s\tremaining: 3.24s\n",
      "938:\tlearn: 6.6411142\ttotal: 49.2s\tremaining: 3.19s\n",
      "939:\tlearn: 6.6395398\ttotal: 49.2s\tremaining: 3.14s\n",
      "940:\tlearn: 6.6389185\ttotal: 49.2s\tremaining: 3.09s\n",
      "941:\tlearn: 6.6386273\ttotal: 49.3s\tremaining: 3.04s\n",
      "942:\tlearn: 6.6380784\ttotal: 49.4s\tremaining: 2.98s\n",
      "943:\tlearn: 6.6375516\ttotal: 49.4s\tremaining: 2.93s\n",
      "944:\tlearn: 6.6372201\ttotal: 49.5s\tremaining: 2.88s\n",
      "945:\tlearn: 6.6352434\ttotal: 49.6s\tremaining: 2.83s\n",
      "946:\tlearn: 6.6351855\ttotal: 49.6s\tremaining: 2.78s\n",
      "947:\tlearn: 6.6347092\ttotal: 49.7s\tremaining: 2.72s\n",
      "948:\tlearn: 6.6337895\ttotal: 49.7s\tremaining: 2.67s\n",
      "949:\tlearn: 6.6337173\ttotal: 49.7s\tremaining: 2.62s\n",
      "950:\tlearn: 6.6336788\ttotal: 49.8s\tremaining: 2.56s\n",
      "951:\tlearn: 6.6314999\ttotal: 49.8s\tremaining: 2.51s\n",
      "952:\tlearn: 6.6310928\ttotal: 49.8s\tremaining: 2.46s\n",
      "953:\tlearn: 6.6310599\ttotal: 49.9s\tremaining: 2.4s\n",
      "954:\tlearn: 6.6307362\ttotal: 49.9s\tremaining: 2.35s\n",
      "955:\tlearn: 6.6306373\ttotal: 50s\tremaining: 2.3s\n",
      "956:\tlearn: 6.6304460\ttotal: 50s\tremaining: 2.25s\n",
      "957:\tlearn: 6.6303351\ttotal: 50s\tremaining: 2.19s\n",
      "958:\tlearn: 6.6301196\ttotal: 50.1s\tremaining: 2.14s\n",
      "959:\tlearn: 6.6300267\ttotal: 50.1s\tremaining: 2.09s\n",
      "960:\tlearn: 6.6299160\ttotal: 50.1s\tremaining: 2.03s\n",
      "961:\tlearn: 6.6297495\ttotal: 50.2s\tremaining: 1.98s\n",
      "962:\tlearn: 6.6296597\ttotal: 50.2s\tremaining: 1.93s\n",
      "963:\tlearn: 6.6294560\ttotal: 50.3s\tremaining: 1.88s\n",
      "964:\tlearn: 6.6293726\ttotal: 50.3s\tremaining: 1.83s\n",
      "965:\tlearn: 6.6292391\ttotal: 50.4s\tremaining: 1.77s\n",
      "966:\tlearn: 6.6291641\ttotal: 50.5s\tremaining: 1.72s\n",
      "967:\tlearn: 6.6287339\ttotal: 50.6s\tremaining: 1.67s\n",
      "968:\tlearn: 6.6286259\ttotal: 50.6s\tremaining: 1.62s\n",
      "969:\tlearn: 6.6266314\ttotal: 50.7s\tremaining: 1.57s\n",
      "970:\tlearn: 6.6259451\ttotal: 50.8s\tremaining: 1.52s\n",
      "971:\tlearn: 6.6257588\ttotal: 50.8s\tremaining: 1.46s\n",
      "972:\tlearn: 6.6256870\ttotal: 50.9s\tremaining: 1.41s\n",
      "973:\tlearn: 6.6255798\ttotal: 51s\tremaining: 1.36s\n",
      "974:\tlearn: 6.6252194\ttotal: 51.2s\tremaining: 1.31s\n",
      "975:\tlearn: 6.6248478\ttotal: 51.4s\tremaining: 1.26s\n",
      "976:\tlearn: 6.6244587\ttotal: 51.6s\tremaining: 1.22s\n",
      "977:\tlearn: 6.6238870\ttotal: 51.9s\tremaining: 1.17s\n",
      "978:\tlearn: 6.6230946\ttotal: 52.1s\tremaining: 1.12s\n",
      "979:\tlearn: 6.6229746\ttotal: 52.2s\tremaining: 1.07s\n",
      "980:\tlearn: 6.6229205\ttotal: 52.4s\tremaining: 1.01s\n",
      "981:\tlearn: 6.6228210\ttotal: 52.5s\tremaining: 963ms\n",
      "982:\tlearn: 6.6208211\ttotal: 52.6s\tremaining: 910ms\n",
      "983:\tlearn: 6.6190057\ttotal: 52.7s\tremaining: 857ms\n",
      "984:\tlearn: 6.6189370\ttotal: 52.8s\tremaining: 803ms\n",
      "985:\tlearn: 6.6188603\ttotal: 52.8s\tremaining: 750ms\n",
      "986:\tlearn: 6.6187879\ttotal: 52.9s\tremaining: 697ms\n",
      "987:\tlearn: 6.6187602\ttotal: 53s\tremaining: 644ms\n",
      "988:\tlearn: 6.6187063\ttotal: 53.1s\tremaining: 590ms\n",
      "989:\tlearn: 6.6169174\ttotal: 53.2s\tremaining: 537ms\n",
      "990:\tlearn: 6.6168619\ttotal: 53.2s\tremaining: 483ms\n",
      "991:\tlearn: 6.6167669\ttotal: 53.3s\tremaining: 430ms\n",
      "992:\tlearn: 6.6166719\ttotal: 53.4s\tremaining: 376ms\n",
      "993:\tlearn: 6.6165853\ttotal: 53.5s\tremaining: 323ms\n",
      "994:\tlearn: 6.6164571\ttotal: 53.6s\tremaining: 269ms\n",
      "995:\tlearn: 6.6152644\ttotal: 53.6s\tremaining: 215ms\n",
      "996:\tlearn: 6.6150796\ttotal: 53.7s\tremaining: 162ms\n",
      "997:\tlearn: 6.6150713\ttotal: 53.8s\tremaining: 108ms\n",
      "998:\tlearn: 6.6149591\ttotal: 53.9s\tremaining: 53.9ms\n",
      "999:\tlearn: 6.6140041\ttotal: 54s\tremaining: 0us\n",
      "R2 Score: 0.526612404228383\n",
      "Mean Squared Error: 52.594487390529494\n",
      "Mean Absolute Error: 1.123855520871586\n",
      "Mean Absolute Percentage Error: 2.2797474983594905\n",
      "Root Mean Squared Error: 7.2522056914106825\n",
      "\n",
      "Score of CatBoost Regressor is:  0.4842177536816994\n"
     ]
    }
   ],
   "source": [
    "cat = catboost.CatBoostRegressor()\n",
    "cat.fit(X_train, y_train)\n",
    "cat_pred = cat.predict(X_val)\n",
    "print(f'R2 Score: {r2_score(cat_pred, y_val)}')\n",
    "print(f'Mean Squared Error: {mean_squared_error(cat_pred, y_val)}')\n",
    "print(f'Mean Absolute Error: {mean_absolute_error(cat_pred, y_val)}')\n",
    "print(f'Mean Absolute Percentage Error: {mean_absolute_percentage_error(cat_pred, y_val)}')\n",
    "\n",
    "RMSE = mean_squared_error(cat_pred, y_val, squared=False)\n",
    "print(f'Root Mean Squared Error: {RMSE}')\n",
    "CAT_Score = np.exp(-RMSE/10)\n",
    "print()\n",
    "print('Score of CatBoost Regressor is: ', CAT_Score)"
   ]
  },
  {
   "cell_type": "markdown",
   "id": "61ae516c",
   "metadata": {
    "id": "61ae516c",
    "pycharm": {
     "name": "#%% md\n"
    }
   },
   "source": [
    "### XGBoost Regressor"
   ]
  },
  {
   "cell_type": "code",
   "execution_count": null,
   "id": "6d2773a4",
   "metadata": {
    "colab": {
     "base_uri": "https://localhost:8080/"
    },
    "id": "6d2773a4",
    "outputId": "82f1d226-24a7-4906-a72b-f0ee2bea9701",
    "pycharm": {
     "name": "#%%\n"
    }
   },
   "outputs": [
    {
     "name": "stdout",
     "output_type": "stream",
     "text": [
      "R2 Score: 0.5166323196974775\n",
      "Mean Squared Error: 54.40152504474968\n",
      "Mean Absolute Error: 1.1311425713576804\n",
      "Mean Absolute Percentage Error: 15.35459059434508\n",
      "Root Mean Squared Error: 7.375738949064675\n",
      "\n",
      "Score of XGBoost Regressor is:  0.47827284930079267\n"
     ]
    }
   ],
   "source": [
    "xgb = xgboost.XGBRegressor()\n",
    "xgb.fit(X_train, y_train)\n",
    "xgb_pred = xgb.predict(X_val)\n",
    "print(f'R2 Score: {r2_score(xgb_pred, y_val)}')\n",
    "print(f'Mean Squared Error: {mean_squared_error(xgb_pred, y_val)}')\n",
    "print(f'Mean Absolute Error: {mean_absolute_error(xgb_pred, y_val)}')\n",
    "print(f'Mean Absolute Percentage Error: {mean_absolute_percentage_error(xgb_pred, y_val)}')\n",
    "\n",
    "RMSE = mean_squared_error(xgb_pred, y_val, squared=False)\n",
    "print(f'Root Mean Squared Error: {RMSE}')\n",
    "XGB_Score = np.exp(-RMSE/10)\n",
    "print()\n",
    "print('Score of XGBoost Regressor is: ', XGB_Score)"
   ]
  },
  {
   "cell_type": "markdown",
   "id": "a912e664",
   "metadata": {
    "id": "a912e664",
    "pycharm": {
     "name": "#%% md\n"
    }
   },
   "source": [
    "## Hyperparameter Tuning"
   ]
  },
  {
   "cell_type": "markdown",
   "id": "0b32d9c4",
   "metadata": {
    "id": "0b32d9c4",
    "pycharm": {
     "name": "#%% md\n"
    }
   },
   "source": [
    "### Bayesian Optimization"
   ]
  },
  {
   "cell_type": "markdown",
   "id": "def7cd6f",
   "metadata": {
    "id": "def7cd6f",
    "pycharm": {
     "name": "#%% md\n"
    }
   },
   "source": [
    "#### 1. Bayesian Optimization using bayes_opt library on LGBMRegressor"
   ]
  },
  {
   "cell_type": "code",
   "execution_count": null,
   "id": "2817e2a4",
   "metadata": {
    "colab": {
     "base_uri": "https://localhost:8080/",
     "height": 578
    },
    "id": "2817e2a4",
    "outputId": "e15c6ec1-798f-44ff-9796-b014557e3ad8",
    "pycharm": {
     "name": "#%%\n"
    }
   },
   "outputs": [
    {
     "name": "stdout",
     "output_type": "stream",
     "text": [
      "|   iter    |  target   | learni... | max_depth | min_ch... | num_le... | subsample |\n",
      "-------------------------------------------------------------------------------------\n",
      "| \u001B[0m1        \u001B[0m | \u001B[0m63.1     \u001B[0m | \u001B[0m0.1879   \u001B[0m | \u001B[0m14.31    \u001B[0m | \u001B[0m29.55    \u001B[0m | \u001B[0m602.7    \u001B[0m | \u001B[0m0.1645   \u001B[0m |\n",
      "| \u001B[95m2        \u001B[0m | \u001B[95m124.0    \u001B[0m | \u001B[95m0.07884  \u001B[0m | \u001B[95m1.813    \u001B[0m | \u001B[95m34.78    \u001B[0m | \u001B[95m605.1    \u001B[0m | \u001B[95m0.711    \u001B[0m |\n",
      "| \u001B[0m3        \u001B[0m | \u001B[0m69.89    \u001B[0m | \u001B[0m0.01127  \u001B[0m | \u001B[0m14.58    \u001B[0m | \u001B[0m33.47    \u001B[0m | \u001B[0m220.2    \u001B[0m | \u001B[0m0.19     \u001B[0m |\n",
      "| \u001B[0m4        \u001B[0m | \u001B[0m58.78    \u001B[0m | \u001B[0m0.09252  \u001B[0m | \u001B[0m5.259    \u001B[0m | \u001B[0m21.47    \u001B[0m | \u001B[0m437.6    \u001B[0m | \u001B[0m0.2983   \u001B[0m |\n",
      "| \u001B[0m5        \u001B[0m | \u001B[0m68.62    \u001B[0m | \u001B[0m0.3063   \u001B[0m | \u001B[0m2.953    \u001B[0m | \u001B[0m12.39    \u001B[0m | \u001B[0m372.7    \u001B[0m | \u001B[0m0.4615   \u001B[0m |\n",
      "| \u001B[0m6        \u001B[0m | \u001B[0m59.5     \u001B[0m | \u001B[0m0.3928   \u001B[0m | \u001B[0m3.795    \u001B[0m | \u001B[0m21.06    \u001B[0m | \u001B[0m596.5    \u001B[0m | \u001B[0m0.05599  \u001B[0m |\n",
      "| \u001B[0m7        \u001B[0m | \u001B[0m60.09    \u001B[0m | \u001B[0m0.3042   \u001B[0m | \u001B[0m3.387    \u001B[0m | \u001B[0m3.537    \u001B[0m | \u001B[0m949.4    \u001B[0m | \u001B[0m0.966    \u001B[0m |\n",
      "| \u001B[0m8        \u001B[0m | \u001B[0m62.98    \u001B[0m | \u001B[0m0.4044   \u001B[0m | \u001B[0m5.265    \u001B[0m | \u001B[0m4.809    \u001B[0m | \u001B[0m687.4    \u001B[0m | \u001B[0m0.4458   \u001B[0m |\n",
      "| \u001B[0m9        \u001B[0m | \u001B[0m66.26    \u001B[0m | \u001B[0m0.0619   \u001B[0m | \u001B[0m7.932    \u001B[0m | \u001B[0m2.341    \u001B[0m | \u001B[0m910.2    \u001B[0m | \u001B[0m0.2662   \u001B[0m |\n",
      "| \u001B[0m10       \u001B[0m | \u001B[0m59.75    \u001B[0m | \u001B[0m0.3316   \u001B[0m | \u001B[0m5.364    \u001B[0m | \u001B[0m21.28    \u001B[0m | \u001B[0m551.2    \u001B[0m | \u001B[0m0.193    \u001B[0m |\n",
      "\u001B[91mData point [7.88412656e-02 1.81317057e+00 3.47808697e+01 6.05103862e+02\n",
      " 7.10991852e-01] is not unique. 1 duplicates registered. Continuing ...\u001B[0m\n",
      "| \u001B[0m11       \u001B[0m | \u001B[0m124.0    \u001B[0m | \u001B[0m0.07884  \u001B[0m | \u001B[0m1.813    \u001B[0m | \u001B[0m34.78    \u001B[0m | \u001B[0m605.1    \u001B[0m | \u001B[0m0.711    \u001B[0m |\n",
      "| \u001B[0m12       \u001B[0m | \u001B[0m66.92    \u001B[0m | \u001B[0m0.4533   \u001B[0m | \u001B[0m2.475    \u001B[0m | \u001B[0m6.744    \u001B[0m | \u001B[0m926.0    \u001B[0m | \u001B[0m0.773    \u001B[0m |\n",
      "| \u001B[0m13       \u001B[0m | \u001B[0m111.7    \u001B[0m | \u001B[0m0.2924   \u001B[0m | \u001B[0m1.669    \u001B[0m | \u001B[0m2.397    \u001B[0m | \u001B[0m113.5    \u001B[0m | \u001B[0m0.2409   \u001B[0m |\n",
      "| \u001B[0m14       \u001B[0m | \u001B[0m63.2     \u001B[0m | \u001B[0m0.2348   \u001B[0m | \u001B[0m14.9     \u001B[0m | \u001B[0m36.95    \u001B[0m | \u001B[0m437.5    \u001B[0m | \u001B[0m0.3224   \u001B[0m |\n",
      "| \u001B[0m15       \u001B[0m | \u001B[0m72.94    \u001B[0m | \u001B[0m0.1638   \u001B[0m | \u001B[0m2.372    \u001B[0m | \u001B[0m35.75    \u001B[0m | \u001B[0m605.9    \u001B[0m | \u001B[0m0.8529   \u001B[0m |\n",
      "| \u001B[0m16       \u001B[0m | \u001B[0m59.14    \u001B[0m | \u001B[0m0.2461   \u001B[0m | \u001B[0m4.58     \u001B[0m | \u001B[0m29.67    \u001B[0m | \u001B[0m599.8    \u001B[0m | \u001B[0m0.8001   \u001B[0m |\n",
      "| \u001B[0m17       \u001B[0m | \u001B[0m59.73    \u001B[0m | \u001B[0m0.03866  \u001B[0m | \u001B[0m12.37    \u001B[0m | \u001B[0m19.2     \u001B[0m | \u001B[0m312.7    \u001B[0m | \u001B[0m0.3058   \u001B[0m |\n",
      "| \u001B[0m18       \u001B[0m | \u001B[0m60.04    \u001B[0m | \u001B[0m0.04217  \u001B[0m | \u001B[0m13.65    \u001B[0m | \u001B[0m24.16    \u001B[0m | \u001B[0m752.3    \u001B[0m | \u001B[0m0.7506   \u001B[0m |\n",
      "| \u001B[0m19       \u001B[0m | \u001B[0m68.78    \u001B[0m | \u001B[0m0.2672   \u001B[0m | \u001B[0m2.104    \u001B[0m | \u001B[0m34.48    \u001B[0m | \u001B[0m606.0    \u001B[0m | \u001B[0m0.2434   \u001B[0m |\n",
      "| \u001B[95m20       \u001B[0m | \u001B[95m131.2    \u001B[0m | \u001B[95m0.03636  \u001B[0m | \u001B[95m1.505    \u001B[0m | \u001B[95m34.34    \u001B[0m | \u001B[95m604.9    \u001B[0m | \u001B[95m0.672    \u001B[0m |\n",
      "=====================================================================================\n",
      "Best score: 131.171239\n",
      "Best parameters:  {'learning_rate': 0.03636189468550917, 'max_depth': 1.5050677652239077, 'min_child_samples': 34.3406182259693, 'num_leaves': 604.8996114429497, 'subsample': 0.6719801831853792}\n"
     ]
    },
    {
     "data": {
      "text/html": [
       "<style>#sk-container-id-6 {color: black;background-color: white;}#sk-container-id-6 pre{padding: 0;}#sk-container-id-6 div.sk-toggleable {background-color: white;}#sk-container-id-6 label.sk-toggleable__label {cursor: pointer;display: block;width: 100%;margin-bottom: 0;padding: 0.3em;box-sizing: border-box;text-align: center;}#sk-container-id-6 label.sk-toggleable__label-arrow:before {content: \"▸\";float: left;margin-right: 0.25em;color: #696969;}#sk-container-id-6 label.sk-toggleable__label-arrow:hover:before {color: black;}#sk-container-id-6 div.sk-estimator:hover label.sk-toggleable__label-arrow:before {color: black;}#sk-container-id-6 div.sk-toggleable__content {max-height: 0;max-width: 0;overflow: hidden;text-align: left;background-color: #f0f8ff;}#sk-container-id-6 div.sk-toggleable__content pre {margin: 0.2em;color: black;border-radius: 0.25em;background-color: #f0f8ff;}#sk-container-id-6 input.sk-toggleable__control:checked~div.sk-toggleable__content {max-height: 200px;max-width: 100%;overflow: auto;}#sk-container-id-6 input.sk-toggleable__control:checked~label.sk-toggleable__label-arrow:before {content: \"▾\";}#sk-container-id-6 div.sk-estimator input.sk-toggleable__control:checked~label.sk-toggleable__label {background-color: #d4ebff;}#sk-container-id-6 div.sk-label input.sk-toggleable__control:checked~label.sk-toggleable__label {background-color: #d4ebff;}#sk-container-id-6 input.sk-hidden--visually {border: 0;clip: rect(1px 1px 1px 1px);clip: rect(1px, 1px, 1px, 1px);height: 1px;margin: -1px;overflow: hidden;padding: 0;position: absolute;width: 1px;}#sk-container-id-6 div.sk-estimator {font-family: monospace;background-color: #f0f8ff;border: 1px dotted black;border-radius: 0.25em;box-sizing: border-box;margin-bottom: 0.5em;}#sk-container-id-6 div.sk-estimator:hover {background-color: #d4ebff;}#sk-container-id-6 div.sk-parallel-item::after {content: \"\";width: 100%;border-bottom: 1px solid gray;flex-grow: 1;}#sk-container-id-6 div.sk-label:hover label.sk-toggleable__label {background-color: #d4ebff;}#sk-container-id-6 div.sk-serial::before {content: \"\";position: absolute;border-left: 1px solid gray;box-sizing: border-box;top: 0;bottom: 0;left: 50%;z-index: 0;}#sk-container-id-6 div.sk-serial {display: flex;flex-direction: column;align-items: center;background-color: white;padding-right: 0.2em;padding-left: 0.2em;position: relative;}#sk-container-id-6 div.sk-item {position: relative;z-index: 1;}#sk-container-id-6 div.sk-parallel {display: flex;align-items: stretch;justify-content: center;background-color: white;position: relative;}#sk-container-id-6 div.sk-item::before, #sk-container-id-6 div.sk-parallel-item::before {content: \"\";position: absolute;border-left: 1px solid gray;box-sizing: border-box;top: 0;bottom: 0;left: 50%;z-index: -1;}#sk-container-id-6 div.sk-parallel-item {display: flex;flex-direction: column;z-index: 1;position: relative;background-color: white;}#sk-container-id-6 div.sk-parallel-item:first-child::after {align-self: flex-end;width: 50%;}#sk-container-id-6 div.sk-parallel-item:last-child::after {align-self: flex-start;width: 50%;}#sk-container-id-6 div.sk-parallel-item:only-child::after {width: 0;}#sk-container-id-6 div.sk-dashed-wrapped {border: 1px dashed gray;margin: 0 0.4em 0.5em 0.4em;box-sizing: border-box;padding-bottom: 0.4em;background-color: white;}#sk-container-id-6 div.sk-label label {font-family: monospace;font-weight: bold;display: inline-block;line-height: 1.2em;}#sk-container-id-6 div.sk-label-container {text-align: center;}#sk-container-id-6 div.sk-container {/* jupyter's `normalize.less` sets `[hidden] { display: none; }` but bootstrap.min.css set `[hidden] { display: none !important; }` so we also need the `!important` here to be able to override the default hidden behavior on the sphinx rendered scikit-learn.org. See: https://github.com/scikit-learn/scikit-learn/issues/21755 */display: inline-block !important;position: relative;}#sk-container-id-6 div.sk-text-repr-fallback {display: none;}</style><div id=\"sk-container-id-6\" class=\"sk-top-container\"><div class=\"sk-text-repr-fallback\"><pre>LGBMRegressor(learning_rate=0.03636189468550917, max_depth=1,\n",
       "              min_child_samples=34, num_leaves=604,\n",
       "              subsample=0.6719801831853792)</pre><b>In a Jupyter environment, please rerun this cell to show the HTML representation or trust the notebook. <br />On GitHub, the HTML representation is unable to render, please try loading this page with nbviewer.org.</b></div><div class=\"sk-container\" hidden><div class=\"sk-item\"><div class=\"sk-estimator sk-toggleable\"><input class=\"sk-toggleable__control sk-hidden--visually\" id=\"sk-estimator-id-6\" type=\"checkbox\" checked><label for=\"sk-estimator-id-6\" class=\"sk-toggleable__label sk-toggleable__label-arrow\">LGBMRegressor</label><div class=\"sk-toggleable__content\"><pre>LGBMRegressor(learning_rate=0.03636189468550917, max_depth=1,\n",
       "              min_child_samples=34, num_leaves=604,\n",
       "              subsample=0.6719801831853792)</pre></div></div></div></div></div>"
      ],
      "text/plain": [
       "LGBMRegressor(learning_rate=0.03636189468550917, max_depth=1,\n",
       "              min_child_samples=34, num_leaves=604,\n",
       "              subsample=0.6719801831853792)"
      ]
     },
     "execution_count": 40,
     "metadata": {},
     "output_type": "execute_result"
    }
   ],
   "source": [
    "def lgbm_objective(num_leaves, learning_rate, max_depth, min_child_samples, subsample):\n",
    "    model = lightgbm.LGBMRegressor(\n",
    "        num_leaves=int(num_leaves),\n",
    "        learning_rate=learning_rate,\n",
    "        max_depth=int(max_depth),\n",
    "        min_child_samples=int(min_child_samples),\n",
    "        subsample=subsample,\n",
    "        n_jobs=-1\n",
    "    )\n",
    "    score = -cross_val_score(model, X_train, y_train, cv=5, scoring='neg_mean_squared_error').mean()\n",
    "    return score\n",
    "\n",
    "pbounds = {\n",
    "    'num_leaves': (10, 1000),\n",
    "    'learning_rate': (0.001, 0.5),\n",
    "    'max_depth': (1, 15),\n",
    "    'min_child_samples': (1, 40),\n",
    "    'subsample': (0.01, 1.0)\n",
    "}\n",
    "\n",
    "optimizer = BayesianOptimization(\n",
    "    f=lgbm_objective,\n",
    "    pbounds=pbounds,\n",
    "    random_state=42,\n",
    "    allow_duplicate_points=True\n",
    ")\n",
    "\n",
    "optimizer.maximize(\n",
    "    init_points=10,\n",
    "    n_iter=10\n",
    ")\n",
    "\n",
    "best_params = optimizer.max['params']\n",
    "print(\"Best score: %f\" % (optimizer.max['target']))\n",
    "print(\"Best parameters: \", best_params)\n",
    "\n",
    "best_model = lightgbm.LGBMRegressor(\n",
    "    num_leaves=int(best_params['num_leaves']),\n",
    "    learning_rate=best_params['learning_rate'],\n",
    "    max_depth=int(best_params['max_depth']),\n",
    "    min_child_samples=int(best_params['min_child_samples']),\n",
    "    subsample=best_params['subsample'],\n",
    "    n_jobs=-1\n",
    ")\n",
    "\n",
    "best_model.fit(X_train, y_train)"
   ]
  },
  {
   "cell_type": "code",
   "execution_count": null,
   "id": "6aa744e9",
   "metadata": {
    "colab": {
     "base_uri": "https://localhost:8080/"
    },
    "id": "6aa744e9",
    "outputId": "9e934ba4-7359-4520-d4ac-e6f6b85928ab",
    "pycharm": {
     "name": "#%%\n"
    }
   },
   "outputs": [
    {
     "name": "stdout",
     "output_type": "stream",
     "text": [
      "R2 Score: -5.948795877997159\n",
      "Mean Squared Error: 119.46584938025548\n",
      "Mean Absolute Error: 3.279953389662574\n",
      "Mean Absolute Percentage Error: 1.1570234048375387\n",
      "Root Mean Squared Error: 10.930043429934553\n",
      "\n",
      "Score of LightGBM Regressor is:  0.33520789987911803\n"
     ]
    }
   ],
   "source": [
    "best_lgbm_pred = best_model.predict(X_val)\n",
    "print(f'R2 Score: {r2_score(best_lgbm_pred, y_val)}')\n",
    "print(f'Mean Squared Error: {mean_squared_error(best_lgbm_pred, y_val)}')\n",
    "print(f'Mean Absolute Error: {mean_absolute_error(best_lgbm_pred, y_val)}')\n",
    "print(f'Mean Absolute Percentage Error: {mean_absolute_percentage_error(best_lgbm_pred, y_val)}')\n",
    "\n",
    "RMSE = mean_squared_error(best_lgbm_pred, y_val, squared=False)\n",
    "print(f'Root Mean Squared Error: {RMSE}')\n",
    "LGBM_Score = np.exp(-RMSE/10)\n",
    "print()\n",
    "print('Score of LightGBM Regressor is: ', LGBM_Score)"
   ]
  },
  {
   "cell_type": "markdown",
   "id": "553b48de",
   "metadata": {
    "id": "553b48de",
    "pycharm": {
     "name": "#%% md\n"
    }
   },
   "source": [
    "#### 2. Bayesian Optimization using bayes_opt library on XGBRegressor"
   ]
  },
  {
   "cell_type": "code",
   "execution_count": null,
   "id": "fe355086",
   "metadata": {
    "colab": {
     "base_uri": "https://localhost:8080/",
     "height": 580
    },
    "id": "fe355086",
    "outputId": "de8318d6-1ec4-4a47-a11b-981f89d83b10",
    "pycharm": {
     "name": "#%%\n"
    }
   },
   "outputs": [
    {
     "name": "stdout",
     "output_type": "stream",
     "text": [
      "|   iter    |  target   | colsam... | learni... | max_depth | subsample |\n",
      "-------------------------------------------------------------------------\n",
      "| \u001B[0m1        \u001B[0m | \u001B[0m-67.11   \u001B[0m | \u001B[0m0.4371   \u001B[0m | \u001B[0m0.4759   \u001B[0m | \u001B[0m7.588    \u001B[0m | \u001B[0m0.6388   \u001B[0m |\n",
      "| \u001B[0m2        \u001B[0m | \u001B[0m-123.8   \u001B[0m | \u001B[0m0.2404   \u001B[0m | \u001B[0m0.08644  \u001B[0m | \u001B[0m1.523    \u001B[0m | \u001B[0m0.8796   \u001B[0m |\n",
      "| \u001B[0m3        \u001B[0m | \u001B[0m-110.4   \u001B[0m | \u001B[0m0.641    \u001B[0m | \u001B[0m0.357    \u001B[0m | \u001B[0m1.185    \u001B[0m | \u001B[0m0.9729   \u001B[0m |\n",
      "| \u001B[0m4        \u001B[0m | \u001B[0m-81.16   \u001B[0m | \u001B[0m0.8492   \u001B[0m | \u001B[0m0.114    \u001B[0m | \u001B[0m2.636    \u001B[0m | \u001B[0m0.2651   \u001B[0m |\n",
      "| \u001B[95m5        \u001B[0m | \u001B[95m-61.47   \u001B[0m | \u001B[95m0.3738   \u001B[0m | \u001B[95m0.2671   \u001B[0m | \u001B[95m4.888    \u001B[0m | \u001B[95m0.3621   \u001B[0m |\n",
      "| \u001B[0m6        \u001B[0m | \u001B[0m-66.67   \u001B[0m | \u001B[0m0.6507   \u001B[0m | \u001B[0m0.07835  \u001B[0m | \u001B[0m3.629    \u001B[0m | \u001B[0m0.4297   \u001B[0m |\n",
      "| \u001B[0m7        \u001B[0m | \u001B[0m-69.69   \u001B[0m | \u001B[0m0.5105   \u001B[0m | \u001B[0m0.3947   \u001B[0m | \u001B[0m2.797    \u001B[0m | \u001B[0m0.5628   \u001B[0m |\n",
      "| \u001B[95m8        \u001B[0m | \u001B[95m-60.27   \u001B[0m | \u001B[95m0.6332   \u001B[0m | \u001B[95m0.03276  \u001B[0m | \u001B[95m6.468    \u001B[0m | \u001B[95m0.2535   \u001B[0m |\n",
      "| \u001B[0m9        \u001B[0m | \u001B[0m-65.55   \u001B[0m | \u001B[0m0.1585   \u001B[0m | \u001B[0m0.475    \u001B[0m | \u001B[0m9.691    \u001B[0m | \u001B[0m0.8276   \u001B[0m |\n",
      "| \u001B[0m10       \u001B[0m | \u001B[0m-60.84   \u001B[0m | \u001B[0m0.3742   \u001B[0m | \u001B[0m0.05786  \u001B[0m | \u001B[0m7.158    \u001B[0m | \u001B[0m0.4961   \u001B[0m |\n",
      "| \u001B[0m11       \u001B[0m | \u001B[0m-74.18   \u001B[0m | \u001B[0m0.1      \u001B[0m | \u001B[0m0.5      \u001B[0m | \u001B[0m6.008    \u001B[0m | \u001B[0m1.0      \u001B[0m |\n",
      "| \u001B[0m12       \u001B[0m | \u001B[0m-61.36   \u001B[0m | \u001B[0m0.9964   \u001B[0m | \u001B[0m0.04325  \u001B[0m | \u001B[0m9.038    \u001B[0m | \u001B[0m0.1671   \u001B[0m |\n",
      "| \u001B[0m13       \u001B[0m | \u001B[0m-63.24   \u001B[0m | \u001B[0m1.0      \u001B[0m | \u001B[0m0.5      \u001B[0m | \u001B[0m4.451    \u001B[0m | \u001B[0m1.0      \u001B[0m |\n",
      "=========================================================================\n",
      "Best score: -60.269614\n",
      "Best parameters:  {'colsample_bytree': 0.6331731119758383, 'learning_rate': 0.03276070223279889, 'max_depth': 6.467903667112945, 'subsample': 0.2534717113185624}\n"
     ]
    },
    {
     "data": {
      "text/html": [
       "<style>#sk-container-id-1 {color: black;background-color: white;}#sk-container-id-1 pre{padding: 0;}#sk-container-id-1 div.sk-toggleable {background-color: white;}#sk-container-id-1 label.sk-toggleable__label {cursor: pointer;display: block;width: 100%;margin-bottom: 0;padding: 0.3em;box-sizing: border-box;text-align: center;}#sk-container-id-1 label.sk-toggleable__label-arrow:before {content: \"▸\";float: left;margin-right: 0.25em;color: #696969;}#sk-container-id-1 label.sk-toggleable__label-arrow:hover:before {color: black;}#sk-container-id-1 div.sk-estimator:hover label.sk-toggleable__label-arrow:before {color: black;}#sk-container-id-1 div.sk-toggleable__content {max-height: 0;max-width: 0;overflow: hidden;text-align: left;background-color: #f0f8ff;}#sk-container-id-1 div.sk-toggleable__content pre {margin: 0.2em;color: black;border-radius: 0.25em;background-color: #f0f8ff;}#sk-container-id-1 input.sk-toggleable__control:checked~div.sk-toggleable__content {max-height: 200px;max-width: 100%;overflow: auto;}#sk-container-id-1 input.sk-toggleable__control:checked~label.sk-toggleable__label-arrow:before {content: \"▾\";}#sk-container-id-1 div.sk-estimator input.sk-toggleable__control:checked~label.sk-toggleable__label {background-color: #d4ebff;}#sk-container-id-1 div.sk-label input.sk-toggleable__control:checked~label.sk-toggleable__label {background-color: #d4ebff;}#sk-container-id-1 input.sk-hidden--visually {border: 0;clip: rect(1px 1px 1px 1px);clip: rect(1px, 1px, 1px, 1px);height: 1px;margin: -1px;overflow: hidden;padding: 0;position: absolute;width: 1px;}#sk-container-id-1 div.sk-estimator {font-family: monospace;background-color: #f0f8ff;border: 1px dotted black;border-radius: 0.25em;box-sizing: border-box;margin-bottom: 0.5em;}#sk-container-id-1 div.sk-estimator:hover {background-color: #d4ebff;}#sk-container-id-1 div.sk-parallel-item::after {content: \"\";width: 100%;border-bottom: 1px solid gray;flex-grow: 1;}#sk-container-id-1 div.sk-label:hover label.sk-toggleable__label {background-color: #d4ebff;}#sk-container-id-1 div.sk-serial::before {content: \"\";position: absolute;border-left: 1px solid gray;box-sizing: border-box;top: 0;bottom: 0;left: 50%;z-index: 0;}#sk-container-id-1 div.sk-serial {display: flex;flex-direction: column;align-items: center;background-color: white;padding-right: 0.2em;padding-left: 0.2em;position: relative;}#sk-container-id-1 div.sk-item {position: relative;z-index: 1;}#sk-container-id-1 div.sk-parallel {display: flex;align-items: stretch;justify-content: center;background-color: white;position: relative;}#sk-container-id-1 div.sk-item::before, #sk-container-id-1 div.sk-parallel-item::before {content: \"\";position: absolute;border-left: 1px solid gray;box-sizing: border-box;top: 0;bottom: 0;left: 50%;z-index: -1;}#sk-container-id-1 div.sk-parallel-item {display: flex;flex-direction: column;z-index: 1;position: relative;background-color: white;}#sk-container-id-1 div.sk-parallel-item:first-child::after {align-self: flex-end;width: 50%;}#sk-container-id-1 div.sk-parallel-item:last-child::after {align-self: flex-start;width: 50%;}#sk-container-id-1 div.sk-parallel-item:only-child::after {width: 0;}#sk-container-id-1 div.sk-dashed-wrapped {border: 1px dashed gray;margin: 0 0.4em 0.5em 0.4em;box-sizing: border-box;padding-bottom: 0.4em;background-color: white;}#sk-container-id-1 div.sk-label label {font-family: monospace;font-weight: bold;display: inline-block;line-height: 1.2em;}#sk-container-id-1 div.sk-label-container {text-align: center;}#sk-container-id-1 div.sk-container {/* jupyter's `normalize.less` sets `[hidden] { display: none; }` but bootstrap.min.css set `[hidden] { display: none !important; }` so we also need the `!important` here to be able to override the default hidden behavior on the sphinx rendered scikit-learn.org. See: https://github.com/scikit-learn/scikit-learn/issues/21755 */display: inline-block !important;position: relative;}#sk-container-id-1 div.sk-text-repr-fallback {display: none;}</style><div id=\"sk-container-id-1\" class=\"sk-top-container\"><div class=\"sk-text-repr-fallback\"><pre>XGBRegressor(base_score=None, booster=None, callbacks=None,\n",
       "             colsample_bylevel=None, colsample_bynode=None,\n",
       "             colsample_bytree=0.6331731119758383, early_stopping_rounds=None,\n",
       "             enable_categorical=False, eval_metric=None, feature_types=None,\n",
       "             gamma=None, gpu_id=None, grow_policy=None, importance_type=None,\n",
       "             interaction_constraints=None, learning_rate=0.03276070223279889,\n",
       "             max_bin=None, max_cat_threshold=None, max_cat_to_onehot=None,\n",
       "             max_delta_step=None, max_depth=6, max_leaves=None,\n",
       "             min_child_weight=None, missing=nan, monotone_constraints=None,\n",
       "             n_estimators=100, n_jobs=-1, num_parallel_tree=None,\n",
       "             predictor=None, random_state=None, ...)</pre><b>In a Jupyter environment, please rerun this cell to show the HTML representation or trust the notebook. <br />On GitHub, the HTML representation is unable to render, please try loading this page with nbviewer.org.</b></div><div class=\"sk-container\" hidden><div class=\"sk-item\"><div class=\"sk-estimator sk-toggleable\"><input class=\"sk-toggleable__control sk-hidden--visually\" id=\"sk-estimator-id-1\" type=\"checkbox\" checked><label for=\"sk-estimator-id-1\" class=\"sk-toggleable__label sk-toggleable__label-arrow\">XGBRegressor</label><div class=\"sk-toggleable__content\"><pre>XGBRegressor(base_score=None, booster=None, callbacks=None,\n",
       "             colsample_bylevel=None, colsample_bynode=None,\n",
       "             colsample_bytree=0.6331731119758383, early_stopping_rounds=None,\n",
       "             enable_categorical=False, eval_metric=None, feature_types=None,\n",
       "             gamma=None, gpu_id=None, grow_policy=None, importance_type=None,\n",
       "             interaction_constraints=None, learning_rate=0.03276070223279889,\n",
       "             max_bin=None, max_cat_threshold=None, max_cat_to_onehot=None,\n",
       "             max_delta_step=None, max_depth=6, max_leaves=None,\n",
       "             min_child_weight=None, missing=nan, monotone_constraints=None,\n",
       "             n_estimators=100, n_jobs=-1, num_parallel_tree=None,\n",
       "             predictor=None, random_state=None, ...)</pre></div></div></div></div></div>"
      ],
      "text/plain": [
       "XGBRegressor(base_score=None, booster=None, callbacks=None,\n",
       "             colsample_bylevel=None, colsample_bynode=None,\n",
       "             colsample_bytree=0.6331731119758383, early_stopping_rounds=None,\n",
       "             enable_categorical=False, eval_metric=None, feature_types=None,\n",
       "             gamma=None, gpu_id=None, grow_policy=None, importance_type=None,\n",
       "             interaction_constraints=None, learning_rate=0.03276070223279889,\n",
       "             max_bin=None, max_cat_threshold=None, max_cat_to_onehot=None,\n",
       "             max_delta_step=None, max_depth=6, max_leaves=None,\n",
       "             min_child_weight=None, missing=nan, monotone_constraints=None,\n",
       "             n_estimators=100, n_jobs=-1, num_parallel_tree=None,\n",
       "             predictor=None, random_state=None, ...)"
      ]
     },
     "execution_count": 8,
     "metadata": {},
     "output_type": "execute_result"
    }
   ],
   "source": [
    "def xgb_objective(learning_rate, max_depth, subsample, colsample_bytree):\n",
    "    model = xgboost.XGBRegressor(\n",
    "        learning_rate=learning_rate,\n",
    "        max_depth=int(max_depth),\n",
    "        subsample=subsample,\n",
    "        colsample_bytree=colsample_bytree,\n",
    "        n_jobs=-1\n",
    "    )\n",
    "    score = cross_val_score(model, X_train, y_train, cv=5, scoring='neg_mean_squared_error').mean()\n",
    "    return score\n",
    "\n",
    "pbounds = {\n",
    "    'learning_rate': (0.01, 0.5),\n",
    "    'max_depth': (1, 10),\n",
    "    'subsample': (0.1, 1.0),\n",
    "    'colsample_bytree': (0.1, 1.0)\n",
    "}\n",
    "\n",
    "optimizer = BayesianOptimization(\n",
    "    f=xgb_objective,\n",
    "    pbounds=pbounds,\n",
    "    random_state=42\n",
    ")\n",
    "\n",
    "optimizer.maximize(\n",
    "    init_points=10,\n",
    "    n_iter=3\n",
    ")\n",
    "\n",
    "best_params = optimizer.max['params']\n",
    "print(\"Best score: %f\" % (optimizer.max['target']))\n",
    "print(\"Best parameters: \", best_params)\n",
    "\n",
    "best_model = xgboost.XGBRegressor(\n",
    "    learning_rate=best_params['learning_rate'],\n",
    "    max_depth=int(best_params['max_depth']),\n",
    "    subsample=best_params['subsample'],\n",
    "    colsample_bytree=best_params['colsample_bytree'],\n",
    "    n_jobs=-1\n",
    ")\n",
    "\n",
    "best_model.fit(X_train, y_train)"
   ]
  },
  {
   "cell_type": "code",
   "execution_count": null,
   "id": "71f47289",
   "metadata": {
    "colab": {
     "base_uri": "https://localhost:8080/"
    },
    "id": "71f47289",
    "outputId": "3a0d6827-ed69-4ab7-997f-2fa21639ed55",
    "pycharm": {
     "name": "#%%\n"
    }
   },
   "outputs": [
    {
     "name": "stdout",
     "output_type": "stream",
     "text": [
      "R2 Score: 0.41078652845859864\n",
      "Mean Squared Error: 52.38432107594895\n",
      "Mean Absolute Error: 1.199236664678376\n",
      "Mean Absolute Percentage Error: 0.7898712523511333\n",
      "Root Mean Squared Error: 7.237701366867035\n",
      "\n",
      "Score of XGBoost Regressor is:  0.4849205884105533\n"
     ]
    }
   ],
   "source": [
    "# On validation set\n",
    "best_xgb_pred = best_model.predict(X_val)\n",
    "print(f'R2 Score: {r2_score(best_xgb_pred, y_val)}')\n",
    "print(f'Mean Squared Error: {mean_squared_error(best_xgb_pred, y_val)}')\n",
    "print(f'Mean Absolute Error: {mean_absolute_error(best_xgb_pred, y_val)}')\n",
    "print(f'Mean Absolute Percentage Error: {mean_absolute_percentage_error(best_xgb_pred, y_val)}')\n",
    "\n",
    "RMSE = mean_squared_error(best_xgb_pred, y_val, squared=False)\n",
    "print(f'Root Mean Squared Error: {RMSE}')\n",
    "XGB_Score = np.exp(-RMSE/10)\n",
    "print()\n",
    "print('Score of XGBoost Regressor is: ', XGB_Score)"
   ]
  },
  {
   "cell_type": "code",
   "execution_count": null,
   "id": "8089dd5b",
   "metadata": {
    "colab": {
     "base_uri": "https://localhost:8080/"
    },
    "id": "8089dd5b",
    "outputId": "dd6bc50e-1e3e-4e5f-9643-6de62a50f2a5",
    "pycharm": {
     "name": "#%%\n"
    }
   },
   "outputs": [
    {
     "data": {
      "text/plain": [
       "7.329821464633528"
      ]
     },
     "execution_count": 12,
     "metadata": {},
     "output_type": "execute_result"
    }
   ],
   "source": [
    "# On train set\n",
    "mean_squared_error(best_model.predict(X_train), y_train, squared=False)"
   ]
  },
  {
   "cell_type": "code",
   "execution_count": null,
   "id": "cd316e39",
   "metadata": {
    "id": "cd316e39",
    "pycharm": {
     "name": "#%%\n"
    }
   },
   "outputs": [],
   "source": [
    "# Predictions on test set\n",
    "test_pred = best_model.predict(test_mod)"
   ]
  },
  {
   "cell_type": "markdown",
   "id": "cb3eb52e",
   "metadata": {
    "id": "cb3eb52e",
    "pycharm": {
     "name": "#%% md\n"
    }
   },
   "source": [
    "## Feature Importance"
   ]
  },
  {
   "cell_type": "code",
   "execution_count": null,
   "id": "875dbfaf",
   "metadata": {
    "colab": {
     "base_uri": "https://localhost:8080/",
     "height": 206
    },
    "id": "875dbfaf",
    "outputId": "44d45b54-ffcd-45a9-9dc2-acf56aca1628",
    "pycharm": {
     "name": "#%%\n"
    }
   },
   "outputs": [
    {
     "data": {
      "text/html": [
       "\n",
       "  <div id=\"df-611049a5-5e85-43a9-90bf-95b079a3d004\">\n",
       "    <div class=\"colab-df-container\">\n",
       "      <div>\n",
       "<style scoped>\n",
       "    .dataframe tbody tr th:only-of-type {\n",
       "        vertical-align: middle;\n",
       "    }\n",
       "\n",
       "    .dataframe tbody tr th {\n",
       "        vertical-align: top;\n",
       "    }\n",
       "\n",
       "    .dataframe thead th {\n",
       "        text-align: right;\n",
       "    }\n",
       "</style>\n",
       "<table border=\"1\" class=\"dataframe\">\n",
       "  <thead>\n",
       "    <tr style=\"text-align: right;\">\n",
       "      <th></th>\n",
       "      <th>Value</th>\n",
       "      <th>Features</th>\n",
       "    </tr>\n",
       "  </thead>\n",
       "  <tbody>\n",
       "    <tr>\n",
       "      <th>0</th>\n",
       "      <td>0.198587</td>\n",
       "      <td>max_retweets</td>\n",
       "    </tr>\n",
       "    <tr>\n",
       "      <th>1</th>\n",
       "      <td>0.182153</td>\n",
       "      <td>last_sale_year</td>\n",
       "    </tr>\n",
       "    <tr>\n",
       "      <th>2</th>\n",
       "      <td>0.118118</td>\n",
       "      <td>imputed_seller_fees</td>\n",
       "    </tr>\n",
       "    <tr>\n",
       "      <th>3</th>\n",
       "      <td>0.110303</td>\n",
       "      <td>creation_month</td>\n",
       "    </tr>\n",
       "    <tr>\n",
       "      <th>4</th>\n",
       "      <td>0.093145</td>\n",
       "      <td>avg_retweets</td>\n",
       "    </tr>\n",
       "  </tbody>\n",
       "</table>\n",
       "</div>\n",
       "      <button class=\"colab-df-convert\" onclick=\"convertToInteractive('df-611049a5-5e85-43a9-90bf-95b079a3d004')\"\n",
       "              title=\"Convert this dataframe to an interactive table.\"\n",
       "              style=\"display:none;\">\n",
       "        \n",
       "  <svg xmlns=\"http://www.w3.org/2000/svg\" height=\"24px\"viewBox=\"0 0 24 24\"\n",
       "       width=\"24px\">\n",
       "    <path d=\"M0 0h24v24H0V0z\" fill=\"none\"/>\n",
       "    <path d=\"M18.56 5.44l.94 2.06.94-2.06 2.06-.94-2.06-.94-.94-2.06-.94 2.06-2.06.94zm-11 1L8.5 8.5l.94-2.06 2.06-.94-2.06-.94L8.5 2.5l-.94 2.06-2.06.94zm10 10l.94 2.06.94-2.06 2.06-.94-2.06-.94-.94-2.06-.94 2.06-2.06.94z\"/><path d=\"M17.41 7.96l-1.37-1.37c-.4-.4-.92-.59-1.43-.59-.52 0-1.04.2-1.43.59L10.3 9.45l-7.72 7.72c-.78.78-.78 2.05 0 2.83L4 21.41c.39.39.9.59 1.41.59.51 0 1.02-.2 1.41-.59l7.78-7.78 2.81-2.81c.8-.78.8-2.07 0-2.86zM5.41 20L4 18.59l7.72-7.72 1.47 1.35L5.41 20z\"/>\n",
       "  </svg>\n",
       "      </button>\n",
       "      \n",
       "  <style>\n",
       "    .colab-df-container {\n",
       "      display:flex;\n",
       "      flex-wrap:wrap;\n",
       "      gap: 12px;\n",
       "    }\n",
       "\n",
       "    .colab-df-convert {\n",
       "      background-color: #E8F0FE;\n",
       "      border: none;\n",
       "      border-radius: 50%;\n",
       "      cursor: pointer;\n",
       "      display: none;\n",
       "      fill: #1967D2;\n",
       "      height: 32px;\n",
       "      padding: 0 0 0 0;\n",
       "      width: 32px;\n",
       "    }\n",
       "\n",
       "    .colab-df-convert:hover {\n",
       "      background-color: #E2EBFA;\n",
       "      box-shadow: 0px 1px 2px rgba(60, 64, 67, 0.3), 0px 1px 3px 1px rgba(60, 64, 67, 0.15);\n",
       "      fill: #174EA6;\n",
       "    }\n",
       "\n",
       "    [theme=dark] .colab-df-convert {\n",
       "      background-color: #3B4455;\n",
       "      fill: #D2E3FC;\n",
       "    }\n",
       "\n",
       "    [theme=dark] .colab-df-convert:hover {\n",
       "      background-color: #434B5C;\n",
       "      box-shadow: 0px 1px 3px 1px rgba(0, 0, 0, 0.15);\n",
       "      filter: drop-shadow(0px 1px 2px rgba(0, 0, 0, 0.3));\n",
       "      fill: #FFFFFF;\n",
       "    }\n",
       "  </style>\n",
       "\n",
       "      <script>\n",
       "        const buttonEl =\n",
       "          document.querySelector('#df-611049a5-5e85-43a9-90bf-95b079a3d004 button.colab-df-convert');\n",
       "        buttonEl.style.display =\n",
       "          google.colab.kernel.accessAllowed ? 'block' : 'none';\n",
       "\n",
       "        async function convertToInteractive(key) {\n",
       "          const element = document.querySelector('#df-611049a5-5e85-43a9-90bf-95b079a3d004');\n",
       "          const dataTable =\n",
       "            await google.colab.kernel.invokeFunction('convertToInteractive',\n",
       "                                                     [key], {});\n",
       "          if (!dataTable) return;\n",
       "\n",
       "          const docLinkHtml = 'Like what you see? Visit the ' +\n",
       "            '<a target=\"_blank\" href=https://colab.research.google.com/notebooks/data_table.ipynb>data table notebook</a>'\n",
       "            + ' to learn more about interactive tables.';\n",
       "          element.innerHTML = '';\n",
       "          dataTable['output_type'] = 'display_data';\n",
       "          await google.colab.output.renderOutput(dataTable, element);\n",
       "          const docLink = document.createElement('div');\n",
       "          docLink.innerHTML = docLinkHtml;\n",
       "          element.appendChild(docLink);\n",
       "        }\n",
       "      </script>\n",
       "    </div>\n",
       "  </div>\n",
       "  "
      ],
      "text/plain": [
       "      Value             Features\n",
       "0  0.198587         max_retweets\n",
       "1  0.182153       last_sale_year\n",
       "2  0.118118  imputed_seller_fees\n",
       "3  0.110303       creation_month\n",
       "4  0.093145         avg_retweets"
      ]
     },
     "execution_count": 18,
     "metadata": {},
     "output_type": "execute_result"
    }
   ],
   "source": [
    "feature_imp = pd.DataFrame(sorted(zip(best_model.feature_importances_, X_train.columns), reverse=True), columns=['Value', 'Features'])\n",
    "feature_imp.head()"
   ]
  },
  {
   "cell_type": "code",
   "execution_count": null,
   "id": "61b9b58f",
   "metadata": {
    "colab": {
     "base_uri": "https://localhost:8080/",
     "height": 369
    },
    "id": "61b9b58f",
    "outputId": "92372f4a-8c85-47e1-ab3c-a2f661b9b6f0",
    "pycharm": {
     "name": "#%%\n"
    }
   },
   "outputs": [
    {
     "data": {
      "image/png": "[encoded data removed]",
      "text/plain": [
       "<Figure size 720x360 with 1 Axes>"
      ]
     },
     "metadata": {},
     "output_type": "display_data"
    }
   ],
   "source": [
    "plt.figure(figsize=(10,5))\n",
    "sns.barplot(x='Value', y='Features', data=feature_imp)\n",
    "plt.title('XGBRegressor Feature Importances Plot')\n",
    "plt.tight_layout()\n",
    "plt.show()"
   ]
  },
  {
   "cell_type": "code",
   "execution_count": null,
   "id": "c3a847e9",
   "metadata": {
    "id": "c3a847e9",
    "pycharm": {
     "name": "#%%\n"
    }
   },
   "outputs": [],
   "source": []
  },
  {
   "cell_type": "markdown",
   "id": "a5f591eb",
   "metadata": {
    "id": "a5f591eb",
    "pycharm": {
     "name": "#%% md\n"
    }
   },
   "source": [
    "## Model Explainability"
   ]
  },
  {
   "cell_type": "code",
   "execution_count": null,
   "id": "1654c056",
   "metadata": {
    "colab": {
     "base_uri": "https://localhost:8080/"
    },
    "id": "1654c056",
    "outputId": "df2618b0-0eb9-4f8c-e392-4032cca664bc",
    "pycharm": {
     "name": "#%%\n"
    }
   },
   "outputs": [
    {
     "name": "stdout",
     "output_type": "stream",
     "text": [
      "Changing class type to XGBRegressionExplainer...\n",
      "Generating self.shap_explainer = shap.TreeExplainer(model)\n"
     ]
    }
   ],
   "source": [
    "explainer = RegressionExplainer(best_model, X_val, y_val)"
   ]
  },
  {
   "cell_type": "code",
   "execution_count": null,
   "id": "b5768617",
   "metadata": {
    "colab": {
     "base_uri": "https://localhost:8080/"
    },
    "id": "b5768617",
    "outputId": "97cb96e2-3ff3-41ab-9417-4bd742f0f003",
    "pycharm": {
     "name": "#%%\n"
    }
   },
   "outputs": [
    {
     "name": "stdout",
     "output_type": "stream",
     "text": [
      "Building ExplainerDashboard..\n",
      "WARNING: the number of idxs (=61985) > max_idxs_in_dropdown(=1000). However with your installed version of dash(2.9.1) dropdown search may not work smoothly. You can downgrade to `pip install dash==2.6.2` which should work better for now...\n",
      "Detected google colab environment, setting mode='external'\n",
      "Warning: calculating shap interaction values can be slow! Pass shap_interaction=False to remove interactions tab.\n",
      "Generating layout...\n",
      "Calculating shap values...\n",
      "Calculating predictions...\n",
      "Calculating residuals...\n",
      "Calculating absolute residuals...\n",
      "Warning: mean-absolute-percentage-error is very large (530.2111610242247), you can hide it from the metrics by passing parameter show_metrics...\n",
      "Calculating shap interaction values...\n",
      "Reminder: TreeShap computational complexity is O(TLD^2), where T is the number of trees, L is the maximum number of leaves in any tree and D the maximal depth of any tree. So reducing these will speed up the calculation.\n",
      "Warning: mean-absolute-percentage-error is very large (530.2111610242247), you can hide it from the metrics by passing parameter show_metrics...\n",
      "Warning: mean-absolute-percentage-error is very large (530.2111610242247), you can hide it from the metrics by passing parameter show_metrics...\n",
      "Generating xgboost model dump...\n",
      "Calculating dependencies...\n",
      "Calculating importances...\n",
      "Calculating ShadowDecTree for each individual decision tree...\n",
      "Reminder: you can store the explainer (including calculated dependencies) with explainer.dump('explainer.joblib') and reload with e.g. ClassifierExplainer.from_file('explainer.joblib')\n",
      "Registering callbacks...\n"
     ]
    }
   ],
   "source": [
    "db = ExplainerDashboard(explainer, shap_interactive=False)"
   ]
  },
  {
   "cell_type": "code",
   "execution_count": null,
   "id": "54a72116",
   "metadata": {
    "colab": {
     "base_uri": "https://localhost:8080/"
    },
    "id": "54a72116",
    "outputId": "0c1a84d1-fb13-47a5-c105-1c201c4483c1",
    "pycharm": {
     "name": "#%%\n"
    }
   },
   "outputs": [
    {
     "data": {
      "text/plain": [
       "True"
      ]
     },
     "execution_count": 22,
     "metadata": {},
     "output_type": "execute_result"
    }
   ],
   "source": [
    "db.model_summary"
   ]
  },
  {
   "cell_type": "code",
   "execution_count": null,
   "id": "0aa366a9",
   "metadata": {
    "colab": {
     "base_uri": "https://localhost:8080/"
    },
    "id": "0aa366a9",
    "outputId": "8f1ceb56-d851-4b62-c087-95344e4c1988",
    "pycharm": {
     "name": "#%%\n"
    }
   },
   "outputs": [
    {
     "name": "stdout",
     "output_type": "stream",
     "text": [
      "Warning: mean-absolute-percentage-error is very large (530.2111610242247), you can hide it from the metrics by passing parameter show_metrics...\n"
     ]
    }
   ],
   "source": [
    "db.save_html('dashboard.html')"
   ]
  },
  {
   "cell_type": "markdown",
   "id": "aca94b11",
   "metadata": {
    "id": "aca94b11",
    "pycharm": {
     "name": "#%% md\n"
    }
   },
   "source": [
    "# Improved Version of NFT Price Prediction"
   ]
  },
  {
   "cell_type": "code",
   "execution_count": null,
   "id": "002f38db",
   "metadata": {
    "id": "002f38db",
    "pycharm": {
     "name": "#%%\n"
    }
   },
   "outputs": [],
   "source": [
    "# Import all 4 files (datasets)\n",
    "train = pd.read_csv(\"/content/nfts_train.csv\")\n",
    "collections = pd.read_csv(\"/content/collections.csv\").drop(\"Unnamed: 0\", axis=1)\n",
    "test = pd.read_csv(\"/content/nfts_predict.csv\")\n",
    "sub = pd.read_csv(\"/content/submission_format.csv\")\n",
    "twitter = pd.read_csv(\"/content/collections_twitter_stats.csv\").drop(\"Unnamed: 0\", axis=1)\n",
    "\n",
    "# Keep target last\n",
    "target = train.last_sale_price\n",
    "train = train.drop(\"last_sale_price\", axis=1)\n",
    "\n",
    "# Merging train and test dataframes to smoothen the data pre-processing part and avoid redundancy. Then split back after data pre-processing is finished.\n",
    "data = pd.concat([train, test]).reset_index()\n",
    "\n",
    "# Combine both the twitter and collections data to 'data' DataFrame. These two datasets have additional features which would be helpful for the model to learn better and generalize.\n",
    "data = data.merge(collections, how='left', on='collection_id')\n",
    "data = data.merge(twitter, how='left', on='collection_id')\n",
    "\n",
    "# Extract creation date month and year; last sale date year and month from 'creation_date' and 'last_sale_date' columns respectively.\n",
    "data[\"creation_date\"] = pd.to_datetime(data.creation_date)\n",
    "data['creation_date_year'] = data.creation_date.dt.year\n",
    "data['creation_date_month'] = data.creation_date.dt.month\n",
    "\n",
    "data[\"last_sale_date\"] = pd.to_datetime(data.last_sale_date)\n",
    "data['last_sale_date_year'] = data.last_sale_date.dt.year\n",
    "data['last_sale_date_month'] = data.last_sale_date.dt.month\n",
    "\n",
    "# Calculate difference in days  from last_sale_date and creation_date column.\n",
    "data['diff_days'] = (data[\"last_sale_date\"] - data['creation_date']).dt.days\n",
    "data = data.drop(columns = [\"last_sale_date\", \"creation_date\"], axis=1)  # Dropping creation_date and last_sale_date columns\n",
    "\n",
    "# Create a feature 'has_all' that has all the communication mediums: {website, twitter, discord, medium and openrarity enabled}. A score of '1' would be given to each medium.\n",
    "data[\"has_all\"] = data.select_dtypes(include=[\"bool_\"]).T.sum()\n",
    "data_bool = data.select_dtypes(include=[\"bool_\"]).columns.tolist()\n",
    "for i in data_bool:\n",
    "    data[i] = data[i].map({True:1, False:0})\n",
    "\n",
    "# Encode the unique categories in the verification_status and contract_type columns\n",
    "data.verification_status.unique()\n",
    "v_stat = []\n",
    "for i in data.verification_status:\n",
    "    if i ==  'approved':\n",
    "        v_stat.append(1)\n",
    "    elif i ==  'verified':\n",
    "        v_stat.append(3)\n",
    "    else:\n",
    "        v_stat.append(0)\n",
    "data.verification_status = v_stat\n",
    "\n",
    "data[\"contract_type\"] = data[\"contract_type\"].map({\"default\":0, \"own\":1})\n",
    "data = data.drop(columns = [\"index\"])  # Dropping index column\n",
    "\n",
    "# Statistical feature engineering on columns: {rarity_score, total_supply, n_of_traits, seller_fees}\n",
    "data_nft_stats = data.groupby(\"nft_id\").agg(\n",
    "             nft_rarity_score_min = ('rarity_score', 'min'),\n",
    "             nft_rarity_score_max = ('rarity_score', 'max'),\n",
    "             nft_rarity_score_mean = ('rarity_score', 'mean'), \n",
    "             nft_rarity_score_sum = ('rarity_score', 'sum'),\n",
    "             nft_rarity_score_std = ('rarity_score', 'std'),\n",
    "             nft_rarity_score_median = ('rarity_score', 'median'), \n",
    "\n",
    "             nft_total_supply_min = ('total_supply', 'min'),\n",
    "             nft_total_supply_max = ('total_supply', 'max'),\n",
    "             nft_total_supply_mean = ('total_supply', 'mean'), \n",
    "             nft_total_supply_sum = ('total_supply', 'sum'),\n",
    "             nft_total_supply_std = ('total_supply', 'std'),\n",
    "             nft_total_supply_median = ('total_supply', 'median'), \n",
    "\n",
    "             nft_n_of_traits_min = ('n_of_traits', 'min'),\n",
    "             nft_n_of_traits_max = ('n_of_traits', 'max'),\n",
    "             nft_n_of_traits_mean = ('n_of_traits', 'mean'), \n",
    "             nft_n_of_traits_sum = ('n_of_traits', 'sum'),\n",
    "             nft_n_of_traits_std = ('n_of_traits', 'std'),\n",
    "             nft_n_of_traits_median = ('n_of_traits', 'median'), \n",
    "\n",
    "             nft_seller_fees_min = ('seller_fees', 'min'),\n",
    "             nft_seller_fees_max = ('seller_fees', 'max'),\n",
    "             nft_seller_fees_mean = ('seller_fees', 'mean'), \n",
    "             nft_seller_fees_sum = ('seller_fees', 'sum'),\n",
    "             nft_seller_fees_std = ('seller_fees', 'std'),\n",
    "             nft_seller_fees_median = ('seller_fees', 'median'), \n",
    "\n",
    "             nft_platform_fees_min = ('platform_fees', 'min'),\n",
    "             nft_platform_fees_max = ('platform_fees', 'max'),\n",
    "             nft_platform_fees_mean = ('platform_fees', 'mean'), \n",
    "             nft_platform_fees_sum = ('platform_fees', 'sum'),\n",
    "             nft_platform_fees_std = ('platform_fees', 'std'),\n",
    "             nft_platform_fees_median = ('platform_fees', 'median'), \n",
    ").reset_index()\n",
    "data = data.merge(data_nft_stats, how='left', on='nft_id') # Merge the new statistical features created in the above step to 'data' DataFrame\n",
    "\n",
    "\n",
    "# Split 'data' back into train and test sets\n",
    "df_train = data[:train.shape[0]]\n",
    "df_test = data[train.shape[0]:]\n",
    "print(f'Shape of df_train: {df_train.shape} and Shape of df_test: {df_test.shape}')\n",
    "\n",
    "# Saving the final train and test dataframes in csv formats\n",
    "df_train.to_csv('final_train.csv', index=False)\n",
    "df_test.to_csv('final_test.csv', index=False)"
   ]
  },
  {
   "cell_type": "code",
   "execution_count": 3,
   "id": "c329e766",
   "metadata": {
    "id": "c329e766",
    "pycharm": {
     "name": "#%%\n"
    }
   },
   "outputs": [],
   "source": [
    "# Read the final train and test csv files as well as the target csv\n",
    "df_train = pd.read_csv('final_train.csv')\n",
    "df_test  = pd.read_csv('final_test.csv')\n",
    "target   = pd.read_csv('target.csv')"
   ]
  },
  {
   "cell_type": "code",
   "execution_count": 3,
   "id": "d0bcaf8d",
   "metadata": {
    "colab": {
     "base_uri": "https://localhost:8080/",
     "height": 472
    },
    "id": "d0bcaf8d",
    "outputId": "84090491-2d36-447b-c3b2-e6b47d4dfe4c",
    "pycharm": {
     "name": "#%%\n"
    }
   },
   "outputs": [
    {
     "data": {
      "image/png": "[encoded data removed]",
      "text/plain": [
       "<Figure size 640x480 with 2 Axes>"
      ]
     },
     "metadata": {},
     "output_type": "display_data"
    }
   ],
   "source": [
    "# Creating X and y variables\n",
    "X = df_train\n",
    "y = target.last_sale_price\n",
    "\n",
    "# Checking the data distribution of the target column\n",
    "y_transformed = pd.Series(np.log1p(y))  # Natural logarithm of (1+y)\n",
    "fig, ax = plt.subplots(1, 2)\n",
    "sns.distplot(y, ax=ax[0])  \n",
    "plt.title(\"Target after Log transformation\")\n",
    "sns.distplot(y_transformed, ax=ax[1])\n",
    "plt.show()"
   ]
  },
  {
   "cell_type": "markdown",
   "id": "4bc482b6",
   "metadata": {
    "id": "4bc482b6",
    "pycharm": {
     "name": "#%% md\n"
    }
   },
   "source": [
    "### CatBoost Regressor (Improved)"
   ]
  },
  {
   "cell_type": "code",
   "execution_count": 30,
   "id": "cdd95007",
   "metadata": {
    "id": "cdd95007",
    "pycharm": {
     "name": "#%%\n"
    }
   },
   "outputs": [
    {
     "name": "stdout",
     "output_type": "stream",
     "text": [
      "Error:  9.152924230138769\n",
      "Error:  8.823829717648787\n",
      "Error:  8.455304889178247\n",
      "Error:  7.236973533489786\n",
      "Error:  9.661864287158853\n",
      "Error:  9.338672446849683\n",
      "Error:  11.241018458177962\n",
      "Error:  8.769641792662625\n",
      "Error:  11.335870270529707\n",
      "Error:  7.152566996209874\n",
      "Error:  6.773640851896774\n",
      "Error:  9.48762569048258\n",
      "Error:  8.036133523387983\n",
      "Error:  9.970045718988215\n",
      "Error:  7.883304818282118\n",
      "Error:  7.132005734530389\n",
      "\n",
      "CatBoost Regressor - Mean RMSE or average out of fold predictions:  8.778213934975772\n",
      "CatBoost Regressor - Mean fold predictions (on Test set):  0.37810196359775594\n"
     ]
    }
   ],
   "source": [
    "fold_pred=[]   # list to keep track of the scores per fold.\n",
    "oof_pred = []  # list to keep track of out of fold predictions.\n",
    "cat_model = None\n",
    "\n",
    "# Set Hyperparameters.\n",
    "params = {\n",
    " 'learning_rate': 0.163251453473545997,\n",
    " 'max_depth': 14,\n",
    " 'subsample': 0.6530887571489526, 'thread_count': -1}\n",
    "\n",
    "# Create a Kfold with 16 splits. Set the random state to 2023.\n",
    "fold= KFold(n_splits=16, shuffle=True, random_state = 2023)\n",
    "i=1\n",
    "for train_index, test_index in fold.split(X,y):     \n",
    "  \n",
    "    X_train, X_val = X.iloc[train_index], X.iloc[test_index]\n",
    "    y_train, y_val = np.log1p(y.iloc[train_index]), y.iloc[test_index]\n",
    "\n",
    "    cat_model = catboost.CatBoostRegressor(**params)\n",
    "    cat_model.fit(X_train,y_train,eval_set=[(X_train,y_train),(X_val, y_val)], early_stopping_rounds=200, verbose = False)\n",
    "\n",
    "    preds= cat_model.predict(X_val)\n",
    "    print(\"Error: \",mean_squared_error(y_val, np.expm1(preds), squared=False))  # Reverse transformation\n",
    "    oof_pred.append(mean_squared_error(y_val, np.expm1(preds), squared=False))\n",
    "    p2 = cat_model.predict(df_test[X.columns])\n",
    "    fold_pred.append(np.expm1(p2))\n",
    "\n",
    "print()\n",
    "print('CatBoost Regressor - Mean RMSE or average out of fold predictions: ',np.mean(oof_pred))\n",
    "print('CatBoost Regressor - Mean fold predictions (on Test set): ',np.mean(fold_pred))"
   ]
  },
  {
   "cell_type": "code",
   "execution_count": null,
   "id": "c94256bf",
   "metadata": {
    "id": "c94256bf",
    "pycharm": {
     "name": "#%%\n"
    }
   },
   "outputs": [],
   "source": [
    "# Save CatBoost Regressor Model\n",
    "cat_model.save_model('catboostreg')"
   ]
  },
  {
   "cell_type": "code",
   "execution_count": 5,
   "id": "0482c998",
   "metadata": {
    "id": "0482c998",
    "outputId": "f448d08c-6541-460e-f52e-9954866c244b",
    "pycharm": {
     "name": "#%%\n"
    }
   },
   "outputs": [
    {
     "data": {
      "text/plain": [
       "{'loss_function': 'RMSE',\n",
       " 'subsample': 0.6530887571,\n",
       " 'depth': 14,\n",
       " 'od_wait': 200,\n",
       " 'learning_rate': 0.1632514535,\n",
       " 'verbose': 0,\n",
       " 'od_type': 'Iter'}"
      ]
     },
     "execution_count": 5,
     "metadata": {},
     "output_type": "execute_result"
    }
   ],
   "source": [
    "# Load Catboost regressor model\n",
    "loaded_cat_model = catboost.CatBoostRegressor()\n",
    "loaded_cat_model.load_model('catboostreg')\n",
    "loaded_cat_model.get_params()"
   ]
  },
  {
   "cell_type": "markdown",
   "id": "80a50ea5",
   "metadata": {
    "id": "80a50ea5",
    "pycharm": {
     "name": "#%% md\n"
    }
   },
   "source": [
    "### XGBRegressor (Improved)"
   ]
  },
  {
   "cell_type": "code",
   "execution_count": 18,
   "id": "28d2429e",
   "metadata": {
    "colab": {
     "base_uri": "https://localhost:8080/",
     "height": 450
    },
    "id": "28d2429e",
    "outputId": "c713996d-7dd8-47df-a75a-3ad1687c1dfd",
    "pycharm": {
     "name": "#%%\n"
    }
   },
   "outputs": [
    {
     "name": "stdout",
     "output_type": "stream",
     "text": [
      "Error:  9.527487323587241\n",
      "Error:  9.474150363268526\n",
      "Error:  8.822849699732052\n",
      "Error:  7.6224815597410425\n",
      "Error:  10.146420125876059\n",
      "Error:  9.973335604518821\n",
      "Error:  11.567007845652263\n",
      "Error:  9.45369777714076\n",
      "Error:  11.610877983871047\n",
      "Error:  7.807033817753469\n",
      "Error:  7.141450451555527\n",
      "Error:  9.951475476290508\n",
      "Error:  8.6349053785121\n",
      "Error:  10.556307059517678\n",
      "Error:  8.140349931663781\n",
      "Error:  7.412807535910146\n",
      "\n",
      "XGBRegressor - Mean RMSE or average out of fold predictions:  9.24016487091194\n",
      "XGBRegressor - Mean fold predictions (on Test Set):  0.4719953\n"
     ]
    }
   ],
   "source": [
    "fold_pred_xgb =[]   # list to keep track of the scores per fold.\n",
    "oof_pred_xgb = []  # list to keep track of out of fold predictions.\n",
    "xgb_model = None  \n",
    "\n",
    "# Set Hyperparameters.\n",
    "params_xgb = {'colsample_bytree': 0.6331731119758383, 'learning_rate': 0.03276070223279889, 'max_depth': 7, 'subsample': 0.2534717113185624, 'n_jobs':-1}\n",
    "\n",
    "# Create a Kfold with 16 splits. Set the random state to 2023.\n",
    "fold= KFold(n_splits=16, shuffle=True, random_state = 2023)\n",
    "i=1\n",
    "for train_index, test_index in fold.split(X,y):     \n",
    "  \n",
    "    X_train, X_val = X.iloc[train_index], X.iloc[test_index]\n",
    "    y_train, y_val = np.log1p(y.iloc[train_index]), y.iloc[test_index] \n",
    "\n",
    "    xgb_model = xgboost.XGBRegressor(**params_xgb)\n",
    "    xgb_model.fit(X_train,y_train,eval_set=[(X_train,y_train),(X_val, y_val)], verbose = False)\n",
    "\n",
    "    preds= xgb_model.predict(X_val)\n",
    "    print(\"Error: \",mean_squared_error(y_val, np.expm1(preds), squared=False))  # Reverse transformation\n",
    "    oof_pred_xgb.append(mean_squared_error(y_val, np.expm1(preds), squared=False))\n",
    "    p2 = xgb_model.predict(df_test[X.columns])\n",
    "    fold_pred_xgb.append(np.expm1(p2))\n",
    "\n",
    "print()\n",
    "print('XGBRegressor - Mean RMSE or average out of fold predictions: ',np.mean(oof_pred_xgb))\n",
    "print('XGBRegressor - Mean fold predictions (on Test Set): ',np.mean(fold_pred_xgb))"
   ]
  },
  {
   "cell_type": "code",
   "execution_count": null,
   "id": "06b10b95",
   "metadata": {
    "id": "06b10b95",
    "pycharm": {
     "name": "#%%\n"
    }
   },
   "outputs": [],
   "source": [
    "# Save XGBoost Regressor Model\n",
    "xgb_model.save_model('xgboostreg')"
   ]
  },
  {
   "cell_type": "code",
   "execution_count": null,
   "id": "30e01df9",
   "metadata": {
    "id": "30e01df9",
    "pycharm": {
     "name": "#%%\n"
    }
   },
   "outputs": [],
   "source": [
    "# Load xgboost regressor model\n",
    "loaded_xgb_model = xgboost.XGBRegressor()\n",
    "loaded_xgb_model.load_model('xgboostreg')"
   ]
  },
  {
   "cell_type": "markdown",
   "id": "3hxvljsmak8c",
   "metadata": {
    "id": "3hxvljsmak8c",
    "pycharm": {
     "name": "#%% md\n"
    }
   },
   "source": [
    "## LightGBM Regressor (Improved)"
   ]
  },
  {
   "cell_type": "code",
   "execution_count": 31,
   "id": "uL1sQVhzUz2J",
   "metadata": {
    "colab": {
     "base_uri": "https://localhost:8080/"
    },
    "id": "uL1sQVhzUz2J",
    "outputId": "16071826-8156-47a9-b499-c92d941bd03e",
    "pycharm": {
     "name": "#%%\n"
    }
   },
   "outputs": [
    {
     "name": "stdout",
     "output_type": "stream",
     "text": [
      "Error:  12.600664021233767\n",
      "Error:  12.807908355854071\n",
      "Error:  11.91958230895631\n",
      "Error:  11.19036964264094\n",
      "Error:  13.34898048379173\n",
      "Error:  13.334769487893618\n",
      "Error:  14.292377615316248\n",
      "Error:  12.425168588808496\n",
      "Error:  14.378004964888726\n",
      "Error:  11.31506904530466\n",
      "Error:  10.623421990099533\n",
      "Error:  12.652025787199621\n",
      "Error:  12.273885880945645\n",
      "Error:  13.578375132525295\n",
      "Error:  11.6462527050376\n",
      "Error:  11.26770914222752\n",
      "\n",
      "LightGBM - Mean RMSE or average out of fold predictions:  12.478410322045235\n",
      "LightGBM - Mean fold predictions (on Test set):  0.3949422173829646\n"
     ]
    }
   ],
   "source": [
    "fold_pred_lgb =[]   # list to keep track of the scores per fold.\n",
    "oof_pred_lgb = []  # list to keep track of out of fold predictions.\n",
    "lgb_model = None  \n",
    "\n",
    "# Set Hyperparameters.\n",
    "params_lgb = {\n",
    "    'learning_rate': 0.03636189468550917, \n",
    "    'max_depth':1, \n",
    "    'min_child_samples':34, \n",
    "    'num_leaves': 604, \n",
    "    'subsample': 0.6719801831853792}\n",
    "\n",
    "# Create a Kfold with 16 splits. Set the random state to 2023.\n",
    "fold= KFold(n_splits=16, shuffle=True, random_state = 2023)\n",
    "i=1\n",
    "for train_index, test_index in fold.split(X,y):     \n",
    "  \n",
    "    X_train, X_val = X.iloc[train_index], X.iloc[test_index]\n",
    "    y_train, y_val = np.log1p(y.iloc[train_index]), y.iloc[test_index] \n",
    "\n",
    "    lgb_model = lightgbm.LGBMRegressor(**params_lgb)\n",
    "    lgb_model.fit(X_train,y_train,eval_set=[(X_train,y_train),(X_val, y_val)], verbose = False)\n",
    "\n",
    "    preds= lgb_model.predict(X_val)\n",
    "    print(\"Error: \",mean_squared_error(y_val, np.expm1(preds), squared=False))  # Reverse transformation\n",
    "    oof_pred_lgb.append(mean_squared_error(y_val, np.expm1(preds), squared=False))\n",
    "    p2 = lgb_model.predict(df_test[X.columns])\n",
    "    fold_pred_lgb.append(np.expm1(p2))\n",
    "\n",
    "print()\n",
    "print('LightGBM - Mean RMSE or average out of fold predictions: ',np.mean(oof_pred_lgb))\n",
    "print('LightGBM - Mean fold predictions (on Test set): ',np.mean(fold_pred_lgb))"
   ]
  },
  {
   "cell_type": "markdown",
   "id": "rKP9trTmtrDI",
   "metadata": {
    "id": "rKP9trTmtrDI",
    "pycharm": {
     "name": "#%% md\n"
    }
   },
   "source": [
    "### Bagging Regressor with Base Estimator as LightGBM Regressor"
   ]
  },
  {
   "cell_type": "code",
   "execution_count": 32,
   "id": "J55MnSCim0DG",
   "metadata": {
    "colab": {
     "base_uri": "https://localhost:8080/"
    },
    "id": "J55MnSCim0DG",
    "outputId": "b5a9c9a4-f83d-4d6d-b78b-af62940267cc",
    "pycharm": {
     "name": "#%%\n"
    }
   },
   "outputs": [
    {
     "name": "stdout",
     "output_type": "stream",
     "text": [
      "Error:  12.602206208615586\n",
      "Error:  12.810895579318066\n",
      "Error:  11.91937371892095\n",
      "Error:  11.192061553713325\n",
      "Error:  13.350370824884104\n",
      "Error:  13.331924748569337\n",
      "Error:  14.293363350342613\n",
      "Error:  12.42482253816146\n",
      "Error:  14.380445276581883\n",
      "Error:  11.315025975221893\n",
      "Error:  10.624413181626878\n",
      "Error:  12.650542954013565\n",
      "Error:  12.27278863595609\n",
      "Error:  13.578568084299187\n",
      "Error:  11.646612628079442\n",
      "Error:  11.266257275449055\n",
      "\n",
      "Bagging Regressor with base -> LightGBM - Mean RMSE or average out of fold predictions:  12.478729533359589\n",
      "Bagging Regressor with base -> LightGBM - Mean fold predictions (on Test set):  0.39352974880928887\n"
     ]
    }
   ],
   "source": [
    "fold_pred_lgb_bagging =[]   # list to keep track of the scores per fold.\n",
    "oof_pred_lgb_bagging = []  # list to keep track of out of fold predictions.\n",
    "#lgb_model = None  \n",
    "\n",
    "# Create a Kfold with 16 splits. Set the random state to 2023.\n",
    "fold= KFold(n_splits=16, shuffle=True, random_state = 2023)\n",
    "i=1\n",
    "for train_index, test_index in fold.split(X,y):     \n",
    "  \n",
    "    X_train, X_val = X.iloc[train_index], X.iloc[test_index]\n",
    "    y_train, y_val = np.log1p(y.iloc[train_index]), y.iloc[test_index] \n",
    "\n",
    "    bagging_lgbm = BaggingRegressor(estimator=lgb_model)\n",
    "    bagging_lgbm.fit(X_train,y_train)\n",
    "\n",
    "    preds= bagging_lgbm.predict(X_val)\n",
    "    print(\"Error: \",mean_squared_error(y_val, np.expm1(preds), squared=False))  # Reverse transformation\n",
    "    oof_pred_lgb_bagging.append(mean_squared_error(y_val, np.expm1(preds), squared=False))\n",
    "    p2 = bagging_lgbm.predict(df_test[X.columns])\n",
    "    fold_pred_lgb_bagging.append(np.expm1(p2))\n",
    "\n",
    "print()\n",
    "print('Bagging Regressor with base -> LightGBM - Mean RMSE or average out of fold predictions: ',np.mean(oof_pred_lgb_bagging))\n",
    "print('Bagging Regressor with base -> LightGBM - Mean fold predictions (on Test set): ',np.mean(fold_pred_lgb_bagging))"
   ]
  },
  {
   "cell_type": "markdown",
   "id": "0CJfnt53t6KL",
   "metadata": {
    "id": "0CJfnt53t6KL",
    "pycharm": {
     "name": "#%% md\n"
    }
   },
   "source": [
    "### Hyperparameter Tuning - Light GBM"
   ]
  },
  {
   "cell_type": "code",
   "execution_count": 33,
   "id": "846f1835-700a-465c-84ce-ebd7a11241dc",
   "metadata": {
    "pycharm": {
     "name": "#%%\n"
    }
   },
   "outputs": [],
   "source": [
    "X_train, X_val, y_train, y_val = train_test_split(X, y, test_size=0.2, random_state=42)"
   ]
  },
  {
   "cell_type": "code",
   "execution_count": 34,
   "id": "kJrNtSGat4Q_",
   "metadata": {
    "id": "kJrNtSGat4Q_",
    "pycharm": {
     "name": "#%%\n"
    }
   },
   "outputs": [
    {
     "name": "stdout",
     "output_type": "stream",
     "text": [
      "|   iter    |  target   | colsam... | learni... | max_depth | min_ch... | n_esti... | num_le... | subsample |\n",
      "-------------------------------------------------------------------------------------------------------------\n",
      "| \u001B[0m1        \u001B[0m | \u001B[0m69.6     \u001B[0m | \u001B[0m0.4371   \u001B[0m | \u001B[0m0.4754   \u001B[0m | \u001B[0m11.25    \u001B[0m | \u001B[0m24.35    \u001B[0m | \u001B[0m193.6    \u001B[0m | \u001B[0m164.4    \u001B[0m | \u001B[0m0.0675   \u001B[0m |\n",
      "| \u001B[95m2        \u001B[0m | \u001B[95m70.47    \u001B[0m | \u001B[95m0.8796   \u001B[0m | \u001B[95m0.301    \u001B[0m | \u001B[95m10.91    \u001B[0m | \u001B[95m1.803    \u001B[0m | \u001B[95m681.9    \u001B[0m | \u001B[95m834.1    \u001B[0m | \u001B[95m0.2202   \u001B[0m |\n",
      "| \u001B[0m3        \u001B[0m | \u001B[0m56.23    \u001B[0m | \u001B[0m0.2636   \u001B[0m | \u001B[0m0.09252  \u001B[0m | \u001B[0m5.259    \u001B[0m | \u001B[0m21.47    \u001B[0m | \u001B[0m359.2    \u001B[0m | \u001B[0m298.3    \u001B[0m | \u001B[0m0.6157   \u001B[0m |\n",
      "| \u001B[0m4        \u001B[0m | \u001B[0m58.27    \u001B[0m | \u001B[0m0.2255   \u001B[0m | \u001B[0m0.1468   \u001B[0m | \u001B[0m6.129    \u001B[0m | \u001B[0m18.79    \u001B[0m | \u001B[0m571.1    \u001B[0m | \u001B[0m207.7    \u001B[0m | \u001B[0m0.5191   \u001B[0m |\n",
      "| \u001B[0m5        \u001B[0m | \u001B[0m56.89    \u001B[0m | \u001B[0m0.6332   \u001B[0m | \u001B[0m0.02418  \u001B[0m | \u001B[0m9.506    \u001B[0m | \u001B[0m7.65     \u001B[0m | \u001B[0m139.0    \u001B[0m | \u001B[0m949.4    \u001B[0m | \u001B[0m0.966    \u001B[0m |\n",
      "| \u001B[0m6        \u001B[0m | \u001B[0m63.22    \u001B[0m | \u001B[0m0.8954   \u001B[0m | \u001B[0m0.2139   \u001B[0m | \u001B[0m4.828    \u001B[0m | \u001B[0m1.311    \u001B[0m | \u001B[0m682.3    \u001B[0m | \u001B[0m826.1    \u001B[0m | \u001B[0m0.6194   \u001B[0m |\n",
      "| \u001B[95m7        \u001B[0m | \u001B[95m76.72    \u001B[0m | \u001B[95m0.5832   \u001B[0m | \u001B[95m0.4724   \u001B[0m | \u001B[95m9.331    \u001B[0m | \u001B[95m1.756    \u001B[0m | \u001B[95m678.2    \u001B[0m | \u001B[95m835.4    \u001B[0m | \u001B[95m0.8847   \u001B[0m |\n",
      "| \u001B[0m8        \u001B[0m | \u001B[0m63.05    \u001B[0m | \u001B[0m0.4151   \u001B[0m | \u001B[0m0.2154   \u001B[0m | \u001B[0m11.33    \u001B[0m | \u001B[0m2.706    \u001B[0m | \u001B[0m670.6    \u001B[0m | \u001B[0m834.6    \u001B[0m | \u001B[0m0.8879   \u001B[0m |\n",
      "| \u001B[0m9        \u001B[0m | \u001B[0m71.62    \u001B[0m | \u001B[0m0.2133   \u001B[0m | \u001B[0m0.4021   \u001B[0m | \u001B[0m8.608    \u001B[0m | \u001B[0m4.029    \u001B[0m | \u001B[0m678.4    \u001B[0m | \u001B[0m836.3    \u001B[0m | \u001B[0m0.181    \u001B[0m |\n",
      "| \u001B[0m10       \u001B[0m | \u001B[0m57.79    \u001B[0m | \u001B[0m0.3413   \u001B[0m | \u001B[0m0.2062   \u001B[0m | \u001B[0m6.839    \u001B[0m | \u001B[0m28.88    \u001B[0m | \u001B[0m195.4    \u001B[0m | \u001B[0m169.5    \u001B[0m | \u001B[0m0.8924   \u001B[0m |\n",
      "| \u001B[0m11       \u001B[0m | \u001B[0m63.33    \u001B[0m | \u001B[0m0.1162   \u001B[0m | \u001B[0m0.4236   \u001B[0m | \u001B[0m8.057    \u001B[0m | \u001B[0m19.18    \u001B[0m | \u001B[0m194.0    \u001B[0m | \u001B[0m159.9    \u001B[0m | \u001B[0m0.05846  \u001B[0m |\n",
      "| \u001B[0m12       \u001B[0m | \u001B[0m66.85    \u001B[0m | \u001B[0m0.4782   \u001B[0m | \u001B[0m0.1984   \u001B[0m | \u001B[0m14.75    \u001B[0m | \u001B[0m11.99    \u001B[0m | \u001B[0m683.9    \u001B[0m | \u001B[0m842.4    \u001B[0m | \u001B[0m0.4138   \u001B[0m |\n",
      "| \u001B[0m13       \u001B[0m | \u001B[0m64.01    \u001B[0m | \u001B[0m0.3744   \u001B[0m | \u001B[0m0.1545   \u001B[0m | \u001B[0m9.789    \u001B[0m | \u001B[0m3.891    \u001B[0m | \u001B[0m685.7    \u001B[0m | \u001B[0m837.5    \u001B[0m | \u001B[0m0.292    \u001B[0m |\n",
      "| \u001B[0m14       \u001B[0m | \u001B[0m61.06    \u001B[0m | \u001B[0m0.7096   \u001B[0m | \u001B[0m0.1941   \u001B[0m | \u001B[0m4.525    \u001B[0m | \u001B[0m2.294    \u001B[0m | \u001B[0m679.9    \u001B[0m | \u001B[0m832.8    \u001B[0m | \u001B[0m0.2372   \u001B[0m |\n",
      "| \u001B[0m15       \u001B[0m | \u001B[0m71.3     \u001B[0m | \u001B[0m0.9626   \u001B[0m | \u001B[0m0.4513   \u001B[0m | \u001B[0m12.89    \u001B[0m | \u001B[0m15.96    \u001B[0m | \u001B[0m192.4    \u001B[0m | \u001B[0m166.7    \u001B[0m | \u001B[0m0.7078   \u001B[0m |\n",
      "| \u001B[0m16       \u001B[0m | \u001B[0m64.73    \u001B[0m | \u001B[0m0.9769   \u001B[0m | \u001B[0m0.1871   \u001B[0m | \u001B[0m12.91    \u001B[0m | \u001B[0m15.92    \u001B[0m | \u001B[0m189.4    \u001B[0m | \u001B[0m170.5    \u001B[0m | \u001B[0m0.4673   \u001B[0m |\n",
      "| \u001B[0m17       \u001B[0m | \u001B[0m65.54    \u001B[0m | \u001B[0m0.2521   \u001B[0m | \u001B[0m0.2119   \u001B[0m | \u001B[0m8.883    \u001B[0m | \u001B[0m7.977    \u001B[0m | \u001B[0m678.1    \u001B[0m | \u001B[0m851.6    \u001B[0m | \u001B[0m0.9634   \u001B[0m |\n",
      "| \u001B[0m18       \u001B[0m | \u001B[0m67.37    \u001B[0m | \u001B[0m0.8836   \u001B[0m | \u001B[0m0.3754   \u001B[0m | \u001B[0m10.52    \u001B[0m | \u001B[0m18.8     \u001B[0m | \u001B[0m200.2    \u001B[0m | \u001B[0m163.3    \u001B[0m | \u001B[0m0.3577   \u001B[0m |\n",
      "| \u001B[0m19       \u001B[0m | \u001B[0m65.61    \u001B[0m | \u001B[0m0.4551   \u001B[0m | \u001B[0m0.3235   \u001B[0m | \u001B[0m11.16    \u001B[0m | \u001B[0m11.29    \u001B[0m | \u001B[0m192.6    \u001B[0m | \u001B[0m159.2    \u001B[0m | \u001B[0m0.2559   \u001B[0m |\n",
      "| \u001B[0m20       \u001B[0m | \u001B[0m71.0     \u001B[0m | \u001B[0m0.9826   \u001B[0m | \u001B[0m0.3404   \u001B[0m | \u001B[0m10.86    \u001B[0m | \u001B[0m5.011    \u001B[0m | \u001B[0m680.7    \u001B[0m | \u001B[0m841.5    \u001B[0m | \u001B[0m0.9585   \u001B[0m |\n",
      "| \u001B[0m21       \u001B[0m | \u001B[0m68.08    \u001B[0m | \u001B[0m0.9912   \u001B[0m | \u001B[0m0.1856   \u001B[0m | \u001B[0m11.57    \u001B[0m | \u001B[0m6.965    \u001B[0m | \u001B[0m677.0    \u001B[0m | \u001B[0m829.8    \u001B[0m | \u001B[0m0.5504   \u001B[0m |\n",
      "| \u001B[0m22       \u001B[0m | \u001B[0m56.91    \u001B[0m | \u001B[0m0.4919   \u001B[0m | \u001B[0m0.09627  \u001B[0m | \u001B[0m7.387    \u001B[0m | \u001B[0m19.55    \u001B[0m | \u001B[0m198.8    \u001B[0m | \u001B[0m166.8    \u001B[0m | \u001B[0m0.1495   \u001B[0m |\n",
      "| \u001B[0m23       \u001B[0m | \u001B[0m58.62    \u001B[0m | \u001B[0m0.3054   \u001B[0m | \u001B[0m0.3854   \u001B[0m | \u001B[0m3.981    \u001B[0m | \u001B[0m3.49     \u001B[0m | \u001B[0m680.8    \u001B[0m | \u001B[0m840.0    \u001B[0m | \u001B[0m0.6422   \u001B[0m |\n",
      "| \u001B[0m24       \u001B[0m | \u001B[0m67.06    \u001B[0m | \u001B[0m0.1836   \u001B[0m | \u001B[0m0.236    \u001B[0m | \u001B[0m11.97    \u001B[0m | \u001B[0m11.33    \u001B[0m | \u001B[0m675.7    \u001B[0m | \u001B[0m840.1    \u001B[0m | \u001B[0m0.5548   \u001B[0m |\n",
      "| \u001B[0m25       \u001B[0m | \u001B[0m70.01    \u001B[0m | \u001B[0m0.88     \u001B[0m | \u001B[0m0.3679   \u001B[0m | \u001B[0m7.221    \u001B[0m | \u001B[0m10.71    \u001B[0m | \u001B[0m677.8    \u001B[0m | \u001B[0m837.9    \u001B[0m | \u001B[0m0.5859   \u001B[0m |\n",
      "=============================================================================================================\n",
      "Best score: 76.718716\n",
      "Best parameters:  {'colsample_bytree': 0.5831990788602335, 'learning_rate': 0.47243417232945284, 'max_depth': 9.330994801650634, 'min_child_samples': 1.7562365542649179, 'n_estimators': 678.2387895667149, 'num_leaves': 835.417084765925, 'subsample': 0.8846994022058565}\n"
     ]
    },
    {
     "data": {
      "text/html": [
       "<style>#sk-container-id-2 {color: black;background-color: white;}#sk-container-id-2 pre{padding: 0;}#sk-container-id-2 div.sk-toggleable {background-color: white;}#sk-container-id-2 label.sk-toggleable__label {cursor: pointer;display: block;width: 100%;margin-bottom: 0;padding: 0.3em;box-sizing: border-box;text-align: center;}#sk-container-id-2 label.sk-toggleable__label-arrow:before {content: \"▸\";float: left;margin-right: 0.25em;color: #696969;}#sk-container-id-2 label.sk-toggleable__label-arrow:hover:before {color: black;}#sk-container-id-2 div.sk-estimator:hover label.sk-toggleable__label-arrow:before {color: black;}#sk-container-id-2 div.sk-toggleable__content {max-height: 0;max-width: 0;overflow: hidden;text-align: left;background-color: #f0f8ff;}#sk-container-id-2 div.sk-toggleable__content pre {margin: 0.2em;color: black;border-radius: 0.25em;background-color: #f0f8ff;}#sk-container-id-2 input.sk-toggleable__control:checked~div.sk-toggleable__content {max-height: 200px;max-width: 100%;overflow: auto;}#sk-container-id-2 input.sk-toggleable__control:checked~label.sk-toggleable__label-arrow:before {content: \"▾\";}#sk-container-id-2 div.sk-estimator input.sk-toggleable__control:checked~label.sk-toggleable__label {background-color: #d4ebff;}#sk-container-id-2 div.sk-label input.sk-toggleable__control:checked~label.sk-toggleable__label {background-color: #d4ebff;}#sk-container-id-2 input.sk-hidden--visually {border: 0;clip: rect(1px 1px 1px 1px);clip: rect(1px, 1px, 1px, 1px);height: 1px;margin: -1px;overflow: hidden;padding: 0;position: absolute;width: 1px;}#sk-container-id-2 div.sk-estimator {font-family: monospace;background-color: #f0f8ff;border: 1px dotted black;border-radius: 0.25em;box-sizing: border-box;margin-bottom: 0.5em;}#sk-container-id-2 div.sk-estimator:hover {background-color: #d4ebff;}#sk-container-id-2 div.sk-parallel-item::after {content: \"\";width: 100%;border-bottom: 1px solid gray;flex-grow: 1;}#sk-container-id-2 div.sk-label:hover label.sk-toggleable__label {background-color: #d4ebff;}#sk-container-id-2 div.sk-serial::before {content: \"\";position: absolute;border-left: 1px solid gray;box-sizing: border-box;top: 0;bottom: 0;left: 50%;z-index: 0;}#sk-container-id-2 div.sk-serial {display: flex;flex-direction: column;align-items: center;background-color: white;padding-right: 0.2em;padding-left: 0.2em;position: relative;}#sk-container-id-2 div.sk-item {position: relative;z-index: 1;}#sk-container-id-2 div.sk-parallel {display: flex;align-items: stretch;justify-content: center;background-color: white;position: relative;}#sk-container-id-2 div.sk-item::before, #sk-container-id-2 div.sk-parallel-item::before {content: \"\";position: absolute;border-left: 1px solid gray;box-sizing: border-box;top: 0;bottom: 0;left: 50%;z-index: -1;}#sk-container-id-2 div.sk-parallel-item {display: flex;flex-direction: column;z-index: 1;position: relative;background-color: white;}#sk-container-id-2 div.sk-parallel-item:first-child::after {align-self: flex-end;width: 50%;}#sk-container-id-2 div.sk-parallel-item:last-child::after {align-self: flex-start;width: 50%;}#sk-container-id-2 div.sk-parallel-item:only-child::after {width: 0;}#sk-container-id-2 div.sk-dashed-wrapped {border: 1px dashed gray;margin: 0 0.4em 0.5em 0.4em;box-sizing: border-box;padding-bottom: 0.4em;background-color: white;}#sk-container-id-2 div.sk-label label {font-family: monospace;font-weight: bold;display: inline-block;line-height: 1.2em;}#sk-container-id-2 div.sk-label-container {text-align: center;}#sk-container-id-2 div.sk-container {/* jupyter's `normalize.less` sets `[hidden] { display: none; }` but bootstrap.min.css set `[hidden] { display: none !important; }` so we also need the `!important` here to be able to override the default hidden behavior on the sphinx rendered scikit-learn.org. See: https://github.com/scikit-learn/scikit-learn/issues/21755 */display: inline-block !important;position: relative;}#sk-container-id-2 div.sk-text-repr-fallback {display: none;}</style><div id=\"sk-container-id-2\" class=\"sk-top-container\"><div class=\"sk-text-repr-fallback\"><pre>LGBMRegressor(colsample_bytree=0.5831990788602335,\n",
       "              learning_rate=0.47243417232945284, max_depth=9,\n",
       "              min_child_samples=1, n_estimators=678, num_leaves=835,\n",
       "              subsample=0.8846994022058565)</pre><b>In a Jupyter environment, please rerun this cell to show the HTML representation or trust the notebook. <br />On GitHub, the HTML representation is unable to render, please try loading this page with nbviewer.org.</b></div><div class=\"sk-container\" hidden><div class=\"sk-item\"><div class=\"sk-estimator sk-toggleable\"><input class=\"sk-toggleable__control sk-hidden--visually\" id=\"sk-estimator-id-2\" type=\"checkbox\" checked><label for=\"sk-estimator-id-2\" class=\"sk-toggleable__label sk-toggleable__label-arrow\">LGBMRegressor</label><div class=\"sk-toggleable__content\"><pre>LGBMRegressor(colsample_bytree=0.5831990788602335,\n",
       "              learning_rate=0.47243417232945284, max_depth=9,\n",
       "              min_child_samples=1, n_estimators=678, num_leaves=835,\n",
       "              subsample=0.8846994022058565)</pre></div></div></div></div></div>"
      ],
      "text/plain": [
       "LGBMRegressor(colsample_bytree=0.5831990788602335,\n",
       "              learning_rate=0.47243417232945284, max_depth=9,\n",
       "              min_child_samples=1, n_estimators=678, num_leaves=835,\n",
       "              subsample=0.8846994022058565)"
      ]
     },
     "execution_count": 34,
     "metadata": {},
     "output_type": "execute_result"
    }
   ],
   "source": [
    "def lgbm_objective(n_estimators, num_leaves, learning_rate, max_depth, min_child_samples, colsample_bytree, subsample):\n",
    "    model = lightgbm.LGBMRegressor(\n",
    "        n_estimators=int(n_estimators),\n",
    "        num_leaves=int(num_leaves),\n",
    "        learning_rate=learning_rate,\n",
    "        max_depth=int(max_depth),\n",
    "        min_child_samples=int(min_child_samples),\n",
    "        colsample_bytree=colsample_bytree,\n",
    "        subsample=subsample,\n",
    "        n_jobs=-1\n",
    "    )\n",
    "    score = -cross_val_score(model, X_train, y_train, cv=10, scoring='neg_mean_squared_error').mean()\n",
    "    return score\n",
    "\n",
    "pbounds = {\n",
    "    'n_estimators': (100, 700),\n",
    "    'num_leaves': (10, 1000),\n",
    "    'learning_rate': (0.001, 0.5),\n",
    "    'max_depth': (1, 15),\n",
    "    'min_child_samples': (1, 40),\n",
    "    'colsample_bytree':(0.1, 1.0),\n",
    "    'subsample': (0.01, 1.0)\n",
    "}\n",
    "\n",
    "optimizer = BayesianOptimization(\n",
    "    f=lgbm_objective,\n",
    "    pbounds=pbounds,\n",
    "    random_state=42,\n",
    "    allow_duplicate_points=True\n",
    ")\n",
    "\n",
    "optimizer.maximize(\n",
    "    init_points=5,\n",
    "    n_iter=20\n",
    ")\n",
    "\n",
    "best_params = optimizer.max['params']\n",
    "print(\"Best score: %f\" % (optimizer.max['target']))\n",
    "print(\"Best parameters: \", best_params)\n",
    "\n",
    "best_model = lightgbm.LGBMRegressor(\n",
    "    n_estimators=int(best_params['n_estimators']),\n",
    "    num_leaves=int(best_params['num_leaves']),\n",
    "    learning_rate=best_params['learning_rate'],\n",
    "    max_depth=int(best_params['max_depth']),\n",
    "    min_child_samples=int(best_params['min_child_samples']),\n",
    "    colsample_bytree=best_params['colsample_bytree'],\n",
    "    subsample=best_params['subsample'],\n",
    "    n_jobs=-1\n",
    ")\n",
    "\n",
    "best_model.fit(X_train, y_train)"
   ]
  },
  {
   "cell_type": "code",
   "execution_count": 35,
   "id": "f59b2522-3c53-4fbb-be84-27f768993966",
   "metadata": {
    "pycharm": {
     "name": "#%%\n"
    }
   },
   "outputs": [
    {
     "name": "stdout",
     "output_type": "stream",
     "text": [
      "Error:  10.622567151448798\n",
      "Error:  10.112053315861306\n",
      "Error:  9.667608798674307\n",
      "Error:  9.450216022975027\n",
      "Error:  10.326726486474973\n",
      "Error:  10.166985574667136\n",
      "Error:  13.085292268568628\n",
      "Error:  10.049665693567151\n",
      "Error:  12.557676850142338\n",
      "Error:  8.462984930147602\n",
      "Error:  8.662127815631361\n",
      "Error:  10.735067069547673\n",
      "Error:  9.911950453186705\n",
      "Error:  11.591621796953172\n",
      "Error:  9.300637419034967\n",
      "Error:  8.290590323273353\n",
      "\n",
      "Tuned LightGBM - Mean RMSE or average out of fold predictions:  10.187110748134657\n",
      "Tuned LightGBM - Mean fold predictions (on Test set):  0.7455538629058912\n"
     ]
    }
   ],
   "source": [
    "fold_pred_lgb =[]   # list to keep track of the scores per fold.\n",
    "oof_pred_lgb = []  # list to keep track of out of fold predictions.\n",
    "lgb_model = None  \n",
    "\n",
    "# Create a Kfold with 16 splits. Set the random state to 2023.\n",
    "fold= KFold(n_splits=16, shuffle=True, random_state = 2023)\n",
    "i=1\n",
    "for train_index, test_index in fold.split(X,y):     \n",
    "  \n",
    "    X_train, X_val = X.iloc[train_index], X.iloc[test_index]\n",
    "    y_train, y_val = np.log1p(y.iloc[train_index]), y.iloc[test_index] \n",
    "\n",
    "    lgb_model = best_model\n",
    "    lgb_model.fit(X_train,y_train,eval_set=[(X_train,y_train),(X_val, y_val)], verbose = False)\n",
    "\n",
    "    preds= lgb_model.predict(X_val)\n",
    "    print(\"Error: \",mean_squared_error(y_val, np.expm1(preds), squared=False))  # Reverse transformation\n",
    "    oof_pred_lgb.append(mean_squared_error(y_val, np.expm1(preds), squared=False))\n",
    "    p2 = lgb_model.predict(df_test[X.columns])\n",
    "    fold_pred_lgb.append(np.expm1(p2))\n",
    "\n",
    "print()\n",
    "print('Tuned LightGBM - Mean RMSE or average out of fold predictions: ',np.mean(oof_pred_lgb))\n",
    "print('Tuned LightGBM - Mean fold predictions (on Test set): ',np.mean(fold_pred_lgb))"
   ]
  },
  {
   "cell_type": "markdown",
   "id": "23c15bdd",
   "metadata": {
    "id": "23c15bdd",
    "pycharm": {
     "name": "#%% md\n"
    }
   },
   "source": [
    "### Feature Importances of Improved CatBoost Regressor Model"
   ]
  },
  {
   "cell_type": "code",
   "execution_count": null,
   "id": "81b7ceff",
   "metadata": {
    "id": "81b7ceff",
    "outputId": "e347e410-905a-494e-b2f2-499a1c5748b6",
    "pycharm": {
     "name": "#%%\n"
    }
   },
   "outputs": [
    {
     "data": {
      "image/png": "[encoded data removed]",
      "text/plain": [
       "<Figure size 2000x1200 with 1 Axes>"
      ]
     },
     "metadata": {},
     "output_type": "display_data"
    }
   ],
   "source": [
    "feature_importance_df = pd.DataFrame(cat_model.feature_importances_, columns=['importance'])\n",
    "feature_importance_df['features'] = X.columns\n",
    "\n",
    "plt.figure(figsize=(20, 12));\n",
    "sns.barplot(x=\"importance\", y=\"features\", data=feature_importance_df.sort_values(by = ['importance'], ascending = False).head(60))\n",
    "plt.title('Feature Importances of Catboost Regressor Model (Top 50):')\n",
    "plt.show()"
   ]
  },
  {
   "cell_type": "code",
   "execution_count": null,
   "id": "7a2df548",
   "metadata": {
    "id": "7a2df548",
    "outputId": "7316066c-c130-48a0-f40f-02d7b4f599e0",
    "pycharm": {
     "name": "#%%\n"
    }
   },
   "outputs": [
    {
     "data": {
      "image/png": "[encoded data removed]",
      "text/plain": [
       "<Figure size 2000x1200 with 1 Axes>"
      ]
     },
     "metadata": {},
     "output_type": "display_data"
    }
   ],
   "source": [
    "plt.figure(figsize=(20, 12));\n",
    "sns.barplot(x=\"importance\", y=\"features\", data=feature_importance_df.sort_values(by = ['importance'], ascending = False).head(10))\n",
    "plt.title('Feature Importances of Catboost Regressor Model (Top 10):')\n",
    "plt.show()"
   ]
  },
  {
   "cell_type": "markdown",
   "id": "35dcdfe0",
   "metadata": {
    "id": "35dcdfe0",
    "pycharm": {
     "name": "#%% md\n"
    }
   },
   "source": [
    "### Improved Model Explainability"
   ]
  },
  {
   "cell_type": "code",
   "execution_count": null,
   "id": "97f67981",
   "metadata": {
    "id": "97f67981",
    "outputId": "91ab79d5-6d9c-4dab-ee6e-1517e4803c69",
    "pycharm": {
     "name": "#%%\n"
    }
   },
   "outputs": [
    {
     "name": "stdout",
     "output_type": "stream",
     "text": [
      "Generating self.shap_explainer = shap.TreeExplainer(model)\n"
     ]
    }
   ],
   "source": [
    "explainer = RegressionExplainer(cat_model, X, y)"
   ]
  },
  {
   "cell_type": "code",
   "execution_count": null,
   "id": "7d98644f",
   "metadata": {
    "id": "7d98644f",
    "outputId": "222d211d-e603-43c5-8ea1-57a370992141",
    "pycharm": {
     "name": "#%%\n"
    }
   },
   "outputs": [
    {
     "name": "stdout",
     "output_type": "stream",
     "text": [
      "Building ExplainerDashboard..\n",
      "WARNING: the number of idxs (=309910) > max_idxs_in_dropdown(=1000). However with your installed version of dash(2.9.2) dropdown search may not work smoothly. You can downgrade to `pip install dash==2.6.2` which should work better for now...\n",
      "Detected notebook environment, consider setting mode='external', mode='inline' or mode='jupyterlab' to keep the notebook interactive while the dashboard is running...\n",
      "For this type of model and model_output interactions don't work, so setting shap_interaction=False...\n",
      "The explainer object has no decision_trees property. so setting decision_trees=False...\n",
      "Generating layout...\n",
      "Calculating shap values...\n",
      "Calculating predictions...\n",
      "Calculating residuals...\n",
      "Calculating absolute residuals...\n",
      "Warning: mean-absolute-percentage-error is very large (68.36599876692895), you can hide it from the metrics by passing parameter show_metrics...\n",
      "Warning: mean-absolute-percentage-error is very large (68.36599876692895), you can hide it from the metrics by passing parameter show_metrics...\n",
      "Warning: mean-absolute-percentage-error is very large (68.36599876692895), you can hide it from the metrics by passing parameter show_metrics...\n",
      "Calculating dependencies...\n",
      "Calculating importances...\n",
      "Reminder: you can store the explainer (including calculated dependencies) with explainer.dump('explainer.joblib') and reload with e.g. ClassifierExplainer.from_file('explainer.joblib')\n",
      "Registering callbacks...\n"
     ]
    }
   ],
   "source": [
    "db = ExplainerDashboard(explainer, shap_interactive=False)"
   ]
  },
  {
   "cell_type": "code",
   "execution_count": null,
   "id": "ee098588",
   "metadata": {
    "id": "ee098588",
    "outputId": "4e34074c-3fa6-47c3-ea53-117b41cfbfe3",
    "pycharm": {
     "name": "#%%\n"
    }
   },
   "outputs": [
    {
     "name": "stdout",
     "output_type": "stream",
     "text": [
      "Warning: mean-absolute-percentage-error is very large (68.36599876692895), you can hide it from the metrics by passing parameter show_metrics...\n"
     ]
    }
   ],
   "source": [
    "db.save_html('improved_model_dashboard.html')"
   ]
  },
  {
   "cell_type": "code",
   "execution_count": null,
   "id": "e8fda442",
   "metadata": {
    "id": "e8fda442",
    "pycharm": {
     "name": "#%%\n"
    }
   },
   "outputs": [],
   "source": []
  }
 ],
 "metadata": {
  "colab": {
   "provenance": []
  },
  "gpuClass": "standard",
  "kernelspec": {
   "display_name": "Python 3 (ipykernel)",
   "language": "python",
   "name": "python3"
  },
  "language_info": {
   "codemirror_mode": {
    "name": "ipython",
    "version": 3
   },
   "file_extension": ".py",
   "mimetype": "text/x-python",
   "name": "python",
   "nbconvert_exporter": "python",
   "pygments_lexer": "ipython3",
   "version": "3.9.13"
  },
  "widgets": {
   "application/vnd.jupyter.widget-state+json": {
    "0e53a2ef923b42ed82ef8ca9910f304e": {
     "model_module": "@jupyter-widgets/base",
     "model_module_version": "1.2.0",
     "model_name": "LayoutModel",
     "state": {
      "_model_module": "@jupyter-widgets/base",
      "_model_module_version": "1.2.0",
      "_model_name": "LayoutModel",
      "_view_count": null,
      "_view_module": "@jupyter-widgets/base",
      "_view_module_version": "1.2.0",
      "_view_name": "LayoutView",
      "align_content": null,
      "align_items": null,
      "align_self": null,
      "border": null,
      "bottom": null,
      "display": null,
      "flex": null,
      "flex_flow": null,
      "grid_area": null,
      "grid_auto_columns": null,
      "grid_auto_flow": null,
      "grid_auto_rows": null,
      "grid_column": null,
      "grid_gap": null,
      "grid_row": null,
      "grid_template_areas": null,
      "grid_template_columns": null,
      "grid_template_rows": null,
      "height": null,
      "justify_content": null,
      "justify_items": null,
      "left": null,
      "margin": null,
      "max_height": null,
      "max_width": null,
      "min_height": null,
      "min_width": null,
      "object_fit": null,
      "object_position": null,
      "order": null,
      "overflow": null,
      "overflow_x": null,
      "overflow_y": null,
      "padding": null,
      "right": null,
      "top": null,
      "visibility": null,
      "width": null
     }
    },
    "2476462e09744c4d984928780fb9188f": {
     "model_module": "@jupyter-widgets/controls",
     "model_module_version": "1.5.0",
     "model_name": "DescriptionStyleModel",
     "state": {
      "_model_module": "@jupyter-widgets/controls",
      "_model_module_version": "1.5.0",
      "_model_name": "DescriptionStyleModel",
      "_view_count": null,
      "_view_module": "@jupyter-widgets/base",
      "_view_module_version": "1.2.0",
      "_view_name": "StyleView",
      "description_width": ""
     }
    },
    "3d65db695bac4f30bd70ebe537bca8e1": {
     "model_module": "@jupyter-widgets/base",
     "model_module_version": "1.2.0",
     "model_name": "LayoutModel",
     "state": {
      "_model_module": "@jupyter-widgets/base",
      "_model_module_version": "1.2.0",
      "_model_name": "LayoutModel",
      "_view_count": null,
      "_view_module": "@jupyter-widgets/base",
      "_view_module_version": "1.2.0",
      "_view_name": "LayoutView",
      "align_content": null,
      "align_items": null,
      "align_self": null,
      "border": null,
      "bottom": null,
      "display": null,
      "flex": null,
      "flex_flow": null,
      "grid_area": null,
      "grid_auto_columns": null,
      "grid_auto_flow": null,
      "grid_auto_rows": null,
      "grid_column": null,
      "grid_gap": null,
      "grid_row": null,
      "grid_template_areas": null,
      "grid_template_columns": null,
      "grid_template_rows": null,
      "height": null,
      "justify_content": null,
      "justify_items": null,
      "left": null,
      "margin": null,
      "max_height": null,
      "max_width": null,
      "min_height": null,
      "min_width": null,
      "object_fit": null,
      "object_position": null,
      "order": null,
      "overflow": null,
      "overflow_x": null,
      "overflow_y": null,
      "padding": null,
      "right": null,
      "top": null,
      "visibility": null,
      "width": null
     }
    },
    "64607b91c36844b0a330f0eab5823ffc": {
     "model_module": "@jupyter-widgets/controls",
     "model_module_version": "1.5.0",
     "model_name": "DescriptionStyleModel",
     "state": {
      "_model_module": "@jupyter-widgets/controls",
      "_model_module_version": "1.5.0",
      "_model_name": "DescriptionStyleModel",
      "_view_count": null,
      "_view_module": "@jupyter-widgets/base",
      "_view_module_version": "1.2.0",
      "_view_name": "StyleView",
      "description_width": ""
     }
    },
    "736fbd781eff43e5965feaf34398255a": {
     "model_module": "@jupyter-widgets/base",
     "model_module_version": "1.2.0",
     "model_name": "LayoutModel",
     "state": {
      "_model_module": "@jupyter-widgets/base",
      "_model_module_version": "1.2.0",
      "_model_name": "LayoutModel",
      "_view_count": null,
      "_view_module": "@jupyter-widgets/base",
      "_view_module_version": "1.2.0",
      "_view_name": "LayoutView",
      "align_content": null,
      "align_items": null,
      "align_self": null,
      "border": null,
      "bottom": null,
      "display": "inline-flex",
      "flex": null,
      "flex_flow": "row wrap",
      "grid_area": null,
      "grid_auto_columns": null,
      "grid_auto_flow": null,
      "grid_auto_rows": null,
      "grid_column": null,
      "grid_gap": null,
      "grid_row": null,
      "grid_template_areas": null,
      "grid_template_columns": null,
      "grid_template_rows": null,
      "height": null,
      "justify_content": null,
      "justify_items": null,
      "left": null,
      "margin": null,
      "max_height": null,
      "max_width": null,
      "min_height": null,
      "min_width": null,
      "object_fit": null,
      "object_position": null,
      "order": null,
      "overflow": null,
      "overflow_x": null,
      "overflow_y": null,
      "padding": null,
      "right": null,
      "top": null,
      "visibility": null,
      "width": "100%"
     }
    },
    "74c4cd74afe64879b16e560a534b3389": {
     "model_module": "@jupyter-widgets/controls",
     "model_module_version": "1.5.0",
     "model_name": "FloatProgressModel",
     "state": {
      "_dom_classes": [],
      "_model_module": "@jupyter-widgets/controls",
      "_model_module_version": "1.5.0",
      "_model_name": "FloatProgressModel",
      "_view_count": null,
      "_view_module": "@jupyter-widgets/controls",
      "_view_module_version": "1.5.0",
      "_view_name": "ProgressView",
      "bar_style": "success",
      "description": "",
      "description_tooltip": null,
      "layout": "IPY_MODEL_7b7169d3ee5042228e96066dabc292c0",
      "max": 1,
      "min": 0,
      "orientation": "horizontal",
      "style": "IPY_MODEL_7a2324cd68ed4739a33e5abf62445a4c",
      "value": 1
     }
    },
    "7a2324cd68ed4739a33e5abf62445a4c": {
     "model_module": "@jupyter-widgets/controls",
     "model_module_version": "1.5.0",
     "model_name": "ProgressStyleModel",
     "state": {
      "_model_module": "@jupyter-widgets/controls",
      "_model_module_version": "1.5.0",
      "_model_name": "ProgressStyleModel",
      "_view_count": null,
      "_view_module": "@jupyter-widgets/base",
      "_view_module_version": "1.2.0",
      "_view_name": "StyleView",
      "bar_color": null,
      "description_width": ""
     }
    },
    "7b7169d3ee5042228e96066dabc292c0": {
     "model_module": "@jupyter-widgets/base",
     "model_module_version": "1.2.0",
     "model_name": "LayoutModel",
     "state": {
      "_model_module": "@jupyter-widgets/base",
      "_model_module_version": "1.2.0",
      "_model_name": "LayoutModel",
      "_view_count": null,
      "_view_module": "@jupyter-widgets/base",
      "_view_module_version": "1.2.0",
      "_view_name": "LayoutView",
      "align_content": null,
      "align_items": null,
      "align_self": null,
      "border": null,
      "bottom": null,
      "display": null,
      "flex": "2",
      "flex_flow": null,
      "grid_area": null,
      "grid_auto_columns": null,
      "grid_auto_flow": null,
      "grid_auto_rows": null,
      "grid_column": null,
      "grid_gap": null,
      "grid_row": null,
      "grid_template_areas": null,
      "grid_template_columns": null,
      "grid_template_rows": null,
      "height": null,
      "justify_content": null,
      "justify_items": null,
      "left": null,
      "margin": null,
      "max_height": null,
      "max_width": null,
      "min_height": null,
      "min_width": null,
      "object_fit": null,
      "object_position": null,
      "order": null,
      "overflow": null,
      "overflow_x": null,
      "overflow_y": null,
      "padding": null,
      "right": null,
      "top": null,
      "visibility": null,
      "width": null
     }
    },
    "7f39197ac21447aab63a5d503eb44922": {
     "model_module": "@jupyter-widgets/controls",
     "model_module_version": "1.5.0",
     "model_name": "HTMLModel",
     "state": {
      "_dom_classes": [],
      "_model_module": "@jupyter-widgets/controls",
      "_model_module_version": "1.5.0",
      "_model_name": "HTMLModel",
      "_view_count": null,
      "_view_module": "@jupyter-widgets/controls",
      "_view_module_version": "1.5.0",
      "_view_name": "HTMLView",
      "description": "",
      "description_tooltip": null,
      "layout": "IPY_MODEL_0e53a2ef923b42ed82ef8ca9910f304e",
      "placeholder": "​",
      "style": "IPY_MODEL_2476462e09744c4d984928780fb9188f",
      "value": "Done! Use &#x27;show&#x27; commands to display/save.   "
     }
    },
    "a0b2761e897f4ea7a5302e3094f2d3ea": {
     "model_module": "@jupyter-widgets/controls",
     "model_module_version": "1.5.0",
     "model_name": "HBoxModel",
     "state": {
      "_dom_classes": [],
      "_model_module": "@jupyter-widgets/controls",
      "_model_module_version": "1.5.0",
      "_model_name": "HBoxModel",
      "_view_count": null,
      "_view_module": "@jupyter-widgets/controls",
      "_view_module_version": "1.5.0",
      "_view_name": "HBoxView",
      "box_style": "",
      "children": [
       "IPY_MODEL_7f39197ac21447aab63a5d503eb44922",
       "IPY_MODEL_74c4cd74afe64879b16e560a534b3389",
       "IPY_MODEL_f40b61907e254a799e01cc534e05e476"
      ],
      "layout": "IPY_MODEL_736fbd781eff43e5965feaf34398255a"
     }
    },
    "f40b61907e254a799e01cc534e05e476": {
     "model_module": "@jupyter-widgets/controls",
     "model_module_version": "1.5.0",
     "model_name": "HTMLModel",
     "state": {
      "_dom_classes": [],
      "_model_module": "@jupyter-widgets/controls",
      "_model_module_version": "1.5.0",
      "_model_name": "HTMLModel",
      "_view_count": null,
      "_view_module": "@jupyter-widgets/controls",
      "_view_module_version": "1.5.0",
      "_view_name": "HTMLView",
      "description": "",
      "description_tooltip": null,
      "layout": "IPY_MODEL_3d65db695bac4f30bd70ebe537bca8e1",
      "placeholder": "​",
      "style": "IPY_MODEL_64607b91c36844b0a330f0eab5823ffc",
      "value": " [100%]   00:03 -&gt; (00:00 left)"
     }
    }
   }
  }
 },
 "nbformat": 4,
 "nbformat_minor": 5
}